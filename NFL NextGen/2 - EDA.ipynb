{
 "cells": [
  {
   "cell_type": "markdown",
   "metadata": {
    "toc": true
   },
   "source": [
    "<h1>Table of Contents<span class=\"tocSkip\"></span></h1>\n",
    "<div class=\"toc\"><ul class=\"toc-item\"><li><span><a href=\"#Import-Packages\" data-toc-modified-id=\"Import-Packages-1\"><span class=\"toc-item-num\">1&nbsp;&nbsp;</span>Import Packages</a></span></li><li><span><a href=\"#Read-in-Data\" data-toc-modified-id=\"Read-in-Data-2\"><span class=\"toc-item-num\">2&nbsp;&nbsp;</span>Read in Data</a></span></li><li><span><a href=\"#Physical-Characteristics\" data-toc-modified-id=\"Physical-Characteristics-3\"><span class=\"toc-item-num\">3&nbsp;&nbsp;</span>Physical Characteristics</a></span><ul class=\"toc-item\"><li><span><a href=\"#Weight\" data-toc-modified-id=\"Weight-3.1\"><span class=\"toc-item-num\">3.1&nbsp;&nbsp;</span>Weight</a></span></li><li><span><a href=\"#Height\" data-toc-modified-id=\"Height-3.2\"><span class=\"toc-item-num\">3.2&nbsp;&nbsp;</span>Height</a></span></li></ul></li><li><span><a href=\"#Yards\" data-toc-modified-id=\"Yards-4\"><span class=\"toc-item-num\">4&nbsp;&nbsp;</span>Yards</a></span><ul class=\"toc-item\"><li><span><a href=\"#Location-on-the-Field\" data-toc-modified-id=\"Location-on-the-Field-4.1\"><span class=\"toc-item-num\">4.1&nbsp;&nbsp;</span>Location on the Field</a></span></li><li><span><a href=\"#Distance-to-First-Down\" data-toc-modified-id=\"Distance-to-First-Down-4.2\"><span class=\"toc-item-num\">4.2&nbsp;&nbsp;</span>Distance to First Down</a></span></li></ul></li><li><span><a href=\"#The-Success-of-a-Play\" data-toc-modified-id=\"The-Success-of-a-Play-5\"><span class=\"toc-item-num\">5&nbsp;&nbsp;</span>The Success of a Play</a></span></li><li><span><a href=\"#Offensive-Line\" data-toc-modified-id=\"Offensive-Line-6\"><span class=\"toc-item-num\">6&nbsp;&nbsp;</span>Offensive Line</a></span><ul class=\"toc-item\"><li><span><a href=\"#OL-Weight\" data-toc-modified-id=\"OL-Weight-6.1\"><span class=\"toc-item-num\">6.1&nbsp;&nbsp;</span>OL Weight</a></span></li><li><span><a href=\"#OL-Positions\" data-toc-modified-id=\"OL-Positions-6.2\"><span class=\"toc-item-num\">6.2&nbsp;&nbsp;</span>OL Positions</a></span></li></ul></li></ul></div>"
   ]
  },
  {
   "cell_type": "markdown",
   "metadata": {},
   "source": [
    "# 2019 NFL Big Data Bowl - Part 2: Exploratory Data Analysis\n",
    "This is the second notebook in a series where I partake in the 2019 Big Data Bowl competition on Kaggle. The first notebook dealt with cleaning the datasets to produce 3 different files:\n",
    "\n",
    "- Each player's physical characteristics (height, weight, etc.)\n",
    "- Each player's positions and speeds on each play\n",
    "- Each play's properties (down, distance, yards rushed, etc.)\n",
    "\n",
    "We'll be examining each of these files in order to get a deeper understanding of the data. In the end, the goal of exploratory data analysis is to show information that could be useful when completing the task at hand. In this case, we are ultimately trying to predict how many yards a given rushing play will go for, based on information at the time of handoff."
   ]
  },
  {
   "cell_type": "markdown",
   "metadata": {},
   "source": [
    "## Import Packages\n",
    "For plotting all of our graphs, I'll be using a package called `altair`. It is an interesting package. "
   ]
  },
  {
   "cell_type": "code",
   "execution_count": 30,
   "metadata": {
    "ExecuteTime": {
     "end_time": "2020-08-01T14:24:36.786679Z",
     "start_time": "2020-08-01T14:24:36.760655Z"
    }
   },
   "outputs": [
    {
     "data": {
      "text/plain": [
       "ThemeRegistry.enable('sizeTheme')"
      ]
     },
     "execution_count": 30,
     "metadata": {},
     "output_type": "execute_result"
    }
   ],
   "source": [
    "import numpy as np\n",
    "import pandas as pd\n",
    "import altair\n",
    "\n",
    "import os\n",
    "os.makedirs('./Altair JSONs/Dataframes', exist_ok=True)\n",
    "os.makedirs('./Altair JSONs/Plots', exist_ok=True)\n",
    "\n",
    "# Custom theme that sets the width and height...\n",
    "def sizeTheme(*args, **kwargs):\n",
    "    font = 'Gill Sans MT'\n",
    "    return {\n",
    "        'config': {\n",
    "            'view': {\n",
    "                'width': 800,\n",
    "                'height': 350\n",
    "            },\n",
    "            'title': {\n",
    "                'font': font,\n",
    "                'fontSize': 18\n",
    "            },\n",
    "            'axis': {\n",
    "                'labelFont': font,\n",
    "                'labelFontSize': 12,\n",
    "                'titleFont': font,\n",
    "                'titleFontSize': 14\n",
    "            },\n",
    "            'header': {\n",
    "                'labelFont': font,\n",
    "                'titleFont': font\n",
    "            },\n",
    "            'legend': {\n",
    "                'labelFont': font,\n",
    "                'labelFontSize': 12,\n",
    "                'titleFont': font,\n",
    "                'titleFontSize': 14\n",
    "            }\n",
    "        }\n",
    "    }\n",
    "altair.themes.register('sizeTheme', sizeTheme)\n",
    "altair.themes.enable('sizeTheme')"
   ]
  },
  {
   "cell_type": "markdown",
   "metadata": {},
   "source": [
    "## Read in Data\n",
    "As stated before, we have 3 files we need to read in. We also set the data types as a dictionary we pass into each `read_csv` call."
   ]
  },
  {
   "cell_type": "code",
   "execution_count": 2,
   "metadata": {
    "ExecuteTime": {
     "end_time": "2020-08-01T13:16:00.825702Z",
     "start_time": "2020-08-01T13:15:57.552050Z"
    }
   },
   "outputs": [],
   "source": [
    "# Player characteristics\n",
    "pcdt = {\n",
    "    'NflId': 'category',\n",
    "    'DisplayName': 'str',\n",
    "    'PlayerHeight': 'float32',\n",
    "    'PlayerWeight': 'int',\n",
    "    'PlayerCollegeName': 'str',\n",
    "    'Position': 'category'\n",
    "}\n",
    "playerChara = pd.read_csv('./Data/playerData.csv', parse_dates=[4],\n",
    "                         dtype=pcdt)\n",
    "# Player positions\n",
    "ppdt = {\n",
    "    'GameId': 'category',\n",
    "    'PlayId': 'category',\n",
    "    'Team': 'str',\n",
    "    'NflId': 'category'\n",
    "}\n",
    "playerPos = pd.read_csv('./Data/playerPositions.csv', dtype=ppdt)\n",
    "# Play by play\n",
    "# More columns here...\n",
    "# Reason is none of our integer columns needs 64-bit precision...\n",
    "# Use less memory if we can...\n",
    "integerCols = ['Season', 'YardLine', 'Quarter', 'Down', 'Distance', 'HomeScoreBeforePlay', \n",
    "              'VisitorScoreBeforePlay', 'DefendersInTheBox', 'Yards', 'Week',\n",
    "              'GameClockMinute', 'GameClockSecond', 'Half', 'RB', 'TE',\n",
    "              'WR', 'OL', 'QB', 'DoO', 'DL', 'LB', 'DB', 'OoD']\n",
    "catCols = ['GameId', 'PlayId', 'PossessionTeam', 'FieldPosition', 'NflIdRusher',\n",
    "          'OffenseFormation', 'PlayDirection', 'HomeTeamAbbr', 'VisitorTeamAbbr',\n",
    "          'Stadium', 'Location', 'Turf']\n",
    "pbpdt = {}\n",
    "for col in integerCols:\n",
    "    pbpdt[col] = 'int32'\n",
    "for col in catCols:\n",
    "    pbpdt[col] = 'category'\n",
    "pbpData = pd.read_csv('./Data/playByPlayData.csv', parse_dates=[15, 16], dtype=pbpdt)"
   ]
  },
  {
   "cell_type": "markdown",
   "metadata": {},
   "source": [
    "## Physical Characteristics\n",
    "For starters, we can examine how a player's physical characteristics affect the yards gained on a play."
   ]
  },
  {
   "cell_type": "markdown",
   "metadata": {},
   "source": [
    "### Weight\n",
    "For starters, we can look at something simple. For example, how do the weight and height of the players affect how many yards they go for? Running backs are typically on the shorter side, but then we have someone like Derrick Henry who just plows through people. The plotting package has a maximum limit of 5000 rows. Therefore, we can't simply plot every single play (there are ~30k of them). \n",
    "\n",
    "Since we are primarily concerned about the weights of players, we can put each player into a weight class and plot their average yards per rush for each rush. This way, we are not unnecessarily throwing out plays either."
   ]
  },
  {
   "cell_type": "code",
   "execution_count": 31,
   "metadata": {
    "ExecuteTime": {
     "end_time": "2020-08-01T14:25:02.206864Z",
     "start_time": "2020-08-01T14:25:02.044523Z"
    }
   },
   "outputs": [],
   "source": [
    "# See if the JSON already exists for plotting...\n",
    "WR_JSON = './Altair JSONs/Dataframes/weightsAndRushes.json'\n",
    "if not os.path.exists(WR_JSON):\n",
    "    # Grab yards and the rusher...\n",
    "    rushes = pbpData[['NflIdRusher', 'Yards']]\n",
    "    # Left join it with the weight information...\n",
    "    weightsAndRushes = pd.merge(rushes, playerChara[['NflId', 'PlayerWeight', 'Position']], how='left', \n",
    "             left_on='NflIdRusher', right_on='NflId')\n",
    "    # We only need the weight and yards...\n",
    "    weightsAndRushes.drop(columns=['NflIdRusher', 'NflId'], inplace=True)\n",
    "    weightsAndRushes.to_json(WR_JSON, orient='records')"
   ]
  },
  {
   "cell_type": "code",
   "execution_count": 35,
   "metadata": {
    "ExecuteTime": {
     "end_time": "2020-08-01T14:26:04.989904Z",
     "start_time": "2020-08-01T14:26:04.932107Z"
    }
   },
   "outputs": [
    {
     "data": {
      "text/html": [
       "\n",
       "<div id=\"altair-viz-cd3c132365294b3f8c5dcb8a6025391b\"></div>\n",
       "<script type=\"text/javascript\">\n",
       "  (function(spec, embedOpt){\n",
       "    let outputDiv = document.currentScript.previousElementSibling;\n",
       "    if (outputDiv.id !== \"altair-viz-cd3c132365294b3f8c5dcb8a6025391b\") {\n",
       "      outputDiv = document.getElementById(\"altair-viz-cd3c132365294b3f8c5dcb8a6025391b\");\n",
       "    }\n",
       "    const paths = {\n",
       "      \"vega\": \"https://cdn.jsdelivr.net/npm//vega@5?noext\",\n",
       "      \"vega-lib\": \"https://cdn.jsdelivr.net/npm//vega-lib?noext\",\n",
       "      \"vega-lite\": \"https://cdn.jsdelivr.net/npm//vega-lite@4.8.1?noext\",\n",
       "      \"vega-embed\": \"https://cdn.jsdelivr.net/npm//vega-embed@6?noext\",\n",
       "    };\n",
       "\n",
       "    function loadScript(lib) {\n",
       "      return new Promise(function(resolve, reject) {\n",
       "        var s = document.createElement('script');\n",
       "        s.src = paths[lib];\n",
       "        s.async = true;\n",
       "        s.onload = () => resolve(paths[lib]);\n",
       "        s.onerror = () => reject(`Error loading script: ${paths[lib]}`);\n",
       "        document.getElementsByTagName(\"head\")[0].appendChild(s);\n",
       "      });\n",
       "    }\n",
       "\n",
       "    function showError(err) {\n",
       "      outputDiv.innerHTML = `<div class=\"error\" style=\"color:red;\">${err}</div>`;\n",
       "      throw err;\n",
       "    }\n",
       "\n",
       "    function displayChart(vegaEmbed) {\n",
       "      vegaEmbed(outputDiv, spec, embedOpt)\n",
       "        .catch(err => showError(`Javascript Error: ${err.message}<br>This usually means there's a typo in your chart specification. See the javascript console for the full traceback.`));\n",
       "    }\n",
       "\n",
       "    if(typeof define === \"function\" && define.amd) {\n",
       "      requirejs.config({paths});\n",
       "      require([\"vega-embed\"], displayChart, err => showError(`Error loading script: ${err.message}`));\n",
       "    } else if (typeof vegaEmbed === \"function\") {\n",
       "      displayChart(vegaEmbed);\n",
       "    } else {\n",
       "      loadScript(\"vega\")\n",
       "        .then(() => loadScript(\"vega-lite\"))\n",
       "        .then(() => loadScript(\"vega-embed\"))\n",
       "        .catch(showError)\n",
       "        .then(() => displayChart(vegaEmbed));\n",
       "    }\n",
       "  })({\"config\": {\"view\": {\"width\": 800, \"height\": 350}, \"title\": {\"font\": \"Gill Sans MT\", \"fontSize\": 18}, \"axis\": {\"labelFont\": \"Gill Sans MT\", \"labelFontSize\": 12, \"titleFont\": \"Gill Sans MT\", \"titleFontSize\": 14}, \"header\": {\"labelFont\": \"Gill Sans MT\", \"titleFont\": \"Gill Sans MT\"}, \"legend\": {\"labelFont\": \"Gill Sans MT\", \"labelFontSize\": 12, \"titleFont\": \"Gill Sans MT\", \"titleFontSize\": 14}}, \"data\": {\"url\": \"./Altair JSONs/Dataframes/weightsAndRushes.json\"}, \"mark\": {\"type\": \"point\", \"clip\": true}, \"encoding\": {\"color\": {\"type\": \"nominal\", \"field\": \"Position\"}, \"x\": {\"type\": \"quantitative\", \"axis\": {\"title\": \"Weight\"}, \"field\": \"PlayerWeight\", \"scale\": {\"zero\": false}}, \"y\": {\"type\": \"quantitative\", \"field\": \"Yards\"}}, \"title\": \"Weight vs. Yards Gained by Position\", \"$schema\": \"https://vega.github.io/schema/vega-lite/v4.8.1.json\"}, {\"mode\": \"vega-lite\"});\n",
       "</script>"
      ],
      "text/plain": [
       "alt.Chart(...)"
      ]
     },
     "execution_count": 35,
     "metadata": {},
     "output_type": "execute_result"
    }
   ],
   "source": [
    "chart = altair.Chart(WR_JSON, title='Weight vs. Yards Gained by Position').mark_point(clip=True).encode(\n",
    "    altair.X('PlayerWeight:Q',\n",
    "             axis=altair.Axis(title='Weight'),\n",
    "             scale=altair.Scale(zero=False)),\n",
    "    y='Yards:Q',\n",
    "    color='Position:N'\n",
    ")\n",
    "chart.save('./Altair JSONs/Plots/weightsAndRushes.json')\n",
    "chart"
   ]
  },
  {
   "cell_type": "markdown",
   "metadata": {},
   "source": [
    "As expected, we can see clear demarcations with respect to the positions. The pinks are all running backs, while the lighter individuals are wide receivers. Past 250 lbs are a mixture of tight ends and offensive linemen for those one-off plays. Next, we'll look at height..."
   ]
  },
  {
   "cell_type": "markdown",
   "metadata": {},
   "source": [
    "### Height\n",
    "Same code as above."
   ]
  },
  {
   "cell_type": "code",
   "execution_count": 43,
   "metadata": {
    "ExecuteTime": {
     "end_time": "2020-08-01T14:29:52.255801Z",
     "start_time": "2020-08-01T14:29:52.193271Z"
    }
   },
   "outputs": [
    {
     "data": {
      "text/html": [
       "\n",
       "<div id=\"altair-viz-0cce39e7ed4e4b0d82610915a1e018e0\"></div>\n",
       "<script type=\"text/javascript\">\n",
       "  (function(spec, embedOpt){\n",
       "    let outputDiv = document.currentScript.previousElementSibling;\n",
       "    if (outputDiv.id !== \"altair-viz-0cce39e7ed4e4b0d82610915a1e018e0\") {\n",
       "      outputDiv = document.getElementById(\"altair-viz-0cce39e7ed4e4b0d82610915a1e018e0\");\n",
       "    }\n",
       "    const paths = {\n",
       "      \"vega\": \"https://cdn.jsdelivr.net/npm//vega@5?noext\",\n",
       "      \"vega-lib\": \"https://cdn.jsdelivr.net/npm//vega-lib?noext\",\n",
       "      \"vega-lite\": \"https://cdn.jsdelivr.net/npm//vega-lite@4.8.1?noext\",\n",
       "      \"vega-embed\": \"https://cdn.jsdelivr.net/npm//vega-embed@6?noext\",\n",
       "    };\n",
       "\n",
       "    function loadScript(lib) {\n",
       "      return new Promise(function(resolve, reject) {\n",
       "        var s = document.createElement('script');\n",
       "        s.src = paths[lib];\n",
       "        s.async = true;\n",
       "        s.onload = () => resolve(paths[lib]);\n",
       "        s.onerror = () => reject(`Error loading script: ${paths[lib]}`);\n",
       "        document.getElementsByTagName(\"head\")[0].appendChild(s);\n",
       "      });\n",
       "    }\n",
       "\n",
       "    function showError(err) {\n",
       "      outputDiv.innerHTML = `<div class=\"error\" style=\"color:red;\">${err}</div>`;\n",
       "      throw err;\n",
       "    }\n",
       "\n",
       "    function displayChart(vegaEmbed) {\n",
       "      vegaEmbed(outputDiv, spec, embedOpt)\n",
       "        .catch(err => showError(`Javascript Error: ${err.message}<br>This usually means there's a typo in your chart specification. See the javascript console for the full traceback.`));\n",
       "    }\n",
       "\n",
       "    if(typeof define === \"function\" && define.amd) {\n",
       "      requirejs.config({paths});\n",
       "      require([\"vega-embed\"], displayChart, err => showError(`Error loading script: ${err.message}`));\n",
       "    } else if (typeof vegaEmbed === \"function\") {\n",
       "      displayChart(vegaEmbed);\n",
       "    } else {\n",
       "      loadScript(\"vega\")\n",
       "        .then(() => loadScript(\"vega-lite\"))\n",
       "        .then(() => loadScript(\"vega-embed\"))\n",
       "        .catch(showError)\n",
       "        .then(() => displayChart(vegaEmbed));\n",
       "    }\n",
       "  })({\"config\": {\"view\": {\"width\": 800, \"height\": 350}, \"title\": {\"font\": \"Gill Sans MT\", \"fontSize\": 18}, \"axis\": {\"labelFont\": \"Gill Sans MT\", \"labelFontSize\": 12, \"titleFont\": \"Gill Sans MT\", \"titleFontSize\": 14}, \"header\": {\"labelFont\": \"Gill Sans MT\", \"titleFont\": \"Gill Sans MT\"}, \"legend\": {\"labelFont\": \"Gill Sans MT\", \"labelFontSize\": 12, \"titleFont\": \"Gill Sans MT\", \"titleFontSize\": 14}}, \"data\": {\"url\": \"./Altair JSONs/Dataframes/heightsAndRushes.json\"}, \"mark\": {\"type\": \"point\", \"clip\": true}, \"encoding\": {\"color\": {\"type\": \"nominal\", \"field\": \"Position\"}, \"x\": {\"type\": \"quantitative\", \"axis\": {\"title\": \"Height\"}, \"field\": \"PlayerHeight\", \"scale\": {\"zero\": false}}, \"y\": {\"type\": \"quantitative\", \"field\": \"Yards\"}}, \"title\": \"Height vs. Yards Gained by Position\", \"$schema\": \"https://vega.github.io/schema/vega-lite/v4.8.1.json\"}, {\"mode\": \"vega-lite\"});\n",
       "</script>"
      ],
      "text/plain": [
       "alt.Chart(...)"
      ]
     },
     "execution_count": 43,
     "metadata": {},
     "output_type": "execute_result"
    }
   ],
   "source": [
    "HR_JSON = './Altair JSONs/Dataframes/heightsAndRushes.json'\n",
    "if not os.path.exists(HR_JSON):\n",
    "    # Grab yards and the rusher...\n",
    "    rushes = pbpData[['NflIdRusher', 'Yards']]\n",
    "    # Left join it with the weight information...\n",
    "    heightsAndRushes = pd.merge(rushes, playerChara[['NflId', 'PlayerHeight', 'Position']], how='left', \n",
    "             left_on='NflIdRusher', right_on='NflId')\n",
    "    # We only need the weight and yards...\n",
    "    heightsAndRushes.drop(columns=['NflIdRusher', 'NflId'], inplace=True)\n",
    "    heightsAndRushes.to_json(HR_JSON, orient='records')\n",
    "\n",
    "chart = altair.Chart(HR_JSON, title='Height vs. Yards Gained by Position').mark_point(clip=True).encode(\n",
    "    altair.X('PlayerHeight:Q',\n",
    "             axis=altair.Axis(title='Height'),\n",
    "             scale=altair.Scale(zero=False)),\n",
    "    y='Yards:Q',\n",
    "    color='Position:N'\n",
    ")\n",
    "chart.save('./Altair JSONs/Plots/heightsAndRushes.json')\n",
    "chart"
   ]
  },
  {
   "cell_type": "markdown",
   "metadata": {},
   "source": [
    "The reason we get the lines is because heights are always quoted by the inch. There's a healthy bell curve of heights by running backs, though it appears there's a hard drop off after 6 foot 3 inches, which are occupied by tight ends and wide receivers. Just like the weights graph, the dots gets sparse as the yards increases. Why don't we examine the distribution of the yards gained a bit more."
   ]
  },
  {
   "cell_type": "markdown",
   "metadata": {},
   "source": [
    "## Yards\n",
    "We can't just blindly graph yards, because the yards gained on a play is directly related to where you are on the field. For example, it's impossible to gain 75 yards when you are at midfield. At the very least, we should expect the yards to drop as you approach the ends of the field. Additionally, another variable that affects the yards gained is the down and distance the team is at. Who cares about calling a 50-yard run when you need to gain 2 yards just to keep the ball. Thus, we'll create two graphs here..."
   ]
  },
  {
   "cell_type": "markdown",
   "metadata": {},
   "source": [
    "### Location on the Field\n",
    "To plot the location on the field, we can use the yard line of where the ball is. The problem is..."
   ]
  },
  {
   "cell_type": "code",
   "execution_count": 38,
   "metadata": {
    "ExecuteTime": {
     "end_time": "2020-08-01T14:28:33.946938Z",
     "start_time": "2020-08-01T14:28:33.915329Z"
    }
   },
   "outputs": [
    {
     "data": {
      "text/plain": [
       "count    30611.000000\n",
       "mean        28.058312\n",
       "std         12.915614\n",
       "min          1.000000\n",
       "25%         19.000000\n",
       "50%         28.000000\n",
       "75%         39.000000\n",
       "max         49.000000\n",
       "Name: YardLine, dtype: float64"
      ]
     },
     "execution_count": 38,
     "metadata": {},
     "output_type": "execute_result"
    }
   ],
   "source": [
    "pbpData.YardLine.describe()"
   ]
  },
  {
   "cell_type": "markdown",
   "metadata": {},
   "source": [
    "Notice the range is from 1 to 49, which means we also need to know which side the team is on. Otherwise, there is no way to figure out if the team is on the OWN 3-yard line or the opponent's, for example. **In our data, the yardline has actually been mirrored if the possession team is in their opponent's territory! This is also how it's reported during play by play. NE being on the KC 2-yardline means they are 2 yards away from scoring. However, them being on the NE 2-yardline means they have 98 yards to go. We have to take this into account!**"
   ]
  },
  {
   "cell_type": "code",
   "execution_count": 39,
   "metadata": {
    "ExecuteTime": {
     "end_time": "2020-08-01T14:28:36.122137Z",
     "start_time": "2020-08-01T14:28:36.020175Z"
    }
   },
   "outputs": [
    {
     "data": {
      "text/html": [
       "<div>\n",
       "<style scoped>\n",
       "    .dataframe tbody tr th:only-of-type {\n",
       "        vertical-align: middle;\n",
       "    }\n",
       "\n",
       "    .dataframe tbody tr th {\n",
       "        vertical-align: top;\n",
       "    }\n",
       "\n",
       "    .dataframe thead th {\n",
       "        text-align: right;\n",
       "    }\n",
       "</style>\n",
       "<table border=\"1\" class=\"dataframe\">\n",
       "  <thead>\n",
       "    <tr style=\"text-align: right;\">\n",
       "      <th></th>\n",
       "      <th>GameId</th>\n",
       "      <th>PlayId</th>\n",
       "      <th>Season</th>\n",
       "      <th>YardLine</th>\n",
       "      <th>YardLine100</th>\n",
       "      <th>Quarter</th>\n",
       "      <th>PossessionTeam</th>\n",
       "      <th>Down</th>\n",
       "      <th>Distance</th>\n",
       "      <th>FieldPosition</th>\n",
       "      <th>...</th>\n",
       "      <th>TE</th>\n",
       "      <th>WR</th>\n",
       "      <th>OL</th>\n",
       "      <th>QB</th>\n",
       "      <th>DoO</th>\n",
       "      <th>DL</th>\n",
       "      <th>LB</th>\n",
       "      <th>DB</th>\n",
       "      <th>OoD</th>\n",
       "      <th>State</th>\n",
       "    </tr>\n",
       "  </thead>\n",
       "  <tbody>\n",
       "    <tr>\n",
       "      <th>0</th>\n",
       "      <td>2017090700</td>\n",
       "      <td>20170907000118</td>\n",
       "      <td>2017</td>\n",
       "      <td>35</td>\n",
       "      <td>35</td>\n",
       "      <td>1</td>\n",
       "      <td>NE</td>\n",
       "      <td>3</td>\n",
       "      <td>2</td>\n",
       "      <td>NE</td>\n",
       "      <td>...</td>\n",
       "      <td>1</td>\n",
       "      <td>3</td>\n",
       "      <td>5</td>\n",
       "      <td>1</td>\n",
       "      <td>0</td>\n",
       "      <td>2</td>\n",
       "      <td>3</td>\n",
       "      <td>6</td>\n",
       "      <td>0</td>\n",
       "      <td>MA</td>\n",
       "    </tr>\n",
       "    <tr>\n",
       "      <th>1</th>\n",
       "      <td>2017090700</td>\n",
       "      <td>20170907000139</td>\n",
       "      <td>2017</td>\n",
       "      <td>43</td>\n",
       "      <td>43</td>\n",
       "      <td>1</td>\n",
       "      <td>NE</td>\n",
       "      <td>1</td>\n",
       "      <td>10</td>\n",
       "      <td>NE</td>\n",
       "      <td>...</td>\n",
       "      <td>1</td>\n",
       "      <td>3</td>\n",
       "      <td>5</td>\n",
       "      <td>1</td>\n",
       "      <td>0</td>\n",
       "      <td>2</td>\n",
       "      <td>3</td>\n",
       "      <td>6</td>\n",
       "      <td>0</td>\n",
       "      <td>MA</td>\n",
       "    </tr>\n",
       "    <tr>\n",
       "      <th>2</th>\n",
       "      <td>2017090700</td>\n",
       "      <td>20170907000189</td>\n",
       "      <td>2017</td>\n",
       "      <td>35</td>\n",
       "      <td>65</td>\n",
       "      <td>1</td>\n",
       "      <td>NE</td>\n",
       "      <td>1</td>\n",
       "      <td>10</td>\n",
       "      <td>KC</td>\n",
       "      <td>...</td>\n",
       "      <td>1</td>\n",
       "      <td>3</td>\n",
       "      <td>5</td>\n",
       "      <td>1</td>\n",
       "      <td>0</td>\n",
       "      <td>2</td>\n",
       "      <td>3</td>\n",
       "      <td>6</td>\n",
       "      <td>0</td>\n",
       "      <td>MA</td>\n",
       "    </tr>\n",
       "    <tr>\n",
       "      <th>3</th>\n",
       "      <td>2017090700</td>\n",
       "      <td>20170907000345</td>\n",
       "      <td>2017</td>\n",
       "      <td>2</td>\n",
       "      <td>98</td>\n",
       "      <td>1</td>\n",
       "      <td>NE</td>\n",
       "      <td>2</td>\n",
       "      <td>2</td>\n",
       "      <td>KC</td>\n",
       "      <td>...</td>\n",
       "      <td>2</td>\n",
       "      <td>0</td>\n",
       "      <td>6</td>\n",
       "      <td>1</td>\n",
       "      <td>0</td>\n",
       "      <td>4</td>\n",
       "      <td>4</td>\n",
       "      <td>3</td>\n",
       "      <td>0</td>\n",
       "      <td>MA</td>\n",
       "    </tr>\n",
       "    <tr>\n",
       "      <th>4</th>\n",
       "      <td>2017090700</td>\n",
       "      <td>20170907000395</td>\n",
       "      <td>2017</td>\n",
       "      <td>25</td>\n",
       "      <td>25</td>\n",
       "      <td>1</td>\n",
       "      <td>KC</td>\n",
       "      <td>1</td>\n",
       "      <td>10</td>\n",
       "      <td>KC</td>\n",
       "      <td>...</td>\n",
       "      <td>3</td>\n",
       "      <td>1</td>\n",
       "      <td>5</td>\n",
       "      <td>1</td>\n",
       "      <td>0</td>\n",
       "      <td>3</td>\n",
       "      <td>2</td>\n",
       "      <td>6</td>\n",
       "      <td>0</td>\n",
       "      <td>MA</td>\n",
       "    </tr>\n",
       "  </tbody>\n",
       "</table>\n",
       "<p>5 rows × 39 columns</p>\n",
       "</div>"
      ],
      "text/plain": [
       "       GameId          PlayId  Season  YardLine  YardLine100  Quarter  \\\n",
       "0  2017090700  20170907000118    2017        35           35        1   \n",
       "1  2017090700  20170907000139    2017        43           43        1   \n",
       "2  2017090700  20170907000189    2017        35           65        1   \n",
       "3  2017090700  20170907000345    2017         2           98        1   \n",
       "4  2017090700  20170907000395    2017        25           25        1   \n",
       "\n",
       "  PossessionTeam  Down  Distance FieldPosition  ...  TE  WR OL QB  DoO DL LB  \\\n",
       "0             NE     3         2            NE  ...   1   3  5  1    0  2  3   \n",
       "1             NE     1        10            NE  ...   1   3  5  1    0  2  3   \n",
       "2             NE     1        10            KC  ...   1   3  5  1    0  2  3   \n",
       "3             NE     2         2            KC  ...   2   0  6  1    0  4  4   \n",
       "4             KC     1        10            KC  ...   3   1  5  1    0  3  2   \n",
       "\n",
       "  DB  OoD State  \n",
       "0  6    0    MA  \n",
       "1  6    0    MA  \n",
       "2  6    0    MA  \n",
       "3  3    0    MA  \n",
       "4  6    0    MA  \n",
       "\n",
       "[5 rows x 39 columns]"
      ]
     },
     "execution_count": 39,
     "metadata": {},
     "output_type": "execute_result"
    }
   ],
   "source": [
    "# If the possession team is different than the\n",
    "# field position, then we are on the opponent's side of the field...\n",
    "if 'YardLine100' not in pbpData.columns:\n",
    "    pbpData.insert(4, 'YardLine100', pbpData.YardLine.to_list())\n",
    "    locs = pbpData.PossessionTeam != pbpData.FieldPosition\n",
    "    pbpData.loc[locs, 'YardLine100'] = 100 - pbpData.loc[locs, 'YardLine100']\n",
    "pbpData.head()"
   ]
  },
  {
   "cell_type": "markdown",
   "metadata": {},
   "source": [
    "Notice the 3rd and 4th rows where the Patriots are on the Chiefs' side of the field. Now we can plot this column with respect to the yards gained. We should see the points taper off as the yard line increases i.e. get closer to the endzone."
   ]
  },
  {
   "cell_type": "code",
   "execution_count": 44,
   "metadata": {
    "ExecuteTime": {
     "end_time": "2020-08-01T14:31:19.576706Z",
     "start_time": "2020-08-01T14:31:19.523619Z"
    }
   },
   "outputs": [
    {
     "data": {
      "text/html": [
       "\n",
       "<div id=\"altair-viz-298020d12dae4c15b342a981bd081953\"></div>\n",
       "<script type=\"text/javascript\">\n",
       "  (function(spec, embedOpt){\n",
       "    let outputDiv = document.currentScript.previousElementSibling;\n",
       "    if (outputDiv.id !== \"altair-viz-298020d12dae4c15b342a981bd081953\") {\n",
       "      outputDiv = document.getElementById(\"altair-viz-298020d12dae4c15b342a981bd081953\");\n",
       "    }\n",
       "    const paths = {\n",
       "      \"vega\": \"https://cdn.jsdelivr.net/npm//vega@5?noext\",\n",
       "      \"vega-lib\": \"https://cdn.jsdelivr.net/npm//vega-lib?noext\",\n",
       "      \"vega-lite\": \"https://cdn.jsdelivr.net/npm//vega-lite@4.8.1?noext\",\n",
       "      \"vega-embed\": \"https://cdn.jsdelivr.net/npm//vega-embed@6?noext\",\n",
       "    };\n",
       "\n",
       "    function loadScript(lib) {\n",
       "      return new Promise(function(resolve, reject) {\n",
       "        var s = document.createElement('script');\n",
       "        s.src = paths[lib];\n",
       "        s.async = true;\n",
       "        s.onload = () => resolve(paths[lib]);\n",
       "        s.onerror = () => reject(`Error loading script: ${paths[lib]}`);\n",
       "        document.getElementsByTagName(\"head\")[0].appendChild(s);\n",
       "      });\n",
       "    }\n",
       "\n",
       "    function showError(err) {\n",
       "      outputDiv.innerHTML = `<div class=\"error\" style=\"color:red;\">${err}</div>`;\n",
       "      throw err;\n",
       "    }\n",
       "\n",
       "    function displayChart(vegaEmbed) {\n",
       "      vegaEmbed(outputDiv, spec, embedOpt)\n",
       "        .catch(err => showError(`Javascript Error: ${err.message}<br>This usually means there's a typo in your chart specification. See the javascript console for the full traceback.`));\n",
       "    }\n",
       "\n",
       "    if(typeof define === \"function\" && define.amd) {\n",
       "      requirejs.config({paths});\n",
       "      require([\"vega-embed\"], displayChart, err => showError(`Error loading script: ${err.message}`));\n",
       "    } else if (typeof vegaEmbed === \"function\") {\n",
       "      displayChart(vegaEmbed);\n",
       "    } else {\n",
       "      loadScript(\"vega\")\n",
       "        .then(() => loadScript(\"vega-lite\"))\n",
       "        .then(() => loadScript(\"vega-embed\"))\n",
       "        .catch(showError)\n",
       "        .then(() => displayChart(vegaEmbed));\n",
       "    }\n",
       "  })({\"config\": {\"view\": {\"width\": 800, \"height\": 350}, \"title\": {\"font\": \"Gill Sans MT\", \"fontSize\": 18}, \"axis\": {\"labelFont\": \"Gill Sans MT\", \"labelFontSize\": 12, \"titleFont\": \"Gill Sans MT\", \"titleFontSize\": 14}, \"header\": {\"labelFont\": \"Gill Sans MT\", \"titleFont\": \"Gill Sans MT\"}, \"legend\": {\"labelFont\": \"Gill Sans MT\", \"labelFontSize\": 12, \"titleFont\": \"Gill Sans MT\", \"titleFontSize\": 14}}, \"data\": {\"url\": \"./Altair JSONs/Dataframes/YardLine100.json\"}, \"mark\": {\"type\": \"point\", \"clip\": true}, \"encoding\": {\"x\": {\"type\": \"quantitative\", \"axis\": {\"title\": \"Yard Line (100)\"}, \"field\": \"YardLine100\"}, \"y\": {\"type\": \"quantitative\", \"field\": \"Yards\"}}, \"title\": \"Yards Gained vs. Field Position\", \"$schema\": \"https://vega.github.io/schema/vega-lite/v4.8.1.json\"}, {\"mode\": \"vega-lite\"});\n",
       "</script>"
      ],
      "text/plain": [
       "alt.Chart(...)"
      ]
     },
     "execution_count": 44,
     "metadata": {},
     "output_type": "execute_result"
    }
   ],
   "source": [
    "YL100_JSON = './Altair JSONs/Dataframes/YardLine100.json'\n",
    "if not os.path.exists(YL100_JSON):\n",
    "    pbpData[['YardLine100', 'Yards']].to_json(YL100_JSON, orient='records')\n",
    "\n",
    "chart = altair.Chart(YL100_JSON, title='Yards Gained vs. Field Position').mark_point(clip=True).encode(\n",
    "    x=altair.X('YardLine100:Q',\n",
    "              axis=altair.Axis(title='Yard Line (100)')),\n",
    "    y='Yards:Q'\n",
    ")\n",
    "chart.save('./Altair JSONs/Plots/YardLine100.json')\n",
    "chart"
   ]
  },
  {
   "cell_type": "markdown",
   "metadata": {},
   "source": [
    "Couple things about this plot. The hypotenuse of this triangular plot shows all the times when a runner rushed for a touchdown at that position. Additionally, you may notice there are more points on the 25-yard line, and the 40-yard line to some extent. The reason is that whenever there is a touchback on the kickoff, the team starts at their own 25-yard line. Also, when a kickoff goes out of the bounds, that's a penalty on the kicking team, and the ball is spotted at the 40-yard line. The main things we take away from here is that **solely using the field position of the rushing play isn't enough, and other things must be taken into account.**"
   ]
  },
  {
   "cell_type": "markdown",
   "metadata": {},
   "source": [
    "### Distance to First Down\n",
    "The distance to a first down also matters. This mainly applies to short yardage situations, typically less than 4 yards or so. If you need 2 yards to keep the drive alive, why design for a long run when instead you can send in some big guys to push forward for the first down? Hopefully the next plot can show this...Instead of showing raw counts for how many plays were rushing plays per down and distance, we'll show **percentage**. The reason is that since you get a 1st and 10 whenever a new set of downs is established, it will cause an overabundance of the number of plays. There will also be a dropoff with distancecs greater than 10 yards because these can only occur either through a loss on the previous play, or through a penalty.\n",
    "\n",
    "First, we'll look at **all the plays** and see how many yards they've went for, then we'll look at the percentage of rushing plays as the distance increases."
   ]
  },
  {
   "cell_type": "code",
   "execution_count": 46,
   "metadata": {
    "ExecuteTime": {
     "end_time": "2020-08-01T14:31:56.151014Z",
     "start_time": "2020-08-01T14:31:56.075182Z"
    }
   },
   "outputs": [
    {
     "data": {
      "text/html": [
       "\n",
       "<div id=\"altair-viz-7447529e2e924f359b85d6fa4506db85\"></div>\n",
       "<script type=\"text/javascript\">\n",
       "  (function(spec, embedOpt){\n",
       "    let outputDiv = document.currentScript.previousElementSibling;\n",
       "    if (outputDiv.id !== \"altair-viz-7447529e2e924f359b85d6fa4506db85\") {\n",
       "      outputDiv = document.getElementById(\"altair-viz-7447529e2e924f359b85d6fa4506db85\");\n",
       "    }\n",
       "    const paths = {\n",
       "      \"vega\": \"https://cdn.jsdelivr.net/npm//vega@5?noext\",\n",
       "      \"vega-lib\": \"https://cdn.jsdelivr.net/npm//vega-lib?noext\",\n",
       "      \"vega-lite\": \"https://cdn.jsdelivr.net/npm//vega-lite@4.8.1?noext\",\n",
       "      \"vega-embed\": \"https://cdn.jsdelivr.net/npm//vega-embed@6?noext\",\n",
       "    };\n",
       "\n",
       "    function loadScript(lib) {\n",
       "      return new Promise(function(resolve, reject) {\n",
       "        var s = document.createElement('script');\n",
       "        s.src = paths[lib];\n",
       "        s.async = true;\n",
       "        s.onload = () => resolve(paths[lib]);\n",
       "        s.onerror = () => reject(`Error loading script: ${paths[lib]}`);\n",
       "        document.getElementsByTagName(\"head\")[0].appendChild(s);\n",
       "      });\n",
       "    }\n",
       "\n",
       "    function showError(err) {\n",
       "      outputDiv.innerHTML = `<div class=\"error\" style=\"color:red;\">${err}</div>`;\n",
       "      throw err;\n",
       "    }\n",
       "\n",
       "    function displayChart(vegaEmbed) {\n",
       "      vegaEmbed(outputDiv, spec, embedOpt)\n",
       "        .catch(err => showError(`Javascript Error: ${err.message}<br>This usually means there's a typo in your chart specification. See the javascript console for the full traceback.`));\n",
       "    }\n",
       "\n",
       "    if(typeof define === \"function\" && define.amd) {\n",
       "      requirejs.config({paths});\n",
       "      require([\"vega-embed\"], displayChart, err => showError(`Error loading script: ${err.message}`));\n",
       "    } else if (typeof vegaEmbed === \"function\") {\n",
       "      displayChart(vegaEmbed);\n",
       "    } else {\n",
       "      loadScript(\"vega\")\n",
       "        .then(() => loadScript(\"vega-lite\"))\n",
       "        .then(() => loadScript(\"vega-embed\"))\n",
       "        .catch(showError)\n",
       "        .then(() => displayChart(vegaEmbed));\n",
       "    }\n",
       "  })({\"config\": {\"view\": {\"width\": 800, \"height\": 350}, \"title\": {\"font\": \"Gill Sans MT\", \"fontSize\": 18}, \"axis\": {\"labelFont\": \"Gill Sans MT\", \"labelFontSize\": 12, \"titleFont\": \"Gill Sans MT\", \"titleFontSize\": 14}, \"header\": {\"labelFont\": \"Gill Sans MT\", \"titleFont\": \"Gill Sans MT\"}, \"legend\": {\"labelFont\": \"Gill Sans MT\", \"labelFontSize\": 12, \"titleFont\": \"Gill Sans MT\", \"titleFontSize\": 14}}, \"data\": {\"url\": \"./Altair JSONs/Dataframes/distance.json\"}, \"mark\": {\"type\": \"point\", \"clip\": true}, \"encoding\": {\"color\": {\"type\": \"nominal\", \"field\": \"Down\"}, \"x\": {\"type\": \"quantitative\", \"field\": \"Distance\"}, \"y\": {\"type\": \"quantitative\", \"field\": \"Yards\"}}, \"title\": \"Distince to 1st Down vs. Yards Gained\", \"$schema\": \"https://vega.github.io/schema/vega-lite/v4.8.1.json\"}, {\"mode\": \"vega-lite\"});\n",
       "</script>"
      ],
      "text/plain": [
       "alt.Chart(...)"
      ]
     },
     "execution_count": 46,
     "metadata": {},
     "output_type": "execute_result"
    }
   ],
   "source": [
    "DISTANCE_JSON = './Altair JSONs/Dataframes/distance.json'\n",
    "if not os.path.exists(DISTANCE_JSON):\n",
    "    pbpData[['Distance', 'Yards', 'Down']].to_json(DISTANCE_JSON, orient='records')\n",
    "\n",
    "chart = altair.Chart(DISTANCE_JSON, title='Distince to 1st Down vs. Yards Gained').mark_point(clip=True).encode(\n",
    "    x='Distance:Q',\n",
    "    y='Yards:Q',\n",
    "    color='Down:N'\n",
    ")\n",
    "chart.save('./Altair JSONs/Plots/distance.json')\n",
    "chart"
   ]
  },
  {
   "cell_type": "markdown",
   "metadata": {},
   "source": [
    "Obviously, there's an overabundance plays with 10 yards to go, because you get 1st and 10 whenever a new set of downs is established. Notice we also have some blue dots at 1st and 15 and 1st and 20. These are due to penalty. A false start is a five-yard penalty. We can see a good mixture of downs on the other distances."
   ]
  },
  {
   "cell_type": "markdown",
   "metadata": {},
   "source": [
    "## The Success of a Play\n",
    "As you might have guessed from the previous plots, there are many variables that affect how many yards go for. However, depending on the situation, the number of yards gained could have differing importance. For example, **gaining 3 yards on a 3rd and 2 is much more successful than gaining 3 yards on a 1st and 10**, because the former results in a first down to keep the drive alive. That isn't to say that you *have* to get a first down for a play to be successful. For example, gaining 5 yards on that 1st and 10 could be seen as successful as it could make 2nd and 3rd down much easier.\n",
    "\n",
    "Back in 1988, Pete Palmer, Bob Carroll, and John Thorn published a statistics book called *The Hidden Game of Football.* In it, they took apart the current notions of football stats, especially quarterback rating, and developed their own method of breaking down plays. Almost all of their statistics revolves around **yards**. Their notion of a successful play is as follows:\n",
    "\n",
    "> On first down, a play is considered a success if it gains 45 percent of needed yards; on second down, a play needs to gain 60 percent of needed yards; on third and fourth down, only by gaining a first down (or touchdown) is considered success.\n",
    "\n",
    "Since then, there have been many improvements to their methods that have been refined (see the reasoning behind Defense-adjusted Value Over Average (DVOA) by [Football Outsiders](https://www.footballoutsiders.com/info/methods)) but for our purposes, this success/failure breakdown should work reasonably well to measure how different aspects affect the yards gained, without worrying about the situational environment too much. \n",
    "\n",
    "We will add this information to our play-by-play level data, and doing so requires a few lines of code. Why didn't we do this in the data cleaning stage, you ask? Because any model might come up with a more complex method of combining the situation. In any case, we will input directly into the column `\"Success\"` or `\"Failure\"`."
   ]
  },
  {
   "cell_type": "code",
   "execution_count": 47,
   "metadata": {
    "ExecuteTime": {
     "end_time": "2020-08-01T14:32:00.414082Z",
     "start_time": "2020-08-01T14:32:00.361227Z"
    }
   },
   "outputs": [],
   "source": [
    "pbpData['IsSuccess'] = 'Failure'\n",
    "# Thresholds of percentages for successes\n",
    "thresholds = [0.45, 0.6, 1, 1]\n",
    "for down, thresh in zip(range(1, 5), thresholds):\n",
    "    pbpData.loc[(pbpData.Down == down) & (pbpData.Yards >= thresh * pbpData.Distance), 'IsSuccess'] = 'Success'"
   ]
  },
  {
   "cell_type": "markdown",
   "metadata": {},
   "source": [
    "Even though the success of a play doesn't directly tell us the number of yards a play goes for (what we are predicting), it still gives a sense of the outcome of the plays, which hopefully be used anyway during training and prediction."
   ]
  },
  {
   "cell_type": "markdown",
   "metadata": {},
   "source": [
    "## Offensive Line\n",
    "Now, let's look at what is probably one of the more important aspects. How does the personnel groupings affect how many yards a play goes for (and consequently how successful a play is)? At first thought, it makes sense that as the weight of the offensive line increases, the more successful a play gets, because the linemen theoretically are able to push everyone forward, which greatly affects whether the running back runs for a loss or gain.\n",
    "\n",
    "To capture this, we can take the **total weight** of the offensive line, and plot it against the yards gained. However, there's an important disclaimer for the plots that follow. The offensive line is not the only ones that might be blocking. You might have a fullback, or a big tight end as well, so keep that in mind.\n",
    "\n",
    "We're not limited to the weight, and we can also take the speed, which way they're moving, and their positions with respect to the running back at handoff. That last bit, it seems logical that if a running back is \"following their blocks\", or in other words right behind their linemen, they get much more yards."
   ]
  },
  {
   "cell_type": "markdown",
   "metadata": {},
   "source": [
    "### OL Weight\n",
    "The most common setup is 5 offensive linemen. But just to check, let's see how many setups there were."
   ]
  },
  {
   "cell_type": "code",
   "execution_count": 48,
   "metadata": {
    "ExecuteTime": {
     "end_time": "2020-08-01T14:32:02.592760Z",
     "start_time": "2020-08-01T14:32:02.576994Z"
    }
   },
   "outputs": [
    {
     "data": {
      "text/plain": [
       "(array([5, 6, 7]), array([28451,  2097,    63], dtype=int64))"
      ]
     },
     "execution_count": 48,
     "metadata": {},
     "output_type": "execute_result"
    }
   ],
   "source": [
    "uniques, counts = np.unique(pbpData.OL, return_counts=True)\n",
    "sortedIndices = np.argsort(counts)[::-1]\n",
    "uniques[sortedIndices], counts[sortedIndices]"
   ]
  },
  {
   "cell_type": "markdown",
   "metadata": {},
   "source": [
    "Okay, lucky for us, there are only 3 possible setups, from 5 to 7 offensive linemen. The 5 offensive linemen setup is by far the most common. The rest are so few that we don't have to do any special analysis with them. We can plot two histograms, one for successful plays, and one for failed plays. My hypothesis is that it won't be too interesting, because it's rare that every rush is successful. I'm expecting a lot of overlap."
   ]
  },
  {
   "cell_type": "code",
   "execution_count": 49,
   "metadata": {
    "ExecuteTime": {
     "end_time": "2020-08-01T14:32:03.600114Z",
     "start_time": "2020-08-01T14:32:02.955109Z"
    }
   },
   "outputs": [
    {
     "data": {
      "text/html": [
       "<div>\n",
       "<style scoped>\n",
       "    .dataframe tbody tr th:only-of-type {\n",
       "        vertical-align: middle;\n",
       "    }\n",
       "\n",
       "    .dataframe tbody tr th {\n",
       "        vertical-align: top;\n",
       "    }\n",
       "\n",
       "    .dataframe thead th {\n",
       "        text-align: right;\n",
       "    }\n",
       "</style>\n",
       "<table border=\"1\" class=\"dataframe\">\n",
       "  <thead>\n",
       "    <tr style=\"text-align: right;\">\n",
       "      <th></th>\n",
       "      <th>PlayId</th>\n",
       "      <th>WeightAverage</th>\n",
       "    </tr>\n",
       "  </thead>\n",
       "  <tbody>\n",
       "    <tr>\n",
       "      <th>0</th>\n",
       "      <td>20170907000118</td>\n",
       "      <td>315.6</td>\n",
       "    </tr>\n",
       "    <tr>\n",
       "      <th>1</th>\n",
       "      <td>20170907000139</td>\n",
       "      <td>315.6</td>\n",
       "    </tr>\n",
       "    <tr>\n",
       "      <th>2</th>\n",
       "      <td>20170907000189</td>\n",
       "      <td>315.6</td>\n",
       "    </tr>\n",
       "    <tr>\n",
       "      <th>3</th>\n",
       "      <td>20170907000345</td>\n",
       "      <td>315.5</td>\n",
       "    </tr>\n",
       "    <tr>\n",
       "      <th>4</th>\n",
       "      <td>20170907000395</td>\n",
       "      <td>316.2</td>\n",
       "    </tr>\n",
       "  </tbody>\n",
       "</table>\n",
       "</div>"
      ],
      "text/plain": [
       "           PlayId  WeightAverage\n",
       "0  20170907000118          315.6\n",
       "1  20170907000139          315.6\n",
       "2  20170907000189          315.6\n",
       "3  20170907000345          315.5\n",
       "4  20170907000395          316.2"
      ]
     },
     "execution_count": 49,
     "metadata": {},
     "output_type": "execute_result"
    }
   ],
   "source": [
    "# First, we need to gather the offensive linemen that\n",
    "# took part in each play...\n",
    "# Join our player characteristics\n",
    "# with the player positions on the ID...\n",
    "merged = playerPos.merge(right=playerChara[['NflId', 'PlayerWeight', 'Position']], how='left', on='NflId')\n",
    "# We don't need positional info...\n",
    "merged = merged[['PlayId', 'NflId', 'PlayerWeight', 'Position']]\n",
    "# Grab the offensive line positions:\n",
    "# Center (C), Guard (G), Offensive Guard (OG), Offensive Tackle (OT), Tackle (T)\n",
    "offLine = merged[np.isin(merged.Position, ['C', 'G', 'OG', 'OT', 'T'])]\n",
    "# Now we have to group them by play id\n",
    "# and take the average...\n",
    "# Reset the index to move the PlayId to a column\n",
    "playGroups = offLine.groupby(by='PlayId').mean().reset_index()\n",
    "playGroups.columns = ['PlayId', 'WeightAverage']\n",
    "playGroups.head()"
   ]
  },
  {
   "cell_type": "code",
   "execution_count": 52,
   "metadata": {
    "ExecuteTime": {
     "end_time": "2020-08-01T14:33:13.438874Z",
     "start_time": "2020-08-01T14:33:13.240343Z"
    }
   },
   "outputs": [
    {
     "data": {
      "text/html": [
       "\n",
       "<div id=\"altair-viz-3e5a1206cad641039bf62096428952e0\"></div>\n",
       "<script type=\"text/javascript\">\n",
       "  (function(spec, embedOpt){\n",
       "    let outputDiv = document.currentScript.previousElementSibling;\n",
       "    if (outputDiv.id !== \"altair-viz-3e5a1206cad641039bf62096428952e0\") {\n",
       "      outputDiv = document.getElementById(\"altair-viz-3e5a1206cad641039bf62096428952e0\");\n",
       "    }\n",
       "    const paths = {\n",
       "      \"vega\": \"https://cdn.jsdelivr.net/npm//vega@5?noext\",\n",
       "      \"vega-lib\": \"https://cdn.jsdelivr.net/npm//vega-lib?noext\",\n",
       "      \"vega-lite\": \"https://cdn.jsdelivr.net/npm//vega-lite@4.8.1?noext\",\n",
       "      \"vega-embed\": \"https://cdn.jsdelivr.net/npm//vega-embed@6?noext\",\n",
       "    };\n",
       "\n",
       "    function loadScript(lib) {\n",
       "      return new Promise(function(resolve, reject) {\n",
       "        var s = document.createElement('script');\n",
       "        s.src = paths[lib];\n",
       "        s.async = true;\n",
       "        s.onload = () => resolve(paths[lib]);\n",
       "        s.onerror = () => reject(`Error loading script: ${paths[lib]}`);\n",
       "        document.getElementsByTagName(\"head\")[0].appendChild(s);\n",
       "      });\n",
       "    }\n",
       "\n",
       "    function showError(err) {\n",
       "      outputDiv.innerHTML = `<div class=\"error\" style=\"color:red;\">${err}</div>`;\n",
       "      throw err;\n",
       "    }\n",
       "\n",
       "    function displayChart(vegaEmbed) {\n",
       "      vegaEmbed(outputDiv, spec, embedOpt)\n",
       "        .catch(err => showError(`Javascript Error: ${err.message}<br>This usually means there's a typo in your chart specification. See the javascript console for the full traceback.`));\n",
       "    }\n",
       "\n",
       "    if(typeof define === \"function\" && define.amd) {\n",
       "      requirejs.config({paths});\n",
       "      require([\"vega-embed\"], displayChart, err => showError(`Error loading script: ${err.message}`));\n",
       "    } else if (typeof vegaEmbed === \"function\") {\n",
       "      displayChart(vegaEmbed);\n",
       "    } else {\n",
       "      loadScript(\"vega\")\n",
       "        .then(() => loadScript(\"vega-lite\"))\n",
       "        .then(() => loadScript(\"vega-embed\"))\n",
       "        .catch(showError)\n",
       "        .then(() => displayChart(vegaEmbed));\n",
       "    }\n",
       "  })({\"config\": {\"view\": {\"width\": 800, \"height\": 350}, \"title\": {\"font\": \"Gill Sans MT\", \"fontSize\": 18}, \"axis\": {\"labelFont\": \"Gill Sans MT\", \"labelFontSize\": 12, \"titleFont\": \"Gill Sans MT\", \"titleFontSize\": 14}, \"header\": {\"labelFont\": \"Gill Sans MT\", \"titleFont\": \"Gill Sans MT\"}, \"legend\": {\"labelFont\": \"Gill Sans MT\", \"labelFontSize\": 12, \"titleFont\": \"Gill Sans MT\", \"titleFontSize\": 14}}, \"data\": {\"url\": \"./Altair JSONs/Dataframes/olweight.json\"}, \"mark\": {\"type\": \"area\", \"interpolate\": \"step\", \"opacity\": 0.5}, \"encoding\": {\"color\": {\"type\": \"nominal\", \"field\": \"IsSuccess\"}, \"x\": {\"type\": \"quantitative\", \"bin\": {\"step\": 2}, \"field\": \"WeightAverage\"}, \"y\": {\"type\": \"quantitative\", \"aggregate\": \"count\", \"stack\": null, \"title\": \"# of Plays\"}}, \"title\": \"OL Avg. Weight by Play Outcome\", \"$schema\": \"https://vega.github.io/schema/vega-lite/v4.8.1.json\"}, {\"mode\": \"vega-lite\"});\n",
       "</script>"
      ],
      "text/plain": [
       "alt.Chart(...)"
      ]
     },
     "execution_count": 52,
     "metadata": {},
     "output_type": "execute_result"
    }
   ],
   "source": [
    "# Now merge with our play-by-play data...\n",
    "OL_weightAvgs = pbpData[['PlayId', 'IsSuccess']].merge(right=playGroups, how='left', on='PlayId')\n",
    "OL_WEIGHT_JSON = './Altair JSONs/Dataframes/olweight.json'\n",
    "if not os.path.exists(OL_WEIGHT_JSON):\n",
    "    OL_weightAvgs.to_json(OL_WEIGHT_JSON, orient='records')\n",
    "\n",
    "# Plot them!\n",
    "chart = altair.Chart(OL_WEIGHT_JSON, title='OL Avg. Weight by Play Outcome').mark_area(\n",
    "    opacity=0.5, \n",
    "    interpolate='step'\n",
    ").encode(\n",
    "    x=altair.X('WeightAverage:Q', bin=altair.Bin(step=2)),\n",
    "    y=altair.Y('count()', stack=None, title='# of Plays'),\n",
    "    color='IsSuccess:N'\n",
    ")\n",
    "chart.save('./Altair JSONs/Plots/olweight.json')\n",
    "chart"
   ]
  },
  {
   "cell_type": "markdown",
   "metadata": {},
   "source": [
    "Well would you look at that. The shapes of the two histograms are almost identical, just that the Success one is a bit shorter, since there were fewer success plays than failure plays. The orange histogram was plotted first, and the blue was plotted over. This is the reason the success histogram looks brownish. Okay, so we know the weight itself has nothing to do with the success, but about their positions at the time of the snap?"
   ]
  },
  {
   "cell_type": "markdown",
   "metadata": {},
   "source": [
    "### OL Positions\n",
    "The positions of the offensive linemen might matter much more here to determine if a running back will break it. Usually, it's a good idea for a running back to follow the blocks in front of him. If he strays from the designed direction, there's a good chance he will not be able to get the yards he was supposed to. Remember we do have X and Y data for each player. However, that won't tell the whole story. I said in the second sentence that it's a good idea for a running back to follow behind his blocks. To quantify this, **we take the running back's position as the origin, and base the rest of the players positions based off of that.** We can the plot the **average relative position of the offensive line with respect to the RB for each play.** The goal is to see that successful plays increase as the RB goes behind the blocks. My initial hypothesis is that the Y direction (up and down) will matter more than the X direction (left and right). This is when looking at the field top-down, with endzones on the left and right sides."
   ]
  },
  {
   "cell_type": "code",
   "execution_count": 53,
   "metadata": {
    "ExecuteTime": {
     "end_time": "2020-08-01T14:33:23.109233Z",
     "start_time": "2020-08-01T14:33:21.997683Z"
    }
   },
   "outputs": [
    {
     "data": {
      "text/html": [
       "<div>\n",
       "<style scoped>\n",
       "    .dataframe tbody tr th:only-of-type {\n",
       "        vertical-align: middle;\n",
       "    }\n",
       "\n",
       "    .dataframe tbody tr th {\n",
       "        vertical-align: top;\n",
       "    }\n",
       "\n",
       "    .dataframe thead th {\n",
       "        text-align: right;\n",
       "    }\n",
       "</style>\n",
       "<table border=\"1\" class=\"dataframe\">\n",
       "  <thead>\n",
       "    <tr style=\"text-align: right;\">\n",
       "      <th></th>\n",
       "      <th>GameId</th>\n",
       "      <th>PlayId</th>\n",
       "      <th>Season</th>\n",
       "      <th>YardLine</th>\n",
       "      <th>YardLine100</th>\n",
       "      <th>Quarter</th>\n",
       "      <th>PossessionTeam</th>\n",
       "      <th>Down</th>\n",
       "      <th>Distance</th>\n",
       "      <th>FieldPosition</th>\n",
       "      <th>...</th>\n",
       "      <th>DoO</th>\n",
       "      <th>DL</th>\n",
       "      <th>LB</th>\n",
       "      <th>DB</th>\n",
       "      <th>OoD</th>\n",
       "      <th>State</th>\n",
       "      <th>IsSuccess</th>\n",
       "      <th>X</th>\n",
       "      <th>Y</th>\n",
       "      <th>NflId</th>\n",
       "    </tr>\n",
       "  </thead>\n",
       "  <tbody>\n",
       "    <tr>\n",
       "      <th>0</th>\n",
       "      <td>2017090700</td>\n",
       "      <td>20170907000118</td>\n",
       "      <td>2017</td>\n",
       "      <td>35</td>\n",
       "      <td>35</td>\n",
       "      <td>1</td>\n",
       "      <td>NE</td>\n",
       "      <td>3</td>\n",
       "      <td>2</td>\n",
       "      <td>NE</td>\n",
       "      <td>...</td>\n",
       "      <td>0</td>\n",
       "      <td>2</td>\n",
       "      <td>3</td>\n",
       "      <td>6</td>\n",
       "      <td>0</td>\n",
       "      <td>MA</td>\n",
       "      <td>Success</td>\n",
       "      <td>78.75</td>\n",
       "      <td>30.53</td>\n",
       "      <td>2543773</td>\n",
       "    </tr>\n",
       "    <tr>\n",
       "      <th>1</th>\n",
       "      <td>2017090700</td>\n",
       "      <td>20170907000139</td>\n",
       "      <td>2017</td>\n",
       "      <td>43</td>\n",
       "      <td>43</td>\n",
       "      <td>1</td>\n",
       "      <td>NE</td>\n",
       "      <td>1</td>\n",
       "      <td>10</td>\n",
       "      <td>NE</td>\n",
       "      <td>...</td>\n",
       "      <td>0</td>\n",
       "      <td>2</td>\n",
       "      <td>3</td>\n",
       "      <td>6</td>\n",
       "      <td>0</td>\n",
       "      <td>MA</td>\n",
       "      <td>Failure</td>\n",
       "      <td>71.07</td>\n",
       "      <td>27.16</td>\n",
       "      <td>2543773</td>\n",
       "    </tr>\n",
       "    <tr>\n",
       "      <th>2</th>\n",
       "      <td>2017090700</td>\n",
       "      <td>20170907000189</td>\n",
       "      <td>2017</td>\n",
       "      <td>35</td>\n",
       "      <td>65</td>\n",
       "      <td>1</td>\n",
       "      <td>NE</td>\n",
       "      <td>1</td>\n",
       "      <td>10</td>\n",
       "      <td>KC</td>\n",
       "      <td>...</td>\n",
       "      <td>0</td>\n",
       "      <td>2</td>\n",
       "      <td>3</td>\n",
       "      <td>6</td>\n",
       "      <td>0</td>\n",
       "      <td>MA</td>\n",
       "      <td>Success</td>\n",
       "      <td>48.66</td>\n",
       "      <td>19.11</td>\n",
       "      <td>2543773</td>\n",
       "    </tr>\n",
       "    <tr>\n",
       "      <th>3</th>\n",
       "      <td>2017090700</td>\n",
       "      <td>20170907000345</td>\n",
       "      <td>2017</td>\n",
       "      <td>2</td>\n",
       "      <td>98</td>\n",
       "      <td>1</td>\n",
       "      <td>NE</td>\n",
       "      <td>2</td>\n",
       "      <td>2</td>\n",
       "      <td>KC</td>\n",
       "      <td>...</td>\n",
       "      <td>0</td>\n",
       "      <td>4</td>\n",
       "      <td>4</td>\n",
       "      <td>3</td>\n",
       "      <td>0</td>\n",
       "      <td>MA</td>\n",
       "      <td>Success</td>\n",
       "      <td>15.53</td>\n",
       "      <td>25.36</td>\n",
       "      <td>2539663</td>\n",
       "    </tr>\n",
       "    <tr>\n",
       "      <th>4</th>\n",
       "      <td>2017090700</td>\n",
       "      <td>20170907000395</td>\n",
       "      <td>2017</td>\n",
       "      <td>25</td>\n",
       "      <td>25</td>\n",
       "      <td>1</td>\n",
       "      <td>KC</td>\n",
       "      <td>1</td>\n",
       "      <td>10</td>\n",
       "      <td>KC</td>\n",
       "      <td>...</td>\n",
       "      <td>0</td>\n",
       "      <td>3</td>\n",
       "      <td>2</td>\n",
       "      <td>6</td>\n",
       "      <td>0</td>\n",
       "      <td>MA</td>\n",
       "      <td>Success</td>\n",
       "      <td>29.99</td>\n",
       "      <td>27.12</td>\n",
       "      <td>2557917</td>\n",
       "    </tr>\n",
       "    <tr>\n",
       "      <th>...</th>\n",
       "      <td>...</td>\n",
       "      <td>...</td>\n",
       "      <td>...</td>\n",
       "      <td>...</td>\n",
       "      <td>...</td>\n",
       "      <td>...</td>\n",
       "      <td>...</td>\n",
       "      <td>...</td>\n",
       "      <td>...</td>\n",
       "      <td>...</td>\n",
       "      <td>...</td>\n",
       "      <td>...</td>\n",
       "      <td>...</td>\n",
       "      <td>...</td>\n",
       "      <td>...</td>\n",
       "      <td>...</td>\n",
       "      <td>...</td>\n",
       "      <td>...</td>\n",
       "      <td>...</td>\n",
       "      <td>...</td>\n",
       "      <td>...</td>\n",
       "    </tr>\n",
       "    <tr>\n",
       "      <th>30606</th>\n",
       "      <td>2019112500</td>\n",
       "      <td>20191125003419</td>\n",
       "      <td>2019</td>\n",
       "      <td>46</td>\n",
       "      <td>46</td>\n",
       "      <td>4</td>\n",
       "      <td>BLT</td>\n",
       "      <td>1</td>\n",
       "      <td>10</td>\n",
       "      <td>BLT</td>\n",
       "      <td>...</td>\n",
       "      <td>0</td>\n",
       "      <td>4</td>\n",
       "      <td>3</td>\n",
       "      <td>4</td>\n",
       "      <td>0</td>\n",
       "      <td>CA</td>\n",
       "      <td>Failure</td>\n",
       "      <td>68.95</td>\n",
       "      <td>28.28</td>\n",
       "      <td>2562407</td>\n",
       "    </tr>\n",
       "    <tr>\n",
       "      <th>30607</th>\n",
       "      <td>2019112500</td>\n",
       "      <td>20191125003440</td>\n",
       "      <td>2019</td>\n",
       "      <td>47</td>\n",
       "      <td>47</td>\n",
       "      <td>4</td>\n",
       "      <td>BLT</td>\n",
       "      <td>2</td>\n",
       "      <td>9</td>\n",
       "      <td>BLT</td>\n",
       "      <td>...</td>\n",
       "      <td>0</td>\n",
       "      <td>3</td>\n",
       "      <td>3</td>\n",
       "      <td>5</td>\n",
       "      <td>0</td>\n",
       "      <td>CA</td>\n",
       "      <td>Failure</td>\n",
       "      <td>69.11</td>\n",
       "      <td>26.19</td>\n",
       "      <td>2562407</td>\n",
       "    </tr>\n",
       "    <tr>\n",
       "      <th>30608</th>\n",
       "      <td>2019112500</td>\n",
       "      <td>20191125003496</td>\n",
       "      <td>2019</td>\n",
       "      <td>13</td>\n",
       "      <td>87</td>\n",
       "      <td>4</td>\n",
       "      <td>BLT</td>\n",
       "      <td>1</td>\n",
       "      <td>10</td>\n",
       "      <td>LA</td>\n",
       "      <td>...</td>\n",
       "      <td>0</td>\n",
       "      <td>3</td>\n",
       "      <td>3</td>\n",
       "      <td>5</td>\n",
       "      <td>0</td>\n",
       "      <td>CA</td>\n",
       "      <td>Failure</td>\n",
       "      <td>27.44</td>\n",
       "      <td>24.46</td>\n",
       "      <td>2561324</td>\n",
       "    </tr>\n",
       "    <tr>\n",
       "      <th>30609</th>\n",
       "      <td>2019112500</td>\n",
       "      <td>20191125003768</td>\n",
       "      <td>2019</td>\n",
       "      <td>37</td>\n",
       "      <td>37</td>\n",
       "      <td>4</td>\n",
       "      <td>BLT</td>\n",
       "      <td>1</td>\n",
       "      <td>10</td>\n",
       "      <td>BLT</td>\n",
       "      <td>...</td>\n",
       "      <td>0</td>\n",
       "      <td>4</td>\n",
       "      <td>3</td>\n",
       "      <td>4</td>\n",
       "      <td>0</td>\n",
       "      <td>CA</td>\n",
       "      <td>Failure</td>\n",
       "      <td>78.46</td>\n",
       "      <td>28.40</td>\n",
       "      <td>2562407</td>\n",
       "    </tr>\n",
       "    <tr>\n",
       "      <th>30610</th>\n",
       "      <td>2019112500</td>\n",
       "      <td>20191125003789</td>\n",
       "      <td>2019</td>\n",
       "      <td>38</td>\n",
       "      <td>38</td>\n",
       "      <td>4</td>\n",
       "      <td>BLT</td>\n",
       "      <td>2</td>\n",
       "      <td>9</td>\n",
       "      <td>BLT</td>\n",
       "      <td>...</td>\n",
       "      <td>0</td>\n",
       "      <td>3</td>\n",
       "      <td>3</td>\n",
       "      <td>5</td>\n",
       "      <td>0</td>\n",
       "      <td>CA</td>\n",
       "      <td>Failure</td>\n",
       "      <td>76.54</td>\n",
       "      <td>27.24</td>\n",
       "      <td>2562407</td>\n",
       "    </tr>\n",
       "  </tbody>\n",
       "</table>\n",
       "<p>30611 rows × 43 columns</p>\n",
       "</div>"
      ],
      "text/plain": [
       "           GameId          PlayId  Season  YardLine  YardLine100  Quarter  \\\n",
       "0      2017090700  20170907000118    2017        35           35        1   \n",
       "1      2017090700  20170907000139    2017        43           43        1   \n",
       "2      2017090700  20170907000189    2017        35           65        1   \n",
       "3      2017090700  20170907000345    2017         2           98        1   \n",
       "4      2017090700  20170907000395    2017        25           25        1   \n",
       "...           ...             ...     ...       ...          ...      ...   \n",
       "30606  2019112500  20191125003419    2019        46           46        4   \n",
       "30607  2019112500  20191125003440    2019        47           47        4   \n",
       "30608  2019112500  20191125003496    2019        13           87        4   \n",
       "30609  2019112500  20191125003768    2019        37           37        4   \n",
       "30610  2019112500  20191125003789    2019        38           38        4   \n",
       "\n",
       "      PossessionTeam  Down  Distance FieldPosition  ...  DoO  DL LB DB  OoD  \\\n",
       "0                 NE     3         2            NE  ...    0   2  3  6    0   \n",
       "1                 NE     1        10            NE  ...    0   2  3  6    0   \n",
       "2                 NE     1        10            KC  ...    0   2  3  6    0   \n",
       "3                 NE     2         2            KC  ...    0   4  4  3    0   \n",
       "4                 KC     1        10            KC  ...    0   3  2  6    0   \n",
       "...              ...   ...       ...           ...  ...  ...  .. .. ..  ...   \n",
       "30606            BLT     1        10           BLT  ...    0   4  3  4    0   \n",
       "30607            BLT     2         9           BLT  ...    0   3  3  5    0   \n",
       "30608            BLT     1        10            LA  ...    0   3  3  5    0   \n",
       "30609            BLT     1        10           BLT  ...    0   4  3  4    0   \n",
       "30610            BLT     2         9           BLT  ...    0   3  3  5    0   \n",
       "\n",
       "      State IsSuccess      X      Y    NflId  \n",
       "0        MA   Success  78.75  30.53  2543773  \n",
       "1        MA   Failure  71.07  27.16  2543773  \n",
       "2        MA   Success  48.66  19.11  2543773  \n",
       "3        MA   Success  15.53  25.36  2539663  \n",
       "4        MA   Success  29.99  27.12  2557917  \n",
       "...     ...       ...    ...    ...      ...  \n",
       "30606    CA   Failure  68.95  28.28  2562407  \n",
       "30607    CA   Failure  69.11  26.19  2562407  \n",
       "30608    CA   Failure  27.44  24.46  2561324  \n",
       "30609    CA   Failure  78.46  28.40  2562407  \n",
       "30610    CA   Failure  76.54  27.24  2562407  \n",
       "\n",
       "[30611 rows x 43 columns]"
      ]
     },
     "execution_count": 53,
     "metadata": {},
     "output_type": "execute_result"
    }
   ],
   "source": [
    "# playerPos has our positions.\n",
    "# Remember we want to find the average\n",
    "# relative position wrt rusher of the offensive line.\n",
    "# We need to do a couple things.\n",
    "# First, the pbpData has the ID of the rusher,\n",
    "# so merge the X and Y coords to that dataframe,\n",
    "# Next, join the played positions to playerPos, filter the OL,\n",
    "# group by play, and average X and Y. Then subtract off rusher's coords.\n",
    "\n",
    "# Merge to pbpData on play and rusher together...\n",
    "pd.merge(\n",
    "    left=pbpData,\n",
    "    right=playerPos[['PlayId', 'X', 'Y', 'NflId']],\n",
    "    how='left',\n",
    "    left_on=['PlayId', 'NflIdRusher'],\n",
    "    right_on=['PlayId', 'NflId']\n",
    ")"
   ]
  },
  {
   "cell_type": "code",
   "execution_count": null,
   "metadata": {},
   "outputs": [],
   "source": []
  }
 ],
 "metadata": {
  "kernelspec": {
   "display_name": "Python 3",
   "language": "python",
   "name": "python3"
  },
  "language_info": {
   "codemirror_mode": {
    "name": "ipython",
    "version": 3
   },
   "file_extension": ".py",
   "mimetype": "text/x-python",
   "name": "python",
   "nbconvert_exporter": "python",
   "pygments_lexer": "ipython3",
   "version": "3.8.2"
  },
  "toc": {
   "base_numbering": 1,
   "nav_menu": {},
   "number_sections": true,
   "sideBar": false,
   "skip_h1_title": true,
   "title_cell": "Table of Contents",
   "title_sidebar": "Contents",
   "toc_cell": true,
   "toc_position": {
    "height": "179.988px",
    "left": "1394px",
    "top": "91.8px",
    "width": "278.938px"
   },
   "toc_section_display": true,
   "toc_window_display": true
  }
 },
 "nbformat": 4,
 "nbformat_minor": 4
}
