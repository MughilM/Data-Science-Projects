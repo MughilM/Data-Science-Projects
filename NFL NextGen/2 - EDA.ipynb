{
 "cells": [
  {
   "cell_type": "markdown",
   "metadata": {
    "toc": true
   },
   "source": [
    "<h1>Table of Contents<span class=\"tocSkip\"></span></h1>\n",
    "<div class=\"toc\"><ul class=\"toc-item\"><li><span><a href=\"#Import-Packages\" data-toc-modified-id=\"Import-Packages-1\"><span class=\"toc-item-num\">1&nbsp;&nbsp;</span>Import Packages</a></span></li><li><span><a href=\"#Read-in-Data\" data-toc-modified-id=\"Read-in-Data-2\"><span class=\"toc-item-num\">2&nbsp;&nbsp;</span>Read in Data</a></span></li></ul></div>"
   ]
  },
  {
   "cell_type": "markdown",
   "metadata": {},
   "source": [
    "# 2019 NFL Big Data Bowl - Part 2: Exploratory Data Analysis\n",
    "This is the second notebook in a series where I partake in the 2019 Big Data Bowl competition on Kaggle. The first notebook dealt with cleaning the datasets to produce 3 different files:\n",
    "\n",
    "- Each player's physical characteristics (height, weight, etc.)\n",
    "- Each player's positions and speeds on each play\n",
    "- Each play's properties (down, distance, yards rushed, etc.)\n",
    "\n",
    "We'll be examining each of these files in order to get a deeper understanding of the data. In the end, the goal of exploratory data analysis is to show information that could be useful when completing the task at hand. In this case, we are ultimately trying to predict how many yards a given rushing play will go for, based on information at the time of handoff."
   ]
  },
  {
   "cell_type": "markdown",
   "metadata": {},
   "source": [
    "## Import Packages\n",
    "For plotting all of our graphs, I'll be using a package called `altair`. It is an interesting package. "
   ]
  },
  {
   "cell_type": "code",
   "execution_count": 1,
   "metadata": {
    "ExecuteTime": {
     "end_time": "2020-07-03T16:06:31.821810Z",
     "start_time": "2020-07-03T16:06:17.506397Z"
    }
   },
   "outputs": [],
   "source": [
    "import numpy as np\n",
    "import pandas as pd\n",
    "import altair"
   ]
  },
  {
   "cell_type": "markdown",
   "metadata": {},
   "source": [
    "## Read in Data\n",
    "As stated before, we have 3 files we need to read in. We also set the data types as a dictionary we pass into each `read_csv` call."
   ]
  },
  {
   "cell_type": "code",
   "execution_count": 37,
   "metadata": {
    "ExecuteTime": {
     "end_time": "2020-07-03T19:12:34.675398Z",
     "start_time": "2020-07-03T19:12:31.190501Z"
    }
   },
   "outputs": [],
   "source": [
    "# Player characteristics\n",
    "pcdt = {\n",
    "    'NflId': 'category',\n",
    "    'DisplayName': 'str',\n",
    "    'PlayerHeight': 'float32',\n",
    "    'PlayerWeight': 'int',\n",
    "    'PlayerCollegeName': 'str',\n",
    "    'Position': 'category'\n",
    "}\n",
    "playerChara = pd.read_csv('./Data/playerData.csv', parse_dates=[4],\n",
    "                         dtype=pcdt)\n",
    "# Player positions\n",
    "ppdt = {\n",
    "    'GameId': 'category',\n",
    "    'PlayId': 'category',\n",
    "    'Team': 'str',\n",
    "    'NflId': 'category'\n",
    "}\n",
    "playerPos = pd.read_csv('./Data/playerPositions.csv', dtype=ppdt)\n",
    "# Play by play\n",
    "# More columns here...\n",
    "# Reason is none of our integer columns needs 64-bit precision...\n",
    "# Use less memory if we can...\n",
    "integerCols = ['Season', 'YardLine', 'Quarter', 'Down', 'Distance', 'HomeScoreBeforePlay', \n",
    "              'VisitorScoreBeforePlay', 'DefendersInTheBox', 'Yards', 'Week',\n",
    "              'GameClockMinute', 'GameClockSecond', 'Half', 'RB', 'TE',\n",
    "              'WR', 'OL', 'QB', 'DoO', 'DL', 'LB', 'DB', 'OoD']\n",
    "catCols = ['GameId', 'PlayId', 'PossessionTeam', 'FieldPosition', 'NflIdRusher',\n",
    "          'OffenseFormation', 'PlayDirection', 'HomeTeamAbbr', 'VisitorTeamAbbr',\n",
    "          'Stadium', 'Location', 'Turf']\n",
    "pbpdt = {}\n",
    "for col in integerCols:\n",
    "    pbpdt[col] = 'int32'\n",
    "for col in catCols:\n",
    "    pbpdt[col] = 'category'\n",
    "pbpData = pd.read_csv('./Data/playByPlayData.csv', parse_dates=[15, 16], dtype=pbpdt)"
   ]
  },
  {
   "cell_type": "code",
   "execution_count": 38,
   "metadata": {
    "ExecuteTime": {
     "end_time": "2020-07-03T19:12:35.284892Z",
     "start_time": "2020-07-03T19:12:35.263994Z"
    }
   },
   "outputs": [
    {
     "data": {
      "text/plain": [
       "GameId                               category\n",
       "PlayId                               category\n",
       "Season                                  int32\n",
       "YardLine                                int32\n",
       "Quarter                                 int32\n",
       "PossessionTeam                       category\n",
       "Down                                    int32\n",
       "Distance                                int32\n",
       "FieldPosition                        category\n",
       "HomeScoreBeforePlay                     int32\n",
       "VisitorScoreBeforePlay                  int32\n",
       "NflIdRusher                          category\n",
       "OffenseFormation                     category\n",
       "DefendersInTheBox                       int32\n",
       "PlayDirection                        category\n",
       "TimeHandoff               datetime64[ns, UTC]\n",
       "TimeSnap                  datetime64[ns, UTC]\n",
       "Yards                                   int32\n",
       "HomeTeamAbbr                         category\n",
       "VisitorTeamAbbr                      category\n",
       "Week                                    int32\n",
       "Stadium                              category\n",
       "Location                             category\n",
       "Turf                                 category\n",
       "GameClockMinute                         int32\n",
       "GameClockSecond                         int32\n",
       "Half                                    int32\n",
       "RB                                      int32\n",
       "TE                                      int32\n",
       "WR                                      int32\n",
       "OL                                      int32\n",
       "QB                                      int32\n",
       "DoO                                     int32\n",
       "DL                                      int32\n",
       "LB                                      int32\n",
       "DB                                      int32\n",
       "OoD                                     int32\n",
       "dtype: object"
      ]
     },
     "execution_count": 38,
     "metadata": {},
     "output_type": "execute_result"
    }
   ],
   "source": [
    "pbpData.dtypes"
   ]
  },
  {
   "cell_type": "code",
   "execution_count": 39,
   "metadata": {
    "ExecuteTime": {
     "end_time": "2020-07-03T19:12:56.581448Z",
     "start_time": "2020-07-03T19:12:56.515469Z"
    }
   },
   "outputs": [
    {
     "data": {
      "text/html": [
       "<div>\n",
       "<style scoped>\n",
       "    .dataframe tbody tr th:only-of-type {\n",
       "        vertical-align: middle;\n",
       "    }\n",
       "\n",
       "    .dataframe tbody tr th {\n",
       "        vertical-align: top;\n",
       "    }\n",
       "\n",
       "    .dataframe thead th {\n",
       "        text-align: right;\n",
       "    }\n",
       "</style>\n",
       "<table border=\"1\" class=\"dataframe\">\n",
       "  <thead>\n",
       "    <tr style=\"text-align: right;\">\n",
       "      <th></th>\n",
       "      <th>GameId</th>\n",
       "      <th>PlayId</th>\n",
       "      <th>Season</th>\n",
       "      <th>YardLine</th>\n",
       "      <th>Quarter</th>\n",
       "      <th>PossessionTeam</th>\n",
       "      <th>Down</th>\n",
       "      <th>Distance</th>\n",
       "      <th>FieldPosition</th>\n",
       "      <th>HomeScoreBeforePlay</th>\n",
       "      <th>...</th>\n",
       "      <th>RB</th>\n",
       "      <th>TE</th>\n",
       "      <th>WR</th>\n",
       "      <th>OL</th>\n",
       "      <th>QB</th>\n",
       "      <th>DoO</th>\n",
       "      <th>DL</th>\n",
       "      <th>LB</th>\n",
       "      <th>DB</th>\n",
       "      <th>OoD</th>\n",
       "    </tr>\n",
       "  </thead>\n",
       "  <tbody>\n",
       "    <tr>\n",
       "      <th>0</th>\n",
       "      <td>2017090700</td>\n",
       "      <td>20170907000118</td>\n",
       "      <td>2017</td>\n",
       "      <td>35</td>\n",
       "      <td>1</td>\n",
       "      <td>NE</td>\n",
       "      <td>3</td>\n",
       "      <td>2</td>\n",
       "      <td>NE</td>\n",
       "      <td>0</td>\n",
       "      <td>...</td>\n",
       "      <td>1</td>\n",
       "      <td>1</td>\n",
       "      <td>3</td>\n",
       "      <td>5</td>\n",
       "      <td>1</td>\n",
       "      <td>0</td>\n",
       "      <td>2</td>\n",
       "      <td>3</td>\n",
       "      <td>6</td>\n",
       "      <td>0</td>\n",
       "    </tr>\n",
       "    <tr>\n",
       "      <th>1</th>\n",
       "      <td>2017090700</td>\n",
       "      <td>20170907000139</td>\n",
       "      <td>2017</td>\n",
       "      <td>43</td>\n",
       "      <td>1</td>\n",
       "      <td>NE</td>\n",
       "      <td>1</td>\n",
       "      <td>10</td>\n",
       "      <td>NE</td>\n",
       "      <td>0</td>\n",
       "      <td>...</td>\n",
       "      <td>1</td>\n",
       "      <td>1</td>\n",
       "      <td>3</td>\n",
       "      <td>5</td>\n",
       "      <td>1</td>\n",
       "      <td>0</td>\n",
       "      <td>2</td>\n",
       "      <td>3</td>\n",
       "      <td>6</td>\n",
       "      <td>0</td>\n",
       "    </tr>\n",
       "    <tr>\n",
       "      <th>2</th>\n",
       "      <td>2017090700</td>\n",
       "      <td>20170907000189</td>\n",
       "      <td>2017</td>\n",
       "      <td>35</td>\n",
       "      <td>1</td>\n",
       "      <td>NE</td>\n",
       "      <td>1</td>\n",
       "      <td>10</td>\n",
       "      <td>KC</td>\n",
       "      <td>0</td>\n",
       "      <td>...</td>\n",
       "      <td>1</td>\n",
       "      <td>1</td>\n",
       "      <td>3</td>\n",
       "      <td>5</td>\n",
       "      <td>1</td>\n",
       "      <td>0</td>\n",
       "      <td>2</td>\n",
       "      <td>3</td>\n",
       "      <td>6</td>\n",
       "      <td>0</td>\n",
       "    </tr>\n",
       "    <tr>\n",
       "      <th>3</th>\n",
       "      <td>2017090700</td>\n",
       "      <td>20170907000345</td>\n",
       "      <td>2017</td>\n",
       "      <td>2</td>\n",
       "      <td>1</td>\n",
       "      <td>NE</td>\n",
       "      <td>2</td>\n",
       "      <td>2</td>\n",
       "      <td>KC</td>\n",
       "      <td>0</td>\n",
       "      <td>...</td>\n",
       "      <td>2</td>\n",
       "      <td>2</td>\n",
       "      <td>0</td>\n",
       "      <td>6</td>\n",
       "      <td>1</td>\n",
       "      <td>0</td>\n",
       "      <td>4</td>\n",
       "      <td>4</td>\n",
       "      <td>3</td>\n",
       "      <td>0</td>\n",
       "    </tr>\n",
       "    <tr>\n",
       "      <th>4</th>\n",
       "      <td>2017090700</td>\n",
       "      <td>20170907000395</td>\n",
       "      <td>2017</td>\n",
       "      <td>25</td>\n",
       "      <td>1</td>\n",
       "      <td>KC</td>\n",
       "      <td>1</td>\n",
       "      <td>10</td>\n",
       "      <td>KC</td>\n",
       "      <td>7</td>\n",
       "      <td>...</td>\n",
       "      <td>1</td>\n",
       "      <td>3</td>\n",
       "      <td>1</td>\n",
       "      <td>5</td>\n",
       "      <td>1</td>\n",
       "      <td>0</td>\n",
       "      <td>3</td>\n",
       "      <td>2</td>\n",
       "      <td>6</td>\n",
       "      <td>0</td>\n",
       "    </tr>\n",
       "  </tbody>\n",
       "</table>\n",
       "<p>5 rows × 37 columns</p>\n",
       "</div>"
      ],
      "text/plain": [
       "       GameId          PlayId  Season  YardLine  Quarter PossessionTeam  Down  \\\n",
       "0  2017090700  20170907000118    2017        35        1             NE     3   \n",
       "1  2017090700  20170907000139    2017        43        1             NE     1   \n",
       "2  2017090700  20170907000189    2017        35        1             NE     1   \n",
       "3  2017090700  20170907000345    2017         2        1             NE     2   \n",
       "4  2017090700  20170907000395    2017        25        1             KC     1   \n",
       "\n",
       "   Distance FieldPosition  HomeScoreBeforePlay  ...  RB TE WR  OL QB DoO DL  \\\n",
       "0         2            NE                    0  ...   1  1  3   5  1   0  2   \n",
       "1        10            NE                    0  ...   1  1  3   5  1   0  2   \n",
       "2        10            KC                    0  ...   1  1  3   5  1   0  2   \n",
       "3         2            KC                    0  ...   2  2  0   6  1   0  4   \n",
       "4        10            KC                    7  ...   1  3  1   5  1   0  3   \n",
       "\n",
       "   LB DB OoD  \n",
       "0   3  6   0  \n",
       "1   3  6   0  \n",
       "2   3  6   0  \n",
       "3   4  3   0  \n",
       "4   2  6   0  \n",
       "\n",
       "[5 rows x 37 columns]"
      ]
     },
     "execution_count": 39,
     "metadata": {},
     "output_type": "execute_result"
    }
   ],
   "source": [
    "pbpData.head()"
   ]
  },
  {
   "cell_type": "code",
   "execution_count": 43,
   "metadata": {
    "ExecuteTime": {
     "end_time": "2020-07-03T19:15:46.621330Z",
     "start_time": "2020-07-03T19:15:46.567962Z"
    }
   },
   "outputs": [
    {
     "data": {
      "text/plain": [
       "(array(['AT&T Stadium', 'Arrowhead Stadium', 'Azteca Stadium',\n",
       "        'Bank of America Stadium', 'Broncos Stadium At Mile High',\n",
       "        'Broncos Stadium at Mile High', 'CenturyField', 'CenturyLink',\n",
       "        'CenturyLink Field', 'Dignity Health Sports Park',\n",
       "        'Empower Field at Mile High', 'Estadio Azteca', 'EverBank Field',\n",
       "        'Everbank Field', 'FedExField', 'FedexField',\n",
       "        'First Energy Stadium', 'FirstEnergy', 'FirstEnergy Stadium',\n",
       "        'FirstEnergyStadium', 'Ford Field', 'Gillette Stadium',\n",
       "        'Hard Rock Stadium', 'Heinz Field', 'Lambeau Field',\n",
       "        'Lambeau field', 'Levis Stadium', 'Lincoln Financial Field',\n",
       "        'Los Angeles Memorial Coliesum', 'Los Angeles Memorial Coliseum',\n",
       "        'Lucas Oil Stadium', 'M & T Bank Stadium', 'M&T Bank Stadium',\n",
       "        'M&T Stadium', 'Mercedes-Benz Dome', 'Mercedes-Benz Stadium',\n",
       "        'Mercedes-Benz Superdome', 'MetLife', 'MetLife Stadium',\n",
       "        'Metlife Stadium', 'NRG', 'NRG Stadium', 'New Era Field',\n",
       "        'Nissan Stadium', 'Oakland Alameda-County Coliseum',\n",
       "        'Oakland-Alameda County Coliseum', 'Paul Brown Stadium',\n",
       "        'Paul Brown Stdium', 'Raymond James Stadium', 'Soldier Field',\n",
       "        'Sports Authority Field at Mile High', 'State Farm Stadium',\n",
       "        'StubHub Center', 'TIAA Bank Field', 'Tottenham Hotspur',\n",
       "        'Tottenham Hotspur Stadium', 'Twickenham', 'Twickenham Stadium',\n",
       "        'U.S. Bank Stadium', 'University of Phoenix Stadium',\n",
       "        'Wembley Stadium'], dtype=object),\n",
       " array([ 961,  906,   40,  850,   45,  311,   56,   51,  862,  209,  230,\n",
       "          41,  186,  154,  927,   42,  160,  191,  522,   52,  919,  989,\n",
       "         913,  919,  930,   44, 1075,  909,   45,  848, 1010,   46,  575,\n",
       "         332,   38,  853,  937,  524, 1416,   38,  176,  764, 1037,  973,\n",
       "          39,  845,  947,   51,  821,  911,  386,  612,  661,  445,   39,\n",
       "          51,   43,   50,  977,  338,  289], dtype=int64))"
      ]
     },
     "execution_count": 43,
     "metadata": {},
     "output_type": "execute_result"
    }
   ],
   "source": [
    "np.unique(pbpData.Stadium, return_counts=True)"
   ]
  },
  {
   "cell_type": "code",
   "execution_count": 44,
   "metadata": {
    "ExecuteTime": {
     "end_time": "2020-07-04T13:31:52.615091Z",
     "start_time": "2020-07-04T13:31:52.537596Z"
    }
   },
   "outputs": [
    {
     "data": {
      "text/plain": [
       "(array(['Arlington, TX', 'Arlington, Texas', 'Atlanta, GA',\n",
       "        'Baltimore, MD', 'Baltimore, Maryland', 'Baltimore, Md.',\n",
       "        'Carson, CA', 'Charlotte North Carolina', 'Charlotte, NC',\n",
       "        'Charlotte, North Carolina', 'Chicago', 'Chicago, IL',\n",
       "        'Chicago. IL', 'Cincinnati, OH', 'Cincinnati, Ohio', 'Cleveland',\n",
       "        'Cleveland Ohio', 'Cleveland, OH', 'Cleveland, Ohio',\n",
       "        'Cleveland,Ohio', 'Denver CO', 'Denver, CO', 'Detroit',\n",
       "        'Detroit, MI', 'E. Rutherford, NJ', 'East Rutherford, N.J.',\n",
       "        'East Rutherford, NJ', 'Foxborough, MA', 'Foxborough, Ma',\n",
       "        'Glendale, AZ', 'Green Bay, WI', 'Houston, TX', 'Houston, Texas',\n",
       "        'Indianapolis, Ind.', 'Jacksonville Florida', 'Jacksonville, FL',\n",
       "        'Jacksonville, Fl', 'Jacksonville, Florida', 'Kansas City,  MO',\n",
       "        'Kansas City, MO', 'Landover, MD', 'London', 'London, England',\n",
       "        'Los Angeles, CA', 'Los Angeles, Calif.', 'Mexico City',\n",
       "        'Mexico City, Mexico', 'Miami Gardens, FL', 'Miami Gardens, FLA',\n",
       "        'Miami Gardens, Fla.', 'Minneapolis, MN', 'Nashville, TN',\n",
       "        'New Orleans', 'New Orleans, LA', 'New Orleans, La.',\n",
       "        'Oakland, CA', 'Orchard Park NY', 'Orchard Park, NY',\n",
       "        'Philadelphia, PA', 'Philadelphia, Pa.', 'Pittsburgh',\n",
       "        'Pittsburgh, PA', 'Santa Clara, CA', 'Santa Clara, CSA', 'Seattle',\n",
       "        'Seattle, WA', 'Tampa, FL'], dtype=object),\n",
       " array([  32,  929,  891,   83,   73,  797,  870,   47,  362,  441,   31,\n",
       "         843,   37,  347,  651,   47,   52,   38,  458,  330,  139,  833,\n",
       "         713,  206,   65,  124, 1789,  899,   90,  950,  974,  620,  320,\n",
       "        1010,   43,  619,   82,   41,   52,  854,  969,   43,  429,  141,\n",
       "         752,   41,   40,  138,  171,  604,  977,  973,   52,  539,  346,\n",
       "         884,  862,  175,  101,  808,  844,   75, 1025,   50,  240,  729,\n",
       "         821], dtype=int64))"
      ]
     },
     "execution_count": 44,
     "metadata": {},
     "output_type": "execute_result"
    }
   ],
   "source": [
    "np.unique(pbpData.Location, return_counts=True)"
   ]
  },
  {
   "cell_type": "code",
   "execution_count": null,
   "metadata": {},
   "outputs": [],
   "source": []
  }
 ],
 "metadata": {
  "kernelspec": {
   "display_name": "Python 3",
   "language": "python",
   "name": "python3"
  },
  "language_info": {
   "codemirror_mode": {
    "name": "ipython",
    "version": 3
   },
   "file_extension": ".py",
   "mimetype": "text/x-python",
   "name": "python",
   "nbconvert_exporter": "python",
   "pygments_lexer": "ipython3",
   "version": "3.8.2"
  },
  "toc": {
   "base_numbering": 1,
   "nav_menu": {},
   "number_sections": true,
   "sideBar": true,
   "skip_h1_title": true,
   "title_cell": "Table of Contents",
   "title_sidebar": "Contents",
   "toc_cell": true,
   "toc_position": {},
   "toc_section_display": true,
   "toc_window_display": false
  }
 },
 "nbformat": 4,
 "nbformat_minor": 4
}
