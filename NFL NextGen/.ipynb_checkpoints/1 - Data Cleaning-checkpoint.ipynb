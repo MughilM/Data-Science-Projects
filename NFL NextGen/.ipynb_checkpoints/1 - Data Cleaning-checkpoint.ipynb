{
 "cells": [
  {
   "cell_type": "markdown",
   "metadata": {
    "toc": true
   },
   "source": [
    "<h1>Table of Contents<span class=\"tocSkip\"></span></h1>\n",
    "<div class=\"toc\"><ul class=\"toc-item\"><li><span><a href=\"#Import-Packages\" data-toc-modified-id=\"Import-Packages-1\"><span class=\"toc-item-num\">1&nbsp;&nbsp;</span>Import Packages</a></span></li><li><span><a href=\"#Import-Data\" data-toc-modified-id=\"Import-Data-2\"><span class=\"toc-item-num\">2&nbsp;&nbsp;</span>Import Data</a></span></li><li><span><a href=\"#Missing-Data-and-Data-Types\" data-toc-modified-id=\"Missing-Data-and-Data-Types-3\"><span class=\"toc-item-num\">3&nbsp;&nbsp;</span>Missing Data and Data Types</a></span><ul class=\"toc-item\"><li><span><a href=\"#Checking-on-NaNs\" data-toc-modified-id=\"Checking-on-NaNs-3.1\"><span class=\"toc-item-num\">3.1&nbsp;&nbsp;</span>Checking on NaNs</a></span></li><li><span><a href=\"#Fixing-DataTypes\" data-toc-modified-id=\"Fixing-DataTypes-3.2\"><span class=\"toc-item-num\">3.2&nbsp;&nbsp;</span>Fixing DataTypes</a></span></li></ul></li></ul></div>"
   ]
  },
  {
   "cell_type": "markdown",
   "metadata": {},
   "source": [
    "# 2019 NFL Big Data Bowl - Part 1: Data Cleaning\n",
    "This set of notebooks will go through a past Kaggle competition known as the NFL Big Data Bowl. The data bowl this time focuses on **running plays**, and specifically, how far a running play will go. We've all watched the games on television, and during plays, once the running back gets the ball, we sometimes think \"Oh that play is going nowhere\" or \"That's a touchdown\". How are we making these decisions? Presumably, a standard armchair spectator is looking at the blocking that is taking place in the offensive line. These sorts of cues are what we hope to capture when we analyze the running plays. \n",
    "\n",
    "The notebooks will be arranged into parts that will take us through the various analyses that I perform. With any project, the data cleaning will always come first, to make sure the data can be effectively analyzed. This includes getting rid of duplicates, dropping missing data, splitting columns, and fixing data types. After this comes exploratory data analysis (EDA)."
   ]
  },
  {
   "cell_type": "markdown",
   "metadata": {},
   "source": [
    "## Import Packages\n",
    "This cell contains all the packages that we plan to use in this notebook. The `altair` package is a neat plotting package, similar to `matplotlib` and `plotly`."
   ]
  },
  {
   "cell_type": "code",
   "execution_count": 1,
   "metadata": {
    "ExecuteTime": {
     "end_time": "2020-06-12T15:41:07.568879Z",
     "start_time": "2020-06-12T15:41:03.118537Z"
    }
   },
   "outputs": [],
   "source": [
    "import numpy as np\n",
    "import pandas as pd\n",
    "import altair as alt"
   ]
  },
  {
   "cell_type": "markdown",
   "metadata": {},
   "source": [
    "## Import Data\n",
    "Our provided training data is in a file called train.csv. This has all the columns we would ever need."
   ]
  },
  {
   "cell_type": "code",
   "execution_count": 2,
   "metadata": {
    "ExecuteTime": {
     "end_time": "2020-06-12T15:42:08.972605Z",
     "start_time": "2020-06-12T15:42:05.803394Z"
    }
   },
   "outputs": [
    {
     "name": "stderr",
     "output_type": "stream",
     "text": [
      "C:\\Users\\mughi\\miniconda3\\envs\\NFL_BDB_19\\lib\\site-packages\\IPython\\core\\interactiveshell.py:3062: DtypeWarning: Columns (47) have mixed types.Specify dtype option on import or set low_memory=False.\n",
      "  has_raised = await self.run_ast_nodes(code_ast.body, cell_name,\n"
     ]
    },
    {
     "data": {
      "text/html": [
       "<div>\n",
       "<style scoped>\n",
       "    .dataframe tbody tr th:only-of-type {\n",
       "        vertical-align: middle;\n",
       "    }\n",
       "\n",
       "    .dataframe tbody tr th {\n",
       "        vertical-align: top;\n",
       "    }\n",
       "\n",
       "    .dataframe thead th {\n",
       "        text-align: right;\n",
       "    }\n",
       "</style>\n",
       "<table border=\"1\" class=\"dataframe\">\n",
       "  <thead>\n",
       "    <tr style=\"text-align: right;\">\n",
       "      <th></th>\n",
       "      <th>GameId</th>\n",
       "      <th>PlayId</th>\n",
       "      <th>Team</th>\n",
       "      <th>X</th>\n",
       "      <th>Y</th>\n",
       "      <th>S</th>\n",
       "      <th>A</th>\n",
       "      <th>Dis</th>\n",
       "      <th>Orientation</th>\n",
       "      <th>Dir</th>\n",
       "      <th>...</th>\n",
       "      <th>Week</th>\n",
       "      <th>Stadium</th>\n",
       "      <th>Location</th>\n",
       "      <th>StadiumType</th>\n",
       "      <th>Turf</th>\n",
       "      <th>GameWeather</th>\n",
       "      <th>Temperature</th>\n",
       "      <th>Humidity</th>\n",
       "      <th>WindSpeed</th>\n",
       "      <th>WindDirection</th>\n",
       "    </tr>\n",
       "  </thead>\n",
       "  <tbody>\n",
       "    <tr>\n",
       "      <th>0</th>\n",
       "      <td>2017090700</td>\n",
       "      <td>20170907000118</td>\n",
       "      <td>away</td>\n",
       "      <td>73.91</td>\n",
       "      <td>34.84</td>\n",
       "      <td>1.69</td>\n",
       "      <td>1.13</td>\n",
       "      <td>0.40</td>\n",
       "      <td>81.99</td>\n",
       "      <td>177.18</td>\n",
       "      <td>...</td>\n",
       "      <td>1</td>\n",
       "      <td>Gillette Stadium</td>\n",
       "      <td>Foxborough, MA</td>\n",
       "      <td>Outdoor</td>\n",
       "      <td>Field Turf</td>\n",
       "      <td>Clear and warm</td>\n",
       "      <td>63.0</td>\n",
       "      <td>77.0</td>\n",
       "      <td>8</td>\n",
       "      <td>SW</td>\n",
       "    </tr>\n",
       "    <tr>\n",
       "      <th>1</th>\n",
       "      <td>2017090700</td>\n",
       "      <td>20170907000118</td>\n",
       "      <td>away</td>\n",
       "      <td>74.67</td>\n",
       "      <td>32.64</td>\n",
       "      <td>0.42</td>\n",
       "      <td>1.35</td>\n",
       "      <td>0.01</td>\n",
       "      <td>27.61</td>\n",
       "      <td>198.70</td>\n",
       "      <td>...</td>\n",
       "      <td>1</td>\n",
       "      <td>Gillette Stadium</td>\n",
       "      <td>Foxborough, MA</td>\n",
       "      <td>Outdoor</td>\n",
       "      <td>Field Turf</td>\n",
       "      <td>Clear and warm</td>\n",
       "      <td>63.0</td>\n",
       "      <td>77.0</td>\n",
       "      <td>8</td>\n",
       "      <td>SW</td>\n",
       "    </tr>\n",
       "    <tr>\n",
       "      <th>2</th>\n",
       "      <td>2017090700</td>\n",
       "      <td>20170907000118</td>\n",
       "      <td>away</td>\n",
       "      <td>74.00</td>\n",
       "      <td>33.20</td>\n",
       "      <td>1.22</td>\n",
       "      <td>0.59</td>\n",
       "      <td>0.31</td>\n",
       "      <td>3.01</td>\n",
       "      <td>202.73</td>\n",
       "      <td>...</td>\n",
       "      <td>1</td>\n",
       "      <td>Gillette Stadium</td>\n",
       "      <td>Foxborough, MA</td>\n",
       "      <td>Outdoor</td>\n",
       "      <td>Field Turf</td>\n",
       "      <td>Clear and warm</td>\n",
       "      <td>63.0</td>\n",
       "      <td>77.0</td>\n",
       "      <td>8</td>\n",
       "      <td>SW</td>\n",
       "    </tr>\n",
       "    <tr>\n",
       "      <th>3</th>\n",
       "      <td>2017090700</td>\n",
       "      <td>20170907000118</td>\n",
       "      <td>away</td>\n",
       "      <td>71.46</td>\n",
       "      <td>27.70</td>\n",
       "      <td>0.42</td>\n",
       "      <td>0.54</td>\n",
       "      <td>0.02</td>\n",
       "      <td>359.77</td>\n",
       "      <td>105.64</td>\n",
       "      <td>...</td>\n",
       "      <td>1</td>\n",
       "      <td>Gillette Stadium</td>\n",
       "      <td>Foxborough, MA</td>\n",
       "      <td>Outdoor</td>\n",
       "      <td>Field Turf</td>\n",
       "      <td>Clear and warm</td>\n",
       "      <td>63.0</td>\n",
       "      <td>77.0</td>\n",
       "      <td>8</td>\n",
       "      <td>SW</td>\n",
       "    </tr>\n",
       "    <tr>\n",
       "      <th>4</th>\n",
       "      <td>2017090700</td>\n",
       "      <td>20170907000118</td>\n",
       "      <td>away</td>\n",
       "      <td>69.32</td>\n",
       "      <td>35.42</td>\n",
       "      <td>1.82</td>\n",
       "      <td>2.43</td>\n",
       "      <td>0.16</td>\n",
       "      <td>12.63</td>\n",
       "      <td>164.31</td>\n",
       "      <td>...</td>\n",
       "      <td>1</td>\n",
       "      <td>Gillette Stadium</td>\n",
       "      <td>Foxborough, MA</td>\n",
       "      <td>Outdoor</td>\n",
       "      <td>Field Turf</td>\n",
       "      <td>Clear and warm</td>\n",
       "      <td>63.0</td>\n",
       "      <td>77.0</td>\n",
       "      <td>8</td>\n",
       "      <td>SW</td>\n",
       "    </tr>\n",
       "  </tbody>\n",
       "</table>\n",
       "<p>5 rows × 49 columns</p>\n",
       "</div>"
      ],
      "text/plain": [
       "       GameId          PlayId  Team      X      Y     S     A   Dis  \\\n",
       "0  2017090700  20170907000118  away  73.91  34.84  1.69  1.13  0.40   \n",
       "1  2017090700  20170907000118  away  74.67  32.64  0.42  1.35  0.01   \n",
       "2  2017090700  20170907000118  away  74.00  33.20  1.22  0.59  0.31   \n",
       "3  2017090700  20170907000118  away  71.46  27.70  0.42  0.54  0.02   \n",
       "4  2017090700  20170907000118  away  69.32  35.42  1.82  2.43  0.16   \n",
       "\n",
       "   Orientation     Dir  ...  Week           Stadium        Location  \\\n",
       "0        81.99  177.18  ...     1  Gillette Stadium  Foxborough, MA   \n",
       "1        27.61  198.70  ...     1  Gillette Stadium  Foxborough, MA   \n",
       "2         3.01  202.73  ...     1  Gillette Stadium  Foxborough, MA   \n",
       "3       359.77  105.64  ...     1  Gillette Stadium  Foxborough, MA   \n",
       "4        12.63  164.31  ...     1  Gillette Stadium  Foxborough, MA   \n",
       "\n",
       "   StadiumType        Turf     GameWeather Temperature Humidity  WindSpeed  \\\n",
       "0      Outdoor  Field Turf  Clear and warm        63.0     77.0          8   \n",
       "1      Outdoor  Field Turf  Clear and warm        63.0     77.0          8   \n",
       "2      Outdoor  Field Turf  Clear and warm        63.0     77.0          8   \n",
       "3      Outdoor  Field Turf  Clear and warm        63.0     77.0          8   \n",
       "4      Outdoor  Field Turf  Clear and warm        63.0     77.0          8   \n",
       "\n",
       "   WindDirection  \n",
       "0             SW  \n",
       "1             SW  \n",
       "2             SW  \n",
       "3             SW  \n",
       "4             SW  \n",
       "\n",
       "[5 rows x 49 columns]"
      ]
     },
     "execution_count": 2,
     "metadata": {},
     "output_type": "execute_result"
    }
   ],
   "source": [
    "allData = pd.read_csv('./Data/train.csv')\n",
    "allData.head()"
   ]
  },
  {
   "cell_type": "code",
   "execution_count": 16,
   "metadata": {
    "ExecuteTime": {
     "end_time": "2020-06-12T16:26:16.910338Z",
     "start_time": "2020-06-12T16:26:16.907329Z"
    }
   },
   "outputs": [
    {
     "name": "stdout",
     "output_type": "stream",
     "text": [
      "Data Shape: (682154, 49)\n"
     ]
    }
   ],
   "source": [
    "print('Data Shape:', allData.shape)"
   ]
  },
  {
   "cell_type": "markdown",
   "metadata": {},
   "source": [
    "There are a ton of variables and observations here. The information some of the columns provide might overlap with others. Due to the sheer immense number, [here](https://www.kaggle.com/c/nfl-big-data-bowl-2020/data) is an external link to description of what each column is, and the reference values for the positional information."
   ]
  },
  {
   "cell_type": "markdown",
   "metadata": {},
   "source": [
    "## Missing Data and Data Types\n",
    "The first step in cleaning is to examine how much missing data we have. Depending on how important the column is, we can either drop any rows where that value is missing, or just simply drop the column if we are not going to use it. Because this came from a Kaggle competition, it's likely most of the values will already be present, but it doesn't hurt to double-check.\n",
    "\n",
    "As for data types, `pandas` usually assigns the most memory to the integer and float values i.e. `int64`. Depending on the use-case, this may not be needed. Furthermore, it's common to have some variables as categorical, such as the team or ID."
   ]
  },
  {
   "cell_type": "markdown",
   "metadata": {},
   "source": [
    "### Checking on NaNs\n",
    "To get a broad overview, we can count up the number of NaNs we have in each column, to see which ones are the biggest offenders."
   ]
  },
  {
   "cell_type": "code",
   "execution_count": 34,
   "metadata": {
    "ExecuteTime": {
     "end_time": "2020-06-12T19:12:36.093143Z",
     "start_time": "2020-06-12T19:12:34.519562Z"
    },
    "code_folding": [
     1
    ]
   },
   "outputs": [
    {
     "name": "stdout",
     "output_type": "stream",
     "text": [
      "GameId                \t0\tPlayId                \t0\tTeam                  \t0\tX                     \t0\n",
      "Y                     \t0\tS                     \t0\tA                     \t0\tDis                   \t0\n",
      "Orientation           \t23\tDir                   \t28\tNflId                 \t0\tDisplayName           \t0\n",
      "JerseyNumber          \t0\tSeason                \t0\tYardLine              \t0\tQuarter               \t0\n",
      "GameClock             \t0\tPossessionTeam        \t0\tDown                  \t0\tDistance              \t0\n",
      "FieldPosition         \t8602\tHomeScoreBeforePlay   \t0\tVisitorScoreBeforePlay\t0\tNflIdRusher           \t0\n",
      "OffenseFormation      \t88\tOffensePersonnel      \t0\tDefendersInTheBox     \t22\tDefensePersonnel      \t0\n",
      "PlayDirection         \t0\tTimeHandoff           \t0\tTimeSnap              \t0\tYards                 \t0\n",
      "PlayerHeight          \t0\tPlayerWeight          \t0\tPlayerBirthDate       \t0\tPlayerCollegeName     \t0\n",
      "Position              \t0\tHomeTeamAbbr          \t0\tVisitorTeamAbbr       \t0\tWeek                  \t0\n",
      "Stadium               \t0\tLocation              \t0\tStadiumType           \t41690\tTurf                  \t0\n",
      "GameWeather           \t60170\tTemperature           \t63646\tHumidity              \t6160\tWindSpeed             \t91872\n",
      "WindDirection         \t104676\t"
     ]
    }
   ],
   "source": [
    "nasums = allData.isna().sum()\n",
    "for i, (name, value) in enumerate(nasums.items()):\n",
    "    print('{:22}\\t{}'.format(name, value), end='')\n",
    "    if i % 4 == 3:\n",
    "        print()\n",
    "    else:\n",
    "        print('\\t', end='')"
   ]
  },
  {
   "cell_type": "markdown",
   "metadata": {},
   "source": [
    "Looking at the stats, the data is mostly clean on the key points. The biggest offenders are columns pertaining to the weather during the game. We can always use more reliable external sources to obtain what the weather was that day, so these are not important to the data itself.\n",
    "\n",
    "The **stadium type** tells us what the stadium environment is like. For example, is it outdoors/indoors, in a dome, have a retractable roof? The only place where this would effect our prediction, is if the stadium was outdoors, and it was raining pretty heavily, which would make players slip around (the 2011 \"Monsoon Bowl\" between the Jaguars and Panthers is a good example). However, this is a relative rarity that may happen 1 or 2 times a season, and so training in these specific conditions will not be productive. Additionally, we also have the stadium and turf type itself, so even if we were to include the weather, the model would ideally learn that in some stadiums the weather has no effect.\n",
    "\n",
    "The next variable is **field position**. This tells us which side of the field the possession team is on. I would say this is heavily important, especially since this determines the distance you are from the endzone. Additionally, the **yard line** is listed as a number between 0-50, so we would absolutely need the side to fully determine where the ball is. Therefore, we will remove all rows where we don't have the field position.\n",
    "\n",
    "The other columns with low amounts will also have their rows removed, as those as datapoins which are quite important with respect to the running game. For example, it's much easier to block with 3 tight ends instead of the base 1. Personnel packages also let defenses infer one way or the other.\n",
    "\n",
    "In conclusion, we will flat out **drop** the weather and stadium type columns, and **remove the rows** where the field position, offensive personnel, and orientation are absent."
   ]
  },
  {
   "cell_type": "code",
   "execution_count": 18,
   "metadata": {
    "ExecuteTime": {
     "end_time": "2020-06-12T19:03:21.193537Z",
     "start_time": "2020-06-12T19:03:18.513566Z"
    }
   },
   "outputs": [
    {
     "name": "stdout",
     "output_type": "stream",
     "text": [
      "Shape after dropping: (673432, 43)\n"
     ]
    }
   ],
   "source": [
    "colsToDrop = ['StadiumType', 'GameWeather', 'Temperature', 'Humidity',\n",
    "             'WindSpeed', 'WindDirection']\n",
    "# Delete the columns in colsToDrop\n",
    "# and the rows where there are NaNs\n",
    "cutDownData = allData.drop(columns=colsToDrop).dropna()\n",
    "print('Shape after dropping:', cutDownData.shape)"
   ]
  },
  {
   "cell_type": "markdown",
   "metadata": {},
   "source": [
    "Looks like we lost about 9000 records, which isn't too bad, considering we have over 670 thousand records in total."
   ]
  },
  {
   "cell_type": "markdown",
   "metadata": {},
   "source": [
    "### Fixing DataTypes\n",
    "Another thing we might need to fix are data type mismatches. For example, some of these columns are direct strings, such as the **Team** column. However, this column can only take one of two values, \"home\" or \"away\". Thus, it's better if we code this as a categorical variable. The same would be a true for a number of other categories. Additionally, the default number data type is 64 bit, of which none of our values are that precise, so we can also save a bit on memory."
   ]
  },
  {
   "cell_type": "code",
   "execution_count": 48,
   "metadata": {
    "ExecuteTime": {
     "end_time": "2020-06-12T20:24:40.883385Z",
     "start_time": "2020-06-12T20:24:37.937413Z"
    }
   },
   "outputs": [
    {
     "data": {
      "text/plain": [
       "GameId                    category\n",
       "PlayId                    category\n",
       "Team                      category\n",
       "X                          float32\n",
       "Y                          float32\n",
       "S                          float32\n",
       "A                          float32\n",
       "Dis                        float32\n",
       "Orientation                float32\n",
       "Dir                        float32\n",
       "NflId                     category\n",
       "DisplayName                 object\n",
       "JerseyNumber              category\n",
       "Season                       int32\n",
       "YardLine                     int32\n",
       "Quarter                      int32\n",
       "GameClock                   object\n",
       "PossessionTeam            category\n",
       "Down                         int32\n",
       "Distance                     int32\n",
       "FieldPosition             category\n",
       "HomeScoreBeforePlay          int32\n",
       "VisitorScoreBeforePlay       int32\n",
       "NflIdRusher               category\n",
       "OffenseFormation          category\n",
       "OffensePersonnel            object\n",
       "DefendersInTheBox            int32\n",
       "DefensePersonnel            object\n",
       "PlayDirection               object\n",
       "TimeHandoff                 object\n",
       "TimeSnap                    object\n",
       "Yards                        int32\n",
       "PlayerHeight                object\n",
       "PlayerWeight                 int32\n",
       "PlayerBirthDate             object\n",
       "PlayerCollegeName           object\n",
       "Position                  category\n",
       "HomeTeamAbbr              category\n",
       "VisitorTeamAbbr           category\n",
       "Week                         int32\n",
       "Stadium                   category\n",
       "Location                    object\n",
       "Turf                        object\n",
       "dtype: object"
      ]
     },
     "execution_count": 48,
     "metadata": {},
     "output_type": "execute_result"
    }
   ],
   "source": [
    "integerCols = ['Season', 'YardLine', 'Quarter', 'Down', 'Distance', \n",
    "               'HomeScoreBeforePlay', 'VisitorScoreBeforePlay', 'DefendersInTheBox',\n",
    "               'Yards', 'PlayerWeight', 'Week']\n",
    "floatCols = ['X', 'Y', 'S', 'A', 'Dis', 'Orientation', 'Dir']\n",
    "categoricalCols = ['GameId', 'PlayId', 'Team', 'NflId', 'JerseyNumber',\n",
    "                  'PossessionTeam', 'FieldPosition', 'NflIdRusher',\n",
    "                  'OffenseFormation', 'Position', 'HomeTeamAbbr',\n",
    "                  'VisitorTeamAbbr', 'Stadium']\n",
    "cutDownData[integerCols] = cutDownData[integerCols].astype('int32')\n",
    "cutDownData[floatCols] = cutDownData[floatCols].astype('float32')\n",
    "cutDownData[categoricalCols] = cutDownData[categoricalCols].astype('category')\n",
    "cutDownData.dtypes"
   ]
  },
  {
   "cell_type": "markdown",
   "metadata": {},
   "source": [
    "We've taken care of all the data types that we could assign directly to the data. For the other columns, there needs to be some data munging and extraction to get them into a form that we can work with."
   ]
  }
 ],
 "metadata": {
  "kernelspec": {
   "display_name": "Python 3",
   "language": "python",
   "name": "python3"
  },
  "language_info": {
   "codemirror_mode": {
    "name": "ipython",
    "version": 3
   },
   "file_extension": ".py",
   "mimetype": "text/x-python",
   "name": "python",
   "nbconvert_exporter": "python",
   "pygments_lexer": "ipython3",
   "version": "3.8.2"
  },
  "toc": {
   "base_numbering": 1,
   "nav_menu": {},
   "number_sections": true,
   "sideBar": true,
   "skip_h1_title": true,
   "title_cell": "Table of Contents",
   "title_sidebar": "Contents",
   "toc_cell": true,
   "toc_position": {},
   "toc_section_display": true,
   "toc_window_display": false
  }
 },
 "nbformat": 4,
 "nbformat_minor": 4
}
