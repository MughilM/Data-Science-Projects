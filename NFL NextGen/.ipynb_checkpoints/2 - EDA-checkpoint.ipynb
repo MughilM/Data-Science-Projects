{
 "cells": [
  {
   "cell_type": "markdown",
   "metadata": {
    "toc": true
   },
   "source": [
    "<h1>Table of Contents<span class=\"tocSkip\"></span></h1>\n",
    "<div class=\"toc\"><ul class=\"toc-item\"><li><span><a href=\"#Import-Packages\" data-toc-modified-id=\"Import-Packages-1\"><span class=\"toc-item-num\">1&nbsp;&nbsp;</span>Import Packages</a></span></li><li><span><a href=\"#Read-in-Data\" data-toc-modified-id=\"Read-in-Data-2\"><span class=\"toc-item-num\">2&nbsp;&nbsp;</span>Read in Data</a></span></li><li><span><a href=\"#Physical-Characteristics\" data-toc-modified-id=\"Physical-Characteristics-3\"><span class=\"toc-item-num\">3&nbsp;&nbsp;</span>Physical Characteristics</a></span><ul class=\"toc-item\"><li><span><a href=\"#Weight\" data-toc-modified-id=\"Weight-3.1\"><span class=\"toc-item-num\">3.1&nbsp;&nbsp;</span>Weight</a></span></li><li><span><a href=\"#Height\" data-toc-modified-id=\"Height-3.2\"><span class=\"toc-item-num\">3.2&nbsp;&nbsp;</span>Height</a></span></li></ul></li><li><span><a href=\"#Yards\" data-toc-modified-id=\"Yards-4\"><span class=\"toc-item-num\">4&nbsp;&nbsp;</span>Yards</a></span><ul class=\"toc-item\"><li><span><a href=\"#Location-on-the-Field\" data-toc-modified-id=\"Location-on-the-Field-4.1\"><span class=\"toc-item-num\">4.1&nbsp;&nbsp;</span>Location on the Field</a></span></li><li><span><a href=\"#Distance-to-First-Down\" data-toc-modified-id=\"Distance-to-First-Down-4.2\"><span class=\"toc-item-num\">4.2&nbsp;&nbsp;</span>Distance to First Down</a></span></li></ul></li><li><span><a href=\"#The-Success-of-a-Play\" data-toc-modified-id=\"The-Success-of-a-Play-5\"><span class=\"toc-item-num\">5&nbsp;&nbsp;</span>The Success of a Play</a></span></li><li><span><a href=\"#Offensive-Line\" data-toc-modified-id=\"Offensive-Line-6\"><span class=\"toc-item-num\">6&nbsp;&nbsp;</span>Offensive Line</a></span><ul class=\"toc-item\"><li><span><a href=\"#OL-Weight\" data-toc-modified-id=\"OL-Weight-6.1\"><span class=\"toc-item-num\">6.1&nbsp;&nbsp;</span>OL Weight</a></span></li><li><span><a href=\"#OL-Velocities\" data-toc-modified-id=\"OL-Velocities-6.2\"><span class=\"toc-item-num\">6.2&nbsp;&nbsp;</span>OL Velocities</a></span></li></ul></li></ul></div>"
   ]
  },
  {
   "cell_type": "markdown",
   "metadata": {},
   "source": [
    "# 2019 NFL Big Data Bowl - Part 2: Exploratory Data Analysis\n",
    "This is the second notebook in a series where I partake in the 2019 Big Data Bowl competition on Kaggle. The first notebook dealt with cleaning the datasets to produce 3 different files:\n",
    "\n",
    "- Each player's physical characteristics (height, weight, etc.)\n",
    "- Each player's positions and speeds on each play\n",
    "- Each play's properties (down, distance, yards rushed, etc.)\n",
    "\n",
    "We'll be examining each of these files in order to get a deeper understanding of the data. In the end, the goal of exploratory data analysis is to show information that could be useful when completing the task at hand. In this case, we are ultimately trying to predict how many yards a given rushing play will go for, based on information at the time of handoff."
   ]
  },
  {
   "cell_type": "markdown",
   "metadata": {},
   "source": [
    "## Import Packages\n",
    "For plotting all of our graphs, I'll be using a package called `altair`. It is an interesting package. "
   ]
  },
  {
   "cell_type": "code",
   "execution_count": 1,
   "metadata": {
    "ExecuteTime": {
     "end_time": "2020-07-26T15:58:28.936314Z",
     "start_time": "2020-07-26T15:58:28.004144Z"
    }
   },
   "outputs": [],
   "source": [
    "import numpy as np\n",
    "import pandas as pd\n",
    "import altair\n",
    "\n",
    "import os\n",
    "# To disable the max rows option\n",
    "# altair.data_transformers.disable_max_rows()"
   ]
  },
  {
   "cell_type": "markdown",
   "metadata": {},
   "source": [
    "## Read in Data\n",
    "As stated before, we have 3 files we need to read in. We also set the data types as a dictionary we pass into each `read_csv` call."
   ]
  },
  {
   "cell_type": "code",
   "execution_count": 2,
   "metadata": {
    "ExecuteTime": {
     "end_time": "2020-07-26T15:58:31.161515Z",
     "start_time": "2020-07-26T15:58:30.069987Z"
    }
   },
   "outputs": [],
   "source": [
    "# Player characteristics\n",
    "pcdt = {\n",
    "    'NflId': 'category',\n",
    "    'DisplayName': 'str',\n",
    "    'PlayerHeight': 'float32',\n",
    "    'PlayerWeight': 'int',\n",
    "    'PlayerCollegeName': 'str',\n",
    "    'Position': 'category'\n",
    "}\n",
    "playerChara = pd.read_csv('./Data/playerData.csv', parse_dates=[4],\n",
    "                         dtype=pcdt)\n",
    "# Player positions\n",
    "ppdt = {\n",
    "    'GameId': 'category',\n",
    "    'PlayId': 'category',\n",
    "    'Team': 'str',\n",
    "    'NflId': 'category'\n",
    "}\n",
    "playerPos = pd.read_csv('./Data/playerPositions.csv', dtype=ppdt)\n",
    "# Play by play\n",
    "# More columns here...\n",
    "# Reason is none of our integer columns needs 64-bit precision...\n",
    "# Use less memory if we can...\n",
    "integerCols = ['Season', 'YardLine', 'Quarter', 'Down', 'Distance', 'HomeScoreBeforePlay', \n",
    "              'VisitorScoreBeforePlay', 'DefendersInTheBox', 'Yards', 'Week',\n",
    "              'GameClockMinute', 'GameClockSecond', 'Half', 'RB', 'TE',\n",
    "              'WR', 'OL', 'QB', 'DoO', 'DL', 'LB', 'DB', 'OoD']\n",
    "catCols = ['GameId', 'PlayId', 'PossessionTeam', 'FieldPosition', 'NflIdRusher',\n",
    "          'OffenseFormation', 'PlayDirection', 'HomeTeamAbbr', 'VisitorTeamAbbr',\n",
    "          'Stadium', 'Location', 'Turf']\n",
    "pbpdt = {}\n",
    "for col in integerCols:\n",
    "    pbpdt[col] = 'int32'\n",
    "for col in catCols:\n",
    "    pbpdt[col] = 'category'\n",
    "pbpData = pd.read_csv('./Data/playByPlayData.csv', parse_dates=[15, 16], dtype=pbpdt)"
   ]
  },
  {
   "cell_type": "markdown",
   "metadata": {},
   "source": [
    "## Physical Characteristics\n",
    "For starters, we can examine how a player's physical characteristics affect the yards gained on a play."
   ]
  },
  {
   "cell_type": "markdown",
   "metadata": {},
   "source": [
    "### Weight\n",
    "For starters, we can look at something simple. For example, how do the weight and height of the players affect how many yards they go for? Running backs are typically on the shorter side, but then we have someone like Derrick Henry who just plows through people. The plotting package has a maximum limit of 5000 rows. Therefore, we can't simply plot every single play (there are ~30k of them). \n",
    "\n",
    "Since we are primarily concerned about the weights of players, we can put each player into a weight class and plot their average yards per rush for each rush. This way, we are not unnecessarily throwing out plays either."
   ]
  },
  {
   "cell_type": "code",
   "execution_count": 3,
   "metadata": {
    "ExecuteTime": {
     "end_time": "2020-07-26T15:58:31.902909Z",
     "start_time": "2020-07-26T15:58:31.894943Z"
    }
   },
   "outputs": [],
   "source": [
    "# See if the JSON already exists for plotting...\n",
    "WR_JSON = './Altair JSONs/weightsAndRushes.json'\n",
    "if not os.path.exists(WR_JSON):\n",
    "    # Grab yards and the rusher...\n",
    "    rushes = pbpData[['NflIdRusher', 'Yards']]\n",
    "    # Left join it with the weight information...\n",
    "    weightsAndRushes = pd.merge(rushes, playerChara[['NflId', 'PlayerWeight', 'Position']], how='left', \n",
    "             left_on='NflIdRusher', right_on='NflId')\n",
    "    # We only need the weight and yards...\n",
    "    weightsAndRushes.drop(columns=['NflIdRusher', 'NflId'], inplace=True)\n",
    "    weightsAndRushes.to_json(WR_JSON, orient='records')\n",
    "    weightsAndRushes.head()"
   ]
  },
  {
   "cell_type": "code",
   "execution_count": 4,
   "metadata": {
    "ExecuteTime": {
     "end_time": "2020-07-26T15:58:32.194474Z",
     "start_time": "2020-07-26T15:58:32.158642Z"
    }
   },
   "outputs": [
    {
     "data": {
      "text/html": [
       "\n",
       "<div id=\"altair-viz-a4a698700f7c4d82ab3bb89aae161739\"></div>\n",
       "<script type=\"text/javascript\">\n",
       "  (function(spec, embedOpt){\n",
       "    let outputDiv = document.currentScript.previousElementSibling;\n",
       "    if (outputDiv.id !== \"altair-viz-a4a698700f7c4d82ab3bb89aae161739\") {\n",
       "      outputDiv = document.getElementById(\"altair-viz-a4a698700f7c4d82ab3bb89aae161739\");\n",
       "    }\n",
       "    const paths = {\n",
       "      \"vega\": \"https://cdn.jsdelivr.net/npm//vega@5?noext\",\n",
       "      \"vega-lib\": \"https://cdn.jsdelivr.net/npm//vega-lib?noext\",\n",
       "      \"vega-lite\": \"https://cdn.jsdelivr.net/npm//vega-lite@4.8.1?noext\",\n",
       "      \"vega-embed\": \"https://cdn.jsdelivr.net/npm//vega-embed@6?noext\",\n",
       "    };\n",
       "\n",
       "    function loadScript(lib) {\n",
       "      return new Promise(function(resolve, reject) {\n",
       "        var s = document.createElement('script');\n",
       "        s.src = paths[lib];\n",
       "        s.async = true;\n",
       "        s.onload = () => resolve(paths[lib]);\n",
       "        s.onerror = () => reject(`Error loading script: ${paths[lib]}`);\n",
       "        document.getElementsByTagName(\"head\")[0].appendChild(s);\n",
       "      });\n",
       "    }\n",
       "\n",
       "    function showError(err) {\n",
       "      outputDiv.innerHTML = `<div class=\"error\" style=\"color:red;\">${err}</div>`;\n",
       "      throw err;\n",
       "    }\n",
       "\n",
       "    function displayChart(vegaEmbed) {\n",
       "      vegaEmbed(outputDiv, spec, embedOpt)\n",
       "        .catch(err => showError(`Javascript Error: ${err.message}<br>This usually means there's a typo in your chart specification. See the javascript console for the full traceback.`));\n",
       "    }\n",
       "\n",
       "    if(typeof define === \"function\" && define.amd) {\n",
       "      requirejs.config({paths});\n",
       "      require([\"vega-embed\"], displayChart, err => showError(`Error loading script: ${err.message}`));\n",
       "    } else if (typeof vegaEmbed === \"function\") {\n",
       "      displayChart(vegaEmbed);\n",
       "    } else {\n",
       "      loadScript(\"vega\")\n",
       "        .then(() => loadScript(\"vega-lite\"))\n",
       "        .then(() => loadScript(\"vega-embed\"))\n",
       "        .catch(showError)\n",
       "        .then(() => displayChart(vegaEmbed));\n",
       "    }\n",
       "  })({\"config\": {\"view\": {\"continuousWidth\": 400, \"continuousHeight\": 300}}, \"data\": {\"url\": \"./Altair JSONs/weightsAndRushes.json\"}, \"mark\": {\"type\": \"point\", \"clip\": true}, \"encoding\": {\"color\": {\"type\": \"nominal\", \"field\": \"Position\"}, \"x\": {\"type\": \"quantitative\", \"axis\": {\"title\": \"Weight\"}, \"field\": \"PlayerWeight\", \"scale\": {\"zero\": false}}, \"y\": {\"type\": \"quantitative\", \"field\": \"Yards\"}}, \"height\": 350, \"width\": 800, \"$schema\": \"https://vega.github.io/schema/vega-lite/v4.8.1.json\"}, {\"mode\": \"vega-lite\"});\n",
       "</script>"
      ],
      "text/plain": [
       "alt.Chart(...)"
      ]
     },
     "execution_count": 4,
     "metadata": {},
     "output_type": "execute_result"
    }
   ],
   "source": [
    "altair.Chart(WR_JSON).mark_point(clip=True).encode(\n",
    "    altair.X('PlayerWeight:Q',\n",
    "             axis=altair.Axis(title='Weight'),\n",
    "             scale=altair.Scale(zero=False)),\n",
    "    y='Yards:Q',\n",
    "    color='Position:N'\n",
    ").properties(\n",
    "    width=800, \n",
    "    height=350\n",
    ")"
   ]
  },
  {
   "cell_type": "markdown",
   "metadata": {},
   "source": [
    "As expected, we can see clear demarcations with respect to the positions. The pinks are all running backs, while the lighter individuals are wide receivers. Past 250 lbs are a mixture of tight ends and offensive linemen for those one-off plays. Next, we'll look at height..."
   ]
  },
  {
   "cell_type": "markdown",
   "metadata": {},
   "source": [
    "### Height\n",
    "Same code as above."
   ]
  },
  {
   "cell_type": "code",
   "execution_count": 5,
   "metadata": {
    "ExecuteTime": {
     "end_time": "2020-07-26T15:58:34.831023Z",
     "start_time": "2020-07-26T15:58:34.794144Z"
    }
   },
   "outputs": [
    {
     "data": {
      "text/html": [
       "\n",
       "<div id=\"altair-viz-487f047c3d1241f1add44c5526368509\"></div>\n",
       "<script type=\"text/javascript\">\n",
       "  (function(spec, embedOpt){\n",
       "    let outputDiv = document.currentScript.previousElementSibling;\n",
       "    if (outputDiv.id !== \"altair-viz-487f047c3d1241f1add44c5526368509\") {\n",
       "      outputDiv = document.getElementById(\"altair-viz-487f047c3d1241f1add44c5526368509\");\n",
       "    }\n",
       "    const paths = {\n",
       "      \"vega\": \"https://cdn.jsdelivr.net/npm//vega@5?noext\",\n",
       "      \"vega-lib\": \"https://cdn.jsdelivr.net/npm//vega-lib?noext\",\n",
       "      \"vega-lite\": \"https://cdn.jsdelivr.net/npm//vega-lite@4.8.1?noext\",\n",
       "      \"vega-embed\": \"https://cdn.jsdelivr.net/npm//vega-embed@6?noext\",\n",
       "    };\n",
       "\n",
       "    function loadScript(lib) {\n",
       "      return new Promise(function(resolve, reject) {\n",
       "        var s = document.createElement('script');\n",
       "        s.src = paths[lib];\n",
       "        s.async = true;\n",
       "        s.onload = () => resolve(paths[lib]);\n",
       "        s.onerror = () => reject(`Error loading script: ${paths[lib]}`);\n",
       "        document.getElementsByTagName(\"head\")[0].appendChild(s);\n",
       "      });\n",
       "    }\n",
       "\n",
       "    function showError(err) {\n",
       "      outputDiv.innerHTML = `<div class=\"error\" style=\"color:red;\">${err}</div>`;\n",
       "      throw err;\n",
       "    }\n",
       "\n",
       "    function displayChart(vegaEmbed) {\n",
       "      vegaEmbed(outputDiv, spec, embedOpt)\n",
       "        .catch(err => showError(`Javascript Error: ${err.message}<br>This usually means there's a typo in your chart specification. See the javascript console for the full traceback.`));\n",
       "    }\n",
       "\n",
       "    if(typeof define === \"function\" && define.amd) {\n",
       "      requirejs.config({paths});\n",
       "      require([\"vega-embed\"], displayChart, err => showError(`Error loading script: ${err.message}`));\n",
       "    } else if (typeof vegaEmbed === \"function\") {\n",
       "      displayChart(vegaEmbed);\n",
       "    } else {\n",
       "      loadScript(\"vega\")\n",
       "        .then(() => loadScript(\"vega-lite\"))\n",
       "        .then(() => loadScript(\"vega-embed\"))\n",
       "        .catch(showError)\n",
       "        .then(() => displayChart(vegaEmbed));\n",
       "    }\n",
       "  })({\"config\": {\"view\": {\"continuousWidth\": 400, \"continuousHeight\": 300}}, \"data\": {\"url\": \"./Altair JSONs/heightsAndRushes.json\"}, \"mark\": {\"type\": \"point\", \"clip\": true}, \"encoding\": {\"color\": {\"type\": \"nominal\", \"field\": \"Position\"}, \"x\": {\"type\": \"quantitative\", \"axis\": {\"title\": \"Height\"}, \"field\": \"PlayerHeight\", \"scale\": {\"zero\": false}}, \"y\": {\"type\": \"quantitative\", \"field\": \"Yards\"}}, \"height\": 350, \"width\": 800, \"$schema\": \"https://vega.github.io/schema/vega-lite/v4.8.1.json\"}, {\"mode\": \"vega-lite\"});\n",
       "</script>"
      ],
      "text/plain": [
       "alt.Chart(...)"
      ]
     },
     "execution_count": 5,
     "metadata": {},
     "output_type": "execute_result"
    }
   ],
   "source": [
    "HR_JSON = './Altair JSONs/heightsAndRushes.json'\n",
    "if not os.path.exists(HR_JSON):\n",
    "    # Grab yards and the rusher...\n",
    "    rushes = pbpData[['NflIdRusher', 'Yards']]\n",
    "    # Left join it with the weight information...\n",
    "    heightsAndRushes = pd.merge(rushes, playerChara[['NflId', 'PlayerHeight', 'Position']], how='left', \n",
    "             left_on='NflIdRusher', right_on='NflId')\n",
    "    # We only need the weight and yards...\n",
    "    heightsAndRushes.drop(columns=['NflIdRusher', 'NflId'], inplace=True)\n",
    "    heightsAndRushes.to_json(HR_JSON, orient='records')\n",
    "\n",
    "altair.Chart(HR_JSON).mark_point(clip=True).encode(\n",
    "    altair.X('PlayerHeight:Q',\n",
    "             axis=altair.Axis(title='Height'),\n",
    "             scale=altair.Scale(zero=False)),\n",
    "    y='Yards:Q',\n",
    "    color='Position:N'\n",
    ").properties(\n",
    "    width=800, \n",
    "    height=350\n",
    ")"
   ]
  },
  {
   "cell_type": "markdown",
   "metadata": {},
   "source": [
    "The reason we get the lines is because heights are always quoted by the inch. There's a healthy bell curve of heights by running backs, though it appears there's a hard drop off after 6 foot 3 inches, which are occupied by tight ends and wide receivers. Just like the weights graph, the dots gets sparse as the yards increases. Why don't we examine the distribution of the yards gained a bit more."
   ]
  },
  {
   "cell_type": "markdown",
   "metadata": {},
   "source": [
    "## Yards\n",
    "We can't just blindly graph yards, because the yards gained on a play is directly related to where you are on the field. For example, it's impossible to gain 75 yards when you are at midfield. At the very least, we should expect the yards to drop as you approach the ends of the field. Additionally, another variable that affects the yards gained is the down and distance the team is at. Who cares about calling a 50-yard run when you need to gain 2 yards just to keep the ball. Thus, we'll create two graphs here..."
   ]
  },
  {
   "cell_type": "markdown",
   "metadata": {},
   "source": [
    "### Location on the Field\n",
    "To plot the location on the field, we can use the yard line of where the ball is. The problem is..."
   ]
  },
  {
   "cell_type": "code",
   "execution_count": 6,
   "metadata": {
    "ExecuteTime": {
     "end_time": "2020-07-26T15:58:36.834450Z",
     "start_time": "2020-07-26T15:58:36.817507Z"
    }
   },
   "outputs": [
    {
     "data": {
      "text/plain": [
       "count    30611.000000\n",
       "mean        28.058312\n",
       "std         12.915614\n",
       "min          1.000000\n",
       "25%         19.000000\n",
       "50%         28.000000\n",
       "75%         39.000000\n",
       "max         49.000000\n",
       "Name: YardLine, dtype: float64"
      ]
     },
     "execution_count": 6,
     "metadata": {},
     "output_type": "execute_result"
    }
   ],
   "source": [
    "pbpData.YardLine.describe()"
   ]
  },
  {
   "cell_type": "markdown",
   "metadata": {},
   "source": [
    "Notice the range is from 1 to 49, which means we also need to know which side the team is on. Otherwise, there is no way to figure out if the team is on the OWN 3-yard line or the opponent's, for example. **In our data, the yardline has actually been mirrored if the possession team is in their opponent's territory! This is also how it's reported during play by play. NE being on the KC 2-yardline means they are 2 yards away from scoring. However, them being on the NE 2-yardline means they have 98 yards to go. We have to take this into account!**"
   ]
  },
  {
   "cell_type": "code",
   "execution_count": 7,
   "metadata": {
    "ExecuteTime": {
     "end_time": "2020-07-26T15:58:37.503259Z",
     "start_time": "2020-07-26T15:58:37.458398Z"
    }
   },
   "outputs": [
    {
     "data": {
      "text/html": [
       "<div>\n",
       "<style scoped>\n",
       "    .dataframe tbody tr th:only-of-type {\n",
       "        vertical-align: middle;\n",
       "    }\n",
       "\n",
       "    .dataframe tbody tr th {\n",
       "        vertical-align: top;\n",
       "    }\n",
       "\n",
       "    .dataframe thead th {\n",
       "        text-align: right;\n",
       "    }\n",
       "</style>\n",
       "<table border=\"1\" class=\"dataframe\">\n",
       "  <thead>\n",
       "    <tr style=\"text-align: right;\">\n",
       "      <th></th>\n",
       "      <th>GameId</th>\n",
       "      <th>PlayId</th>\n",
       "      <th>Season</th>\n",
       "      <th>YardLine</th>\n",
       "      <th>YardLine100</th>\n",
       "      <th>Quarter</th>\n",
       "      <th>PossessionTeam</th>\n",
       "      <th>Down</th>\n",
       "      <th>Distance</th>\n",
       "      <th>FieldPosition</th>\n",
       "      <th>...</th>\n",
       "      <th>TE</th>\n",
       "      <th>WR</th>\n",
       "      <th>OL</th>\n",
       "      <th>QB</th>\n",
       "      <th>DoO</th>\n",
       "      <th>DL</th>\n",
       "      <th>LB</th>\n",
       "      <th>DB</th>\n",
       "      <th>OoD</th>\n",
       "      <th>State</th>\n",
       "    </tr>\n",
       "  </thead>\n",
       "  <tbody>\n",
       "    <tr>\n",
       "      <th>0</th>\n",
       "      <td>2017090700</td>\n",
       "      <td>20170907000118</td>\n",
       "      <td>2017</td>\n",
       "      <td>35</td>\n",
       "      <td>35</td>\n",
       "      <td>1</td>\n",
       "      <td>NE</td>\n",
       "      <td>3</td>\n",
       "      <td>2</td>\n",
       "      <td>NE</td>\n",
       "      <td>...</td>\n",
       "      <td>1</td>\n",
       "      <td>3</td>\n",
       "      <td>5</td>\n",
       "      <td>1</td>\n",
       "      <td>0</td>\n",
       "      <td>2</td>\n",
       "      <td>3</td>\n",
       "      <td>6</td>\n",
       "      <td>0</td>\n",
       "      <td>MA</td>\n",
       "    </tr>\n",
       "    <tr>\n",
       "      <th>1</th>\n",
       "      <td>2017090700</td>\n",
       "      <td>20170907000139</td>\n",
       "      <td>2017</td>\n",
       "      <td>43</td>\n",
       "      <td>43</td>\n",
       "      <td>1</td>\n",
       "      <td>NE</td>\n",
       "      <td>1</td>\n",
       "      <td>10</td>\n",
       "      <td>NE</td>\n",
       "      <td>...</td>\n",
       "      <td>1</td>\n",
       "      <td>3</td>\n",
       "      <td>5</td>\n",
       "      <td>1</td>\n",
       "      <td>0</td>\n",
       "      <td>2</td>\n",
       "      <td>3</td>\n",
       "      <td>6</td>\n",
       "      <td>0</td>\n",
       "      <td>MA</td>\n",
       "    </tr>\n",
       "    <tr>\n",
       "      <th>2</th>\n",
       "      <td>2017090700</td>\n",
       "      <td>20170907000189</td>\n",
       "      <td>2017</td>\n",
       "      <td>35</td>\n",
       "      <td>65</td>\n",
       "      <td>1</td>\n",
       "      <td>NE</td>\n",
       "      <td>1</td>\n",
       "      <td>10</td>\n",
       "      <td>KC</td>\n",
       "      <td>...</td>\n",
       "      <td>1</td>\n",
       "      <td>3</td>\n",
       "      <td>5</td>\n",
       "      <td>1</td>\n",
       "      <td>0</td>\n",
       "      <td>2</td>\n",
       "      <td>3</td>\n",
       "      <td>6</td>\n",
       "      <td>0</td>\n",
       "      <td>MA</td>\n",
       "    </tr>\n",
       "    <tr>\n",
       "      <th>3</th>\n",
       "      <td>2017090700</td>\n",
       "      <td>20170907000345</td>\n",
       "      <td>2017</td>\n",
       "      <td>2</td>\n",
       "      <td>98</td>\n",
       "      <td>1</td>\n",
       "      <td>NE</td>\n",
       "      <td>2</td>\n",
       "      <td>2</td>\n",
       "      <td>KC</td>\n",
       "      <td>...</td>\n",
       "      <td>2</td>\n",
       "      <td>0</td>\n",
       "      <td>6</td>\n",
       "      <td>1</td>\n",
       "      <td>0</td>\n",
       "      <td>4</td>\n",
       "      <td>4</td>\n",
       "      <td>3</td>\n",
       "      <td>0</td>\n",
       "      <td>MA</td>\n",
       "    </tr>\n",
       "    <tr>\n",
       "      <th>4</th>\n",
       "      <td>2017090700</td>\n",
       "      <td>20170907000395</td>\n",
       "      <td>2017</td>\n",
       "      <td>25</td>\n",
       "      <td>25</td>\n",
       "      <td>1</td>\n",
       "      <td>KC</td>\n",
       "      <td>1</td>\n",
       "      <td>10</td>\n",
       "      <td>KC</td>\n",
       "      <td>...</td>\n",
       "      <td>3</td>\n",
       "      <td>1</td>\n",
       "      <td>5</td>\n",
       "      <td>1</td>\n",
       "      <td>0</td>\n",
       "      <td>3</td>\n",
       "      <td>2</td>\n",
       "      <td>6</td>\n",
       "      <td>0</td>\n",
       "      <td>MA</td>\n",
       "    </tr>\n",
       "  </tbody>\n",
       "</table>\n",
       "<p>5 rows × 39 columns</p>\n",
       "</div>"
      ],
      "text/plain": [
       "       GameId          PlayId  Season  YardLine  YardLine100  Quarter  \\\n",
       "0  2017090700  20170907000118    2017        35           35        1   \n",
       "1  2017090700  20170907000139    2017        43           43        1   \n",
       "2  2017090700  20170907000189    2017        35           65        1   \n",
       "3  2017090700  20170907000345    2017         2           98        1   \n",
       "4  2017090700  20170907000395    2017        25           25        1   \n",
       "\n",
       "  PossessionTeam  Down  Distance FieldPosition  ...  TE  WR OL QB  DoO DL LB  \\\n",
       "0             NE     3         2            NE  ...   1   3  5  1    0  2  3   \n",
       "1             NE     1        10            NE  ...   1   3  5  1    0  2  3   \n",
       "2             NE     1        10            KC  ...   1   3  5  1    0  2  3   \n",
       "3             NE     2         2            KC  ...   2   0  6  1    0  4  4   \n",
       "4             KC     1        10            KC  ...   3   1  5  1    0  3  2   \n",
       "\n",
       "  DB  OoD State  \n",
       "0  6    0    MA  \n",
       "1  6    0    MA  \n",
       "2  6    0    MA  \n",
       "3  3    0    MA  \n",
       "4  6    0    MA  \n",
       "\n",
       "[5 rows x 39 columns]"
      ]
     },
     "execution_count": 7,
     "metadata": {},
     "output_type": "execute_result"
    }
   ],
   "source": [
    "# If the possession team is different than the\n",
    "# field position, then we are on the opponent's side of the field...\n",
    "if 'YardLine100' not in pbpData.columns:\n",
    "    pbpData.insert(4, 'YardLine100', pbpData.YardLine.to_list())\n",
    "    locs = pbpData.PossessionTeam != pbpData.FieldPosition\n",
    "    pbpData.loc[locs, 'YardLine100'] = 100 - pbpData.loc[locs, 'YardLine100']\n",
    "pbpData.head()"
   ]
  },
  {
   "cell_type": "markdown",
   "metadata": {},
   "source": [
    "Notice the 3rd and 4th rows where the Patriots are on the Chiefs' side of the field. Now we can plot this column with respect to the yards gained. We should see the points taper off as the yard line increases i.e. get closer to the endzone."
   ]
  },
  {
   "cell_type": "code",
   "execution_count": 8,
   "metadata": {
    "ExecuteTime": {
     "end_time": "2020-07-26T15:58:38.172866Z",
     "start_time": "2020-07-26T15:58:38.152909Z"
    }
   },
   "outputs": [
    {
     "data": {
      "text/html": [
       "\n",
       "<div id=\"altair-viz-93c878d63e8842f88ab4aced8d8a8605\"></div>\n",
       "<script type=\"text/javascript\">\n",
       "  (function(spec, embedOpt){\n",
       "    let outputDiv = document.currentScript.previousElementSibling;\n",
       "    if (outputDiv.id !== \"altair-viz-93c878d63e8842f88ab4aced8d8a8605\") {\n",
       "      outputDiv = document.getElementById(\"altair-viz-93c878d63e8842f88ab4aced8d8a8605\");\n",
       "    }\n",
       "    const paths = {\n",
       "      \"vega\": \"https://cdn.jsdelivr.net/npm//vega@5?noext\",\n",
       "      \"vega-lib\": \"https://cdn.jsdelivr.net/npm//vega-lib?noext\",\n",
       "      \"vega-lite\": \"https://cdn.jsdelivr.net/npm//vega-lite@4.8.1?noext\",\n",
       "      \"vega-embed\": \"https://cdn.jsdelivr.net/npm//vega-embed@6?noext\",\n",
       "    };\n",
       "\n",
       "    function loadScript(lib) {\n",
       "      return new Promise(function(resolve, reject) {\n",
       "        var s = document.createElement('script');\n",
       "        s.src = paths[lib];\n",
       "        s.async = true;\n",
       "        s.onload = () => resolve(paths[lib]);\n",
       "        s.onerror = () => reject(`Error loading script: ${paths[lib]}`);\n",
       "        document.getElementsByTagName(\"head\")[0].appendChild(s);\n",
       "      });\n",
       "    }\n",
       "\n",
       "    function showError(err) {\n",
       "      outputDiv.innerHTML = `<div class=\"error\" style=\"color:red;\">${err}</div>`;\n",
       "      throw err;\n",
       "    }\n",
       "\n",
       "    function displayChart(vegaEmbed) {\n",
       "      vegaEmbed(outputDiv, spec, embedOpt)\n",
       "        .catch(err => showError(`Javascript Error: ${err.message}<br>This usually means there's a typo in your chart specification. See the javascript console for the full traceback.`));\n",
       "    }\n",
       "\n",
       "    if(typeof define === \"function\" && define.amd) {\n",
       "      requirejs.config({paths});\n",
       "      require([\"vega-embed\"], displayChart, err => showError(`Error loading script: ${err.message}`));\n",
       "    } else if (typeof vegaEmbed === \"function\") {\n",
       "      displayChart(vegaEmbed);\n",
       "    } else {\n",
       "      loadScript(\"vega\")\n",
       "        .then(() => loadScript(\"vega-lite\"))\n",
       "        .then(() => loadScript(\"vega-embed\"))\n",
       "        .catch(showError)\n",
       "        .then(() => displayChart(vegaEmbed));\n",
       "    }\n",
       "  })({\"config\": {\"view\": {\"continuousWidth\": 400, \"continuousHeight\": 300}}, \"data\": {\"url\": \"./Altair JSONs/YardLine100.json\"}, \"mark\": {\"type\": \"point\", \"clip\": true}, \"encoding\": {\"x\": {\"type\": \"quantitative\", \"axis\": {\"title\": \"Yard Line (100)\"}, \"field\": \"YardLine100\"}, \"y\": {\"type\": \"quantitative\", \"field\": \"Yards\"}}, \"height\": 350, \"title\": \"Yards gained vs. Field Position\", \"width\": 800, \"$schema\": \"https://vega.github.io/schema/vega-lite/v4.8.1.json\"}, {\"mode\": \"vega-lite\"});\n",
       "</script>"
      ],
      "text/plain": [
       "alt.Chart(...)"
      ]
     },
     "execution_count": 8,
     "metadata": {},
     "output_type": "execute_result"
    }
   ],
   "source": [
    "YL100_JSON = './Altair JSONs/YardLine100.json'\n",
    "if not os.path.exists(YL100_JSON):\n",
    "    pbpData[['YardLine100', 'Yards']].to_json(YL100_JSON, orient='records')\n",
    "\n",
    "altair.Chart(YL100_JSON).mark_point(clip=True).encode(\n",
    "    x=altair.X('YardLine100:Q',\n",
    "              axis=altair.Axis(title='Yard Line (100)')),\n",
    "    y='Yards:Q'\n",
    ").properties(\n",
    "    width=800,\n",
    "    height=350,\n",
    "    title='Yards gained vs. Field Position'\n",
    ")"
   ]
  },
  {
   "cell_type": "markdown",
   "metadata": {},
   "source": [
    "Couple things about this plot. The hypotenuse of this triangular plot shows all the times when a runner rushed for a touchdown at that position. Additionally, you may notice there are more points on the 25-yard line, and the 40-yard line to some extent. The reason is that whenever there is a touchback on the kickoff, the team starts at their own 25-yard line. Also, when a kickoff goes out of the bounds, that's a penalty on the kicking team, and the ball is spotted at the 40-yard line. The main things we take away from here is that **solely using the field position of the rushing play isn't enough, and other things must be taken into account.**"
   ]
  },
  {
   "cell_type": "markdown",
   "metadata": {},
   "source": [
    "### Distance to First Down\n",
    "The distance to a first down also matters. This mainly applies to short yardage situations, typically less than 4 yards or so. If you need 2 yards to keep the drive alive, why design for a long run when instead you can send in some big guys to push forward for the first down? Hopefully the next plot can show this...Instead of showing raw counts for how many plays were rushing plays per down and distance, we'll show **percentage**. The reason is that since you get a 1st and 10 whenever a new set of downs is established, it will cause an overabundance of the number of plays. There will also be a dropoff with distancecs greater than 10 yards because these can only occur either through a loss on the previous play, or through a penalty.\n",
    "\n",
    "First, we'll look at **all the plays** and see how many yards they've went for, then we'll look at the percentage of rushing plays as the distance increases."
   ]
  },
  {
   "cell_type": "code",
   "execution_count": 9,
   "metadata": {
    "ExecuteTime": {
     "end_time": "2020-07-26T15:58:39.574121Z",
     "start_time": "2020-07-26T15:58:39.541287Z"
    }
   },
   "outputs": [
    {
     "data": {
      "text/html": [
       "\n",
       "<div id=\"altair-viz-fe6e30b7471f48b29b920c9f249bbf34\"></div>\n",
       "<script type=\"text/javascript\">\n",
       "  (function(spec, embedOpt){\n",
       "    let outputDiv = document.currentScript.previousElementSibling;\n",
       "    if (outputDiv.id !== \"altair-viz-fe6e30b7471f48b29b920c9f249bbf34\") {\n",
       "      outputDiv = document.getElementById(\"altair-viz-fe6e30b7471f48b29b920c9f249bbf34\");\n",
       "    }\n",
       "    const paths = {\n",
       "      \"vega\": \"https://cdn.jsdelivr.net/npm//vega@5?noext\",\n",
       "      \"vega-lib\": \"https://cdn.jsdelivr.net/npm//vega-lib?noext\",\n",
       "      \"vega-lite\": \"https://cdn.jsdelivr.net/npm//vega-lite@4.8.1?noext\",\n",
       "      \"vega-embed\": \"https://cdn.jsdelivr.net/npm//vega-embed@6?noext\",\n",
       "    };\n",
       "\n",
       "    function loadScript(lib) {\n",
       "      return new Promise(function(resolve, reject) {\n",
       "        var s = document.createElement('script');\n",
       "        s.src = paths[lib];\n",
       "        s.async = true;\n",
       "        s.onload = () => resolve(paths[lib]);\n",
       "        s.onerror = () => reject(`Error loading script: ${paths[lib]}`);\n",
       "        document.getElementsByTagName(\"head\")[0].appendChild(s);\n",
       "      });\n",
       "    }\n",
       "\n",
       "    function showError(err) {\n",
       "      outputDiv.innerHTML = `<div class=\"error\" style=\"color:red;\">${err}</div>`;\n",
       "      throw err;\n",
       "    }\n",
       "\n",
       "    function displayChart(vegaEmbed) {\n",
       "      vegaEmbed(outputDiv, spec, embedOpt)\n",
       "        .catch(err => showError(`Javascript Error: ${err.message}<br>This usually means there's a typo in your chart specification. See the javascript console for the full traceback.`));\n",
       "    }\n",
       "\n",
       "    if(typeof define === \"function\" && define.amd) {\n",
       "      requirejs.config({paths});\n",
       "      require([\"vega-embed\"], displayChart, err => showError(`Error loading script: ${err.message}`));\n",
       "    } else if (typeof vegaEmbed === \"function\") {\n",
       "      displayChart(vegaEmbed);\n",
       "    } else {\n",
       "      loadScript(\"vega\")\n",
       "        .then(() => loadScript(\"vega-lite\"))\n",
       "        .then(() => loadScript(\"vega-embed\"))\n",
       "        .catch(showError)\n",
       "        .then(() => displayChart(vegaEmbed));\n",
       "    }\n",
       "  })({\"config\": {\"view\": {\"continuousWidth\": 400, \"continuousHeight\": 300}, \"legend\": {\"labelFontSize\": 16, \"titleFontSize\": 16}}, \"data\": {\"url\": \"./Altair JSONs/distance.json\"}, \"mark\": {\"type\": \"point\", \"clip\": true}, \"encoding\": {\"color\": {\"type\": \"nominal\", \"field\": \"Down\"}, \"x\": {\"type\": \"quantitative\", \"field\": \"Distance\"}, \"y\": {\"type\": \"quantitative\", \"field\": \"Yards\"}}, \"height\": 350, \"title\": \"Distance to First Down vs. Yards Gained\", \"width\": 800, \"$schema\": \"https://vega.github.io/schema/vega-lite/v4.8.1.json\"}, {\"mode\": \"vega-lite\"});\n",
       "</script>"
      ],
      "text/plain": [
       "alt.Chart(...)"
      ]
     },
     "execution_count": 9,
     "metadata": {},
     "output_type": "execute_result"
    }
   ],
   "source": [
    "DISTANCE_JSON = './Altair JSONs/distance.json'\n",
    "if not os.path.exists(DISTANCE_JSON):\n",
    "    pbpData[['Distance', 'Yards', 'Down']].to_json(DISTANCE_JSON, orient='records')\n",
    "\n",
    "altair.Chart(DISTANCE_JSON).mark_point(clip=True).encode(\n",
    "    x='Distance:Q',\n",
    "    y='Yards:Q',\n",
    "    color='Down:N'\n",
    ").properties(\n",
    "    width=800,\n",
    "    height=350,\n",
    "    title='Distance to First Down vs. Yards Gained'\n",
    ").configure_legend(\n",
    "    labelFontSize=16,\n",
    "    titleFontSize=16\n",
    ")"
   ]
  },
  {
   "cell_type": "markdown",
   "metadata": {},
   "source": [
    "Obviously, there's an overabundance plays with 10 yards to go, because you get 1st and 10 whenever a new set of downs is established. Notice we also have some blue dots at 1st and 15 and 1st and 20. These are due to penalty. A false start is a five-yard penalty. We can see a good mixture of downs on the other distances."
   ]
  },
  {
   "cell_type": "markdown",
   "metadata": {},
   "source": [
    "## The Success of a Play\n",
    "As you might have guessed from the previous plots, there are many variables that affect how many yards go for. However, depending on the situation, the number of yards gained could have differing importance. For example, **gaining 3 yards on a 3rd and 2 is much more successful than gaining 3 yards on a 1st and 10**, because the former results in a first down to keep the drive alive. That isn't to say that you *have* to get a first down for a play to be successful. For example, gaining 5 yards on that 1st and 10 could be seen as successful as it could make 2nd and 3rd down much easier.\n",
    "\n",
    "Back in 1988, Pete Palmer, Bob Carroll, and John Thorn published a statistics book called *The Hidden Game of Football.* In it, they took apart the current notions of football stats, especially quarterback rating, and developed their own method of breaking down plays. Almost all of their statistics revolves around **yards**. Their notion of a successful play is as follows:\n",
    "\n",
    "> On first down, a play is considered a success if it gains 45 percent of needed yards; on second down, a play needs to gain 60 percent of needed yards; on third and fourth down, only by gaining a first down (or touchdown) is considered success.\n",
    "\n",
    "Since then, there have been many improvements to their methods that have been refined (see the reasoning behind Defense-adjusted Value Over Average (DVOA) by [Football Outsiders](https://www.footballoutsiders.com/info/methods)) but for our purposes, this success/failure breakdown should work reasonably well to measure how different aspects affect the yards gained, without worrying about the situational environment too much. \n",
    "\n",
    "We will add this information to our play-by-play level data, and doing so requires a few lines of code. Why didn't we do this in the data cleaning stage, you ask? Because any model might come up with a more complex method of combining the situation. In any case, we will input directly into the column `\"Success\"` or `\"Failure\"`."
   ]
  },
  {
   "cell_type": "code",
   "execution_count": 12,
   "metadata": {
    "ExecuteTime": {
     "end_time": "2020-07-26T16:40:46.736067Z",
     "start_time": "2020-07-26T16:40:46.691219Z"
    }
   },
   "outputs": [
    {
     "data": {
      "text/html": [
       "<div>\n",
       "<style scoped>\n",
       "    .dataframe tbody tr th:only-of-type {\n",
       "        vertical-align: middle;\n",
       "    }\n",
       "\n",
       "    .dataframe tbody tr th {\n",
       "        vertical-align: top;\n",
       "    }\n",
       "\n",
       "    .dataframe thead th {\n",
       "        text-align: right;\n",
       "    }\n",
       "</style>\n",
       "<table border=\"1\" class=\"dataframe\">\n",
       "  <thead>\n",
       "    <tr style=\"text-align: right;\">\n",
       "      <th></th>\n",
       "      <th>GameId</th>\n",
       "      <th>PlayId</th>\n",
       "      <th>Season</th>\n",
       "      <th>YardLine</th>\n",
       "      <th>YardLine100</th>\n",
       "      <th>Quarter</th>\n",
       "      <th>PossessionTeam</th>\n",
       "      <th>Down</th>\n",
       "      <th>Distance</th>\n",
       "      <th>FieldPosition</th>\n",
       "      <th>...</th>\n",
       "      <th>WR</th>\n",
       "      <th>OL</th>\n",
       "      <th>QB</th>\n",
       "      <th>DoO</th>\n",
       "      <th>DL</th>\n",
       "      <th>LB</th>\n",
       "      <th>DB</th>\n",
       "      <th>OoD</th>\n",
       "      <th>State</th>\n",
       "      <th>IsSuccess</th>\n",
       "    </tr>\n",
       "  </thead>\n",
       "  <tbody>\n",
       "    <tr>\n",
       "      <th>0</th>\n",
       "      <td>2017090700</td>\n",
       "      <td>20170907000118</td>\n",
       "      <td>2017</td>\n",
       "      <td>35</td>\n",
       "      <td>35</td>\n",
       "      <td>1</td>\n",
       "      <td>NE</td>\n",
       "      <td>3</td>\n",
       "      <td>2</td>\n",
       "      <td>NE</td>\n",
       "      <td>...</td>\n",
       "      <td>3</td>\n",
       "      <td>5</td>\n",
       "      <td>1</td>\n",
       "      <td>0</td>\n",
       "      <td>2</td>\n",
       "      <td>3</td>\n",
       "      <td>6</td>\n",
       "      <td>0</td>\n",
       "      <td>MA</td>\n",
       "      <td>Success</td>\n",
       "    </tr>\n",
       "    <tr>\n",
       "      <th>1</th>\n",
       "      <td>2017090700</td>\n",
       "      <td>20170907000139</td>\n",
       "      <td>2017</td>\n",
       "      <td>43</td>\n",
       "      <td>43</td>\n",
       "      <td>1</td>\n",
       "      <td>NE</td>\n",
       "      <td>1</td>\n",
       "      <td>10</td>\n",
       "      <td>NE</td>\n",
       "      <td>...</td>\n",
       "      <td>3</td>\n",
       "      <td>5</td>\n",
       "      <td>1</td>\n",
       "      <td>0</td>\n",
       "      <td>2</td>\n",
       "      <td>3</td>\n",
       "      <td>6</td>\n",
       "      <td>0</td>\n",
       "      <td>MA</td>\n",
       "      <td>Failure</td>\n",
       "    </tr>\n",
       "    <tr>\n",
       "      <th>2</th>\n",
       "      <td>2017090700</td>\n",
       "      <td>20170907000189</td>\n",
       "      <td>2017</td>\n",
       "      <td>35</td>\n",
       "      <td>65</td>\n",
       "      <td>1</td>\n",
       "      <td>NE</td>\n",
       "      <td>1</td>\n",
       "      <td>10</td>\n",
       "      <td>KC</td>\n",
       "      <td>...</td>\n",
       "      <td>3</td>\n",
       "      <td>5</td>\n",
       "      <td>1</td>\n",
       "      <td>0</td>\n",
       "      <td>2</td>\n",
       "      <td>3</td>\n",
       "      <td>6</td>\n",
       "      <td>0</td>\n",
       "      <td>MA</td>\n",
       "      <td>Success</td>\n",
       "    </tr>\n",
       "    <tr>\n",
       "      <th>3</th>\n",
       "      <td>2017090700</td>\n",
       "      <td>20170907000345</td>\n",
       "      <td>2017</td>\n",
       "      <td>2</td>\n",
       "      <td>98</td>\n",
       "      <td>1</td>\n",
       "      <td>NE</td>\n",
       "      <td>2</td>\n",
       "      <td>2</td>\n",
       "      <td>KC</td>\n",
       "      <td>...</td>\n",
       "      <td>0</td>\n",
       "      <td>6</td>\n",
       "      <td>1</td>\n",
       "      <td>0</td>\n",
       "      <td>4</td>\n",
       "      <td>4</td>\n",
       "      <td>3</td>\n",
       "      <td>0</td>\n",
       "      <td>MA</td>\n",
       "      <td>Success</td>\n",
       "    </tr>\n",
       "    <tr>\n",
       "      <th>4</th>\n",
       "      <td>2017090700</td>\n",
       "      <td>20170907000395</td>\n",
       "      <td>2017</td>\n",
       "      <td>25</td>\n",
       "      <td>25</td>\n",
       "      <td>1</td>\n",
       "      <td>KC</td>\n",
       "      <td>1</td>\n",
       "      <td>10</td>\n",
       "      <td>KC</td>\n",
       "      <td>...</td>\n",
       "      <td>1</td>\n",
       "      <td>5</td>\n",
       "      <td>1</td>\n",
       "      <td>0</td>\n",
       "      <td>3</td>\n",
       "      <td>2</td>\n",
       "      <td>6</td>\n",
       "      <td>0</td>\n",
       "      <td>MA</td>\n",
       "      <td>Success</td>\n",
       "    </tr>\n",
       "  </tbody>\n",
       "</table>\n",
       "<p>5 rows × 40 columns</p>\n",
       "</div>"
      ],
      "text/plain": [
       "       GameId          PlayId  Season  YardLine  YardLine100  Quarter  \\\n",
       "0  2017090700  20170907000118    2017        35           35        1   \n",
       "1  2017090700  20170907000139    2017        43           43        1   \n",
       "2  2017090700  20170907000189    2017        35           65        1   \n",
       "3  2017090700  20170907000345    2017         2           98        1   \n",
       "4  2017090700  20170907000395    2017        25           25        1   \n",
       "\n",
       "  PossessionTeam  Down  Distance FieldPosition  ...  WR  OL QB DoO  DL LB DB  \\\n",
       "0             NE     3         2            NE  ...   3   5  1   0   2  3  6   \n",
       "1             NE     1        10            NE  ...   3   5  1   0   2  3  6   \n",
       "2             NE     1        10            KC  ...   3   5  1   0   2  3  6   \n",
       "3             NE     2         2            KC  ...   0   6  1   0   4  4  3   \n",
       "4             KC     1        10            KC  ...   1   5  1   0   3  2  6   \n",
       "\n",
       "  OoD  State IsSuccess  \n",
       "0   0     MA   Success  \n",
       "1   0     MA   Failure  \n",
       "2   0     MA   Success  \n",
       "3   0     MA   Success  \n",
       "4   0     MA   Success  \n",
       "\n",
       "[5 rows x 40 columns]"
      ]
     },
     "execution_count": 12,
     "metadata": {},
     "output_type": "execute_result"
    }
   ],
   "source": [
    "pbpData['IsSuccess'] = 'Failure'\n",
    "# Thresholds of percentages for successes\n",
    "thresholds = [0.45, 0.6, 1, 1]\n",
    "for down, thresh in zip(range(1, 5), thresholds):\n",
    "    pbpData.loc[(pbpData.Down == down) & (pbpData.Yards >= thresh * pbpData.Distance), 'IsSuccess'] = 'Success'"
   ]
  },
  {
   "cell_type": "markdown",
   "metadata": {},
   "source": [
    "Even though the success of a play doesn't directly tell us the number of yards a play goes for (what we are predicting), it still gives a sense of the outcome of the plays, which hopefully be used anyway during training and prediction."
   ]
  },
  {
   "cell_type": "markdown",
   "metadata": {},
   "source": [
    "## Offensive Line\n",
    "Now, let's look at what is probably one of the more important aspects. How does the personnel groupings affect how many yards a play goes for (and consequently how successful a play is)? At first thought, it makes sense that as the weight of the offensive line increases, the more successful a play gets, because the linemen theoretically are able to push everyone forward, which greatly affects whether the running back runs for a loss or gain.\n",
    "\n",
    "To capture this, we can take the **total weight** of the offensive line, and plot it against the yards gained. However, there's an important disclaimer for the plots that follow. The offensive line is not the only ones that might be blocking. You might have a fullback, or a big tight end as well, so keep that in mind.\n",
    "\n",
    "We're not limited to the weight, and we can also take the speed, which way they're moving, and their positions with respect to the running back at handoff. That last bit, it seems logical that if a running back is \"following their blocks\", or in other words right behind their linemen, they get much more yards."
   ]
  },
  {
   "cell_type": "markdown",
   "metadata": {},
   "source": [
    "### OL Weight\n",
    "The most common setup is 5 offensive linemen. But just to check, let's see how many setups there were."
   ]
  },
  {
   "cell_type": "code",
   "execution_count": 10,
   "metadata": {
    "ExecuteTime": {
     "end_time": "2020-07-26T15:58:44.001793Z",
     "start_time": "2020-07-26T15:58:43.987884Z"
    }
   },
   "outputs": [
    {
     "data": {
      "text/plain": [
       "(array([5, 6, 7]), array([28451,  2097,    63], dtype=int64))"
      ]
     },
     "execution_count": 10,
     "metadata": {},
     "output_type": "execute_result"
    }
   ],
   "source": [
    "uniques, counts = np.unique(pbpData.OL, return_counts=True)\n",
    "sortedIndices = np.argsort(counts)[::-1]\n",
    "uniques[sortedIndices], counts[sortedIndices]"
   ]
  },
  {
   "cell_type": "markdown",
   "metadata": {},
   "source": [
    "Okay, lucky for us, there are only 3 possible setups, from 5 to 7 offensive linemen. The 5 offensive linemen setup is by far the most common. The rest are so few that we don't have to do any special analysis with them. We can plot two histograms, one for successful plays, and one for failed plays. My hypothesis is that it won't be too interesting, because it's rare that every rush is successful. I'm expecting a lot of overlap."
   ]
  },
  {
   "cell_type": "code",
   "execution_count": 39,
   "metadata": {
    "ExecuteTime": {
     "end_time": "2020-07-26T20:32:33.099163Z",
     "start_time": "2020-07-26T20:32:32.486685Z"
    }
   },
   "outputs": [
    {
     "data": {
      "text/html": [
       "<div>\n",
       "<style scoped>\n",
       "    .dataframe tbody tr th:only-of-type {\n",
       "        vertical-align: middle;\n",
       "    }\n",
       "\n",
       "    .dataframe tbody tr th {\n",
       "        vertical-align: top;\n",
       "    }\n",
       "\n",
       "    .dataframe thead th {\n",
       "        text-align: right;\n",
       "    }\n",
       "</style>\n",
       "<table border=\"1\" class=\"dataframe\">\n",
       "  <thead>\n",
       "    <tr style=\"text-align: right;\">\n",
       "      <th></th>\n",
       "      <th>PlayId</th>\n",
       "      <th>WeightAverage</th>\n",
       "    </tr>\n",
       "  </thead>\n",
       "  <tbody>\n",
       "    <tr>\n",
       "      <th>0</th>\n",
       "      <td>20170907000118</td>\n",
       "      <td>315.6</td>\n",
       "    </tr>\n",
       "    <tr>\n",
       "      <th>1</th>\n",
       "      <td>20170907000139</td>\n",
       "      <td>315.6</td>\n",
       "    </tr>\n",
       "    <tr>\n",
       "      <th>2</th>\n",
       "      <td>20170907000189</td>\n",
       "      <td>315.6</td>\n",
       "    </tr>\n",
       "    <tr>\n",
       "      <th>3</th>\n",
       "      <td>20170907000345</td>\n",
       "      <td>315.5</td>\n",
       "    </tr>\n",
       "    <tr>\n",
       "      <th>4</th>\n",
       "      <td>20170907000395</td>\n",
       "      <td>316.2</td>\n",
       "    </tr>\n",
       "  </tbody>\n",
       "</table>\n",
       "</div>"
      ],
      "text/plain": [
       "           PlayId  WeightAverage\n",
       "0  20170907000118          315.6\n",
       "1  20170907000139          315.6\n",
       "2  20170907000189          315.6\n",
       "3  20170907000345          315.5\n",
       "4  20170907000395          316.2"
      ]
     },
     "execution_count": 39,
     "metadata": {},
     "output_type": "execute_result"
    }
   ],
   "source": [
    "# First, we need to gather the offensive linemen that\n",
    "# took part in each play...\n",
    "# Join our player characteristics\n",
    "# with the player positions on the ID...\n",
    "merged = playerPos.merge(right=playerChara[['NflId', 'PlayerWeight', 'Position']], how='left', on='NflId')\n",
    "# We don't need positional info...\n",
    "merged = merged[['PlayId', 'NflId', 'PlayerWeight', 'Position']]\n",
    "# Grab the offensive line positions:\n",
    "# Center (C), Guard (G), Offensive Guard (OG), Offensive Tackle (OT), Tackle (T)\n",
    "offLine = merged[np.isin(merged.Position, ['C', 'G', 'OG', 'OT', 'T'])]\n",
    "# Now we have to group them by play id\n",
    "# and take the average...\n",
    "# Reset the index to move the PlayId to a column\n",
    "playGroups = offLine.groupby(by='PlayId').mean().reset_index()\n",
    "playGroups.columns = ['PlayId', 'WeightAverage']\n",
    "playGroups.head()"
   ]
  },
  {
   "cell_type": "code",
   "execution_count": 65,
   "metadata": {
    "ExecuteTime": {
     "end_time": "2020-07-26T22:47:54.376852Z",
     "start_time": "2020-07-26T22:47:54.139984Z"
    }
   },
   "outputs": [
    {
     "data": {
      "text/html": [
       "\n",
       "<div id=\"altair-viz-ee60c16236d7486993de740c0815f364\"></div>\n",
       "<script type=\"text/javascript\">\n",
       "  (function(spec, embedOpt){\n",
       "    let outputDiv = document.currentScript.previousElementSibling;\n",
       "    if (outputDiv.id !== \"altair-viz-ee60c16236d7486993de740c0815f364\") {\n",
       "      outputDiv = document.getElementById(\"altair-viz-ee60c16236d7486993de740c0815f364\");\n",
       "    }\n",
       "    const paths = {\n",
       "      \"vega\": \"https://cdn.jsdelivr.net/npm//vega@5?noext\",\n",
       "      \"vega-lib\": \"https://cdn.jsdelivr.net/npm//vega-lib?noext\",\n",
       "      \"vega-lite\": \"https://cdn.jsdelivr.net/npm//vega-lite@4.8.1?noext\",\n",
       "      \"vega-embed\": \"https://cdn.jsdelivr.net/npm//vega-embed@6?noext\",\n",
       "    };\n",
       "\n",
       "    function loadScript(lib) {\n",
       "      return new Promise(function(resolve, reject) {\n",
       "        var s = document.createElement('script');\n",
       "        s.src = paths[lib];\n",
       "        s.async = true;\n",
       "        s.onload = () => resolve(paths[lib]);\n",
       "        s.onerror = () => reject(`Error loading script: ${paths[lib]}`);\n",
       "        document.getElementsByTagName(\"head\")[0].appendChild(s);\n",
       "      });\n",
       "    }\n",
       "\n",
       "    function showError(err) {\n",
       "      outputDiv.innerHTML = `<div class=\"error\" style=\"color:red;\">${err}</div>`;\n",
       "      throw err;\n",
       "    }\n",
       "\n",
       "    function displayChart(vegaEmbed) {\n",
       "      vegaEmbed(outputDiv, spec, embedOpt)\n",
       "        .catch(err => showError(`Javascript Error: ${err.message}<br>This usually means there's a typo in your chart specification. See the javascript console for the full traceback.`));\n",
       "    }\n",
       "\n",
       "    if(typeof define === \"function\" && define.amd) {\n",
       "      requirejs.config({paths});\n",
       "      require([\"vega-embed\"], displayChart, err => showError(`Error loading script: ${err.message}`));\n",
       "    } else if (typeof vegaEmbed === \"function\") {\n",
       "      displayChart(vegaEmbed);\n",
       "    } else {\n",
       "      loadScript(\"vega\")\n",
       "        .then(() => loadScript(\"vega-lite\"))\n",
       "        .then(() => loadScript(\"vega-embed\"))\n",
       "        .catch(showError)\n",
       "        .then(() => displayChart(vegaEmbed));\n",
       "    }\n",
       "  })({\"config\": {\"view\": {\"continuousWidth\": 400, \"continuousHeight\": 300}}, \"data\": {\"url\": \"./Altair JSONs/olweight.json\"}, \"mark\": {\"type\": \"area\", \"interpolate\": \"step\", \"opacity\": 0.5}, \"encoding\": {\"color\": {\"type\": \"nominal\", \"field\": \"IsSuccess\"}, \"x\": {\"type\": \"quantitative\", \"bin\": {\"step\": 2}, \"field\": \"WeightAverage\"}, \"y\": {\"type\": \"quantitative\", \"aggregate\": \"count\", \"stack\": null}}, \"height\": 350, \"width\": 800, \"$schema\": \"https://vega.github.io/schema/vega-lite/v4.8.1.json\"}, {\"mode\": \"vega-lite\"});\n",
       "</script>"
      ],
      "text/plain": [
       "alt.Chart(...)"
      ]
     },
     "execution_count": 65,
     "metadata": {},
     "output_type": "execute_result"
    }
   ],
   "source": [
    "# Now merge with our play-by-play data...\n",
    "OL_weightAvgs = pbpData[['PlayId', 'IsSuccess']].merge(right=playGroups, how='left', on='PlayId')\n",
    "OL_WEIGHT_JSON = './Altair JSONs/olweight.json'\n",
    "if not os.path.exists(OL_WEIGHT_JSON):\n",
    "    OL_weightAvgs.to_json(OL_WEIGHT_JSON, orient='records')\n",
    "\n",
    "# Plot them!\n",
    "altair.Chart(OL_WEIGHT_JSON).mark_area(\n",
    "    opacity=0.5, \n",
    "    interpolate='step'\n",
    ").encode(\n",
    "    x=altair.X('WeightAverage:Q', bin=altair.Bin(step=2)),\n",
    "    y=altair.Y('count()', stack=None),\n",
    "    color='IsSuccess:N'\n",
    ").properties(\n",
    "    width=800,\n",
    "    height=350\n",
    ")"
   ]
  },
  {
   "cell_type": "markdown",
   "metadata": {},
   "source": [
    "Well would you look at that. The shapes of the two histograms are almost identical, just that the Success one is a bit shorter, since there were fewer success plays than failure plays. The orange histogram was plotted first, and the blue was plotted over. This is the reason the success histogram looks brownish. Okay, so we know the weight itself has nothing to do with the success, but about their speeds at the time of the snap?"
   ]
  },
  {
   "cell_type": "markdown",
   "metadata": {},
   "source": [
    "### OL Velocities\n",
    "The velocities of the offensive linemen might matter much more here to determine if a running back will break it. I specifically say velocity because if the offensive line is moving **backward**, there's a good chance the running back will get tackled in the backfield for a loss. "
   ]
  },
  {
   "cell_type": "code",
   "execution_count": null,
   "metadata": {},
   "outputs": [],
   "source": []
  }
 ],
 "metadata": {
  "kernelspec": {
   "display_name": "Python 3",
   "language": "python",
   "name": "python3"
  },
  "language_info": {
   "codemirror_mode": {
    "name": "ipython",
    "version": 3
   },
   "file_extension": ".py",
   "mimetype": "text/x-python",
   "name": "python",
   "nbconvert_exporter": "python",
   "pygments_lexer": "ipython3",
   "version": "3.8.2"
  },
  "toc": {
   "base_numbering": 1,
   "nav_menu": {},
   "number_sections": true,
   "sideBar": false,
   "skip_h1_title": true,
   "title_cell": "Table of Contents",
   "title_sidebar": "Contents",
   "toc_cell": true,
   "toc_position": {
    "height": "179.99px",
    "left": "1085px",
    "top": "91.6667px",
    "width": "278.948px"
   },
   "toc_section_display": true,
   "toc_window_display": true
  }
 },
 "nbformat": 4,
 "nbformat_minor": 4
}
