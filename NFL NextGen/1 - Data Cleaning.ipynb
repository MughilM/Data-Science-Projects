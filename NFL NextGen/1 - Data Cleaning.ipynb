{
 "cells": [
  {
   "cell_type": "markdown",
   "metadata": {
    "toc": true
   },
   "source": [
    "<h1>Table of Contents<span class=\"tocSkip\"></span></h1>\n",
    "<div class=\"toc\"><ul class=\"toc-item\"><li><span><a href=\"#Import-Packages\" data-toc-modified-id=\"Import-Packages-1\"><span class=\"toc-item-num\">1&nbsp;&nbsp;</span>Import Packages</a></span></li><li><span><a href=\"#Import-Data\" data-toc-modified-id=\"Import-Data-2\"><span class=\"toc-item-num\">2&nbsp;&nbsp;</span>Import Data</a></span></li><li><span><a href=\"#Missing-Data-and-Data-Types\" data-toc-modified-id=\"Missing-Data-and-Data-Types-3\"><span class=\"toc-item-num\">3&nbsp;&nbsp;</span>Missing Data and Data Types</a></span><ul class=\"toc-item\"><li><span><a href=\"#Checking-on-NaNs\" data-toc-modified-id=\"Checking-on-NaNs-3.1\"><span class=\"toc-item-num\">3.1&nbsp;&nbsp;</span>Checking on NaNs</a></span></li><li><span><a href=\"#Fixing-DataTypes\" data-toc-modified-id=\"Fixing-DataTypes-3.2\"><span class=\"toc-item-num\">3.2&nbsp;&nbsp;</span>Fixing DataTypes</a></span></li></ul></li><li><span><a href=\"#Column-Transformation\" data-toc-modified-id=\"Column-Transformation-4\"><span class=\"toc-item-num\">4&nbsp;&nbsp;</span>Column Transformation</a></span><ul class=\"toc-item\"><li><span><a href=\"#Game-Clock\" data-toc-modified-id=\"Game-Clock-4.1\"><span class=\"toc-item-num\">4.1&nbsp;&nbsp;</span>Game Clock</a></span></li><li><span><a href=\"#Player-Height\" data-toc-modified-id=\"Player-Height-4.2\"><span class=\"toc-item-num\">4.2&nbsp;&nbsp;</span>Player Height</a></span></li><li><span><a href=\"#Offensive-and-Defensive-Personnel\" data-toc-modified-id=\"Offensive-and-Defensive-Personnel-4.3\"><span class=\"toc-item-num\">4.3&nbsp;&nbsp;</span>Offensive and Defensive Personnel</a></span><ul class=\"toc-item\"><li><span><a href=\"#Parsing-Offensive-Personnel\" data-toc-modified-id=\"Parsing-Offensive-Personnel-4.3.1\"><span class=\"toc-item-num\">4.3.1&nbsp;&nbsp;</span>Parsing Offensive Personnel</a></span></li><li><span><a href=\"#Parsing-Defensive-Personnel\" data-toc-modified-id=\"Parsing-Defensive-Personnel-4.3.2\"><span class=\"toc-item-num\">4.3.2&nbsp;&nbsp;</span>Parsing Defensive Personnel</a></span></li><li><span><a href=\"#Adding-to-DataFrame\" data-toc-modified-id=\"Adding-to-DataFrame-4.3.3\"><span class=\"toc-item-num\">4.3.3&nbsp;&nbsp;</span>Adding to DataFrame</a></span></li></ul></li></ul></li><li><span><a href=\"#Splitting-the-Data-Frame\" data-toc-modified-id=\"Splitting-the-Data-Frame-5\"><span class=\"toc-item-num\">5&nbsp;&nbsp;</span>Splitting the Data Frame</a></span><ul class=\"toc-item\"><li><span><a href=\"#Collecting-Player-IDs-and-Names\" data-toc-modified-id=\"Collecting-Player-IDs-and-Names-5.1\"><span class=\"toc-item-num\">5.1&nbsp;&nbsp;</span>Collecting Player IDs and Names</a></span></li></ul></li></ul></div>"
   ]
  },
  {
   "cell_type": "markdown",
   "metadata": {},
   "source": [
    "# 2019 NFL Big Data Bowl - Part 1: Data Cleaning\n",
    "This set of notebooks will go through a past Kaggle competition known as the NFL Big Data Bowl. The data bowl this time focuses on **running plays**, and specifically, how far a running play will go. We've all watched the games on television, and during plays, once the running back gets the ball, we sometimes think \"Oh that play is going nowhere\" or \"That's a touchdown\". How are we making these decisions? Presumably, a standard armchair spectator is looking at the blocking that is taking place in the offensive line. These sorts of cues are what we hope to capture when we analyze the running plays. \n",
    "\n",
    "The notebooks will be arranged into parts that will take us through the various analyses that I perform. With any project, the data cleaning will always come first, to make sure the data can be effectively analyzed. This includes getting rid of duplicates, dropping missing data, splitting columns, and fixing data types. After this comes exploratory data analysis (EDA)."
   ]
  },
  {
   "cell_type": "markdown",
   "metadata": {},
   "source": [
    "## Import Packages\n",
    "This cell contains all the packages that we plan to use in this notebook. The two common packages `numpy` and `pandas` are sufficient for the data cleaning we'll do. The `json` package will be used for storing the resulting data types of each column."
   ]
  },
  {
   "cell_type": "code",
   "execution_count": 30,
   "metadata": {
    "ExecuteTime": {
     "end_time": "2020-06-14T19:27:20.199546Z",
     "start_time": "2020-06-14T19:27:20.190499Z"
    }
   },
   "outputs": [],
   "source": [
    "import numpy as np\n",
    "import pandas as pd\n",
    "import json"
   ]
  },
  {
   "cell_type": "markdown",
   "metadata": {},
   "source": [
    "## Import Data\n",
    "Our provided training data is in a file called train.csv. This has all the columns we would ever need."
   ]
  },
  {
   "cell_type": "code",
   "execution_count": 31,
   "metadata": {
    "ExecuteTime": {
     "end_time": "2020-06-14T19:27:36.322950Z",
     "start_time": "2020-06-14T19:27:20.203986Z"
    }
   },
   "outputs": [
    {
     "name": "stderr",
     "output_type": "stream",
     "text": [
      "C:\\Users\\mughi\\miniconda3\\envs\\NFL_BDB_19\\lib\\site-packages\\IPython\\core\\interactiveshell.py:3062: DtypeWarning: Columns (47) have mixed types.Specify dtype option on import or set low_memory=False.\n",
      "  has_raised = await self.run_ast_nodes(code_ast.body, cell_name,\n"
     ]
    },
    {
     "data": {
      "text/html": [
       "<div>\n",
       "<style scoped>\n",
       "    .dataframe tbody tr th:only-of-type {\n",
       "        vertical-align: middle;\n",
       "    }\n",
       "\n",
       "    .dataframe tbody tr th {\n",
       "        vertical-align: top;\n",
       "    }\n",
       "\n",
       "    .dataframe thead th {\n",
       "        text-align: right;\n",
       "    }\n",
       "</style>\n",
       "<table border=\"1\" class=\"dataframe\">\n",
       "  <thead>\n",
       "    <tr style=\"text-align: right;\">\n",
       "      <th></th>\n",
       "      <th>GameId</th>\n",
       "      <th>PlayId</th>\n",
       "      <th>Team</th>\n",
       "      <th>X</th>\n",
       "      <th>Y</th>\n",
       "      <th>S</th>\n",
       "      <th>A</th>\n",
       "      <th>Dis</th>\n",
       "      <th>Orientation</th>\n",
       "      <th>Dir</th>\n",
       "      <th>...</th>\n",
       "      <th>Week</th>\n",
       "      <th>Stadium</th>\n",
       "      <th>Location</th>\n",
       "      <th>StadiumType</th>\n",
       "      <th>Turf</th>\n",
       "      <th>GameWeather</th>\n",
       "      <th>Temperature</th>\n",
       "      <th>Humidity</th>\n",
       "      <th>WindSpeed</th>\n",
       "      <th>WindDirection</th>\n",
       "    </tr>\n",
       "  </thead>\n",
       "  <tbody>\n",
       "    <tr>\n",
       "      <th>0</th>\n",
       "      <td>2017090700</td>\n",
       "      <td>20170907000118</td>\n",
       "      <td>away</td>\n",
       "      <td>73.91</td>\n",
       "      <td>34.84</td>\n",
       "      <td>1.69</td>\n",
       "      <td>1.13</td>\n",
       "      <td>0.40</td>\n",
       "      <td>81.99</td>\n",
       "      <td>177.18</td>\n",
       "      <td>...</td>\n",
       "      <td>1</td>\n",
       "      <td>Gillette Stadium</td>\n",
       "      <td>Foxborough, MA</td>\n",
       "      <td>Outdoor</td>\n",
       "      <td>Field Turf</td>\n",
       "      <td>Clear and warm</td>\n",
       "      <td>63.0</td>\n",
       "      <td>77.0</td>\n",
       "      <td>8</td>\n",
       "      <td>SW</td>\n",
       "    </tr>\n",
       "    <tr>\n",
       "      <th>1</th>\n",
       "      <td>2017090700</td>\n",
       "      <td>20170907000118</td>\n",
       "      <td>away</td>\n",
       "      <td>74.67</td>\n",
       "      <td>32.64</td>\n",
       "      <td>0.42</td>\n",
       "      <td>1.35</td>\n",
       "      <td>0.01</td>\n",
       "      <td>27.61</td>\n",
       "      <td>198.70</td>\n",
       "      <td>...</td>\n",
       "      <td>1</td>\n",
       "      <td>Gillette Stadium</td>\n",
       "      <td>Foxborough, MA</td>\n",
       "      <td>Outdoor</td>\n",
       "      <td>Field Turf</td>\n",
       "      <td>Clear and warm</td>\n",
       "      <td>63.0</td>\n",
       "      <td>77.0</td>\n",
       "      <td>8</td>\n",
       "      <td>SW</td>\n",
       "    </tr>\n",
       "    <tr>\n",
       "      <th>2</th>\n",
       "      <td>2017090700</td>\n",
       "      <td>20170907000118</td>\n",
       "      <td>away</td>\n",
       "      <td>74.00</td>\n",
       "      <td>33.20</td>\n",
       "      <td>1.22</td>\n",
       "      <td>0.59</td>\n",
       "      <td>0.31</td>\n",
       "      <td>3.01</td>\n",
       "      <td>202.73</td>\n",
       "      <td>...</td>\n",
       "      <td>1</td>\n",
       "      <td>Gillette Stadium</td>\n",
       "      <td>Foxborough, MA</td>\n",
       "      <td>Outdoor</td>\n",
       "      <td>Field Turf</td>\n",
       "      <td>Clear and warm</td>\n",
       "      <td>63.0</td>\n",
       "      <td>77.0</td>\n",
       "      <td>8</td>\n",
       "      <td>SW</td>\n",
       "    </tr>\n",
       "    <tr>\n",
       "      <th>3</th>\n",
       "      <td>2017090700</td>\n",
       "      <td>20170907000118</td>\n",
       "      <td>away</td>\n",
       "      <td>71.46</td>\n",
       "      <td>27.70</td>\n",
       "      <td>0.42</td>\n",
       "      <td>0.54</td>\n",
       "      <td>0.02</td>\n",
       "      <td>359.77</td>\n",
       "      <td>105.64</td>\n",
       "      <td>...</td>\n",
       "      <td>1</td>\n",
       "      <td>Gillette Stadium</td>\n",
       "      <td>Foxborough, MA</td>\n",
       "      <td>Outdoor</td>\n",
       "      <td>Field Turf</td>\n",
       "      <td>Clear and warm</td>\n",
       "      <td>63.0</td>\n",
       "      <td>77.0</td>\n",
       "      <td>8</td>\n",
       "      <td>SW</td>\n",
       "    </tr>\n",
       "    <tr>\n",
       "      <th>4</th>\n",
       "      <td>2017090700</td>\n",
       "      <td>20170907000118</td>\n",
       "      <td>away</td>\n",
       "      <td>69.32</td>\n",
       "      <td>35.42</td>\n",
       "      <td>1.82</td>\n",
       "      <td>2.43</td>\n",
       "      <td>0.16</td>\n",
       "      <td>12.63</td>\n",
       "      <td>164.31</td>\n",
       "      <td>...</td>\n",
       "      <td>1</td>\n",
       "      <td>Gillette Stadium</td>\n",
       "      <td>Foxborough, MA</td>\n",
       "      <td>Outdoor</td>\n",
       "      <td>Field Turf</td>\n",
       "      <td>Clear and warm</td>\n",
       "      <td>63.0</td>\n",
       "      <td>77.0</td>\n",
       "      <td>8</td>\n",
       "      <td>SW</td>\n",
       "    </tr>\n",
       "  </tbody>\n",
       "</table>\n",
       "<p>5 rows × 49 columns</p>\n",
       "</div>"
      ],
      "text/plain": [
       "       GameId          PlayId  Team      X      Y     S     A   Dis  \\\n",
       "0  2017090700  20170907000118  away  73.91  34.84  1.69  1.13  0.40   \n",
       "1  2017090700  20170907000118  away  74.67  32.64  0.42  1.35  0.01   \n",
       "2  2017090700  20170907000118  away  74.00  33.20  1.22  0.59  0.31   \n",
       "3  2017090700  20170907000118  away  71.46  27.70  0.42  0.54  0.02   \n",
       "4  2017090700  20170907000118  away  69.32  35.42  1.82  2.43  0.16   \n",
       "\n",
       "   Orientation     Dir  ...  Week           Stadium        Location  \\\n",
       "0        81.99  177.18  ...     1  Gillette Stadium  Foxborough, MA   \n",
       "1        27.61  198.70  ...     1  Gillette Stadium  Foxborough, MA   \n",
       "2         3.01  202.73  ...     1  Gillette Stadium  Foxborough, MA   \n",
       "3       359.77  105.64  ...     1  Gillette Stadium  Foxborough, MA   \n",
       "4        12.63  164.31  ...     1  Gillette Stadium  Foxborough, MA   \n",
       "\n",
       "   StadiumType        Turf     GameWeather Temperature Humidity  WindSpeed  \\\n",
       "0      Outdoor  Field Turf  Clear and warm        63.0     77.0          8   \n",
       "1      Outdoor  Field Turf  Clear and warm        63.0     77.0          8   \n",
       "2      Outdoor  Field Turf  Clear and warm        63.0     77.0          8   \n",
       "3      Outdoor  Field Turf  Clear and warm        63.0     77.0          8   \n",
       "4      Outdoor  Field Turf  Clear and warm        63.0     77.0          8   \n",
       "\n",
       "   WindDirection  \n",
       "0             SW  \n",
       "1             SW  \n",
       "2             SW  \n",
       "3             SW  \n",
       "4             SW  \n",
       "\n",
       "[5 rows x 49 columns]"
      ]
     },
     "execution_count": 31,
     "metadata": {},
     "output_type": "execute_result"
    }
   ],
   "source": [
    "allData = pd.read_csv('./Data/train.csv', parse_dates=[29, 30])\n",
    "allData.head()"
   ]
  },
  {
   "cell_type": "code",
   "execution_count": 32,
   "metadata": {
    "ExecuteTime": {
     "end_time": "2020-06-14T19:27:36.339673Z",
     "start_time": "2020-06-14T19:27:36.327469Z"
    }
   },
   "outputs": [
    {
     "name": "stdout",
     "output_type": "stream",
     "text": [
      "Data Shape: (682154, 49)\n"
     ]
    }
   ],
   "source": [
    "print('Data Shape:', allData.shape)"
   ]
  },
  {
   "cell_type": "markdown",
   "metadata": {},
   "source": [
    "There are a ton of variables and observations here. The information some of the columns provide might overlap with others. Due to the sheer immense number, [here](https://www.kaggle.com/c/nfl-big-data-bowl-2020/data) is an external link to description of what each column is, and the reference values for the positional information."
   ]
  },
  {
   "cell_type": "markdown",
   "metadata": {},
   "source": [
    "## Missing Data and Data Types\n",
    "The first step in cleaning is to examine how much missing data we have. Depending on how important the column is, we can either drop any rows where that value is missing, or just simply drop the column if we are not going to use it. Because this came from a Kaggle competition, it's likely most of the values will already be present, but it doesn't hurt to double-check.\n",
    "\n",
    "As for data types, `pandas` usually assigns the most memory to the integer and float values i.e. `int64`. Depending on the use-case, this may not be needed. Furthermore, it's common to have some variables as categorical, such as the team or ID."
   ]
  },
  {
   "cell_type": "markdown",
   "metadata": {},
   "source": [
    "### Checking on NaNs\n",
    "To get a broad overview, we can count up the number of NaNs we have in each column, to see which ones are the biggest offenders."
   ]
  },
  {
   "cell_type": "code",
   "execution_count": 33,
   "metadata": {
    "ExecuteTime": {
     "end_time": "2020-06-14T19:27:37.788179Z",
     "start_time": "2020-06-14T19:27:36.341611Z"
    },
    "code_folding": [
     1
    ]
   },
   "outputs": [
    {
     "name": "stdout",
     "output_type": "stream",
     "text": [
      "GameId                \t0\tPlayId                \t0\tTeam                  \t0\tX                     \t0\n",
      "Y                     \t0\tS                     \t0\tA                     \t0\tDis                   \t0\n",
      "Orientation           \t23\tDir                   \t28\tNflId                 \t0\tDisplayName           \t0\n",
      "JerseyNumber          \t0\tSeason                \t0\tYardLine              \t0\tQuarter               \t0\n",
      "GameClock             \t0\tPossessionTeam        \t0\tDown                  \t0\tDistance              \t0\n",
      "FieldPosition         \t8602\tHomeScoreBeforePlay   \t0\tVisitorScoreBeforePlay\t0\tNflIdRusher           \t0\n",
      "OffenseFormation      \t88\tOffensePersonnel      \t0\tDefendersInTheBox     \t22\tDefensePersonnel      \t0\n",
      "PlayDirection         \t0\tTimeHandoff           \t0\tTimeSnap              \t0\tYards                 \t0\n",
      "PlayerHeight          \t0\tPlayerWeight          \t0\tPlayerBirthDate       \t0\tPlayerCollegeName     \t0\n",
      "Position              \t0\tHomeTeamAbbr          \t0\tVisitorTeamAbbr       \t0\tWeek                  \t0\n",
      "Stadium               \t0\tLocation              \t0\tStadiumType           \t41690\tTurf                  \t0\n",
      "GameWeather           \t60170\tTemperature           \t63646\tHumidity              \t6160\tWindSpeed             \t91872\n",
      "WindDirection         \t104676\t"
     ]
    }
   ],
   "source": [
    "nasums = allData.isna().sum()\n",
    "for i, (name, value) in enumerate(nasums.items()):\n",
    "    print('{:22}\\t{}'.format(name, value), end='')\n",
    "    if i % 4 == 3:\n",
    "        print()\n",
    "    else:\n",
    "        print('\\t', end='')"
   ]
  },
  {
   "cell_type": "markdown",
   "metadata": {},
   "source": [
    "Looking at the stats, the data is mostly clean on the key points. The biggest offenders are columns pertaining to the weather during the game. We can always use more reliable external sources to obtain what the weather was that day, so these are not important to the data itself.\n",
    "\n",
    "The **stadium type** tells us what the stadium environment is like. For example, is it outdoors/indoors, in a dome, have a retractable roof? The only place where this would effect our prediction, is if the stadium was outdoors, and it was raining pretty heavily, which would make players slip around (the 2011 \"Monsoon Bowl\" between the Jaguars and Panthers is a good example). However, this is a relative rarity that may happen 1 or 2 times a season, and so training in these specific conditions will not be productive. Additionally, we also have the stadium and turf type itself, so even if we were to include the weather, the model would ideally learn that in some stadiums the weather has no effect.\n",
    "\n",
    "The next variable is **field position**. This tells us which side of the field the possession team is on. I would say this is heavily important, especially since this determines the distance you are from the endzone. Additionally, the **yard line** is listed as a number between 0-50, so we would absolutely need the side to fully determine where the ball is. Therefore, we will remove all rows where we don't have the field position.\n",
    "\n",
    "The other columns with low amounts will also have their rows removed, as those as datapoins which are quite important with respect to the running game. For example, it's much easier to block with 3 tight ends instead of the base 1. Personnel packages also let defenses infer one way or the other.\n",
    "\n",
    "In conclusion, we will flat out **drop** the weather and stadium type columns, and **remove the rows** where the field position, offensive personnel, and orientation are absent."
   ]
  },
  {
   "cell_type": "code",
   "execution_count": 34,
   "metadata": {
    "ExecuteTime": {
     "end_time": "2020-06-14T19:27:40.300624Z",
     "start_time": "2020-06-14T19:27:37.789961Z"
    }
   },
   "outputs": [
    {
     "name": "stdout",
     "output_type": "stream",
     "text": [
      "Shape after dropping: (673432, 43)\n"
     ]
    }
   ],
   "source": [
    "colsToDrop = ['StadiumType', 'GameWeather', 'Temperature', 'Humidity',\n",
    "             'WindSpeed', 'WindDirection']\n",
    "# Delete the columns in colsToDrop\n",
    "# and the rows where there are NaNs\n",
    "cutDownData = allData.drop(columns=colsToDrop).dropna()\n",
    "print('Shape after dropping:', cutDownData.shape)"
   ]
  },
  {
   "cell_type": "markdown",
   "metadata": {},
   "source": [
    "Looks like we lost about 9000 records, which isn't too bad, considering we have over 670 thousand records in total."
   ]
  },
  {
   "cell_type": "markdown",
   "metadata": {},
   "source": [
    "### Fixing DataTypes\n",
    "Another thing we might need to fix are data type mismatches. For example, some of these columns are direct strings, such as the **Team** column. However, this column can only take one of two values, \"home\" or \"away\". Thus, it's better if we code this as a categorical variable. The same would be a true for a number of other categories. Additionally, the default number data type is 64 bit, of which none of our values are that precise, so we can also save a bit on memory."
   ]
  },
  {
   "cell_type": "code",
   "execution_count": 35,
   "metadata": {
    "ExecuteTime": {
     "end_time": "2020-06-14T19:27:43.958443Z",
     "start_time": "2020-06-14T19:27:40.303056Z"
    }
   },
   "outputs": [
    {
     "data": {
      "text/plain": [
       "GameId                               category\n",
       "PlayId                               category\n",
       "Team                                 category\n",
       "X                                     float32\n",
       "Y                                     float32\n",
       "S                                     float32\n",
       "A                                     float32\n",
       "Dis                                   float32\n",
       "Orientation                           float32\n",
       "Dir                                   float32\n",
       "NflId                                category\n",
       "DisplayName                            object\n",
       "JerseyNumber                         category\n",
       "Season                                  int32\n",
       "YardLine                                int32\n",
       "Quarter                                 int32\n",
       "GameClock                              object\n",
       "PossessionTeam                       category\n",
       "Down                                    int32\n",
       "Distance                                int32\n",
       "FieldPosition                        category\n",
       "HomeScoreBeforePlay                     int32\n",
       "VisitorScoreBeforePlay                  int32\n",
       "NflIdRusher                          category\n",
       "OffenseFormation                     category\n",
       "OffensePersonnel                       object\n",
       "DefendersInTheBox                       int32\n",
       "DefensePersonnel                       object\n",
       "PlayDirection                          object\n",
       "TimeHandoff               datetime64[ns, UTC]\n",
       "TimeSnap                  datetime64[ns, UTC]\n",
       "Yards                                   int32\n",
       "PlayerHeight                           object\n",
       "PlayerWeight                            int32\n",
       "PlayerBirthDate                        object\n",
       "PlayerCollegeName                      object\n",
       "Position                             category\n",
       "HomeTeamAbbr                         category\n",
       "VisitorTeamAbbr                      category\n",
       "Week                                    int32\n",
       "Stadium                              category\n",
       "Location                               object\n",
       "Turf                                   object\n",
       "dtype: object"
      ]
     },
     "execution_count": 35,
     "metadata": {},
     "output_type": "execute_result"
    }
   ],
   "source": [
    "integerCols = ['Season', 'YardLine', 'Quarter', 'Down', 'Distance', \n",
    "               'HomeScoreBeforePlay', 'VisitorScoreBeforePlay', 'DefendersInTheBox',\n",
    "               'Yards', 'PlayerWeight', 'Week']\n",
    "floatCols = ['X', 'Y', 'S', 'A', 'Dis', 'Orientation', 'Dir']\n",
    "categoricalCols = ['GameId', 'PlayId', 'Team', 'NflId', 'JerseyNumber',\n",
    "                  'PossessionTeam', 'FieldPosition', 'NflIdRusher',\n",
    "                  'OffenseFormation', 'Position', 'HomeTeamAbbr',\n",
    "                  'VisitorTeamAbbr', 'Stadium']\n",
    "cutDownData[integerCols] = cutDownData[integerCols].astype('int32')\n",
    "cutDownData[floatCols] = cutDownData[floatCols].astype('float32')\n",
    "cutDownData[categoricalCols] = cutDownData[categoricalCols].astype('category')\n",
    "cutDownData.dtypes"
   ]
  },
  {
   "cell_type": "markdown",
   "metadata": {},
   "source": [
    "We've taken care of all the data types that we could assign directly to the data. For the other columns, there needs to be some data munging and extraction to get them into a form that we can work with."
   ]
  },
  {
   "cell_type": "markdown",
   "metadata": {
    "ExecuteTime": {
     "end_time": "2020-06-13T00:02:34.135455Z",
     "start_time": "2020-06-13T00:02:34.123452Z"
    }
   },
   "source": [
    "## Column Transformation\n",
    "There are a couple columns in our dataset which require transformation of the data already present. This could involve splitting of the info into multiple columns, or directly changing the way the column is represented. Most of these are simple to do."
   ]
  },
  {
   "cell_type": "markdown",
   "metadata": {},
   "source": [
    "### Game Clock\n",
    "Currently the **game clock** column shows what the game clock in the stadium shows during the play. In every game, the game clock shows the time remaining in the quarter, so it ranges from 15:00 (15 minutes) down to 00:00 (0 minutes). However, we don't want to represent it like this in the data because it looks like a 24-hour time. A game clock of 14:14 *does not mean* the time is 2:14 PM. It means there is 14 minutes and 14 seconds left in the quarter. \n",
    "\n",
    "How should we change the representation to help our model the most? Thinking about the actual game, there's an important way the game plays out: *At the end of the second quarter (first half), the possession resets itself. Either the other team gets the ball, or a rekick occurs and the same team gets the ball.* Thus, past the 2-minute warning, any running plays that are present will either be draws (like delayed handoffs), or designed runs towards the sidelines in an effort to stop the clock. Of course, runs can also happen close to the goal line but those happen anyways. Given this definition, it seems appropriate that **we should list the game clock as the time remaining until the half.** Thus, it will be in two 30-minute intervals. We can also add a **Half** column, which denotes which half it is. If it's overtime, then we'll say it's the \"3rd\" half."
   ]
  },
  {
   "cell_type": "code",
   "execution_count": 65,
   "metadata": {
    "ExecuteTime": {
     "end_time": "2020-06-14T19:53:23.795532Z",
     "start_time": "2020-06-14T19:53:19.033517Z"
    }
   },
   "outputs": [
    {
     "data": {
      "text/html": [
       "<div>\n",
       "<style scoped>\n",
       "    .dataframe tbody tr th:only-of-type {\n",
       "        vertical-align: middle;\n",
       "    }\n",
       "\n",
       "    .dataframe tbody tr th {\n",
       "        vertical-align: top;\n",
       "    }\n",
       "\n",
       "    .dataframe thead th {\n",
       "        text-align: right;\n",
       "    }\n",
       "</style>\n",
       "<table border=\"1\" class=\"dataframe\">\n",
       "  <thead>\n",
       "    <tr style=\"text-align: right;\">\n",
       "      <th></th>\n",
       "      <th>GameId</th>\n",
       "      <th>PlayId</th>\n",
       "      <th>Team</th>\n",
       "      <th>X</th>\n",
       "      <th>Y</th>\n",
       "      <th>S</th>\n",
       "      <th>A</th>\n",
       "      <th>Dis</th>\n",
       "      <th>Orientation</th>\n",
       "      <th>Dir</th>\n",
       "      <th>...</th>\n",
       "      <th>Position</th>\n",
       "      <th>HomeTeamAbbr</th>\n",
       "      <th>VisitorTeamAbbr</th>\n",
       "      <th>Week</th>\n",
       "      <th>Stadium</th>\n",
       "      <th>Location</th>\n",
       "      <th>Turf</th>\n",
       "      <th>GameClockMinute</th>\n",
       "      <th>GameClockSecond</th>\n",
       "      <th>Half</th>\n",
       "    </tr>\n",
       "  </thead>\n",
       "  <tbody>\n",
       "    <tr>\n",
       "      <th>0</th>\n",
       "      <td>2017090700</td>\n",
       "      <td>20170907000118</td>\n",
       "      <td>away</td>\n",
       "      <td>73.910004</td>\n",
       "      <td>34.840000</td>\n",
       "      <td>1.69</td>\n",
       "      <td>1.13</td>\n",
       "      <td>0.40</td>\n",
       "      <td>81.989998</td>\n",
       "      <td>177.179993</td>\n",
       "      <td>...</td>\n",
       "      <td>SS</td>\n",
       "      <td>NE</td>\n",
       "      <td>KC</td>\n",
       "      <td>1</td>\n",
       "      <td>Gillette Stadium</td>\n",
       "      <td>Foxborough, MA</td>\n",
       "      <td>Field Turf</td>\n",
       "      <td>14</td>\n",
       "      <td>14</td>\n",
       "      <td>1</td>\n",
       "    </tr>\n",
       "    <tr>\n",
       "      <th>1</th>\n",
       "      <td>2017090700</td>\n",
       "      <td>20170907000118</td>\n",
       "      <td>away</td>\n",
       "      <td>74.669998</td>\n",
       "      <td>32.639999</td>\n",
       "      <td>0.42</td>\n",
       "      <td>1.35</td>\n",
       "      <td>0.01</td>\n",
       "      <td>27.610001</td>\n",
       "      <td>198.699997</td>\n",
       "      <td>...</td>\n",
       "      <td>DE</td>\n",
       "      <td>NE</td>\n",
       "      <td>KC</td>\n",
       "      <td>1</td>\n",
       "      <td>Gillette Stadium</td>\n",
       "      <td>Foxborough, MA</td>\n",
       "      <td>Field Turf</td>\n",
       "      <td>14</td>\n",
       "      <td>14</td>\n",
       "      <td>1</td>\n",
       "    </tr>\n",
       "    <tr>\n",
       "      <th>2</th>\n",
       "      <td>2017090700</td>\n",
       "      <td>20170907000118</td>\n",
       "      <td>away</td>\n",
       "      <td>74.000000</td>\n",
       "      <td>33.200001</td>\n",
       "      <td>1.22</td>\n",
       "      <td>0.59</td>\n",
       "      <td>0.31</td>\n",
       "      <td>3.010000</td>\n",
       "      <td>202.729996</td>\n",
       "      <td>...</td>\n",
       "      <td>DE</td>\n",
       "      <td>NE</td>\n",
       "      <td>KC</td>\n",
       "      <td>1</td>\n",
       "      <td>Gillette Stadium</td>\n",
       "      <td>Foxborough, MA</td>\n",
       "      <td>Field Turf</td>\n",
       "      <td>14</td>\n",
       "      <td>14</td>\n",
       "      <td>1</td>\n",
       "    </tr>\n",
       "    <tr>\n",
       "      <th>3</th>\n",
       "      <td>2017090700</td>\n",
       "      <td>20170907000118</td>\n",
       "      <td>away</td>\n",
       "      <td>71.459999</td>\n",
       "      <td>27.700001</td>\n",
       "      <td>0.42</td>\n",
       "      <td>0.54</td>\n",
       "      <td>0.02</td>\n",
       "      <td>359.769989</td>\n",
       "      <td>105.639999</td>\n",
       "      <td>...</td>\n",
       "      <td>ILB</td>\n",
       "      <td>NE</td>\n",
       "      <td>KC</td>\n",
       "      <td>1</td>\n",
       "      <td>Gillette Stadium</td>\n",
       "      <td>Foxborough, MA</td>\n",
       "      <td>Field Turf</td>\n",
       "      <td>14</td>\n",
       "      <td>14</td>\n",
       "      <td>1</td>\n",
       "    </tr>\n",
       "    <tr>\n",
       "      <th>4</th>\n",
       "      <td>2017090700</td>\n",
       "      <td>20170907000118</td>\n",
       "      <td>away</td>\n",
       "      <td>69.320000</td>\n",
       "      <td>35.419998</td>\n",
       "      <td>1.82</td>\n",
       "      <td>2.43</td>\n",
       "      <td>0.16</td>\n",
       "      <td>12.630000</td>\n",
       "      <td>164.309998</td>\n",
       "      <td>...</td>\n",
       "      <td>FS</td>\n",
       "      <td>NE</td>\n",
       "      <td>KC</td>\n",
       "      <td>1</td>\n",
       "      <td>Gillette Stadium</td>\n",
       "      <td>Foxborough, MA</td>\n",
       "      <td>Field Turf</td>\n",
       "      <td>14</td>\n",
       "      <td>14</td>\n",
       "      <td>1</td>\n",
       "    </tr>\n",
       "  </tbody>\n",
       "</table>\n",
       "<p>5 rows × 46 columns</p>\n",
       "</div>"
      ],
      "text/plain": [
       "       GameId          PlayId  Team          X          Y     S     A   Dis  \\\n",
       "0  2017090700  20170907000118  away  73.910004  34.840000  1.69  1.13  0.40   \n",
       "1  2017090700  20170907000118  away  74.669998  32.639999  0.42  1.35  0.01   \n",
       "2  2017090700  20170907000118  away  74.000000  33.200001  1.22  0.59  0.31   \n",
       "3  2017090700  20170907000118  away  71.459999  27.700001  0.42  0.54  0.02   \n",
       "4  2017090700  20170907000118  away  69.320000  35.419998  1.82  2.43  0.16   \n",
       "\n",
       "   Orientation         Dir  ... Position HomeTeamAbbr VisitorTeamAbbr  Week  \\\n",
       "0    81.989998  177.179993  ...       SS           NE              KC     1   \n",
       "1    27.610001  198.699997  ...       DE           NE              KC     1   \n",
       "2     3.010000  202.729996  ...       DE           NE              KC     1   \n",
       "3   359.769989  105.639999  ...      ILB           NE              KC     1   \n",
       "4    12.630000  164.309998  ...       FS           NE              KC     1   \n",
       "\n",
       "            Stadium        Location        Turf GameClockMinute  \\\n",
       "0  Gillette Stadium  Foxborough, MA  Field Turf              14   \n",
       "1  Gillette Stadium  Foxborough, MA  Field Turf              14   \n",
       "2  Gillette Stadium  Foxborough, MA  Field Turf              14   \n",
       "3  Gillette Stadium  Foxborough, MA  Field Turf              14   \n",
       "4  Gillette Stadium  Foxborough, MA  Field Turf              14   \n",
       "\n",
       "   GameClockSecond  Half  \n",
       "0               14     1  \n",
       "1               14     1  \n",
       "2               14     1  \n",
       "3               14     1  \n",
       "4               14     1  \n",
       "\n",
       "[5 rows x 46 columns]"
      ]
     },
     "execution_count": 65,
     "metadata": {},
     "output_type": "execute_result"
    }
   ],
   "source": [
    "# Use str to get access to string methods.\n",
    "# We split on the colon, and add it\n",
    "# as a column. Then we create a sub\n",
    "# data frame with the list data and\n",
    "# add it to our data...\n",
    "cutDownData['splittedGameClock'] = cutDownData.GameClock.str.split(':')\n",
    "cutDownData[['GameClockMinute', 'GameClockSecond', 'GCms']] = pd.DataFrame(cutDownData.splittedGameClock.tolist(),\n",
    "                                                                   index=cutDownData.index)\n",
    "# Drop the extra column and convert the remaining two to integers...\n",
    "cutDownData.drop(columns=['GCms', 'splittedGameClock'], inplace=True)\n",
    "cutDownData[['GameClockMinute', 'GameClockSecond']] = cutDownData[['GameClockMinute', 'GameClockSecond']].astype(int)\n",
    "\n",
    "# Add the Half column. Quarters 3 and 4 are the 2nd half..\n",
    "cutDownData['Half'] = 1\n",
    "cutDownData.loc[(cutDownData.Quarter == 3) | (cutDownData.Quarter == 4), 'Half'] = 2\n",
    "cutDownData.loc[cutDownData.Quarter == 5, 'Half'] = 3\n",
    "cutDownData.head()"
   ]
  },
  {
   "cell_type": "markdown",
   "metadata": {},
   "source": [
    "### Player Height\n",
    "In the data, the height of player is displayed as \"feet-inches\". We want to transform this into a float number i.e. \"6-2\" (6 feet 2 inches) becomes 6.1667 feet. The method is similar to the game clock, where we split on a delimiter. While we could use `apply()` to calculate the number, the function is generally very slow compared built-in element-wise operations (summing two columns using the \"+\" operator directly on the columns is much faster than calling `apply()` on each row). Thus, we'll split into two columns and combine them directly..."
   ]
  },
  {
   "cell_type": "code",
   "execution_count": 37,
   "metadata": {
    "ExecuteTime": {
     "end_time": "2020-06-14T19:27:50.979028Z",
     "start_time": "2020-06-14T19:27:48.519868Z"
    }
   },
   "outputs": [
    {
     "data": {
      "text/plain": [
       "0    6.00\n",
       "1    6.25\n",
       "2    6.25\n",
       "3    6.25\n",
       "4    6.00\n",
       "Name: PlayerHeight, dtype: float64"
      ]
     },
     "execution_count": 37,
     "metadata": {},
     "output_type": "execute_result"
    }
   ],
   "source": [
    "splittedHeight = pd.DataFrame(cutDownData.PlayerHeight.str.split('-').tolist(), index=cutDownData.index,\n",
    "                             columns=['Feet', 'Inches']).astype(int)\n",
    "cutDownData.PlayerHeight = splittedHeight.Feet + splittedHeight.Inches / 12\n",
    "cutDownData.PlayerHeight.head()"
   ]
  },
  {
   "cell_type": "markdown",
   "metadata": {},
   "source": [
    "Cool that was quick and snappy! The two columns **TimeHandoff** and **TimeSnap** have already been converted to timestamps thanks to `parse_dates()` in `read_csv()`. The last of bit of transformation is looking at the offensive and defensive personnel that is listed for each play."
   ]
  },
  {
   "cell_type": "markdown",
   "metadata": {},
   "source": [
    "### Offensive and Defensive Personnel\n",
    "Personnel packages are a huge part of play design. Essentially, an offensive \"package\" mainly tells you how many running backs and tight ends the offense has on the field. Then, given there is (usually) one quarterback and 5 offensive linemen, you can calculate how many wide receivers there are. The \"default\" (subject to coach and team) is 11 (pronounce as the number) personnel, which is **one** running back and **one** tight end, which results in 3 wide recievers. You can have 12 personnel (two tight ends this time), 21 personnel (two RBs and 1 TE), etc. The personnel usually tells you the type of blocking that might happen. For example, if a short gain is needed (3rd and 1), the team might have 13 personnel, for the extra tight ends to provide extra blocking.\n",
    "\n",
    "Defensive personnel work similarly, though there aren't fancy names for them, since the defense always reacts to what the offense does. However, we still include **defensive linemen** (DL), **linebackers** (LB), and cornerbacks/safeties, which gather into **defensive backs** (DB). More defensive backs means the defense is prioritizing speed over raw power and tanks and vice versa if there are more DLs. Linebackers provide a good middle ground, they though they often can't match-up one-on-one with running backs, as the latter are often too fast.\n",
    "\n",
    "**EXTRA NOTE: It's quite possible we may never use this information due to having the physical characteristics of each player, but you may never know. Plus, it's good practice.**"
   ]
  },
  {
   "cell_type": "markdown",
   "metadata": {},
   "source": [
    "#### Parsing Offensive Personnel\n",
    "First, we'll deal with offensive personnel. Very rarely, sometimes we'll have a defensive player be in the personnel package, and maybe even sometimes **give him the ball**. For example, when Akiem Hicks scored a touchdown in the Bears Giants game of 2018 Week 13. However, this is extremely rare, and so we'll just package them into a column called \"Defense Players\".\n"
   ]
  },
  {
   "cell_type": "code",
   "execution_count": 38,
   "metadata": {
    "ExecuteTime": {
     "end_time": "2020-06-14T19:27:59.348327Z",
     "start_time": "2020-06-14T19:27:50.979028Z"
    }
   },
   "outputs": [],
   "source": [
    "def extractOffense(x):\n",
    "    splittedOffense = [tuple(cat.strip().split(' ')) for cat in x.split(',')]\n",
    "    # Values go RB, TE, WR, OL, QB, and Defense\n",
    "    # Fill with default values...\n",
    "    row = [1, 1, 3, 5, 1, 0]\n",
    "    for num, position in splittedOffense:\n",
    "        num = int(num)\n",
    "        if position == 'RB':\n",
    "            row[0] = num\n",
    "        elif position == 'TE':\n",
    "            row[1] = num\n",
    "        elif position == 'WR':\n",
    "            row[2] = num\n",
    "        elif position == 'OL':\n",
    "            row[3] = num\n",
    "        elif position == 'QB':\n",
    "            row[4] = num\n",
    "        else:\n",
    "            row[5] = num\n",
    "    return row\n",
    "offenseData = pd.DataFrame(cutDownData.OffensePersonnel.apply(extractOffense).values.tolist(), \n",
    "                           columns=['RB', 'TE', 'WR', 'OL', 'QB', 'DoO'], index=cutDownData.index, dtype=np.int16)"
   ]
  },
  {
   "cell_type": "code",
   "execution_count": 39,
   "metadata": {
    "ExecuteTime": {
     "end_time": "2020-06-14T19:27:59.390217Z",
     "start_time": "2020-06-14T19:27:59.353086Z"
    }
   },
   "outputs": [
    {
     "data": {
      "text/plain": [
       "True"
      ]
     },
     "execution_count": 39,
     "metadata": {},
     "output_type": "execute_result"
    }
   ],
   "source": [
    "# Sanity check, make sure we have\n",
    "# 11 players for each play...\n",
    "np.all(offenseData.sum(axis=1) == 11)"
   ]
  },
  {
   "cell_type": "markdown",
   "metadata": {
    "ExecuteTime": {
     "end_time": "2020-06-14T15:00:55.333143Z",
     "start_time": "2020-06-14T15:00:55.312921Z"
    }
   },
   "source": [
    "Alright so we have the offensive breakdown for each play now. I used the `apply` function on the `Series` object itself, because it is much faster than using `apply` on the entire `DataFrame`. The **DoO** column stands for \"Defense on Offense\"."
   ]
  },
  {
   "cell_type": "markdown",
   "metadata": {},
   "source": [
    "#### Parsing Defensive Personnel\n",
    "The same method is used here, except the categories are now DL, LB, and DB, plus any extra offensive players."
   ]
  },
  {
   "cell_type": "code",
   "execution_count": 40,
   "metadata": {
    "ExecuteTime": {
     "end_time": "2020-06-14T19:28:07.150502Z",
     "start_time": "2020-06-14T19:27:59.391394Z"
    }
   },
   "outputs": [],
   "source": [
    "def extractDefense(x):\n",
    "    splittedDefense = [tuple(cat.strip().split(' ')) for cat in x.split(',')]\n",
    "    # Values go DL, LB, DB, and Offense...\n",
    "    row = [4, 3, 4, 0]\n",
    "    for num, position in splittedDefense:\n",
    "        num = int(num)\n",
    "        if position == 'DL':\n",
    "            row[0] = num\n",
    "        elif position == 'LB':\n",
    "            row[1] = num\n",
    "        elif position == 'DB':\n",
    "            row[2] = num\n",
    "        else:\n",
    "            row[3] = num\n",
    "    return row\n",
    "defenseData = pd.DataFrame(cutDownData.DefensePersonnel.apply(extractDefense).values.tolist(),\n",
    "                          columns=['DL', 'LB', 'DB', 'OoD'], index=cutDownData.index, dtype=np.int16)"
   ]
  },
  {
   "cell_type": "code",
   "execution_count": 41,
   "metadata": {
    "ExecuteTime": {
     "end_time": "2020-06-14T19:28:07.188825Z",
     "start_time": "2020-06-14T19:28:07.153686Z"
    }
   },
   "outputs": [
    {
     "data": {
      "text/plain": [
       "False"
      ]
     },
     "execution_count": 41,
     "metadata": {},
     "output_type": "execute_result"
    }
   ],
   "source": [
    "# Sanity check once more...\n",
    "np.all(defenseData.sum(axis=1) == 11)"
   ]
  },
  {
   "cell_type": "markdown",
   "metadata": {},
   "source": [
    "Uh oh! Looks like we have some discrepancy in that there was a play where there weren't 11 defensive players on the field. Let's investigate further."
   ]
  },
  {
   "cell_type": "code",
   "execution_count": 42,
   "metadata": {
    "ExecuteTime": {
     "end_time": "2020-06-14T19:28:07.236951Z",
     "start_time": "2020-06-14T19:28:07.188825Z"
    }
   },
   "outputs": [
    {
     "data": {
      "text/plain": [
       "(22, 46)"
      ]
     },
     "execution_count": 42,
     "metadata": {},
     "output_type": "execute_result"
    }
   ],
   "source": [
    "cutDownData.loc[defenseData.sum(axis=1) != 11].shape"
   ]
  },
  {
   "cell_type": "markdown",
   "metadata": {},
   "source": [
    "Since each play has 22 rows (one for each player), it seems that there is only **one** play like this. Let's look at some clarifying information about the play."
   ]
  },
  {
   "cell_type": "code",
   "execution_count": 43,
   "metadata": {
    "ExecuteTime": {
     "end_time": "2020-06-14T19:28:07.288237Z",
     "start_time": "2020-06-14T19:28:07.238524Z"
    }
   },
   "outputs": [
    {
     "data": {
      "text/plain": [
       "PlayId             20191006040465\n",
       "Season                       2019\n",
       "Week                            5\n",
       "Quarter                         1\n",
       "PossessionTeam                NYG\n",
       "Yards                          11\n",
       "GameClockMinute                 7\n",
       "GameClockSecond                 0\n",
       "Name: 575542, dtype: object"
      ]
     },
     "execution_count": 43,
     "metadata": {},
     "output_type": "execute_result"
    }
   ],
   "source": [
    "cutDownData.loc[defenseData.sum(axis=1) != 11, \n",
    "                ['PlayId', 'Season', 'Week', 'Quarter', 'PossessionTeam', 'Yards', 'GameClockMinute', 'GameClockSecond']].iloc[0]"
   ]
  },
  {
   "cell_type": "markdown",
   "metadata": {},
   "source": [
    "So it seems it was a Giants game in Week 5 of the 2019 Season at the 7:00 mark in the 1st quarter, where the rusher rushed for 11 yards. Using Pro-Football-Reference, I've pinpointed the play [here](https://www.pro-football-reference.com/play-index/play_finder.cgi?request=1&match=summary_all&year_min=2019&year_max=2019&team_id=nyg&game_type=R&game_num_min=0&game_num_max=99&week_num_min=5&week_num_max=5&quarter%5B%5D=1&minutes_max=15&seconds_max=0&minutes_min=0&seconds_min=0&down%5B%5D=0&down%5B%5D=1&down%5B%5D=2&down%5B%5D=3&down%5B%5D=4&field_pos_min_field=team&field_pos_max_field=team&end_field_pos_min_field=team&end_field_pos_max_field=team&type%5B%5D=PASS&type%5B%5D=RUSH&type%5B%5D=PUNT&type%5B%5D=KOFF&type%5B%5D=ONSD&type%5B%5D=FG&type%5B%5D=XP&type%5B%5D=2PC&no_play=N&turnover_type%5B%5D=interception&turnover_type%5B%5D=fumble&score_type%5B%5D=touchdown&score_type%5B%5D=field_goal&score_type%5B%5D=safety&rush_direction%5B%5D=LE&rush_direction%5B%5D=LT&rush_direction%5B%5D=LG&rush_direction%5B%5D=M&rush_direction%5B%5D=RG&rush_direction%5B%5D=RT&rush_direction%5B%5D=RE&pass_location%5B%5D=SL&pass_location%5B%5D=SM&pass_location%5B%5D=SR&pass_location%5B%5D=DL&pass_location%5B%5D=DM&pass_location%5B%5D=DR&order_by=yards). Make sure to scroll down to \"Individual Plays\". You can see that the description of the play is \"*Wayne Gallman up the middle for 11 yards (tackle by Anthony Harris and Eric Kendricks) Penalty on MIN: Defensive Too Many Men on Field (Declined)*\". **It was a penalty!** The Vikings had too many men on the field, but the play wasn't called dead, so the result ended up going into the books. In this case, the Vikings were probably confused on what was going on, and so were *not* on high alert when the play occurred. Thus explains why they let a 11-yard play take place when they had 12 men on the field to stop it.\n",
    "\n",
    "So what should we do? Since it's just one play out of the 30 thousand we have, we can just drop it."
   ]
  },
  {
   "cell_type": "code",
   "execution_count": null,
   "metadata": {
    "ExecuteTime": {
     "end_time": "2020-06-14T19:28:07.307302Z",
     "start_time": "2020-06-14T19:27:20.260Z"
    }
   },
   "outputs": [],
   "source": [
    "cutDownData.PlayId.astype('category')"
   ]
  },
  {
   "cell_type": "code",
   "execution_count": null,
   "metadata": {
    "ExecuteTime": {
     "end_time": "2020-06-14T19:28:07.310745Z",
     "start_time": "2020-06-14T19:27:20.263Z"
    }
   },
   "outputs": [],
   "source": [
    "np.unique(cutDownData.PlayId.values).shape"
   ]
  },
  {
   "cell_type": "markdown",
   "metadata": {},
   "source": [
    "#### Adding to DataFrame\n",
    "Let's add our extracted offense and defense player counts to the data frame, making sure to drop that one play."
   ]
  },
  {
   "cell_type": "code",
   "execution_count": 62,
   "metadata": {
    "ExecuteTime": {
     "end_time": "2020-06-14T19:36:48.010399Z",
     "start_time": "2020-06-14T19:36:46.581323Z"
    }
   },
   "outputs": [
    {
     "data": {
      "text/plain": [
       "(673410, 56)"
      ]
     },
     "execution_count": 62,
     "metadata": {},
     "output_type": "execute_result"
    }
   ],
   "source": [
    "combinedData = pd.concat([cutDownData, offenseData, defenseData], axis=1)\n",
    "indicesToDrop = combinedData.loc[combinedData.PlayId == 20191006040465].index\n",
    "combinedData.drop(index=indicesToDrop, inplace=True)\n",
    "# Update the category list...\n",
    "combinedData['PlayId'] = combinedData.PlayId.cat.remove_unused_categories()\n",
    "combinedData.shape"
   ]
  },
  {
   "cell_type": "markdown",
   "metadata": {},
   "source": [
    "Okay, that covers all column transformations we will do here!"
   ]
  },
  {
   "cell_type": "code",
   "execution_count": 67,
   "metadata": {
    "ExecuteTime": {
     "end_time": "2020-06-14T20:00:42.710604Z",
     "start_time": "2020-06-14T20:00:42.319491Z"
    }
   },
   "outputs": [],
   "source": [
    "# We don't need the offensive and defensive personnel\n",
    "# columns anymore..\n",
    "combinedData.drop(columns=['OffensePersonnel', 'DefensePersonnel'], inplace=True)"
   ]
  },
  {
   "cell_type": "markdown",
   "metadata": {},
   "source": [
    "## Splitting the Data Frame\n",
    "One more thing that may prove useful. Currently, we have data that only changes with the play, and data that changes with the player AND the play. With the 673 thousand plus records, it becomes inefficient to store the duplicated values. With that many records, and 22 players per play, we have a bit more than 30 thousand plays, which is drastically less. Thus, we'll split off a sizeable portion of the columns and save it in a separate csv."
   ]
  },
  {
   "cell_type": "code",
   "execution_count": 91,
   "metadata": {
    "ExecuteTime": {
     "end_time": "2020-06-14T20:29:58.615411Z",
     "start_time": "2020-06-14T20:29:58.385755Z"
    }
   },
   "outputs": [
    {
     "data": {
      "text/plain": [
       "(673410, 38)"
      ]
     },
     "execution_count": 91,
     "metadata": {},
     "output_type": "execute_result"
    }
   ],
   "source": [
    "# Columns that differ player to player play to play...\n",
    "playerLevelCols = ['Team', 'X', 'Y', 'S', 'A', 'Dis', 'Orientation', 'Dir', 'NflId',\n",
    "                   'DisplayName', 'JerseyNumber', 'PlayerHeight', 'PlayerWeight', \n",
    "                   'PlayerBirthDate', 'PlayerCollegeName', 'Position']\n",
    "# The rest of only differ from play to play...\n",
    "playByPlayData = combinedData.drop(columns=playerLevelCols)\n",
    "playByPlayData.shape"
   ]
  },
  {
   "cell_type": "markdown",
   "metadata": {},
   "source": [
    "We're left with 38 columns. Now call `drop_duplicates` to drop all duplicate rows. There will be 21 other rows that will be the same for each play. At the end, we should have one row per play."
   ]
  },
  {
   "cell_type": "code",
   "execution_count": 92,
   "metadata": {
    "ExecuteTime": {
     "end_time": "2020-06-14T20:30:41.243757Z",
     "start_time": "2020-06-14T20:30:39.602749Z"
    }
   },
   "outputs": [
    {
     "name": "stdout",
     "output_type": "stream",
     "text": [
      "Number of rows: 30611\n",
      "Number of categories: 30611\n"
     ]
    }
   ],
   "source": [
    "playByPlayData = playByPlayData.drop_duplicates()\n",
    "print('Number of rows:', playByPlayData.shape[0])\n",
    "print('Number of categories:', len(combinedData.PlayId.cat.categories))"
   ]
  },
  {
   "cell_type": "markdown",
   "metadata": {},
   "source": [
    "Cool they match! One more thing: I have saved the rusher for each play in this split off data frame. However, that is just the ID of said player. When we plot stuff in the next notebook, it would be helpful if we have the name of the rusher itself for clearer plotting. Thus, I'll add that column."
   ]
  },
  {
   "cell_type": "markdown",
   "metadata": {},
   "source": [
    "### Collecting Player IDs and Names"
   ]
  },
  {
   "cell_type": "markdown",
   "metadata": {},
   "source": [
    "We'll do something similar. We will only gather the two columns, and drop duplicate rows."
   ]
  },
  {
   "cell_type": "code",
   "execution_count": 94,
   "metadata": {
    "ExecuteTime": {
     "end_time": "2020-06-14T20:36:45.900976Z",
     "start_time": "2020-06-14T20:36:45.650795Z"
    }
   },
   "outputs": [
    {
     "data": {
      "text/html": [
       "<div>\n",
       "<style scoped>\n",
       "    .dataframe tbody tr th:only-of-type {\n",
       "        vertical-align: middle;\n",
       "    }\n",
       "\n",
       "    .dataframe tbody tr th {\n",
       "        vertical-align: top;\n",
       "    }\n",
       "\n",
       "    .dataframe thead th {\n",
       "        text-align: right;\n",
       "    }\n",
       "</style>\n",
       "<table border=\"1\" class=\"dataframe\">\n",
       "  <thead>\n",
       "    <tr style=\"text-align: right;\">\n",
       "      <th></th>\n",
       "      <th>NflId</th>\n",
       "      <th>DisplayName</th>\n",
       "    </tr>\n",
       "  </thead>\n",
       "  <tbody>\n",
       "    <tr>\n",
       "      <th>0</th>\n",
       "      <td>496723</td>\n",
       "      <td>Eric Berry</td>\n",
       "    </tr>\n",
       "    <tr>\n",
       "      <th>1</th>\n",
       "      <td>2495116</td>\n",
       "      <td>Allen Bailey</td>\n",
       "    </tr>\n",
       "    <tr>\n",
       "      <th>2</th>\n",
       "      <td>2495493</td>\n",
       "      <td>Justin Houston</td>\n",
       "    </tr>\n",
       "    <tr>\n",
       "      <th>3</th>\n",
       "      <td>2506353</td>\n",
       "      <td>Derrick Johnson</td>\n",
       "    </tr>\n",
       "    <tr>\n",
       "      <th>4</th>\n",
       "      <td>2530794</td>\n",
       "      <td>Ron Parker</td>\n",
       "    </tr>\n",
       "    <tr>\n",
       "      <th>...</th>\n",
       "      <td>...</td>\n",
       "      <td>...</td>\n",
       "    </tr>\n",
       "    <tr>\n",
       "      <th>676521</th>\n",
       "      <td>2563031</td>\n",
       "      <td>Ryan Bee</td>\n",
       "    </tr>\n",
       "    <tr>\n",
       "      <th>677225</th>\n",
       "      <td>2562869</td>\n",
       "      <td>Khari Blasingame</td>\n",
       "    </tr>\n",
       "    <tr>\n",
       "      <th>677390</th>\n",
       "      <td>2563282</td>\n",
       "      <td>Charles Jones</td>\n",
       "    </tr>\n",
       "    <tr>\n",
       "      <th>677883</th>\n",
       "      <td>2560776</td>\n",
       "      <td>Joshua Kalu</td>\n",
       "    </tr>\n",
       "    <tr>\n",
       "      <th>680765</th>\n",
       "      <td>2560596</td>\n",
       "      <td>Matt Pryor</td>\n",
       "    </tr>\n",
       "  </tbody>\n",
       "</table>\n",
       "<p>2582 rows × 2 columns</p>\n",
       "</div>"
      ],
      "text/plain": [
       "          NflId       DisplayName\n",
       "0        496723        Eric Berry\n",
       "1       2495116      Allen Bailey\n",
       "2       2495493    Justin Houston\n",
       "3       2506353   Derrick Johnson\n",
       "4       2530794        Ron Parker\n",
       "...         ...               ...\n",
       "676521  2563031          Ryan Bee\n",
       "677225  2562869  Khari Blasingame\n",
       "677390  2563282     Charles Jones\n",
       "677883  2560776       Joshua Kalu\n",
       "680765  2560596        Matt Pryor\n",
       "\n",
       "[2582 rows x 2 columns]"
      ]
     },
     "execution_count": 94,
     "metadata": {},
     "output_type": "execute_result"
    }
   ],
   "source": [
    "playerIdName = combinedData[['NflId', 'DisplayName']]\n",
    "playerIdName.drop_duplicates()"
   ]
  },
  {
   "cell_type": "code",
   "execution_count": 97,
   "metadata": {
    "ExecuteTime": {
     "end_time": "2020-06-14T20:39:26.471945Z",
     "start_time": "2020-06-14T20:38:56.831088Z"
    }
   },
   "outputs": [
    {
     "data": {
      "text/html": [
       "<div>\n",
       "<style scoped>\n",
       "    .dataframe tbody tr th:only-of-type {\n",
       "        vertical-align: middle;\n",
       "    }\n",
       "\n",
       "    .dataframe tbody tr th {\n",
       "        vertical-align: top;\n",
       "    }\n",
       "\n",
       "    .dataframe thead th {\n",
       "        text-align: right;\n",
       "    }\n",
       "</style>\n",
       "<table border=\"1\" class=\"dataframe\">\n",
       "  <thead>\n",
       "    <tr style=\"text-align: right;\">\n",
       "      <th></th>\n",
       "      <th>GameId</th>\n",
       "      <th>PlayId</th>\n",
       "      <th>Season</th>\n",
       "      <th>YardLine</th>\n",
       "      <th>Quarter</th>\n",
       "      <th>GameClock</th>\n",
       "      <th>PossessionTeam</th>\n",
       "      <th>Down</th>\n",
       "      <th>Distance</th>\n",
       "      <th>FieldPosition</th>\n",
       "      <th>...</th>\n",
       "      <th>WR</th>\n",
       "      <th>OL</th>\n",
       "      <th>QB</th>\n",
       "      <th>DoO</th>\n",
       "      <th>DL</th>\n",
       "      <th>LB</th>\n",
       "      <th>DB</th>\n",
       "      <th>OoD</th>\n",
       "      <th>NflId</th>\n",
       "      <th>DisplayName</th>\n",
       "    </tr>\n",
       "  </thead>\n",
       "  <tbody>\n",
       "    <tr>\n",
       "      <th>0</th>\n",
       "      <td>2017090700</td>\n",
       "      <td>20170907000118</td>\n",
       "      <td>2017</td>\n",
       "      <td>35</td>\n",
       "      <td>1</td>\n",
       "      <td>14:14:00</td>\n",
       "      <td>NE</td>\n",
       "      <td>3</td>\n",
       "      <td>2</td>\n",
       "      <td>NE</td>\n",
       "      <td>...</td>\n",
       "      <td>3</td>\n",
       "      <td>5</td>\n",
       "      <td>1</td>\n",
       "      <td>0</td>\n",
       "      <td>2</td>\n",
       "      <td>3</td>\n",
       "      <td>6</td>\n",
       "      <td>0</td>\n",
       "      <td>2543773</td>\n",
       "      <td>James White</td>\n",
       "    </tr>\n",
       "    <tr>\n",
       "      <th>1</th>\n",
       "      <td>2017090700</td>\n",
       "      <td>20170907000118</td>\n",
       "      <td>2017</td>\n",
       "      <td>35</td>\n",
       "      <td>1</td>\n",
       "      <td>14:14:00</td>\n",
       "      <td>NE</td>\n",
       "      <td>3</td>\n",
       "      <td>2</td>\n",
       "      <td>NE</td>\n",
       "      <td>...</td>\n",
       "      <td>3</td>\n",
       "      <td>5</td>\n",
       "      <td>1</td>\n",
       "      <td>0</td>\n",
       "      <td>2</td>\n",
       "      <td>3</td>\n",
       "      <td>6</td>\n",
       "      <td>0</td>\n",
       "      <td>2543773</td>\n",
       "      <td>James White</td>\n",
       "    </tr>\n",
       "    <tr>\n",
       "      <th>2</th>\n",
       "      <td>2017090700</td>\n",
       "      <td>20170907000118</td>\n",
       "      <td>2017</td>\n",
       "      <td>35</td>\n",
       "      <td>1</td>\n",
       "      <td>14:14:00</td>\n",
       "      <td>NE</td>\n",
       "      <td>3</td>\n",
       "      <td>2</td>\n",
       "      <td>NE</td>\n",
       "      <td>...</td>\n",
       "      <td>3</td>\n",
       "      <td>5</td>\n",
       "      <td>1</td>\n",
       "      <td>0</td>\n",
       "      <td>2</td>\n",
       "      <td>3</td>\n",
       "      <td>6</td>\n",
       "      <td>0</td>\n",
       "      <td>2543773</td>\n",
       "      <td>James White</td>\n",
       "    </tr>\n",
       "    <tr>\n",
       "      <th>3</th>\n",
       "      <td>2017090700</td>\n",
       "      <td>20170907000118</td>\n",
       "      <td>2017</td>\n",
       "      <td>35</td>\n",
       "      <td>1</td>\n",
       "      <td>14:14:00</td>\n",
       "      <td>NE</td>\n",
       "      <td>3</td>\n",
       "      <td>2</td>\n",
       "      <td>NE</td>\n",
       "      <td>...</td>\n",
       "      <td>3</td>\n",
       "      <td>5</td>\n",
       "      <td>1</td>\n",
       "      <td>0</td>\n",
       "      <td>2</td>\n",
       "      <td>3</td>\n",
       "      <td>6</td>\n",
       "      <td>0</td>\n",
       "      <td>2543773</td>\n",
       "      <td>James White</td>\n",
       "    </tr>\n",
       "    <tr>\n",
       "      <th>4</th>\n",
       "      <td>2017090700</td>\n",
       "      <td>20170907000118</td>\n",
       "      <td>2017</td>\n",
       "      <td>35</td>\n",
       "      <td>1</td>\n",
       "      <td>14:14:00</td>\n",
       "      <td>NE</td>\n",
       "      <td>3</td>\n",
       "      <td>2</td>\n",
       "      <td>NE</td>\n",
       "      <td>...</td>\n",
       "      <td>3</td>\n",
       "      <td>5</td>\n",
       "      <td>1</td>\n",
       "      <td>0</td>\n",
       "      <td>2</td>\n",
       "      <td>3</td>\n",
       "      <td>6</td>\n",
       "      <td>0</td>\n",
       "      <td>2543773</td>\n",
       "      <td>James White</td>\n",
       "    </tr>\n",
       "    <tr>\n",
       "      <th>...</th>\n",
       "      <td>...</td>\n",
       "      <td>...</td>\n",
       "      <td>...</td>\n",
       "      <td>...</td>\n",
       "      <td>...</td>\n",
       "      <td>...</td>\n",
       "      <td>...</td>\n",
       "      <td>...</td>\n",
       "      <td>...</td>\n",
       "      <td>...</td>\n",
       "      <td>...</td>\n",
       "      <td>...</td>\n",
       "      <td>...</td>\n",
       "      <td>...</td>\n",
       "      <td>...</td>\n",
       "      <td>...</td>\n",
       "      <td>...</td>\n",
       "      <td>...</td>\n",
       "      <td>...</td>\n",
       "      <td>...</td>\n",
       "      <td>...</td>\n",
       "    </tr>\n",
       "    <tr>\n",
       "      <th>11106147</th>\n",
       "      <td>2019112500</td>\n",
       "      <td>20191125003789</td>\n",
       "      <td>2019</td>\n",
       "      <td>38</td>\n",
       "      <td>4</td>\n",
       "      <td>04:11:00</td>\n",
       "      <td>BLT</td>\n",
       "      <td>2</td>\n",
       "      <td>9</td>\n",
       "      <td>BLT</td>\n",
       "      <td>...</td>\n",
       "      <td>3</td>\n",
       "      <td>5</td>\n",
       "      <td>1</td>\n",
       "      <td>0</td>\n",
       "      <td>3</td>\n",
       "      <td>3</td>\n",
       "      <td>5</td>\n",
       "      <td>0</td>\n",
       "      <td>2562407</td>\n",
       "      <td>Justice Hill</td>\n",
       "    </tr>\n",
       "    <tr>\n",
       "      <th>11106148</th>\n",
       "      <td>2019112500</td>\n",
       "      <td>20191125003789</td>\n",
       "      <td>2019</td>\n",
       "      <td>38</td>\n",
       "      <td>4</td>\n",
       "      <td>04:11:00</td>\n",
       "      <td>BLT</td>\n",
       "      <td>2</td>\n",
       "      <td>9</td>\n",
       "      <td>BLT</td>\n",
       "      <td>...</td>\n",
       "      <td>3</td>\n",
       "      <td>5</td>\n",
       "      <td>1</td>\n",
       "      <td>0</td>\n",
       "      <td>3</td>\n",
       "      <td>3</td>\n",
       "      <td>5</td>\n",
       "      <td>0</td>\n",
       "      <td>2562407</td>\n",
       "      <td>Justice Hill</td>\n",
       "    </tr>\n",
       "    <tr>\n",
       "      <th>11106149</th>\n",
       "      <td>2019112500</td>\n",
       "      <td>20191125003789</td>\n",
       "      <td>2019</td>\n",
       "      <td>38</td>\n",
       "      <td>4</td>\n",
       "      <td>04:11:00</td>\n",
       "      <td>BLT</td>\n",
       "      <td>2</td>\n",
       "      <td>9</td>\n",
       "      <td>BLT</td>\n",
       "      <td>...</td>\n",
       "      <td>3</td>\n",
       "      <td>5</td>\n",
       "      <td>1</td>\n",
       "      <td>0</td>\n",
       "      <td>3</td>\n",
       "      <td>3</td>\n",
       "      <td>5</td>\n",
       "      <td>0</td>\n",
       "      <td>2562407</td>\n",
       "      <td>Justice Hill</td>\n",
       "    </tr>\n",
       "    <tr>\n",
       "      <th>11106150</th>\n",
       "      <td>2019112500</td>\n",
       "      <td>20191125003789</td>\n",
       "      <td>2019</td>\n",
       "      <td>38</td>\n",
       "      <td>4</td>\n",
       "      <td>04:11:00</td>\n",
       "      <td>BLT</td>\n",
       "      <td>2</td>\n",
       "      <td>9</td>\n",
       "      <td>BLT</td>\n",
       "      <td>...</td>\n",
       "      <td>3</td>\n",
       "      <td>5</td>\n",
       "      <td>1</td>\n",
       "      <td>0</td>\n",
       "      <td>3</td>\n",
       "      <td>3</td>\n",
       "      <td>5</td>\n",
       "      <td>0</td>\n",
       "      <td>2562407</td>\n",
       "      <td>Justice Hill</td>\n",
       "    </tr>\n",
       "    <tr>\n",
       "      <th>11106151</th>\n",
       "      <td>2019112500</td>\n",
       "      <td>20191125003789</td>\n",
       "      <td>2019</td>\n",
       "      <td>38</td>\n",
       "      <td>4</td>\n",
       "      <td>04:11:00</td>\n",
       "      <td>BLT</td>\n",
       "      <td>2</td>\n",
       "      <td>9</td>\n",
       "      <td>BLT</td>\n",
       "      <td>...</td>\n",
       "      <td>3</td>\n",
       "      <td>5</td>\n",
       "      <td>1</td>\n",
       "      <td>0</td>\n",
       "      <td>3</td>\n",
       "      <td>3</td>\n",
       "      <td>5</td>\n",
       "      <td>0</td>\n",
       "      <td>2562407</td>\n",
       "      <td>Justice Hill</td>\n",
       "    </tr>\n",
       "  </tbody>\n",
       "</table>\n",
       "<p>11106152 rows × 40 columns</p>\n",
       "</div>"
      ],
      "text/plain": [
       "              GameId          PlayId  Season  YardLine  Quarter GameClock  \\\n",
       "0         2017090700  20170907000118    2017        35        1  14:14:00   \n",
       "1         2017090700  20170907000118    2017        35        1  14:14:00   \n",
       "2         2017090700  20170907000118    2017        35        1  14:14:00   \n",
       "3         2017090700  20170907000118    2017        35        1  14:14:00   \n",
       "4         2017090700  20170907000118    2017        35        1  14:14:00   \n",
       "...              ...             ...     ...       ...      ...       ...   \n",
       "11106147  2019112500  20191125003789    2019        38        4  04:11:00   \n",
       "11106148  2019112500  20191125003789    2019        38        4  04:11:00   \n",
       "11106149  2019112500  20191125003789    2019        38        4  04:11:00   \n",
       "11106150  2019112500  20191125003789    2019        38        4  04:11:00   \n",
       "11106151  2019112500  20191125003789    2019        38        4  04:11:00   \n",
       "\n",
       "         PossessionTeam  Down  Distance FieldPosition  ...  WR  OL  QB DoO  \\\n",
       "0                    NE     3         2            NE  ...   3   5   1   0   \n",
       "1                    NE     3         2            NE  ...   3   5   1   0   \n",
       "2                    NE     3         2            NE  ...   3   5   1   0   \n",
       "3                    NE     3         2            NE  ...   3   5   1   0   \n",
       "4                    NE     3         2            NE  ...   3   5   1   0   \n",
       "...                 ...   ...       ...           ...  ...  ..  ..  ..  ..   \n",
       "11106147            BLT     2         9           BLT  ...   3   5   1   0   \n",
       "11106148            BLT     2         9           BLT  ...   3   5   1   0   \n",
       "11106149            BLT     2         9           BLT  ...   3   5   1   0   \n",
       "11106150            BLT     2         9           BLT  ...   3   5   1   0   \n",
       "11106151            BLT     2         9           BLT  ...   3   5   1   0   \n",
       "\n",
       "          DL LB DB OoD    NflId   DisplayName  \n",
       "0          2  3  6   0  2543773   James White  \n",
       "1          2  3  6   0  2543773   James White  \n",
       "2          2  3  6   0  2543773   James White  \n",
       "3          2  3  6   0  2543773   James White  \n",
       "4          2  3  6   0  2543773   James White  \n",
       "...       .. .. ..  ..      ...           ...  \n",
       "11106147   3  3  5   0  2562407  Justice Hill  \n",
       "11106148   3  3  5   0  2562407  Justice Hill  \n",
       "11106149   3  3  5   0  2562407  Justice Hill  \n",
       "11106150   3  3  5   0  2562407  Justice Hill  \n",
       "11106151   3  3  5   0  2562407  Justice Hill  \n",
       "\n",
       "[11106152 rows x 40 columns]"
      ]
     },
     "execution_count": 97,
     "metadata": {},
     "output_type": "execute_result"
    }
   ],
   "source": [
    "playByPlayData.merge(right=playerIdName, how='left', left_on='NflIdRusher', right_on='NflId')"
   ]
  },
  {
   "cell_type": "code",
   "execution_count": null,
   "metadata": {},
   "outputs": [],
   "source": []
  }
 ],
 "metadata": {
  "kernelspec": {
   "display_name": "Python 3",
   "language": "python",
   "name": "python3"
  },
  "language_info": {
   "codemirror_mode": {
    "name": "ipython",
    "version": 3
   },
   "file_extension": ".py",
   "mimetype": "text/x-python",
   "name": "python",
   "nbconvert_exporter": "python",
   "pygments_lexer": "ipython3",
   "version": "3.8.2"
  },
  "toc": {
   "base_numbering": 1,
   "nav_menu": {},
   "number_sections": true,
   "sideBar": true,
   "skip_h1_title": true,
   "title_cell": "Table of Contents",
   "title_sidebar": "Contents",
   "toc_cell": true,
   "toc_position": {},
   "toc_section_display": true,
   "toc_window_display": true
  }
 },
 "nbformat": 4,
 "nbformat_minor": 4
}
