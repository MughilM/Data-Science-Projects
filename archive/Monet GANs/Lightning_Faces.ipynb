{
 "cells": [
  {
   "cell_type": "markdown",
   "source": [
    "# Lightning Faces GAN\n",
    "This notebook trains the same face GAN in the other notebook, except it is built using the Pytorch Lightning framework. This allows for easy training with `.train()`, similar to Tensorflow.\n",
    "\n",
    "Following the documentation/tutorial on the [Lightning docs](https://pytorch-lightning.readthedocs.io/en/stable/notebooks/lightning_examples/basic-gan.html), we'll define our generator and discriminator as separate modules, like the previous module, and adjust the `training_step()` method in the `LightningModule` to define how to backpropagate the losses in both models."
   ],
   "metadata": {
    "collapsed": false
   }
  },
  {
   "cell_type": "markdown",
   "source": [
    "## Import Packages\n",
    "The same packages as last time, with Pytorch Lightning."
   ],
   "metadata": {
    "collapsed": false
   }
  },
  {
   "cell_type": "code",
   "execution_count": 15,
   "outputs": [
    {
     "name": "stdout",
     "output_type": "stream",
     "text": [
      "Random Seed: 1729\n"
     ]
    },
    {
     "data": {
      "text/plain": "<torch._C.Generator at 0x2bb0009f0f0>"
     },
     "execution_count": 15,
     "metadata": {},
     "output_type": "execute_result"
    }
   ],
   "source": [
    "import random\n",
    "import torch.nn as nn\n",
    "import torch.optim as optim\n",
    "import torch.utils.data\n",
    "import torch.nn.functional as F\n",
    "from typing import Tuple\n",
    "\n",
    "import torchvision.datasets as dset\n",
    "import torchvision.transforms as transforms\n",
    "import torchvision.utils as vutils\n",
    "\n",
    "import pytorch_lightning as pl\n",
    "from pytorch_lightning import LightningDataModule, LightningModule, Trainer\n",
    "from pytorch_lightning.callbacks.progress import TQDMProgressBar\n",
    "\n",
    "import numpy as np\n",
    "import matplotlib.pyplot as plt\n",
    "import matplotlib.animation as animation\n",
    "\n",
    "seed = 1729\n",
    "print('Random Seed:', seed)\n",
    "random.seed(seed)\n",
    "torch.manual_seed(seed)"
   ],
   "metadata": {
    "collapsed": false,
    "ExecuteTime": {
     "end_time": "2023-08-14T14:11:15.947968800Z",
     "start_time": "2023-08-14T14:11:15.928609200Z"
    }
   }
  },
  {
   "cell_type": "markdown",
   "source": [
    "## Configuration\n",
    "Same configuration as last time, set all the variables we plan to use, including the location of the data path."
   ],
   "metadata": {
    "collapsed": false
   }
  },
  {
   "cell_type": "code",
   "execution_count": 31,
   "outputs": [],
   "source": [
    "# Root directory for dataset\n",
    "dataroot = '../../data/celeba'\n",
    "# Number of workers for dataloader\n",
    "workers = 2\n",
    "# Batch size during training\n",
    "batch_size = 1024\n",
    "# Spatial size of training images. All images will be resized to this\n",
    "#   size using a transformer.\n",
    "image_size = 64\n",
    "# Number of channels in the training images. For color images this is 3\n",
    "nc = 3\n",
    "# Size of z latent vector (i.e. size of generator input)\n",
    "nz = 100\n",
    "# Size of feature maps in generator\n",
    "ngf = 64\n",
    "# Size of feature maps in discriminator\n",
    "ndf = 64\n",
    "# Number of training epochs\n",
    "num_epochs = 5\n",
    "# Learning rate for optimizers\n",
    "lr = 0.0002\n",
    "# Beta1 hyperparam for Adam optimizers\n",
    "beta1 = 0.5\n",
    "# Number of GPUs available. Use 0 for CPU mode.\n",
    "ngpu = 1\n",
    "\n",
    "device = torch.device('cuda:0' if (torch.cuda.is_available() and ngpu > 0) else 'cpu')"
   ],
   "metadata": {
    "collapsed": false,
    "ExecuteTime": {
     "end_time": "2023-08-14T14:15:59.664286Z",
     "start_time": "2023-08-14T14:15:59.647286300Z"
    }
   }
  },
  {
   "cell_type": "markdown",
   "source": [
    "## Lightning Data Module\n",
    "Instead of a raw `DataLoader` like before, we'll use PyTorch Lightning's own `DataLoader`. For a GAN, we don't need validation or test datasets."
   ],
   "metadata": {
    "collapsed": false
   }
  },
  {
   "cell_type": "code",
   "execution_count": 32,
   "outputs": [],
   "source": [
    "class FacesDataModule(LightningDataModule):\n",
    "    def __init__(self, data_root, image_size, batch_size, num_workers):\n",
    "        super().__init__()\n",
    "        self.faces_train = None\n",
    "        self.data_root = data_root\n",
    "        self.image_size = image_size\n",
    "        self.batch_size = batch_size\n",
    "        self.num_workers = num_workers\n",
    "\n",
    "        self.transforms = transforms.Compose([\n",
    "            transforms.Resize(image_size),\n",
    "            transforms.CenterCrop(image_size),\n",
    "            transforms.ToTensor(),\n",
    "            transforms.Normalize((0.5, 0.5, 0.5), (0.5, 0.5, 0.5))\n",
    "        ])\n",
    "\n",
    "    def prepare_data(self) -> None:\n",
    "        self.faces_train = dset.ImageFolder(root=self.data_root,\n",
    "                                            transform=self.transforms)\n",
    "\n",
    "    def train_dataloader(self):\n",
    "        return torch.utils.data.DataLoader(self.faces_train, batch_size=self.batch_size, shuffle=True, num_workers=self.num_workers)"
   ],
   "metadata": {
    "collapsed": false,
    "ExecuteTime": {
     "end_time": "2023-08-14T14:16:00.335262700Z",
     "start_time": "2023-08-14T14:16:00.316135400Z"
    }
   }
  },
  {
   "cell_type": "markdown",
   "source": [
    "## Generator and Disrciminator Modules\n",
    "For defining each neural network, we will use two separate modules. These will be directly `nn.Module`, so these themselves do not have anything to do with PyTorch Lightning.\n",
    "### Generator"
   ],
   "metadata": {
    "collapsed": false
   }
  },
  {
   "cell_type": "code",
   "execution_count": 33,
   "outputs": [],
   "source": [
    "class Generator(nn.Module):\n",
    "    def __init__(self, nz, ngf, nc, ngpu):\n",
    "        super().__init__()\n",
    "        self.ngpu = ngpu\n",
    "        self.model = nn.Sequential(\n",
    "            # input is Z, going into a convolution\n",
    "            nn.ConvTranspose2d(nz, ngf * 8, 4, 1, 0, bias=False),\n",
    "            nn.BatchNorm2d(ngf * 8),\n",
    "            nn.ReLU(True),\n",
    "            # state size. (ngf*8) x 4 x 4\n",
    "            nn.ConvTranspose2d(ngf * 8, ngf * 4, 4, 2, 1, bias=False),\n",
    "            nn.BatchNorm2d(ngf * 4),\n",
    "            nn.ReLU(True),\n",
    "            # state size. (ngf*4) x 8 x 8\n",
    "            nn.ConvTranspose2d(ngf * 4, ngf * 2, 4, 2, 1, bias=False),\n",
    "            nn.BatchNorm2d(ngf * 2),\n",
    "            nn.ReLU(True),\n",
    "            # state size. (ngf*2) x 16 x 16\n",
    "            nn.ConvTranspose2d(ngf * 2, ngf, 4, 2, 1, bias=False),\n",
    "            nn.BatchNorm2d(ngf),\n",
    "            nn.ReLU(True),\n",
    "            # state size. (ngf) x 32 x 32\n",
    "            nn.ConvTranspose2d(ngf, nc, 4, 2, 1, bias=False),\n",
    "            nn.Tanh()\n",
    "            # state size. (nc) x 64 x 64\n",
    "        )\n",
    "\n",
    "    def forward(self, x):\n",
    "        return self.model(x)"
   ],
   "metadata": {
    "collapsed": false,
    "ExecuteTime": {
     "end_time": "2023-08-14T14:16:00.679918Z",
     "start_time": "2023-08-14T14:16:00.660919500Z"
    }
   }
  },
  {
   "cell_type": "markdown",
   "source": [
    "### Discriminator\n",
    "Same thing for the discriminator. A simple init and forward methods."
   ],
   "metadata": {
    "collapsed": false
   }
  },
  {
   "cell_type": "code",
   "execution_count": 34,
   "outputs": [],
   "source": [
    "class Discriminator(nn.Module):\n",
    "    def __init__(self, nc, ndf, ngpu):\n",
    "        super().__init__()\n",
    "        self.ngpu = ngpu\n",
    "        self.model = nn.Sequential(\n",
    "            # input is (nc) x 64 x 64\n",
    "            nn.Conv2d(nc, ndf, 4, 2, 1, bias=False),\n",
    "            nn.LeakyReLU(0.2, inplace=True),\n",
    "            # state size. (ndf) x 32 x 32\n",
    "            nn.Conv2d(ndf, ndf * 2, 4, 2, 1, bias=False),\n",
    "            nn.BatchNorm2d(ndf * 2),\n",
    "            nn.LeakyReLU(0.2, inplace=True),\n",
    "            # state size. (ndf*2) x 16 x 16\n",
    "            nn.Conv2d(ndf * 2, ndf * 4, 4, 2, 1, bias=False),\n",
    "            nn.BatchNorm2d(ndf * 4),\n",
    "            nn.LeakyReLU(0.2, inplace=True),\n",
    "            # state size. (ndf*4) x 8 x 8\n",
    "            nn.Conv2d(ndf * 4, ndf * 8, 4, 2, 1, bias=False),\n",
    "            nn.BatchNorm2d(ndf * 8),\n",
    "            nn.LeakyReLU(0.2, inplace=True),\n",
    "            # state size. (ndf*8) x 4 x 4\n",
    "            nn.Conv2d(ndf * 8, 1, 4, 1, 0, bias=False),\n",
    "            nn.Sigmoid()\n",
    "        )\n",
    "\n",
    "    def forward(self, x):\n",
    "        return self.model(x)"
   ],
   "metadata": {
    "collapsed": false,
    "ExecuteTime": {
     "end_time": "2023-08-14T14:16:01.052947400Z",
     "start_time": "2023-08-14T14:16:01.025308600Z"
    }
   }
  },
  {
   "cell_type": "markdown",
   "source": [
    "### Initialization Method\n",
    "A quick method to initialize the two nets. This will be used in the entire module."
   ],
   "metadata": {
    "collapsed": false
   }
  },
  {
   "cell_type": "code",
   "execution_count": 35,
   "outputs": [],
   "source": [
    "# custom weights initialization called on netG and netD\n",
    "def weights_init(m):\n",
    "    classname = m.__class__.__name__\n",
    "    if classname.find('Conv') != -1:\n",
    "        nn.init.normal_(m.weight.data, 0.0, 0.02)\n",
    "    elif classname.find('BatchNorm') != -1:\n",
    "        nn.init.normal_(m.weight.data, 1.0, 0.02)\n",
    "        nn.init.constant_(m.bias.data, 0)"
   ],
   "metadata": {
    "collapsed": false,
    "ExecuteTime": {
     "end_time": "2023-08-14T14:16:01.444264300Z",
     "start_time": "2023-08-14T14:16:01.426252300Z"
    }
   }
  },
  {
   "cell_type": "markdown",
   "source": [
    "## GAN creation\n",
    "Here is where we actually create the entire GAN, with both the generator and discriminator in the initialization."
   ],
   "metadata": {
    "collapsed": false
   }
  },
  {
   "cell_type": "code",
   "execution_count": 36,
   "outputs": [],
   "source": [
    "class GAN(LightningModule):\n",
    "    def __init__(self, lr, beta1, beta2=0.999, **kwargs):\n",
    "        super().__init__()\n",
    "        self.save_hyperparameters()\n",
    "        self.automatic_optimization = False\n",
    "        # Create the generator and discriminator and\n",
    "        # initialize the layers\n",
    "        self.generator = Generator(nz, ngf, nc, ngpu).to(device)\n",
    "        self.generator.apply(weights_init)\n",
    "        self.discriminator = Discriminator(nc, ndf, ngpu).to(device)\n",
    "        self.discriminator.apply(weights_init)\n",
    "\n",
    "        self.real_label = 1.\n",
    "        self.fake_label = 0.\n",
    "\n",
    "    def forward(self, x):\n",
    "        return self.generator(x)\n",
    "\n",
    "    def configure_optimizers(self) -> Tuple[torch.optim.Optimizer, torch.optim.Optimizer]:\n",
    "        lr = self.hparams.lr\n",
    "        beta1 = self.hparams.beta1\n",
    "        beta2 = self.hparams.beta2\n",
    "\n",
    "        optimizerG = optim.Adam(self.generator.parameters(), lr=lr, betas=(beta1, beta2))\n",
    "        optimizerD = optim.Adam(self.discriminator.parameters(), lr=lr, betas=(beta1, beta2))\n",
    "        return optimizerG, optimizerD\n",
    "\n",
    "    def adversarial_loss(self, y_hat, y):\n",
    "        return F.binary_cross_entropy(y_hat, y)\n",
    "\n",
    "    def training_step(self, batch, batch_idx):\n",
    "        g_opt, d_opt = self.optimizers()\n",
    "        imgs, _ = batch\n",
    "        b_size = imgs.size(0)\n",
    "        # sample noise\n",
    "        noise = torch.randn(b_size, nz, 1, 1, device=device)\n",
    "\n",
    "        # Train generator, maximize log(D(G(z)))\n",
    "        # Generate \"real\" image batch with G\n",
    "        # label.fill_(self.fake_label)\n",
    "        # For purposes of generator, the target needs to be real,\n",
    "        # because the generator is trying to trick the discriminator.\n",
    "        label = torch.full((b_size,), self.real_label, dtype=torch.float).to(device)\n",
    "        # We call the discriminator on the generated output\n",
    "        output = self.discriminator(self(noise)).view(-1)\n",
    "        # Calculate loss and return\n",
    "        g_loss = self.adversarial_loss(output, label)\n",
    "\n",
    "        g_opt.zero_grad()\n",
    "        self.manual_backward(g_loss)\n",
    "        g_opt.step()\n",
    "\n",
    "        # Train discriminator: maximize log(D(x)) + log(1 - D(G(z)))\n",
    "        # label.fill_(self.real_label)\n",
    "        label = torch.full((b_size,), self.real_label, dtype=torch.float).to(device)\n",
    "        # Calculate loss for real images\n",
    "        real_loss = self.adversarial_loss(self.discriminator(imgs).view(-1), label)\n",
    "\n",
    "        # Now run fake images through = images that are generated\n",
    "        label = torch.full((b_size,), self.fake_label, dtype=torch.float).to(device)\n",
    "        fake_loss = self.adversarial_loss(self.discriminator(self(noise).detach()).view(-1), label)\n",
    "\n",
    "        # Discriminator loss is the average of these\n",
    "        d_loss = (real_loss + fake_loss) / 2\n",
    "\n",
    "        d_opt.zero_grad()\n",
    "        self.manual_backward(d_loss)\n",
    "        d_opt.step()\n",
    "\n",
    "        # Return both generator and discriminator loss, and log it in the progress bar\n",
    "        self.log_dict({'g_loss': g_loss, 'd_loss': d_loss}, prog_bar=True)\n"
   ],
   "metadata": {
    "collapsed": false,
    "ExecuteTime": {
     "end_time": "2023-08-14T14:16:02.429659900Z",
     "start_time": "2023-08-14T14:16:02.415154300Z"
    }
   }
  },
  {
   "cell_type": "markdown",
   "source": [
    "## Training"
   ],
   "metadata": {
    "collapsed": false
   }
  },
  {
   "cell_type": "code",
   "execution_count": 37,
   "outputs": [],
   "source": [
    "dm = FacesDataModule(dataroot, image_size, batch_size, workers)\n",
    "model = GAN(lr, beta1)"
   ],
   "metadata": {
    "collapsed": false,
    "ExecuteTime": {
     "end_time": "2023-08-14T14:16:03.342047700Z",
     "start_time": "2023-08-14T14:16:03.245152100Z"
    }
   }
  },
  {
   "cell_type": "code",
   "execution_count": 38,
   "outputs": [
    {
     "name": "stderr",
     "output_type": "stream",
     "text": [
      "GPU available: True (cuda), used: True\n",
      "TPU available: False, using: 0 TPU cores\n",
      "IPU available: False, using: 0 IPUs\n",
      "HPU available: False, using: 0 HPUs\n",
      "LOCAL_RANK: 0 - CUDA_VISIBLE_DEVICES: [0]\n",
      "\n",
      "  | Name          | Type          | Params\n",
      "------------------------------------------------\n",
      "0 | generator     | Generator     | 3.6 M \n",
      "1 | discriminator | Discriminator | 2.8 M \n",
      "------------------------------------------------\n",
      "6.3 M     Trainable params\n",
      "0         Non-trainable params\n",
      "6.3 M     Total params\n",
      "25.369    Total estimated model params size (MB)\n"
     ]
    },
    {
     "data": {
      "text/plain": "Training: 0it [00:00, ?it/s]",
      "application/vnd.jupyter.widget-view+json": {
       "version_major": 2,
       "version_minor": 0,
       "model_id": "b27a2f2a51454f42a15cad8b2f429297"
      }
     },
     "metadata": {},
     "output_type": "display_data"
    },
    {
     "name": "stderr",
     "output_type": "stream",
     "text": [
      "`Trainer.fit` stopped: `max_epochs=5` reached.\n"
     ]
    }
   ],
   "source": [
    "trainer = Trainer(\n",
    "    accelerator='auto',\n",
    "    devices=1 if torch.cuda.is_available() else None,\n",
    "    max_epochs=5,\n",
    "    callbacks=[TQDMProgressBar(refresh_rate=20)]\n",
    ")\n",
    "trainer.fit(model, dm)"
   ],
   "metadata": {
    "collapsed": false,
    "ExecuteTime": {
     "end_time": "2023-08-14T14:35:19.735719800Z",
     "start_time": "2023-08-14T14:16:03.681065700Z"
    }
   }
  },
  {
   "cell_type": "code",
   "execution_count": 49,
   "outputs": [],
   "source": [
    "fixed_noise = torch.randn(64, nz, 1, 1, device=device)\n",
    "model.to(device)\n",
    "fake_images = model(fixed_noise).detach().cpu()"
   ],
   "metadata": {
    "collapsed": false,
    "ExecuteTime": {
     "end_time": "2023-08-14T14:38:04.055435700Z",
     "start_time": "2023-08-14T14:38:03.971354Z"
    }
   }
  },
  {
   "cell_type": "code",
   "execution_count": 50,
   "outputs": [
    {
     "name": "stderr",
     "output_type": "stream",
     "text": [
      "Clipping input data to the valid range for imshow with RGB data ([0..1] for floats or [0..255] for integers).\n"
     ]
    },
    {
     "data": {
      "text/plain": "<matplotlib.image.AxesImage at 0x2bc2a6d95a0>"
     },
     "execution_count": 50,
     "metadata": {},
     "output_type": "execute_result"
    },
    {
     "data": {
      "text/plain": "<Figure size 800x800 with 1 Axes>",
      "image/png": "[encoded data removed]"
     },
     "metadata": {},
     "output_type": "display_data"
    }
   ],
   "source": [
    "fig = plt.figure(figsize=(8,8))\n",
    "plt.axis(\"off\")\n",
    "plt.imshow(np.transpose(fake_images[0], (1, 2, 0)))"
   ],
   "metadata": {
    "collapsed": false,
    "ExecuteTime": {
     "end_time": "2023-08-14T14:38:04.272238300Z",
     "start_time": "2023-08-14T14:38:04.145826900Z"
    }
   }
  },
  {
   "cell_type": "code",
   "execution_count": null,
   "outputs": [],
   "source": [],
   "metadata": {
    "collapsed": false
   }
  }
 ],
 "metadata": {
  "kernelspec": {
   "display_name": "Python 3",
   "language": "python",
   "name": "python3"
  },
  "language_info": {
   "codemirror_mode": {
    "name": "ipython",
    "version": 2
   },
   "file_extension": ".py",
   "mimetype": "text/x-python",
   "name": "python",
   "nbconvert_exporter": "python",
   "pygments_lexer": "ipython2",
   "version": "2.7.6"
  }
 },
 "nbformat": 4,
 "nbformat_minor": 0
}
