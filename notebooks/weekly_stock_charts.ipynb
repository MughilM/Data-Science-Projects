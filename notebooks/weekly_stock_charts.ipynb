{
 "cells": [
  {
   "cell_type": "markdown",
   "source": [
    "# Weekly Stock Charts\n",
    "This notebook will go through training a model that will attempt to predict the stock movements given a **weekly** candlestick plot of the same stock in the past few months. The look-forward timeline will be about a month, and the cutoff will be ten percent. The inspiration to use weekly stock charts come from William O'Neil's excellent books [_How to Make Money in Stocks_](https://a.co/d/gCEQYOC) and [_24 Essential Lessons for Investment Success_](https://a.co/d/7LUhxW8). Although these books released at the turn of the century, the lessons still hold true today. In particular, the author outlines several important points when buying and selling stocks, and a vast majority of the examples use weekly candlestick plots as a reference. If past analysis was able to discover various patterns, then a deep learning model for image recognition should reflect the same predictive power. \n",
    "\n",
    "Admittedly, the time frame for when to check stock jumps is a bit arbitrary, as it heavily varies in the real-world. The look-forward cutoff will most likely need to be tuned, both in the amount of time, and the percentage change. Let's get started!\n",
    "\n",
    "## Introduction\n",
    "The data we will use comes from a proprietary source that gives minute-by-minute data of a wide range of stocks. In our use case, we'll focus on stocks listed in the NASDAQ 100. To produce our candlestick plots, we'll use the `mplfinance` package, and they will outputted to files. Since these candlestick plots are images, we'll use a pre-trained model that will be fine-tuned. Hopefully, at the end of our model training, we will get an accuracy of above 50%, which indicates _something_ has been discovered as a possible pattern.\n",
    "\n",
    "## Import Packages\n",
    "As usual, we'll start with importing all the packages we'll need. As mentioned in the introduction, the package of note is the `mplfinance` package, which can plot our candlestick plots without hassle, as well as do other financial analysis. Additionally, using `multiprocessing` will become very important when we generate the plots, as it does not take a trivial amount of time to generate a single plot."
   ],
   "metadata": {
    "collapsed": false
   },
   "id": "c155d39df276b304"
  },
  {
   "cell_type": "code",
   "outputs": [],
   "source": [
    "import io\n",
    "import os\n",
    "import glob\n",
    "import datetime as dt\n",
    "from typing import Optional\n",
    "import multiprocessing as mp\n",
    "\n",
    "import numpy as np\n",
    "import pandas as pd\n",
    "from tqdm import tqdm\n",
    "\n",
    "import mplfinance as mpf\n",
    "import matplotlib.pyplot as plt\n",
    "import plotly.graph_objects as go\n",
    "import plotly.express as px\n",
    "from plotly.subplots import make_subplots\n",
    "import cv2\n",
    "from PIL import Image\n",
    "\n",
    "from torch.utils.data import Dataset, DataLoader\n",
    "import torchvision.transforms as T\n",
    "import pytorch_lightning as pl\n",
    "from pytorch_lightning.utilities.types import TRAIN_DATALOADERS, EVAL_DATALOADERS\n",
    "\n",
    "ROOT = '../'\n",
    "DATA_DIR = os.path.join(ROOT, 'data', 'NASDAQ 100 Index Components')\n",
    "MINUTE_TXT_DIR = os.path.join(DATA_DIR, 'minute_txt_files')\n",
    "VAL_SPLIT_DATE = dt.datetime(2015, 1, 1)  # Everything after this date will be treated as validation"
   ],
   "metadata": {
    "collapsed": false,
    "ExecuteTime": {
     "end_time": "2024-03-02T15:21:02.250814600Z",
     "start_time": "2024-03-02T15:21:02.222282300Z"
    }
   },
   "id": "1d9bfd71c5521297",
   "execution_count": 18
  },
  {
   "cell_type": "markdown",
   "source": [
    "## Data Description\n",
    "As stated before, the data I will be preprocessing from is a proprietary data source I bought from back in 2018. It is essentially minute-by-minute stock data for all the stocks in the exchange. They are broken down into separate groups, such as index funds, regular stocks, NASDAQ 100, and the S & P 500. In our case, we will be dealing with the stocks in the **NASDAQ 100**. \n",
    "\n",
    "Because this goes as far back in time as possible, there won't be exactly 100 stocks in the NASDAQ 100 group. This is because different stocks enter and leave over time. The files themselves are TXT files. Let's examine one of these stocks: **AAPL**."
   ],
   "metadata": {
    "collapsed": false
   },
   "id": "e6ac8d622c43fcd2"
  },
  {
   "cell_type": "code",
   "outputs": [
    {
     "data": {
      "text/plain": "        Date  Time  Open  High   Low  Close  Volume\n0 2002-12-30   930  0.93  0.93  0.93   0.93  571466\n1 2002-12-30   931  0.93  0.93  0.93   0.93  170800\n2 2002-12-30   932  0.93  0.93  0.93   0.93  110320\n3 2002-12-30   933  0.93  0.93  0.93   0.93   28000\n4 2002-12-30   934  0.93  0.93  0.93   0.93  123900",
      "text/html": "<div>\n<style scoped>\n    .dataframe tbody tr th:only-of-type {\n        vertical-align: middle;\n    }\n\n    .dataframe tbody tr th {\n        vertical-align: top;\n    }\n\n    .dataframe thead th {\n        text-align: right;\n    }\n</style>\n<table border=\"1\" class=\"dataframe\">\n  <thead>\n    <tr style=\"text-align: right;\">\n      <th></th>\n      <th>Date</th>\n      <th>Time</th>\n      <th>Open</th>\n      <th>High</th>\n      <th>Low</th>\n      <th>Close</th>\n      <th>Volume</th>\n    </tr>\n  </thead>\n  <tbody>\n    <tr>\n      <th>0</th>\n      <td>2002-12-30</td>\n      <td>930</td>\n      <td>0.93</td>\n      <td>0.93</td>\n      <td>0.93</td>\n      <td>0.93</td>\n      <td>571466</td>\n    </tr>\n    <tr>\n      <th>1</th>\n      <td>2002-12-30</td>\n      <td>931</td>\n      <td>0.93</td>\n      <td>0.93</td>\n      <td>0.93</td>\n      <td>0.93</td>\n      <td>170800</td>\n    </tr>\n    <tr>\n      <th>2</th>\n      <td>2002-12-30</td>\n      <td>932</td>\n      <td>0.93</td>\n      <td>0.93</td>\n      <td>0.93</td>\n      <td>0.93</td>\n      <td>110320</td>\n    </tr>\n    <tr>\n      <th>3</th>\n      <td>2002-12-30</td>\n      <td>933</td>\n      <td>0.93</td>\n      <td>0.93</td>\n      <td>0.93</td>\n      <td>0.93</td>\n      <td>28000</td>\n    </tr>\n    <tr>\n      <th>4</th>\n      <td>2002-12-30</td>\n      <td>934</td>\n      <td>0.93</td>\n      <td>0.93</td>\n      <td>0.93</td>\n      <td>0.93</td>\n      <td>123900</td>\n    </tr>\n  </tbody>\n</table>\n</div>"
     },
     "execution_count": 2,
     "metadata": {},
     "output_type": "execute_result"
    }
   ],
   "source": [
    "# Although they are .txt files, we can still use read_csv.\n",
    "# Sort by the date, then the time.\n",
    "aapl = pd.read_csv(os.path.join(MINUTE_TXT_DIR, 'AAPL.txt'), parse_dates=[0]).sort_values(by=['Date', 'Time'])\n",
    "aapl.head()"
   ],
   "metadata": {
    "collapsed": false,
    "ExecuteTime": {
     "end_time": "2024-03-02T14:28:07.916644500Z",
     "start_time": "2024-03-02T14:28:06.991171800Z"
    }
   },
   "id": "a141e5e11868ee39",
   "execution_count": 2
  },
  {
   "cell_type": "markdown",
   "source": [
    "We have 7 columns:\n",
    "- **Date** - The actual date.\n",
    "- **Time** - Since this is minute data, we need the exact minute. It is displayed as a concatenated number.\n",
    "- **Open** - The _open_ price is the price of the stock at the start of the minute.\n",
    "- **High** - The highest price this stock was during the minute.\n",
    "- **Low** - The lowest price this stock was during the minute.\n",
    "- **Close** - The price of the stock at the end of the minute.\n",
    "- **Volume** - The number of shares that were traded during this minute.\n",
    "\n",
    "These variable definitions _do not_ depend on the time frequency of the data. Whether it's minute, daily, or weekly, the open, high, low, close, and volume mean the same. This means that we can preprocess in a straightforward manner.\n",
    "\n",
    "## Preprocessing\n",
    "Going from a minute frequency to a weekly frequency is easy. The `Time` column will be eliminated, and the `Date` column will now show the date of the start of the week. Ordinarily, no trades happen on the weekends. There are holidays throughout the year, but there is no reason to expand or shorten the week depending on the presence of a holiday. Each week in our data will start on the Monday and end on the Friday.\n",
    "\n",
    "The open and close prices will be what the prices were at the start and end of the week respectively. Likewise, the high and low prices will be for the highest and lowest price points during the week. With volume, we sum the volume for each minute in the week and get the total volume for the week.\n",
    "\n",
    "**We want to get the first full week of data, namely the first Monday.** This ensures each week is consistent as possible. This might not apply to the last week in the data though."
   ],
   "metadata": {
    "collapsed": false
   },
   "id": "d17db09bb78fe1b1"
  },
  {
   "cell_type": "code",
   "outputs": [
    {
     "data": {
      "text/plain": "   Time  Open  High   Low  Close  Volume       Week\n0   930  0.93  0.93  0.93   0.93  571466 2002-12-30\n1   931  0.93  0.93  0.93   0.93  170800 2002-12-30\n2   932  0.93  0.93  0.93   0.93  110320 2002-12-30\n3   933  0.93  0.93  0.93   0.93   28000 2002-12-30\n4   934  0.93  0.93  0.93   0.93  123900 2002-12-30",
      "text/html": "<div>\n<style scoped>\n    .dataframe tbody tr th:only-of-type {\n        vertical-align: middle;\n    }\n\n    .dataframe tbody tr th {\n        vertical-align: top;\n    }\n\n    .dataframe thead th {\n        text-align: right;\n    }\n</style>\n<table border=\"1\" class=\"dataframe\">\n  <thead>\n    <tr style=\"text-align: right;\">\n      <th></th>\n      <th>Time</th>\n      <th>Open</th>\n      <th>High</th>\n      <th>Low</th>\n      <th>Close</th>\n      <th>Volume</th>\n      <th>Week</th>\n    </tr>\n  </thead>\n  <tbody>\n    <tr>\n      <th>0</th>\n      <td>930</td>\n      <td>0.93</td>\n      <td>0.93</td>\n      <td>0.93</td>\n      <td>0.93</td>\n      <td>571466</td>\n      <td>2002-12-30</td>\n    </tr>\n    <tr>\n      <th>1</th>\n      <td>931</td>\n      <td>0.93</td>\n      <td>0.93</td>\n      <td>0.93</td>\n      <td>0.93</td>\n      <td>170800</td>\n      <td>2002-12-30</td>\n    </tr>\n    <tr>\n      <th>2</th>\n      <td>932</td>\n      <td>0.93</td>\n      <td>0.93</td>\n      <td>0.93</td>\n      <td>0.93</td>\n      <td>110320</td>\n      <td>2002-12-30</td>\n    </tr>\n    <tr>\n      <th>3</th>\n      <td>933</td>\n      <td>0.93</td>\n      <td>0.93</td>\n      <td>0.93</td>\n      <td>0.93</td>\n      <td>28000</td>\n      <td>2002-12-30</td>\n    </tr>\n    <tr>\n      <th>4</th>\n      <td>934</td>\n      <td>0.93</td>\n      <td>0.93</td>\n      <td>0.93</td>\n      <td>0.93</td>\n      <td>123900</td>\n      <td>2002-12-30</td>\n    </tr>\n  </tbody>\n</table>\n</div>"
     },
     "execution_count": 3,
     "metadata": {},
     "output_type": "execute_result"
    }
   ],
   "source": [
    "# .weekday() gets the day of the week.\n",
    "# 0 = Monday, 6 = Sunday\n",
    "# Find the first Monday in the dataset...\n",
    "i = 0\n",
    "while i < len(aapl):\n",
    "    if aapl['Date'].iloc[i].weekday() == 0:\n",
    "        break\n",
    "    i += 1\n",
    "\n",
    "aapl = aapl.iloc[i:]\n",
    "\n",
    "# Now it starts with a Monday, we need to record the week each day \n",
    "# is part of. For each date, we subtract off the weekday integer.\n",
    "aapl['Week'] = aapl['Date'] - pd.to_timedelta(aapl['Date'].dt.weekday, unit='d')\n",
    "aapl.drop(columns='Date', inplace=True)\n",
    "aapl.head()"
   ],
   "metadata": {
    "collapsed": false,
    "ExecuteTime": {
     "end_time": "2024-03-02T14:28:11.936435900Z",
     "start_time": "2024-03-02T14:28:11.773057100Z"
    }
   },
   "id": "340a3a012f3fa97",
   "execution_count": 3
  },
  {
   "cell_type": "markdown",
   "source": [
    "Now that we what each week each row is from, we can easily aggregate the data using `.groupby()`. Remember, we need the **minimum** low price, the **maximum** high price, and the **sum** of the volume. For open and close, we need the first and last rows for each week."
   ],
   "metadata": {
    "collapsed": false
   },
   "id": "8a1bcf34f0a5bbf2"
  },
  {
   "cell_type": "code",
   "outputs": [
    {
     "data": {
      "text/plain": "            Open  High   Low  Close     Volume\n2002-12-30  0.93  0.97  0.92   0.97  157277204\n2003-01-06  0.98  1.00  0.96   0.97  313492984\n2003-01-13  0.97  0.97  0.93   0.93  367800566\n2003-01-20  0.94  0.95  0.91   0.92  235185202\n2003-01-27  0.91  0.98  0.91   0.95  420238056",
      "text/html": "<div>\n<style scoped>\n    .dataframe tbody tr th:only-of-type {\n        vertical-align: middle;\n    }\n\n    .dataframe tbody tr th {\n        vertical-align: top;\n    }\n\n    .dataframe thead th {\n        text-align: right;\n    }\n</style>\n<table border=\"1\" class=\"dataframe\">\n  <thead>\n    <tr style=\"text-align: right;\">\n      <th></th>\n      <th>Open</th>\n      <th>High</th>\n      <th>Low</th>\n      <th>Close</th>\n      <th>Volume</th>\n    </tr>\n  </thead>\n  <tbody>\n    <tr>\n      <th>2002-12-30</th>\n      <td>0.93</td>\n      <td>0.97</td>\n      <td>0.92</td>\n      <td>0.97</td>\n      <td>157277204</td>\n    </tr>\n    <tr>\n      <th>2003-01-06</th>\n      <td>0.98</td>\n      <td>1.00</td>\n      <td>0.96</td>\n      <td>0.97</td>\n      <td>313492984</td>\n    </tr>\n    <tr>\n      <th>2003-01-13</th>\n      <td>0.97</td>\n      <td>0.97</td>\n      <td>0.93</td>\n      <td>0.93</td>\n      <td>367800566</td>\n    </tr>\n    <tr>\n      <th>2003-01-20</th>\n      <td>0.94</td>\n      <td>0.95</td>\n      <td>0.91</td>\n      <td>0.92</td>\n      <td>235185202</td>\n    </tr>\n    <tr>\n      <th>2003-01-27</th>\n      <td>0.91</td>\n      <td>0.98</td>\n      <td>0.91</td>\n      <td>0.95</td>\n      <td>420238056</td>\n    </tr>\n  </tbody>\n</table>\n</div>"
     },
     "execution_count": 4,
     "metadata": {},
     "output_type": "execute_result"
    }
   ],
   "source": [
    "groups = aapl.groupby('Week')\n",
    "\n",
    "# groupby automatically sorts by the Week.\n",
    "# groups.groups is a key-value dictionary of each group name and the \n",
    "# corresponding indices in the original df that it mapped to. \n",
    "# Using this, we can find the earliest and latest time point for each week,\n",
    "# a.k.a our open and close prices.\n",
    "open_indices = [min(groups.groups[key]) for key in sorted(groups.groups.keys())]\n",
    "opens = aapl.iloc[open_indices]['Open'].values\n",
    "\n",
    "close_indices = [max(groups.groups[key]) for key in sorted(groups.groups.keys())]\n",
    "closes = aapl.iloc[close_indices]['Close'].values\n",
    "\n",
    "highs = groups.max()['High'].values\n",
    "lows = groups.min()['Low'].values\n",
    "volumes = groups.sum()['Volume'].values\n",
    "\n",
    "# Concatenate them all, and create a dataframe out of it...\n",
    "processed = pd.DataFrame(data=np.vstack((opens, highs, lows, closes, volumes)).T,\n",
    "                         index=np.unique(aapl['Week']), columns=['Open', 'High', 'Low', 'Close', 'Volume'])\n",
    "processed['Volume'] = processed['Volume'].astype(int)\n",
    "processed.head()"
   ],
   "metadata": {
    "collapsed": false,
    "ExecuteTime": {
     "end_time": "2024-03-02T14:28:15.145883400Z",
     "start_time": "2024-03-02T14:28:14.827542500Z"
    }
   },
   "id": "300ab8e0b700b8d9",
   "execution_count": 4
  },
  {
   "cell_type": "code",
   "outputs": [
    {
     "data": {
      "text/plain": "<Figure size 800x575 with 4 Axes>",
      "image/png": "[encoded data removed]"
     },
     "metadata": {},
     "output_type": "display_data"
    }
   ],
   "source": [
    "LOOKBACK_WEEKS = 30\n",
    "data = processed.iloc[-LOOKBACK_WEEKS:, :]\n",
    "mpf.plot(data, type='candle', style='yahoo', volume=True)"
   ],
   "metadata": {
    "collapsed": false,
    "ExecuteTime": {
     "end_time": "2024-03-02T14:29:19.669879100Z",
     "start_time": "2024-03-02T14:29:19.367336900Z"
    }
   },
   "id": "78e84003aea281d3",
   "execution_count": 6
  },
  {
   "cell_type": "code",
   "outputs": [
    {
     "data": {
      "text/plain": "<Figure size 800x575 with 4 Axes>",
      "image/png": "[encoded data removed]"
     },
     "metadata": {},
     "output_type": "display_data"
    }
   ],
   "source": [
    "fig, ax = mpf.plot(data, type='candle', style='yahoo', volume=True, returnfig=True)"
   ],
   "metadata": {
    "collapsed": false,
    "ExecuteTime": {
     "end_time": "2024-03-02T14:34:02.701954500Z",
     "start_time": "2024-03-02T14:34:02.374194600Z"
    }
   },
   "id": "b161f3f5ee465153",
   "execution_count": 7
  },
  {
   "cell_type": "code",
   "outputs": [],
   "source": [
    "canvas = fig.canvas"
   ],
   "metadata": {
    "collapsed": false,
    "ExecuteTime": {
     "end_time": "2024-03-02T14:34:13.831354Z",
     "start_time": "2024-03-02T14:34:13.800777Z"
    }
   },
   "id": "f5b70b1198f7fc25",
   "execution_count": 8
  },
  {
   "cell_type": "code",
   "outputs": [],
   "source": [
    "canvas.draw()"
   ],
   "metadata": {
    "collapsed": false,
    "ExecuteTime": {
     "end_time": "2024-03-02T14:34:22.552456900Z",
     "start_time": "2024-03-02T14:34:22.500196200Z"
    }
   },
   "id": "dbbf5af5010963a1",
   "execution_count": 9
  },
  {
   "cell_type": "code",
   "outputs": [],
   "source": [
    "width, height = canvas.get_width_height()"
   ],
   "metadata": {
    "collapsed": false,
    "ExecuteTime": {
     "end_time": "2024-03-02T14:35:42.196555200Z",
     "start_time": "2024-03-02T14:35:42.177033900Z"
    }
   },
   "id": "1c71926aedcc309c",
   "execution_count": 10
  },
  {
   "cell_type": "code",
   "outputs": [
    {
     "name": "stderr",
     "output_type": "stream",
     "text": [
      "C:\\Users\\mughi\\AppData\\Local\\Temp\\ipykernel_17084\\2627200568.py:1: MatplotlibDeprecationWarning: The tostring_rgb function was deprecated in Matplotlib 3.8 and will be removed two minor releases later. Use buffer_rgba instead.\n",
      "  image_array = np.frombuffer(canvas.tostring_rgb(), dtype='uint8')\n"
     ]
    }
   ],
   "source": [
    "image_array = np.frombuffer(canvas.tostring_rgb(), dtype='uint8')\n",
    "image_array = image_array.reshape(height, width, 3)"
   ],
   "metadata": {
    "collapsed": false,
    "ExecuteTime": {
     "end_time": "2024-03-02T14:36:18.029798700Z",
     "start_time": "2024-03-02T14:36:17.990781500Z"
    }
   },
   "id": "3b84cccfa5b5329a",
   "execution_count": 11
  },
  {
   "cell_type": "code",
   "outputs": [
    {
     "data": {
      "text/plain": "<PIL.Image.Image image mode=RGB size=800x575>",
      "image/png": "[encoded data removed]",
      "image/jpeg": "[encoded data removed]"
     },
     "execution_count": 14,
     "metadata": {},
     "output_type": "execute_result"
    }
   ],
   "source": [
    "Image.fromarray(image_array)"
   ],
   "metadata": {
    "collapsed": false,
    "ExecuteTime": {
     "end_time": "2024-03-02T14:36:44.399384400Z",
     "start_time": "2024-03-02T14:36:44.339143100Z"
    }
   },
   "id": "fed230f5276beb86",
   "execution_count": 14
  },
  {
   "cell_type": "code",
   "outputs": [
    {
     "data": {
      "application/vnd.plotly.v1+json": {
       "data": [
        {
         "close": [
          176.43,
          169.5,
          158.59,
          155.08,
          171.19,
          174.28,
          174.99,
          178.64,
          176.59,
          163.76,
          166.68,
          167.11,
          173.45,
          164.5,
          161.14,
          182.48,
          187.93,
          185.64,
          187.92,
          189.57,
          190.81,
          188.26,
          184.27,
          182.27,
          187.32,
          190.66,
          191.0,
          190.31,
          207.25,
          207.55
         ],
         "high": [
          178.06,
          177.4,
          168.23,
          162.01,
          173.54,
          174.37,
          179.3,
          178.68,
          182.16,
          176.17,
          173.87,
          172.95,
          174.55,
          177.63,
          165.7,
          182.9,
          189.4,
          188.87,
          188.99,
          189.6,
          193.52,
          192.21,
          188.56,
          186.63,
          187.77,
          191.17,
          191.98,
          195.28,
          208.01,
          209.1
         ],
         "low": [
          173.08,
          168.13,
          158.28,
          149.14,
          156.35,
          169.75,
          171.19,
          172.99,
          176.32,
          163.74,
          163.98,
          163.27,
          168.57,
          164.21,
          159.45,
          160.66,
          182.32,
          184.45,
          185.11,
          185.49,
          189.11,
          187.6,
          182.81,
          180.1,
          182.78,
          186.95,
          188.54,
          188.9,
          188.41,
          203.81
         ],
         "open": [
          175.89,
          175.29,
          168.23,
          157.3,
          157.32,
          170.81,
          175.06,
          173.86,
          178.98,
          176.07,
          166.83,
          166.66,
          168.57,
          173.84,
          165.59,
          160.93,
          183.83,
          188.35,
          187.34,
          186.94,
          190.93,
          190.67,
          187.21,
          182.76,
          183.23,
          188.84,
          190.85,
          190.0,
          191.31,
          207.2
         ],
         "x": [
          "2018-01-15T00:00:00",
          "2018-01-22T00:00:00",
          "2018-01-29T00:00:00",
          "2018-02-05T00:00:00",
          "2018-02-12T00:00:00",
          "2018-02-19T00:00:00",
          "2018-02-26T00:00:00",
          "2018-03-05T00:00:00",
          "2018-03-12T00:00:00",
          "2018-03-19T00:00:00",
          "2018-03-26T00:00:00",
          "2018-04-02T00:00:00",
          "2018-04-09T00:00:00",
          "2018-04-16T00:00:00",
          "2018-04-23T00:00:00",
          "2018-04-30T00:00:00",
          "2018-05-07T00:00:00",
          "2018-05-14T00:00:00",
          "2018-05-21T00:00:00",
          "2018-05-28T00:00:00",
          "2018-06-04T00:00:00",
          "2018-06-11T00:00:00",
          "2018-06-18T00:00:00",
          "2018-06-25T00:00:00",
          "2018-07-02T00:00:00",
          "2018-07-09T00:00:00",
          "2018-07-16T00:00:00",
          "2018-07-23T00:00:00",
          "2018-07-30T00:00:00",
          "2018-08-06T00:00:00"
         ],
         "type": "candlestick"
        }
       ],
       "layout": {
        "template": {
         "data": {
          "histogram2dcontour": [
           {
            "type": "histogram2dcontour",
            "colorbar": {
             "outlinewidth": 0,
             "ticks": ""
            },
            "colorscale": [
             [
              0.0,
              "#0d0887"
             ],
             [
              0.1111111111111111,
              "#46039f"
             ],
             [
              0.2222222222222222,
              "#7201a8"
             ],
             [
              0.3333333333333333,
              "#9c179e"
             ],
             [
              0.4444444444444444,
              "#bd3786"
             ],
             [
              0.5555555555555556,
              "#d8576b"
             ],
             [
              0.6666666666666666,
              "#ed7953"
             ],
             [
              0.7777777777777778,
              "#fb9f3a"
             ],
             [
              0.8888888888888888,
              "#fdca26"
             ],
             [
              1.0,
              "#f0f921"
             ]
            ]
           }
          ],
          "choropleth": [
           {
            "type": "choropleth",
            "colorbar": {
             "outlinewidth": 0,
             "ticks": ""
            }
           }
          ],
          "histogram2d": [
           {
            "type": "histogram2d",
            "colorbar": {
             "outlinewidth": 0,
             "ticks": ""
            },
            "colorscale": [
             [
              0.0,
              "#0d0887"
             ],
             [
              0.1111111111111111,
              "#46039f"
             ],
             [
              0.2222222222222222,
              "#7201a8"
             ],
             [
              0.3333333333333333,
              "#9c179e"
             ],
             [
              0.4444444444444444,
              "#bd3786"
             ],
             [
              0.5555555555555556,
              "#d8576b"
             ],
             [
              0.6666666666666666,
              "#ed7953"
             ],
             [
              0.7777777777777778,
              "#fb9f3a"
             ],
             [
              0.8888888888888888,
              "#fdca26"
             ],
             [
              1.0,
              "#f0f921"
             ]
            ]
           }
          ],
          "heatmap": [
           {
            "type": "heatmap",
            "colorbar": {
             "outlinewidth": 0,
             "ticks": ""
            },
            "colorscale": [
             [
              0.0,
              "#0d0887"
             ],
             [
              0.1111111111111111,
              "#46039f"
             ],
             [
              0.2222222222222222,
              "#7201a8"
             ],
             [
              0.3333333333333333,
              "#9c179e"
             ],
             [
              0.4444444444444444,
              "#bd3786"
             ],
             [
              0.5555555555555556,
              "#d8576b"
             ],
             [
              0.6666666666666666,
              "#ed7953"
             ],
             [
              0.7777777777777778,
              "#fb9f3a"
             ],
             [
              0.8888888888888888,
              "#fdca26"
             ],
             [
              1.0,
              "#f0f921"
             ]
            ]
           }
          ],
          "heatmapgl": [
           {
            "type": "heatmapgl",
            "colorbar": {
             "outlinewidth": 0,
             "ticks": ""
            },
            "colorscale": [
             [
              0.0,
              "#0d0887"
             ],
             [
              0.1111111111111111,
              "#46039f"
             ],
             [
              0.2222222222222222,
              "#7201a8"
             ],
             [
              0.3333333333333333,
              "#9c179e"
             ],
             [
              0.4444444444444444,
              "#bd3786"
             ],
             [
              0.5555555555555556,
              "#d8576b"
             ],
             [
              0.6666666666666666,
              "#ed7953"
             ],
             [
              0.7777777777777778,
              "#fb9f3a"
             ],
             [
              0.8888888888888888,
              "#fdca26"
             ],
             [
              1.0,
              "#f0f921"
             ]
            ]
           }
          ],
          "contourcarpet": [
           {
            "type": "contourcarpet",
            "colorbar": {
             "outlinewidth": 0,
             "ticks": ""
            }
           }
          ],
          "contour": [
           {
            "type": "contour",
            "colorbar": {
             "outlinewidth": 0,
             "ticks": ""
            },
            "colorscale": [
             [
              0.0,
              "#0d0887"
             ],
             [
              0.1111111111111111,
              "#46039f"
             ],
             [
              0.2222222222222222,
              "#7201a8"
             ],
             [
              0.3333333333333333,
              "#9c179e"
             ],
             [
              0.4444444444444444,
              "#bd3786"
             ],
             [
              0.5555555555555556,
              "#d8576b"
             ],
             [
              0.6666666666666666,
              "#ed7953"
             ],
             [
              0.7777777777777778,
              "#fb9f3a"
             ],
             [
              0.8888888888888888,
              "#fdca26"
             ],
             [
              1.0,
              "#f0f921"
             ]
            ]
           }
          ],
          "surface": [
           {
            "type": "surface",
            "colorbar": {
             "outlinewidth": 0,
             "ticks": ""
            },
            "colorscale": [
             [
              0.0,
              "#0d0887"
             ],
             [
              0.1111111111111111,
              "#46039f"
             ],
             [
              0.2222222222222222,
              "#7201a8"
             ],
             [
              0.3333333333333333,
              "#9c179e"
             ],
             [
              0.4444444444444444,
              "#bd3786"
             ],
             [
              0.5555555555555556,
              "#d8576b"
             ],
             [
              0.6666666666666666,
              "#ed7953"
             ],
             [
              0.7777777777777778,
              "#fb9f3a"
             ],
             [
              0.8888888888888888,
              "#fdca26"
             ],
             [
              1.0,
              "#f0f921"
             ]
            ]
           }
          ],
          "mesh3d": [
           {
            "type": "mesh3d",
            "colorbar": {
             "outlinewidth": 0,
             "ticks": ""
            }
           }
          ],
          "scatter": [
           {
            "fillpattern": {
             "fillmode": "overlay",
             "size": 10,
             "solidity": 0.2
            },
            "type": "scatter"
           }
          ],
          "parcoords": [
           {
            "type": "parcoords",
            "line": {
             "colorbar": {
              "outlinewidth": 0,
              "ticks": ""
             }
            }
           }
          ],
          "scatterpolargl": [
           {
            "type": "scatterpolargl",
            "marker": {
             "colorbar": {
              "outlinewidth": 0,
              "ticks": ""
             }
            }
           }
          ],
          "bar": [
           {
            "error_x": {
             "color": "#2a3f5f"
            },
            "error_y": {
             "color": "#2a3f5f"
            },
            "marker": {
             "line": {
              "color": "#E5ECF6",
              "width": 0.5
             },
             "pattern": {
              "fillmode": "overlay",
              "size": 10,
              "solidity": 0.2
             }
            },
            "type": "bar"
           }
          ],
          "scattergeo": [
           {
            "type": "scattergeo",
            "marker": {
             "colorbar": {
              "outlinewidth": 0,
              "ticks": ""
             }
            }
           }
          ],
          "scatterpolar": [
           {
            "type": "scatterpolar",
            "marker": {
             "colorbar": {
              "outlinewidth": 0,
              "ticks": ""
             }
            }
           }
          ],
          "histogram": [
           {
            "marker": {
             "pattern": {
              "fillmode": "overlay",
              "size": 10,
              "solidity": 0.2
             }
            },
            "type": "histogram"
           }
          ],
          "scattergl": [
           {
            "type": "scattergl",
            "marker": {
             "colorbar": {
              "outlinewidth": 0,
              "ticks": ""
             }
            }
           }
          ],
          "scatter3d": [
           {
            "type": "scatter3d",
            "line": {
             "colorbar": {
              "outlinewidth": 0,
              "ticks": ""
             }
            },
            "marker": {
             "colorbar": {
              "outlinewidth": 0,
              "ticks": ""
             }
            }
           }
          ],
          "scattermapbox": [
           {
            "type": "scattermapbox",
            "marker": {
             "colorbar": {
              "outlinewidth": 0,
              "ticks": ""
             }
            }
           }
          ],
          "scatterternary": [
           {
            "type": "scatterternary",
            "marker": {
             "colorbar": {
              "outlinewidth": 0,
              "ticks": ""
             }
            }
           }
          ],
          "scattercarpet": [
           {
            "type": "scattercarpet",
            "marker": {
             "colorbar": {
              "outlinewidth": 0,
              "ticks": ""
             }
            }
           }
          ],
          "carpet": [
           {
            "aaxis": {
             "endlinecolor": "#2a3f5f",
             "gridcolor": "white",
             "linecolor": "white",
             "minorgridcolor": "white",
             "startlinecolor": "#2a3f5f"
            },
            "baxis": {
             "endlinecolor": "#2a3f5f",
             "gridcolor": "white",
             "linecolor": "white",
             "minorgridcolor": "white",
             "startlinecolor": "#2a3f5f"
            },
            "type": "carpet"
           }
          ],
          "table": [
           {
            "cells": {
             "fill": {
              "color": "#EBF0F8"
             },
             "line": {
              "color": "white"
             }
            },
            "header": {
             "fill": {
              "color": "#C8D4E3"
             },
             "line": {
              "color": "white"
             }
            },
            "type": "table"
           }
          ],
          "barpolar": [
           {
            "marker": {
             "line": {
              "color": "#E5ECF6",
              "width": 0.5
             },
             "pattern": {
              "fillmode": "overlay",
              "size": 10,
              "solidity": 0.2
             }
            },
            "type": "barpolar"
           }
          ],
          "pie": [
           {
            "automargin": true,
            "type": "pie"
           }
          ]
         },
         "layout": {
          "autotypenumbers": "strict",
          "colorway": [
           "#636efa",
           "#EF553B",
           "#00cc96",
           "#ab63fa",
           "#FFA15A",
           "#19d3f3",
           "#FF6692",
           "#B6E880",
           "#FF97FF",
           "#FECB52"
          ],
          "font": {
           "color": "#2a3f5f"
          },
          "hovermode": "closest",
          "hoverlabel": {
           "align": "left"
          },
          "paper_bgcolor": "white",
          "plot_bgcolor": "#E5ECF6",
          "polar": {
           "bgcolor": "#E5ECF6",
           "angularaxis": {
            "gridcolor": "white",
            "linecolor": "white",
            "ticks": ""
           },
           "radialaxis": {
            "gridcolor": "white",
            "linecolor": "white",
            "ticks": ""
           }
          },
          "ternary": {
           "bgcolor": "#E5ECF6",
           "aaxis": {
            "gridcolor": "white",
            "linecolor": "white",
            "ticks": ""
           },
           "baxis": {
            "gridcolor": "white",
            "linecolor": "white",
            "ticks": ""
           },
           "caxis": {
            "gridcolor": "white",
            "linecolor": "white",
            "ticks": ""
           }
          },
          "coloraxis": {
           "colorbar": {
            "outlinewidth": 0,
            "ticks": ""
           }
          },
          "colorscale": {
           "sequential": [
            [
             0.0,
             "#0d0887"
            ],
            [
             0.1111111111111111,
             "#46039f"
            ],
            [
             0.2222222222222222,
             "#7201a8"
            ],
            [
             0.3333333333333333,
             "#9c179e"
            ],
            [
             0.4444444444444444,
             "#bd3786"
            ],
            [
             0.5555555555555556,
             "#d8576b"
            ],
            [
             0.6666666666666666,
             "#ed7953"
            ],
            [
             0.7777777777777778,
             "#fb9f3a"
            ],
            [
             0.8888888888888888,
             "#fdca26"
            ],
            [
             1.0,
             "#f0f921"
            ]
           ],
           "sequentialminus": [
            [
             0.0,
             "#0d0887"
            ],
            [
             0.1111111111111111,
             "#46039f"
            ],
            [
             0.2222222222222222,
             "#7201a8"
            ],
            [
             0.3333333333333333,
             "#9c179e"
            ],
            [
             0.4444444444444444,
             "#bd3786"
            ],
            [
             0.5555555555555556,
             "#d8576b"
            ],
            [
             0.6666666666666666,
             "#ed7953"
            ],
            [
             0.7777777777777778,
             "#fb9f3a"
            ],
            [
             0.8888888888888888,
             "#fdca26"
            ],
            [
             1.0,
             "#f0f921"
            ]
           ],
           "diverging": [
            [
             0,
             "#8e0152"
            ],
            [
             0.1,
             "#c51b7d"
            ],
            [
             0.2,
             "#de77ae"
            ],
            [
             0.3,
             "#f1b6da"
            ],
            [
             0.4,
             "#fde0ef"
            ],
            [
             0.5,
             "#f7f7f7"
            ],
            [
             0.6,
             "#e6f5d0"
            ],
            [
             0.7,
             "#b8e186"
            ],
            [
             0.8,
             "#7fbc41"
            ],
            [
             0.9,
             "#4d9221"
            ],
            [
             1,
             "#276419"
            ]
           ]
          },
          "xaxis": {
           "gridcolor": "white",
           "linecolor": "white",
           "ticks": "",
           "title": {
            "standoff": 15
           },
           "zerolinecolor": "white",
           "automargin": true,
           "zerolinewidth": 2
          },
          "yaxis": {
           "gridcolor": "white",
           "linecolor": "white",
           "ticks": "",
           "title": {
            "standoff": 15
           },
           "zerolinecolor": "white",
           "automargin": true,
           "zerolinewidth": 2
          },
          "scene": {
           "xaxis": {
            "backgroundcolor": "#E5ECF6",
            "gridcolor": "white",
            "linecolor": "white",
            "showbackground": true,
            "ticks": "",
            "zerolinecolor": "white",
            "gridwidth": 2
           },
           "yaxis": {
            "backgroundcolor": "#E5ECF6",
            "gridcolor": "white",
            "linecolor": "white",
            "showbackground": true,
            "ticks": "",
            "zerolinecolor": "white",
            "gridwidth": 2
           },
           "zaxis": {
            "backgroundcolor": "#E5ECF6",
            "gridcolor": "white",
            "linecolor": "white",
            "showbackground": true,
            "ticks": "",
            "zerolinecolor": "white",
            "gridwidth": 2
           }
          },
          "shapedefaults": {
           "line": {
            "color": "#2a3f5f"
           }
          },
          "annotationdefaults": {
           "arrowcolor": "#2a3f5f",
           "arrowhead": 0,
           "arrowwidth": 1
          },
          "geo": {
           "bgcolor": "white",
           "landcolor": "#E5ECF6",
           "subunitcolor": "white",
           "showland": true,
           "showlakes": true,
           "lakecolor": "white"
          },
          "title": {
           "x": 0.05
          },
          "mapbox": {
           "style": "light"
          }
         }
        },
        "xaxis": {
         "rangeslider": {
          "visible": false
         }
        }
       },
       "config": {
        "plotlyServerURL": "https://plot.ly"
       }
      },
      "text/html": "<div>                            <div id=\"24debc4a-f587-4d19-bfcb-9d36dd2556ef\" class=\"plotly-graph-div\" style=\"height:525px; width:100%;\"></div>            <script type=\"text/javascript\">                require([\"plotly\"], function(Plotly) {                    window.PLOTLYENV=window.PLOTLYENV || {};                                    if (document.getElementById(\"24debc4a-f587-4d19-bfcb-9d36dd2556ef\")) {                    Plotly.newPlot(                        \"24debc4a-f587-4d19-bfcb-9d36dd2556ef\",                        [{\"close\":[176.43,169.5,158.59,155.08,171.19,174.28,174.99,178.64,176.59,163.76,166.68,167.11,173.45,164.5,161.14,182.48,187.93,185.64,187.92,189.57,190.81,188.26,184.27,182.27,187.32,190.66,191.0,190.31,207.25,207.55],\"high\":[178.06,177.4,168.23,162.01,173.54,174.37,179.3,178.68,182.16,176.17,173.87,172.95,174.55,177.63,165.7,182.9,189.4,188.87,188.99,189.6,193.52,192.21,188.56,186.63,187.77,191.17,191.98,195.28,208.01,209.1],\"low\":[173.08,168.13,158.28,149.14,156.35,169.75,171.19,172.99,176.32,163.74,163.98,163.27,168.57,164.21,159.45,160.66,182.32,184.45,185.11,185.49,189.11,187.6,182.81,180.1,182.78,186.95,188.54,188.9,188.41,203.81],\"open\":[175.89,175.29,168.23,157.3,157.32,170.81,175.06,173.86,178.98,176.07,166.83,166.66,168.57,173.84,165.59,160.93,183.83,188.35,187.34,186.94,190.93,190.67,187.21,182.76,183.23,188.84,190.85,190.0,191.31,207.2],\"x\":[\"2018-01-15T00:00:00\",\"2018-01-22T00:00:00\",\"2018-01-29T00:00:00\",\"2018-02-05T00:00:00\",\"2018-02-12T00:00:00\",\"2018-02-19T00:00:00\",\"2018-02-26T00:00:00\",\"2018-03-05T00:00:00\",\"2018-03-12T00:00:00\",\"2018-03-19T00:00:00\",\"2018-03-26T00:00:00\",\"2018-04-02T00:00:00\",\"2018-04-09T00:00:00\",\"2018-04-16T00:00:00\",\"2018-04-23T00:00:00\",\"2018-04-30T00:00:00\",\"2018-05-07T00:00:00\",\"2018-05-14T00:00:00\",\"2018-05-21T00:00:00\",\"2018-05-28T00:00:00\",\"2018-06-04T00:00:00\",\"2018-06-11T00:00:00\",\"2018-06-18T00:00:00\",\"2018-06-25T00:00:00\",\"2018-07-02T00:00:00\",\"2018-07-09T00:00:00\",\"2018-07-16T00:00:00\",\"2018-07-23T00:00:00\",\"2018-07-30T00:00:00\",\"2018-08-06T00:00:00\"],\"type\":\"candlestick\"}],                        {\"template\":{\"data\":{\"histogram2dcontour\":[{\"type\":\"histogram2dcontour\",\"colorbar\":{\"outlinewidth\":0,\"ticks\":\"\"},\"colorscale\":[[0.0,\"#0d0887\"],[0.1111111111111111,\"#46039f\"],[0.2222222222222222,\"#7201a8\"],[0.3333333333333333,\"#9c179e\"],[0.4444444444444444,\"#bd3786\"],[0.5555555555555556,\"#d8576b\"],[0.6666666666666666,\"#ed7953\"],[0.7777777777777778,\"#fb9f3a\"],[0.8888888888888888,\"#fdca26\"],[1.0,\"#f0f921\"]]}],\"choropleth\":[{\"type\":\"choropleth\",\"colorbar\":{\"outlinewidth\":0,\"ticks\":\"\"}}],\"histogram2d\":[{\"type\":\"histogram2d\",\"colorbar\":{\"outlinewidth\":0,\"ticks\":\"\"},\"colorscale\":[[0.0,\"#0d0887\"],[0.1111111111111111,\"#46039f\"],[0.2222222222222222,\"#7201a8\"],[0.3333333333333333,\"#9c179e\"],[0.4444444444444444,\"#bd3786\"],[0.5555555555555556,\"#d8576b\"],[0.6666666666666666,\"#ed7953\"],[0.7777777777777778,\"#fb9f3a\"],[0.8888888888888888,\"#fdca26\"],[1.0,\"#f0f921\"]]}],\"heatmap\":[{\"type\":\"heatmap\",\"colorbar\":{\"outlinewidth\":0,\"ticks\":\"\"},\"colorscale\":[[0.0,\"#0d0887\"],[0.1111111111111111,\"#46039f\"],[0.2222222222222222,\"#7201a8\"],[0.3333333333333333,\"#9c179e\"],[0.4444444444444444,\"#bd3786\"],[0.5555555555555556,\"#d8576b\"],[0.6666666666666666,\"#ed7953\"],[0.7777777777777778,\"#fb9f3a\"],[0.8888888888888888,\"#fdca26\"],[1.0,\"#f0f921\"]]}],\"heatmapgl\":[{\"type\":\"heatmapgl\",\"colorbar\":{\"outlinewidth\":0,\"ticks\":\"\"},\"colorscale\":[[0.0,\"#0d0887\"],[0.1111111111111111,\"#46039f\"],[0.2222222222222222,\"#7201a8\"],[0.3333333333333333,\"#9c179e\"],[0.4444444444444444,\"#bd3786\"],[0.5555555555555556,\"#d8576b\"],[0.6666666666666666,\"#ed7953\"],[0.7777777777777778,\"#fb9f3a\"],[0.8888888888888888,\"#fdca26\"],[1.0,\"#f0f921\"]]}],\"contourcarpet\":[{\"type\":\"contourcarpet\",\"colorbar\":{\"outlinewidth\":0,\"ticks\":\"\"}}],\"contour\":[{\"type\":\"contour\",\"colorbar\":{\"outlinewidth\":0,\"ticks\":\"\"},\"colorscale\":[[0.0,\"#0d0887\"],[0.1111111111111111,\"#46039f\"],[0.2222222222222222,\"#7201a8\"],[0.3333333333333333,\"#9c179e\"],[0.4444444444444444,\"#bd3786\"],[0.5555555555555556,\"#d8576b\"],[0.6666666666666666,\"#ed7953\"],[0.7777777777777778,\"#fb9f3a\"],[0.8888888888888888,\"#fdca26\"],[1.0,\"#f0f921\"]]}],\"surface\":[{\"type\":\"surface\",\"colorbar\":{\"outlinewidth\":0,\"ticks\":\"\"},\"colorscale\":[[0.0,\"#0d0887\"],[0.1111111111111111,\"#46039f\"],[0.2222222222222222,\"#7201a8\"],[0.3333333333333333,\"#9c179e\"],[0.4444444444444444,\"#bd3786\"],[0.5555555555555556,\"#d8576b\"],[0.6666666666666666,\"#ed7953\"],[0.7777777777777778,\"#fb9f3a\"],[0.8888888888888888,\"#fdca26\"],[1.0,\"#f0f921\"]]}],\"mesh3d\":[{\"type\":\"mesh3d\",\"colorbar\":{\"outlinewidth\":0,\"ticks\":\"\"}}],\"scatter\":[{\"fillpattern\":{\"fillmode\":\"overlay\",\"size\":10,\"solidity\":0.2},\"type\":\"scatter\"}],\"parcoords\":[{\"type\":\"parcoords\",\"line\":{\"colorbar\":{\"outlinewidth\":0,\"ticks\":\"\"}}}],\"scatterpolargl\":[{\"type\":\"scatterpolargl\",\"marker\":{\"colorbar\":{\"outlinewidth\":0,\"ticks\":\"\"}}}],\"bar\":[{\"error_x\":{\"color\":\"#2a3f5f\"},\"error_y\":{\"color\":\"#2a3f5f\"},\"marker\":{\"line\":{\"color\":\"#E5ECF6\",\"width\":0.5},\"pattern\":{\"fillmode\":\"overlay\",\"size\":10,\"solidity\":0.2}},\"type\":\"bar\"}],\"scattergeo\":[{\"type\":\"scattergeo\",\"marker\":{\"colorbar\":{\"outlinewidth\":0,\"ticks\":\"\"}}}],\"scatterpolar\":[{\"type\":\"scatterpolar\",\"marker\":{\"colorbar\":{\"outlinewidth\":0,\"ticks\":\"\"}}}],\"histogram\":[{\"marker\":{\"pattern\":{\"fillmode\":\"overlay\",\"size\":10,\"solidity\":0.2}},\"type\":\"histogram\"}],\"scattergl\":[{\"type\":\"scattergl\",\"marker\":{\"colorbar\":{\"outlinewidth\":0,\"ticks\":\"\"}}}],\"scatter3d\":[{\"type\":\"scatter3d\",\"line\":{\"colorbar\":{\"outlinewidth\":0,\"ticks\":\"\"}},\"marker\":{\"colorbar\":{\"outlinewidth\":0,\"ticks\":\"\"}}}],\"scattermapbox\":[{\"type\":\"scattermapbox\",\"marker\":{\"colorbar\":{\"outlinewidth\":0,\"ticks\":\"\"}}}],\"scatterternary\":[{\"type\":\"scatterternary\",\"marker\":{\"colorbar\":{\"outlinewidth\":0,\"ticks\":\"\"}}}],\"scattercarpet\":[{\"type\":\"scattercarpet\",\"marker\":{\"colorbar\":{\"outlinewidth\":0,\"ticks\":\"\"}}}],\"carpet\":[{\"aaxis\":{\"endlinecolor\":\"#2a3f5f\",\"gridcolor\":\"white\",\"linecolor\":\"white\",\"minorgridcolor\":\"white\",\"startlinecolor\":\"#2a3f5f\"},\"baxis\":{\"endlinecolor\":\"#2a3f5f\",\"gridcolor\":\"white\",\"linecolor\":\"white\",\"minorgridcolor\":\"white\",\"startlinecolor\":\"#2a3f5f\"},\"type\":\"carpet\"}],\"table\":[{\"cells\":{\"fill\":{\"color\":\"#EBF0F8\"},\"line\":{\"color\":\"white\"}},\"header\":{\"fill\":{\"color\":\"#C8D4E3\"},\"line\":{\"color\":\"white\"}},\"type\":\"table\"}],\"barpolar\":[{\"marker\":{\"line\":{\"color\":\"#E5ECF6\",\"width\":0.5},\"pattern\":{\"fillmode\":\"overlay\",\"size\":10,\"solidity\":0.2}},\"type\":\"barpolar\"}],\"pie\":[{\"automargin\":true,\"type\":\"pie\"}]},\"layout\":{\"autotypenumbers\":\"strict\",\"colorway\":[\"#636efa\",\"#EF553B\",\"#00cc96\",\"#ab63fa\",\"#FFA15A\",\"#19d3f3\",\"#FF6692\",\"#B6E880\",\"#FF97FF\",\"#FECB52\"],\"font\":{\"color\":\"#2a3f5f\"},\"hovermode\":\"closest\",\"hoverlabel\":{\"align\":\"left\"},\"paper_bgcolor\":\"white\",\"plot_bgcolor\":\"#E5ECF6\",\"polar\":{\"bgcolor\":\"#E5ECF6\",\"angularaxis\":{\"gridcolor\":\"white\",\"linecolor\":\"white\",\"ticks\":\"\"},\"radialaxis\":{\"gridcolor\":\"white\",\"linecolor\":\"white\",\"ticks\":\"\"}},\"ternary\":{\"bgcolor\":\"#E5ECF6\",\"aaxis\":{\"gridcolor\":\"white\",\"linecolor\":\"white\",\"ticks\":\"\"},\"baxis\":{\"gridcolor\":\"white\",\"linecolor\":\"white\",\"ticks\":\"\"},\"caxis\":{\"gridcolor\":\"white\",\"linecolor\":\"white\",\"ticks\":\"\"}},\"coloraxis\":{\"colorbar\":{\"outlinewidth\":0,\"ticks\":\"\"}},\"colorscale\":{\"sequential\":[[0.0,\"#0d0887\"],[0.1111111111111111,\"#46039f\"],[0.2222222222222222,\"#7201a8\"],[0.3333333333333333,\"#9c179e\"],[0.4444444444444444,\"#bd3786\"],[0.5555555555555556,\"#d8576b\"],[0.6666666666666666,\"#ed7953\"],[0.7777777777777778,\"#fb9f3a\"],[0.8888888888888888,\"#fdca26\"],[1.0,\"#f0f921\"]],\"sequentialminus\":[[0.0,\"#0d0887\"],[0.1111111111111111,\"#46039f\"],[0.2222222222222222,\"#7201a8\"],[0.3333333333333333,\"#9c179e\"],[0.4444444444444444,\"#bd3786\"],[0.5555555555555556,\"#d8576b\"],[0.6666666666666666,\"#ed7953\"],[0.7777777777777778,\"#fb9f3a\"],[0.8888888888888888,\"#fdca26\"],[1.0,\"#f0f921\"]],\"diverging\":[[0,\"#8e0152\"],[0.1,\"#c51b7d\"],[0.2,\"#de77ae\"],[0.3,\"#f1b6da\"],[0.4,\"#fde0ef\"],[0.5,\"#f7f7f7\"],[0.6,\"#e6f5d0\"],[0.7,\"#b8e186\"],[0.8,\"#7fbc41\"],[0.9,\"#4d9221\"],[1,\"#276419\"]]},\"xaxis\":{\"gridcolor\":\"white\",\"linecolor\":\"white\",\"ticks\":\"\",\"title\":{\"standoff\":15},\"zerolinecolor\":\"white\",\"automargin\":true,\"zerolinewidth\":2},\"yaxis\":{\"gridcolor\":\"white\",\"linecolor\":\"white\",\"ticks\":\"\",\"title\":{\"standoff\":15},\"zerolinecolor\":\"white\",\"automargin\":true,\"zerolinewidth\":2},\"scene\":{\"xaxis\":{\"backgroundcolor\":\"#E5ECF6\",\"gridcolor\":\"white\",\"linecolor\":\"white\",\"showbackground\":true,\"ticks\":\"\",\"zerolinecolor\":\"white\",\"gridwidth\":2},\"yaxis\":{\"backgroundcolor\":\"#E5ECF6\",\"gridcolor\":\"white\",\"linecolor\":\"white\",\"showbackground\":true,\"ticks\":\"\",\"zerolinecolor\":\"white\",\"gridwidth\":2},\"zaxis\":{\"backgroundcolor\":\"#E5ECF6\",\"gridcolor\":\"white\",\"linecolor\":\"white\",\"showbackground\":true,\"ticks\":\"\",\"zerolinecolor\":\"white\",\"gridwidth\":2}},\"shapedefaults\":{\"line\":{\"color\":\"#2a3f5f\"}},\"annotationdefaults\":{\"arrowcolor\":\"#2a3f5f\",\"arrowhead\":0,\"arrowwidth\":1},\"geo\":{\"bgcolor\":\"white\",\"landcolor\":\"#E5ECF6\",\"subunitcolor\":\"white\",\"showland\":true,\"showlakes\":true,\"lakecolor\":\"white\"},\"title\":{\"x\":0.05},\"mapbox\":{\"style\":\"light\"}}},\"xaxis\":{\"rangeslider\":{\"visible\":false}}},                        {\"responsive\": true}                    ).then(function(){\n                            \nvar gd = document.getElementById('24debc4a-f587-4d19-bfcb-9d36dd2556ef');\nvar x = new MutationObserver(function (mutations, observer) {{\n        var display = window.getComputedStyle(gd).display;\n        if (!display || display === 'none') {{\n            console.log([gd, 'removed!']);\n            Plotly.purge(gd);\n            observer.disconnect();\n        }}\n}});\n\n// Listen for the removal of the full notebook cells\nvar notebookContainer = gd.closest('#notebook-container');\nif (notebookContainer) {{\n    x.observe(notebookContainer, {childList: true});\n}}\n\n// Listen for the clearing of the current output cell\nvar outputEl = gd.closest('.output');\nif (outputEl) {{\n    x.observe(outputEl, {childList: true});\n}}\n\n                        })                };                });            </script>        </div>"
     },
     "metadata": {},
     "output_type": "display_data"
    }
   ],
   "source": [
    "plotly_fig = go.Figure(data=[go.Candlestick(x=data.index,\n",
    "                                            open=data['Open'],\n",
    "                                            high=data['High'],\n",
    "                                            low=data['Low'],\n",
    "                                            close=data['Close'])])\n",
    "plotly_fig.update_layout(xaxis_rangeslider_visible=False)\n",
    "plotly_fig.show()"
   ],
   "metadata": {
    "collapsed": false,
    "ExecuteTime": {
     "end_time": "2024-03-02T20:22:04.783483Z",
     "start_time": "2024-03-02T20:22:04.722084600Z"
    }
   },
   "id": "393e14044e785c7c",
   "execution_count": 36
  },
  {
   "cell_type": "code",
   "outputs": [
    {
     "data": {
      "application/vnd.plotly.v1+json": {
       "data": [
        {
         "close": [
          176.43,
          169.5,
          158.59,
          155.08,
          171.19,
          174.28,
          174.99,
          178.64,
          176.59,
          163.76,
          166.68,
          167.11,
          173.45,
          164.5,
          161.14,
          182.48,
          187.93,
          185.64,
          187.92,
          189.57,
          190.81,
          188.26,
          184.27,
          182.27,
          187.32,
          190.66,
          191.0,
          190.31,
          207.25,
          207.55
         ],
         "decreasing": {
          "line": {
           "color": "#ef5350"
          }
         },
         "high": [
          178.06,
          177.4,
          168.23,
          162.01,
          173.54,
          174.37,
          179.3,
          178.68,
          182.16,
          176.17,
          173.87,
          172.95,
          174.55,
          177.63,
          165.7,
          182.9,
          189.4,
          188.87,
          188.99,
          189.6,
          193.52,
          192.21,
          188.56,
          186.63,
          187.77,
          191.17,
          191.98,
          195.28,
          208.01,
          209.1
         ],
         "increasing": {
          "line": {
           "color": "#26a69a"
          }
         },
         "low": [
          173.08,
          168.13,
          158.28,
          149.14,
          156.35,
          169.75,
          171.19,
          172.99,
          176.32,
          163.74,
          163.98,
          163.27,
          168.57,
          164.21,
          159.45,
          160.66,
          182.32,
          184.45,
          185.11,
          185.49,
          189.11,
          187.6,
          182.81,
          180.1,
          182.78,
          186.95,
          188.54,
          188.9,
          188.41,
          203.81
         ],
         "name": "price",
         "open": [
          175.89,
          175.29,
          168.23,
          157.3,
          157.32,
          170.81,
          175.06,
          173.86,
          178.98,
          176.07,
          166.83,
          166.66,
          168.57,
          173.84,
          165.59,
          160.93,
          183.83,
          188.35,
          187.34,
          186.94,
          190.93,
          190.67,
          187.21,
          182.76,
          183.23,
          188.84,
          190.85,
          190.0,
          191.31,
          207.2
         ],
         "showlegend": false,
         "x": [
          "2018-01-15T00:00:00",
          "2018-01-22T00:00:00",
          "2018-01-29T00:00:00",
          "2018-02-05T00:00:00",
          "2018-02-12T00:00:00",
          "2018-02-19T00:00:00",
          "2018-02-26T00:00:00",
          "2018-03-05T00:00:00",
          "2018-03-12T00:00:00",
          "2018-03-19T00:00:00",
          "2018-03-26T00:00:00",
          "2018-04-02T00:00:00",
          "2018-04-09T00:00:00",
          "2018-04-16T00:00:00",
          "2018-04-23T00:00:00",
          "2018-04-30T00:00:00",
          "2018-05-07T00:00:00",
          "2018-05-14T00:00:00",
          "2018-05-21T00:00:00",
          "2018-05-28T00:00:00",
          "2018-06-04T00:00:00",
          "2018-06-11T00:00:00",
          "2018-06-18T00:00:00",
          "2018-06-25T00:00:00",
          "2018-07-02T00:00:00",
          "2018-07-09T00:00:00",
          "2018-07-16T00:00:00",
          "2018-07-23T00:00:00",
          "2018-07-30T00:00:00",
          "2018-08-06T00:00:00"
         ],
         "type": "candlestick",
         "xaxis": "x",
         "yaxis": "y"
        },
        {
         "marker": {
          "color": "#ef5350"
         },
         "showlegend": false,
         "x": [
          "2018-01-22T00:00:00",
          "2018-01-29T00:00:00",
          "2018-02-05T00:00:00",
          "2018-02-26T00:00:00",
          "2018-03-12T00:00:00",
          "2018-03-19T00:00:00",
          "2018-03-26T00:00:00",
          "2018-04-16T00:00:00",
          "2018-04-23T00:00:00",
          "2018-05-14T00:00:00",
          "2018-06-04T00:00:00",
          "2018-06-11T00:00:00",
          "2018-06-18T00:00:00",
          "2018-06-25T00:00:00"
         ],
         "y": [
          150528915,
          198842790,
          253496837,
          163181344,
          119715359,
          138128911,
          119094237,
          134360753,
          130762944,
          76325802,
          88251639,
          86948257,
          81552048,
          90352175
         ],
         "type": "bar",
         "xaxis": "x2",
         "yaxis": "y2"
        },
        {
         "marker": {
          "color": "#26a69a"
         },
         "showlegend": false,
         "x": [
          "2018-01-15T00:00:00",
          "2018-02-12T00:00:00",
          "2018-02-19T00:00:00",
          "2018-03-05T00:00:00",
          "2018-04-02T00:00:00",
          "2018-04-09T00:00:00",
          "2018-04-30T00:00:00",
          "2018-05-07T00:00:00",
          "2018-05-21T00:00:00",
          "2018-05-28T00:00:00",
          "2018-07-02T00:00:00",
          "2018-07-09T00:00:00",
          "2018-07-16T00:00:00",
          "2018-07-23T00:00:00",
          "2018-07-30T00:00:00",
          "2018-08-06T00:00:00"
         ],
         "y": [
          94737964,
          181443367,
          112119258,
          111973724,
          129360769,
          100985553,
          197762145,
          118290304,
          67349391,
          67036619,
          50990124,
          63146880,
          60232773,
          69987342,
          173943077,
          94679518
         ],
         "type": "bar",
         "xaxis": "x2",
         "yaxis": "y2"
        }
       ],
       "layout": {
        "template": {
         "data": {
          "histogram2dcontour": [
           {
            "type": "histogram2dcontour",
            "colorbar": {
             "outlinewidth": 0,
             "ticks": ""
            },
            "colorscale": [
             [
              0.0,
              "#0d0887"
             ],
             [
              0.1111111111111111,
              "#46039f"
             ],
             [
              0.2222222222222222,
              "#7201a8"
             ],
             [
              0.3333333333333333,
              "#9c179e"
             ],
             [
              0.4444444444444444,
              "#bd3786"
             ],
             [
              0.5555555555555556,
              "#d8576b"
             ],
             [
              0.6666666666666666,
              "#ed7953"
             ],
             [
              0.7777777777777778,
              "#fb9f3a"
             ],
             [
              0.8888888888888888,
              "#fdca26"
             ],
             [
              1.0,
              "#f0f921"
             ]
            ]
           }
          ],
          "choropleth": [
           {
            "type": "choropleth",
            "colorbar": {
             "outlinewidth": 0,
             "ticks": ""
            }
           }
          ],
          "histogram2d": [
           {
            "type": "histogram2d",
            "colorbar": {
             "outlinewidth": 0,
             "ticks": ""
            },
            "colorscale": [
             [
              0.0,
              "#0d0887"
             ],
             [
              0.1111111111111111,
              "#46039f"
             ],
             [
              0.2222222222222222,
              "#7201a8"
             ],
             [
              0.3333333333333333,
              "#9c179e"
             ],
             [
              0.4444444444444444,
              "#bd3786"
             ],
             [
              0.5555555555555556,
              "#d8576b"
             ],
             [
              0.6666666666666666,
              "#ed7953"
             ],
             [
              0.7777777777777778,
              "#fb9f3a"
             ],
             [
              0.8888888888888888,
              "#fdca26"
             ],
             [
              1.0,
              "#f0f921"
             ]
            ]
           }
          ],
          "heatmap": [
           {
            "type": "heatmap",
            "colorbar": {
             "outlinewidth": 0,
             "ticks": ""
            },
            "colorscale": [
             [
              0.0,
              "#0d0887"
             ],
             [
              0.1111111111111111,
              "#46039f"
             ],
             [
              0.2222222222222222,
              "#7201a8"
             ],
             [
              0.3333333333333333,
              "#9c179e"
             ],
             [
              0.4444444444444444,
              "#bd3786"
             ],
             [
              0.5555555555555556,
              "#d8576b"
             ],
             [
              0.6666666666666666,
              "#ed7953"
             ],
             [
              0.7777777777777778,
              "#fb9f3a"
             ],
             [
              0.8888888888888888,
              "#fdca26"
             ],
             [
              1.0,
              "#f0f921"
             ]
            ]
           }
          ],
          "heatmapgl": [
           {
            "type": "heatmapgl",
            "colorbar": {
             "outlinewidth": 0,
             "ticks": ""
            },
            "colorscale": [
             [
              0.0,
              "#0d0887"
             ],
             [
              0.1111111111111111,
              "#46039f"
             ],
             [
              0.2222222222222222,
              "#7201a8"
             ],
             [
              0.3333333333333333,
              "#9c179e"
             ],
             [
              0.4444444444444444,
              "#bd3786"
             ],
             [
              0.5555555555555556,
              "#d8576b"
             ],
             [
              0.6666666666666666,
              "#ed7953"
             ],
             [
              0.7777777777777778,
              "#fb9f3a"
             ],
             [
              0.8888888888888888,
              "#fdca26"
             ],
             [
              1.0,
              "#f0f921"
             ]
            ]
           }
          ],
          "contourcarpet": [
           {
            "type": "contourcarpet",
            "colorbar": {
             "outlinewidth": 0,
             "ticks": ""
            }
           }
          ],
          "contour": [
           {
            "type": "contour",
            "colorbar": {
             "outlinewidth": 0,
             "ticks": ""
            },
            "colorscale": [
             [
              0.0,
              "#0d0887"
             ],
             [
              0.1111111111111111,
              "#46039f"
             ],
             [
              0.2222222222222222,
              "#7201a8"
             ],
             [
              0.3333333333333333,
              "#9c179e"
             ],
             [
              0.4444444444444444,
              "#bd3786"
             ],
             [
              0.5555555555555556,
              "#d8576b"
             ],
             [
              0.6666666666666666,
              "#ed7953"
             ],
             [
              0.7777777777777778,
              "#fb9f3a"
             ],
             [
              0.8888888888888888,
              "#fdca26"
             ],
             [
              1.0,
              "#f0f921"
             ]
            ]
           }
          ],
          "surface": [
           {
            "type": "surface",
            "colorbar": {
             "outlinewidth": 0,
             "ticks": ""
            },
            "colorscale": [
             [
              0.0,
              "#0d0887"
             ],
             [
              0.1111111111111111,
              "#46039f"
             ],
             [
              0.2222222222222222,
              "#7201a8"
             ],
             [
              0.3333333333333333,
              "#9c179e"
             ],
             [
              0.4444444444444444,
              "#bd3786"
             ],
             [
              0.5555555555555556,
              "#d8576b"
             ],
             [
              0.6666666666666666,
              "#ed7953"
             ],
             [
              0.7777777777777778,
              "#fb9f3a"
             ],
             [
              0.8888888888888888,
              "#fdca26"
             ],
             [
              1.0,
              "#f0f921"
             ]
            ]
           }
          ],
          "mesh3d": [
           {
            "type": "mesh3d",
            "colorbar": {
             "outlinewidth": 0,
             "ticks": ""
            }
           }
          ],
          "scatter": [
           {
            "fillpattern": {
             "fillmode": "overlay",
             "size": 10,
             "solidity": 0.2
            },
            "type": "scatter"
           }
          ],
          "parcoords": [
           {
            "type": "parcoords",
            "line": {
             "colorbar": {
              "outlinewidth": 0,
              "ticks": ""
             }
            }
           }
          ],
          "scatterpolargl": [
           {
            "type": "scatterpolargl",
            "marker": {
             "colorbar": {
              "outlinewidth": 0,
              "ticks": ""
             }
            }
           }
          ],
          "bar": [
           {
            "error_x": {
             "color": "#2a3f5f"
            },
            "error_y": {
             "color": "#2a3f5f"
            },
            "marker": {
             "line": {
              "color": "#E5ECF6",
              "width": 0.5
             },
             "pattern": {
              "fillmode": "overlay",
              "size": 10,
              "solidity": 0.2
             }
            },
            "type": "bar"
           }
          ],
          "scattergeo": [
           {
            "type": "scattergeo",
            "marker": {
             "colorbar": {
              "outlinewidth": 0,
              "ticks": ""
             }
            }
           }
          ],
          "scatterpolar": [
           {
            "type": "scatterpolar",
            "marker": {
             "colorbar": {
              "outlinewidth": 0,
              "ticks": ""
             }
            }
           }
          ],
          "histogram": [
           {
            "marker": {
             "pattern": {
              "fillmode": "overlay",
              "size": 10,
              "solidity": 0.2
             }
            },
            "type": "histogram"
           }
          ],
          "scattergl": [
           {
            "type": "scattergl",
            "marker": {
             "colorbar": {
              "outlinewidth": 0,
              "ticks": ""
             }
            }
           }
          ],
          "scatter3d": [
           {
            "type": "scatter3d",
            "line": {
             "colorbar": {
              "outlinewidth": 0,
              "ticks": ""
             }
            },
            "marker": {
             "colorbar": {
              "outlinewidth": 0,
              "ticks": ""
             }
            }
           }
          ],
          "scattermapbox": [
           {
            "type": "scattermapbox",
            "marker": {
             "colorbar": {
              "outlinewidth": 0,
              "ticks": ""
             }
            }
           }
          ],
          "scatterternary": [
           {
            "type": "scatterternary",
            "marker": {
             "colorbar": {
              "outlinewidth": 0,
              "ticks": ""
             }
            }
           }
          ],
          "scattercarpet": [
           {
            "type": "scattercarpet",
            "marker": {
             "colorbar": {
              "outlinewidth": 0,
              "ticks": ""
             }
            }
           }
          ],
          "carpet": [
           {
            "aaxis": {
             "endlinecolor": "#2a3f5f",
             "gridcolor": "white",
             "linecolor": "white",
             "minorgridcolor": "white",
             "startlinecolor": "#2a3f5f"
            },
            "baxis": {
             "endlinecolor": "#2a3f5f",
             "gridcolor": "white",
             "linecolor": "white",
             "minorgridcolor": "white",
             "startlinecolor": "#2a3f5f"
            },
            "type": "carpet"
           }
          ],
          "table": [
           {
            "cells": {
             "fill": {
              "color": "#EBF0F8"
             },
             "line": {
              "color": "white"
             }
            },
            "header": {
             "fill": {
              "color": "#C8D4E3"
             },
             "line": {
              "color": "white"
             }
            },
            "type": "table"
           }
          ],
          "barpolar": [
           {
            "marker": {
             "line": {
              "color": "#E5ECF6",
              "width": 0.5
             },
             "pattern": {
              "fillmode": "overlay",
              "size": 10,
              "solidity": 0.2
             }
            },
            "type": "barpolar"
           }
          ],
          "pie": [
           {
            "automargin": true,
            "type": "pie"
           }
          ]
         },
         "layout": {
          "autotypenumbers": "strict",
          "colorway": [
           "#636efa",
           "#EF553B",
           "#00cc96",
           "#ab63fa",
           "#FFA15A",
           "#19d3f3",
           "#FF6692",
           "#B6E880",
           "#FF97FF",
           "#FECB52"
          ],
          "font": {
           "color": "#2a3f5f"
          },
          "hovermode": "closest",
          "hoverlabel": {
           "align": "left"
          },
          "paper_bgcolor": "white",
          "plot_bgcolor": "#E5ECF6",
          "polar": {
           "bgcolor": "#E5ECF6",
           "angularaxis": {
            "gridcolor": "white",
            "linecolor": "white",
            "ticks": ""
           },
           "radialaxis": {
            "gridcolor": "white",
            "linecolor": "white",
            "ticks": ""
           }
          },
          "ternary": {
           "bgcolor": "#E5ECF6",
           "aaxis": {
            "gridcolor": "white",
            "linecolor": "white",
            "ticks": ""
           },
           "baxis": {
            "gridcolor": "white",
            "linecolor": "white",
            "ticks": ""
           },
           "caxis": {
            "gridcolor": "white",
            "linecolor": "white",
            "ticks": ""
           }
          },
          "coloraxis": {
           "colorbar": {
            "outlinewidth": 0,
            "ticks": ""
           }
          },
          "colorscale": {
           "sequential": [
            [
             0.0,
             "#0d0887"
            ],
            [
             0.1111111111111111,
             "#46039f"
            ],
            [
             0.2222222222222222,
             "#7201a8"
            ],
            [
             0.3333333333333333,
             "#9c179e"
            ],
            [
             0.4444444444444444,
             "#bd3786"
            ],
            [
             0.5555555555555556,
             "#d8576b"
            ],
            [
             0.6666666666666666,
             "#ed7953"
            ],
            [
             0.7777777777777778,
             "#fb9f3a"
            ],
            [
             0.8888888888888888,
             "#fdca26"
            ],
            [
             1.0,
             "#f0f921"
            ]
           ],
           "sequentialminus": [
            [
             0.0,
             "#0d0887"
            ],
            [
             0.1111111111111111,
             "#46039f"
            ],
            [
             0.2222222222222222,
             "#7201a8"
            ],
            [
             0.3333333333333333,
             "#9c179e"
            ],
            [
             0.4444444444444444,
             "#bd3786"
            ],
            [
             0.5555555555555556,
             "#d8576b"
            ],
            [
             0.6666666666666666,
             "#ed7953"
            ],
            [
             0.7777777777777778,
             "#fb9f3a"
            ],
            [
             0.8888888888888888,
             "#fdca26"
            ],
            [
             1.0,
             "#f0f921"
            ]
           ],
           "diverging": [
            [
             0,
             "#8e0152"
            ],
            [
             0.1,
             "#c51b7d"
            ],
            [
             0.2,
             "#de77ae"
            ],
            [
             0.3,
             "#f1b6da"
            ],
            [
             0.4,
             "#fde0ef"
            ],
            [
             0.5,
             "#f7f7f7"
            ],
            [
             0.6,
             "#e6f5d0"
            ],
            [
             0.7,
             "#b8e186"
            ],
            [
             0.8,
             "#7fbc41"
            ],
            [
             0.9,
             "#4d9221"
            ],
            [
             1,
             "#276419"
            ]
           ]
          },
          "xaxis": {
           "gridcolor": "white",
           "linecolor": "white",
           "ticks": "",
           "title": {
            "standoff": 15
           },
           "zerolinecolor": "white",
           "automargin": true,
           "zerolinewidth": 2
          },
          "yaxis": {
           "gridcolor": "white",
           "linecolor": "white",
           "ticks": "",
           "title": {
            "standoff": 15
           },
           "zerolinecolor": "white",
           "automargin": true,
           "zerolinewidth": 2
          },
          "scene": {
           "xaxis": {
            "backgroundcolor": "#E5ECF6",
            "gridcolor": "white",
            "linecolor": "white",
            "showbackground": true,
            "ticks": "",
            "zerolinecolor": "white",
            "gridwidth": 2
           },
           "yaxis": {
            "backgroundcolor": "#E5ECF6",
            "gridcolor": "white",
            "linecolor": "white",
            "showbackground": true,
            "ticks": "",
            "zerolinecolor": "white",
            "gridwidth": 2
           },
           "zaxis": {
            "backgroundcolor": "#E5ECF6",
            "gridcolor": "white",
            "linecolor": "white",
            "showbackground": true,
            "ticks": "",
            "zerolinecolor": "white",
            "gridwidth": 2
           }
          },
          "shapedefaults": {
           "line": {
            "color": "#2a3f5f"
           }
          },
          "annotationdefaults": {
           "arrowcolor": "#2a3f5f",
           "arrowhead": 0,
           "arrowwidth": 1
          },
          "geo": {
           "bgcolor": "white",
           "landcolor": "#E5ECF6",
           "subunitcolor": "white",
           "showland": true,
           "showlakes": true,
           "lakecolor": "white"
          },
          "title": {
           "x": 0.05
          },
          "mapbox": {
           "style": "light"
          }
         }
        },
        "xaxis": {
         "anchor": "y",
         "domain": [
          0.0,
          1.0
         ],
         "matches": "x2",
         "showticklabels": false,
         "rangeslider": {
          "visible": false
         }
        },
        "yaxis": {
         "anchor": "x",
         "domain": [
          0.405,
          1.0
         ],
         "title": {
          "text": "Price"
         }
        },
        "xaxis2": {
         "anchor": "y2",
         "domain": [
          0.0,
          1.0
         ]
        },
        "yaxis2": {
         "anchor": "x2",
         "domain": [
          0.0,
          0.255
         ],
         "title": {
          "text": "Volume"
         }
        }
       },
       "config": {
        "plotlyServerURL": "https://plot.ly"
       }
      },
      "text/html": "<div>                            <div id=\"31d2dc40-5b7b-4bb9-ac54-602285c43a1a\" class=\"plotly-graph-div\" style=\"height:525px; width:100%;\"></div>            <script type=\"text/javascript\">                require([\"plotly\"], function(Plotly) {                    window.PLOTLYENV=window.PLOTLYENV || {};                                    if (document.getElementById(\"31d2dc40-5b7b-4bb9-ac54-602285c43a1a\")) {                    Plotly.newPlot(                        \"31d2dc40-5b7b-4bb9-ac54-602285c43a1a\",                        [{\"close\":[176.43,169.5,158.59,155.08,171.19,174.28,174.99,178.64,176.59,163.76,166.68,167.11,173.45,164.5,161.14,182.48,187.93,185.64,187.92,189.57,190.81,188.26,184.27,182.27,187.32,190.66,191.0,190.31,207.25,207.55],\"decreasing\":{\"line\":{\"color\":\"#ef5350\"}},\"high\":[178.06,177.4,168.23,162.01,173.54,174.37,179.3,178.68,182.16,176.17,173.87,172.95,174.55,177.63,165.7,182.9,189.4,188.87,188.99,189.6,193.52,192.21,188.56,186.63,187.77,191.17,191.98,195.28,208.01,209.1],\"increasing\":{\"line\":{\"color\":\"#26a69a\"}},\"low\":[173.08,168.13,158.28,149.14,156.35,169.75,171.19,172.99,176.32,163.74,163.98,163.27,168.57,164.21,159.45,160.66,182.32,184.45,185.11,185.49,189.11,187.6,182.81,180.1,182.78,186.95,188.54,188.9,188.41,203.81],\"name\":\"price\",\"open\":[175.89,175.29,168.23,157.3,157.32,170.81,175.06,173.86,178.98,176.07,166.83,166.66,168.57,173.84,165.59,160.93,183.83,188.35,187.34,186.94,190.93,190.67,187.21,182.76,183.23,188.84,190.85,190.0,191.31,207.2],\"showlegend\":false,\"x\":[\"2018-01-15T00:00:00\",\"2018-01-22T00:00:00\",\"2018-01-29T00:00:00\",\"2018-02-05T00:00:00\",\"2018-02-12T00:00:00\",\"2018-02-19T00:00:00\",\"2018-02-26T00:00:00\",\"2018-03-05T00:00:00\",\"2018-03-12T00:00:00\",\"2018-03-19T00:00:00\",\"2018-03-26T00:00:00\",\"2018-04-02T00:00:00\",\"2018-04-09T00:00:00\",\"2018-04-16T00:00:00\",\"2018-04-23T00:00:00\",\"2018-04-30T00:00:00\",\"2018-05-07T00:00:00\",\"2018-05-14T00:00:00\",\"2018-05-21T00:00:00\",\"2018-05-28T00:00:00\",\"2018-06-04T00:00:00\",\"2018-06-11T00:00:00\",\"2018-06-18T00:00:00\",\"2018-06-25T00:00:00\",\"2018-07-02T00:00:00\",\"2018-07-09T00:00:00\",\"2018-07-16T00:00:00\",\"2018-07-23T00:00:00\",\"2018-07-30T00:00:00\",\"2018-08-06T00:00:00\"],\"type\":\"candlestick\",\"xaxis\":\"x\",\"yaxis\":\"y\"},{\"marker\":{\"color\":\"#ef5350\"},\"showlegend\":false,\"x\":[\"2018-01-22T00:00:00\",\"2018-01-29T00:00:00\",\"2018-02-05T00:00:00\",\"2018-02-26T00:00:00\",\"2018-03-12T00:00:00\",\"2018-03-19T00:00:00\",\"2018-03-26T00:00:00\",\"2018-04-16T00:00:00\",\"2018-04-23T00:00:00\",\"2018-05-14T00:00:00\",\"2018-06-04T00:00:00\",\"2018-06-11T00:00:00\",\"2018-06-18T00:00:00\",\"2018-06-25T00:00:00\"],\"y\":[150528915,198842790,253496837,163181344,119715359,138128911,119094237,134360753,130762944,76325802,88251639,86948257,81552048,90352175],\"type\":\"bar\",\"xaxis\":\"x2\",\"yaxis\":\"y2\"},{\"marker\":{\"color\":\"#26a69a\"},\"showlegend\":false,\"x\":[\"2018-01-15T00:00:00\",\"2018-02-12T00:00:00\",\"2018-02-19T00:00:00\",\"2018-03-05T00:00:00\",\"2018-04-02T00:00:00\",\"2018-04-09T00:00:00\",\"2018-04-30T00:00:00\",\"2018-05-07T00:00:00\",\"2018-05-21T00:00:00\",\"2018-05-28T00:00:00\",\"2018-07-02T00:00:00\",\"2018-07-09T00:00:00\",\"2018-07-16T00:00:00\",\"2018-07-23T00:00:00\",\"2018-07-30T00:00:00\",\"2018-08-06T00:00:00\"],\"y\":[94737964,181443367,112119258,111973724,129360769,100985553,197762145,118290304,67349391,67036619,50990124,63146880,60232773,69987342,173943077,94679518],\"type\":\"bar\",\"xaxis\":\"x2\",\"yaxis\":\"y2\"}],                        {\"template\":{\"data\":{\"histogram2dcontour\":[{\"type\":\"histogram2dcontour\",\"colorbar\":{\"outlinewidth\":0,\"ticks\":\"\"},\"colorscale\":[[0.0,\"#0d0887\"],[0.1111111111111111,\"#46039f\"],[0.2222222222222222,\"#7201a8\"],[0.3333333333333333,\"#9c179e\"],[0.4444444444444444,\"#bd3786\"],[0.5555555555555556,\"#d8576b\"],[0.6666666666666666,\"#ed7953\"],[0.7777777777777778,\"#fb9f3a\"],[0.8888888888888888,\"#fdca26\"],[1.0,\"#f0f921\"]]}],\"choropleth\":[{\"type\":\"choropleth\",\"colorbar\":{\"outlinewidth\":0,\"ticks\":\"\"}}],\"histogram2d\":[{\"type\":\"histogram2d\",\"colorbar\":{\"outlinewidth\":0,\"ticks\":\"\"},\"colorscale\":[[0.0,\"#0d0887\"],[0.1111111111111111,\"#46039f\"],[0.2222222222222222,\"#7201a8\"],[0.3333333333333333,\"#9c179e\"],[0.4444444444444444,\"#bd3786\"],[0.5555555555555556,\"#d8576b\"],[0.6666666666666666,\"#ed7953\"],[0.7777777777777778,\"#fb9f3a\"],[0.8888888888888888,\"#fdca26\"],[1.0,\"#f0f921\"]]}],\"heatmap\":[{\"type\":\"heatmap\",\"colorbar\":{\"outlinewidth\":0,\"ticks\":\"\"},\"colorscale\":[[0.0,\"#0d0887\"],[0.1111111111111111,\"#46039f\"],[0.2222222222222222,\"#7201a8\"],[0.3333333333333333,\"#9c179e\"],[0.4444444444444444,\"#bd3786\"],[0.5555555555555556,\"#d8576b\"],[0.6666666666666666,\"#ed7953\"],[0.7777777777777778,\"#fb9f3a\"],[0.8888888888888888,\"#fdca26\"],[1.0,\"#f0f921\"]]}],\"heatmapgl\":[{\"type\":\"heatmapgl\",\"colorbar\":{\"outlinewidth\":0,\"ticks\":\"\"},\"colorscale\":[[0.0,\"#0d0887\"],[0.1111111111111111,\"#46039f\"],[0.2222222222222222,\"#7201a8\"],[0.3333333333333333,\"#9c179e\"],[0.4444444444444444,\"#bd3786\"],[0.5555555555555556,\"#d8576b\"],[0.6666666666666666,\"#ed7953\"],[0.7777777777777778,\"#fb9f3a\"],[0.8888888888888888,\"#fdca26\"],[1.0,\"#f0f921\"]]}],\"contourcarpet\":[{\"type\":\"contourcarpet\",\"colorbar\":{\"outlinewidth\":0,\"ticks\":\"\"}}],\"contour\":[{\"type\":\"contour\",\"colorbar\":{\"outlinewidth\":0,\"ticks\":\"\"},\"colorscale\":[[0.0,\"#0d0887\"],[0.1111111111111111,\"#46039f\"],[0.2222222222222222,\"#7201a8\"],[0.3333333333333333,\"#9c179e\"],[0.4444444444444444,\"#bd3786\"],[0.5555555555555556,\"#d8576b\"],[0.6666666666666666,\"#ed7953\"],[0.7777777777777778,\"#fb9f3a\"],[0.8888888888888888,\"#fdca26\"],[1.0,\"#f0f921\"]]}],\"surface\":[{\"type\":\"surface\",\"colorbar\":{\"outlinewidth\":0,\"ticks\":\"\"},\"colorscale\":[[0.0,\"#0d0887\"],[0.1111111111111111,\"#46039f\"],[0.2222222222222222,\"#7201a8\"],[0.3333333333333333,\"#9c179e\"],[0.4444444444444444,\"#bd3786\"],[0.5555555555555556,\"#d8576b\"],[0.6666666666666666,\"#ed7953\"],[0.7777777777777778,\"#fb9f3a\"],[0.8888888888888888,\"#fdca26\"],[1.0,\"#f0f921\"]]}],\"mesh3d\":[{\"type\":\"mesh3d\",\"colorbar\":{\"outlinewidth\":0,\"ticks\":\"\"}}],\"scatter\":[{\"fillpattern\":{\"fillmode\":\"overlay\",\"size\":10,\"solidity\":0.2},\"type\":\"scatter\"}],\"parcoords\":[{\"type\":\"parcoords\",\"line\":{\"colorbar\":{\"outlinewidth\":0,\"ticks\":\"\"}}}],\"scatterpolargl\":[{\"type\":\"scatterpolargl\",\"marker\":{\"colorbar\":{\"outlinewidth\":0,\"ticks\":\"\"}}}],\"bar\":[{\"error_x\":{\"color\":\"#2a3f5f\"},\"error_y\":{\"color\":\"#2a3f5f\"},\"marker\":{\"line\":{\"color\":\"#E5ECF6\",\"width\":0.5},\"pattern\":{\"fillmode\":\"overlay\",\"size\":10,\"solidity\":0.2}},\"type\":\"bar\"}],\"scattergeo\":[{\"type\":\"scattergeo\",\"marker\":{\"colorbar\":{\"outlinewidth\":0,\"ticks\":\"\"}}}],\"scatterpolar\":[{\"type\":\"scatterpolar\",\"marker\":{\"colorbar\":{\"outlinewidth\":0,\"ticks\":\"\"}}}],\"histogram\":[{\"marker\":{\"pattern\":{\"fillmode\":\"overlay\",\"size\":10,\"solidity\":0.2}},\"type\":\"histogram\"}],\"scattergl\":[{\"type\":\"scattergl\",\"marker\":{\"colorbar\":{\"outlinewidth\":0,\"ticks\":\"\"}}}],\"scatter3d\":[{\"type\":\"scatter3d\",\"line\":{\"colorbar\":{\"outlinewidth\":0,\"ticks\":\"\"}},\"marker\":{\"colorbar\":{\"outlinewidth\":0,\"ticks\":\"\"}}}],\"scattermapbox\":[{\"type\":\"scattermapbox\",\"marker\":{\"colorbar\":{\"outlinewidth\":0,\"ticks\":\"\"}}}],\"scatterternary\":[{\"type\":\"scatterternary\",\"marker\":{\"colorbar\":{\"outlinewidth\":0,\"ticks\":\"\"}}}],\"scattercarpet\":[{\"type\":\"scattercarpet\",\"marker\":{\"colorbar\":{\"outlinewidth\":0,\"ticks\":\"\"}}}],\"carpet\":[{\"aaxis\":{\"endlinecolor\":\"#2a3f5f\",\"gridcolor\":\"white\",\"linecolor\":\"white\",\"minorgridcolor\":\"white\",\"startlinecolor\":\"#2a3f5f\"},\"baxis\":{\"endlinecolor\":\"#2a3f5f\",\"gridcolor\":\"white\",\"linecolor\":\"white\",\"minorgridcolor\":\"white\",\"startlinecolor\":\"#2a3f5f\"},\"type\":\"carpet\"}],\"table\":[{\"cells\":{\"fill\":{\"color\":\"#EBF0F8\"},\"line\":{\"color\":\"white\"}},\"header\":{\"fill\":{\"color\":\"#C8D4E3\"},\"line\":{\"color\":\"white\"}},\"type\":\"table\"}],\"barpolar\":[{\"marker\":{\"line\":{\"color\":\"#E5ECF6\",\"width\":0.5},\"pattern\":{\"fillmode\":\"overlay\",\"size\":10,\"solidity\":0.2}},\"type\":\"barpolar\"}],\"pie\":[{\"automargin\":true,\"type\":\"pie\"}]},\"layout\":{\"autotypenumbers\":\"strict\",\"colorway\":[\"#636efa\",\"#EF553B\",\"#00cc96\",\"#ab63fa\",\"#FFA15A\",\"#19d3f3\",\"#FF6692\",\"#B6E880\",\"#FF97FF\",\"#FECB52\"],\"font\":{\"color\":\"#2a3f5f\"},\"hovermode\":\"closest\",\"hoverlabel\":{\"align\":\"left\"},\"paper_bgcolor\":\"white\",\"plot_bgcolor\":\"#E5ECF6\",\"polar\":{\"bgcolor\":\"#E5ECF6\",\"angularaxis\":{\"gridcolor\":\"white\",\"linecolor\":\"white\",\"ticks\":\"\"},\"radialaxis\":{\"gridcolor\":\"white\",\"linecolor\":\"white\",\"ticks\":\"\"}},\"ternary\":{\"bgcolor\":\"#E5ECF6\",\"aaxis\":{\"gridcolor\":\"white\",\"linecolor\":\"white\",\"ticks\":\"\"},\"baxis\":{\"gridcolor\":\"white\",\"linecolor\":\"white\",\"ticks\":\"\"},\"caxis\":{\"gridcolor\":\"white\",\"linecolor\":\"white\",\"ticks\":\"\"}},\"coloraxis\":{\"colorbar\":{\"outlinewidth\":0,\"ticks\":\"\"}},\"colorscale\":{\"sequential\":[[0.0,\"#0d0887\"],[0.1111111111111111,\"#46039f\"],[0.2222222222222222,\"#7201a8\"],[0.3333333333333333,\"#9c179e\"],[0.4444444444444444,\"#bd3786\"],[0.5555555555555556,\"#d8576b\"],[0.6666666666666666,\"#ed7953\"],[0.7777777777777778,\"#fb9f3a\"],[0.8888888888888888,\"#fdca26\"],[1.0,\"#f0f921\"]],\"sequentialminus\":[[0.0,\"#0d0887\"],[0.1111111111111111,\"#46039f\"],[0.2222222222222222,\"#7201a8\"],[0.3333333333333333,\"#9c179e\"],[0.4444444444444444,\"#bd3786\"],[0.5555555555555556,\"#d8576b\"],[0.6666666666666666,\"#ed7953\"],[0.7777777777777778,\"#fb9f3a\"],[0.8888888888888888,\"#fdca26\"],[1.0,\"#f0f921\"]],\"diverging\":[[0,\"#8e0152\"],[0.1,\"#c51b7d\"],[0.2,\"#de77ae\"],[0.3,\"#f1b6da\"],[0.4,\"#fde0ef\"],[0.5,\"#f7f7f7\"],[0.6,\"#e6f5d0\"],[0.7,\"#b8e186\"],[0.8,\"#7fbc41\"],[0.9,\"#4d9221\"],[1,\"#276419\"]]},\"xaxis\":{\"gridcolor\":\"white\",\"linecolor\":\"white\",\"ticks\":\"\",\"title\":{\"standoff\":15},\"zerolinecolor\":\"white\",\"automargin\":true,\"zerolinewidth\":2},\"yaxis\":{\"gridcolor\":\"white\",\"linecolor\":\"white\",\"ticks\":\"\",\"title\":{\"standoff\":15},\"zerolinecolor\":\"white\",\"automargin\":true,\"zerolinewidth\":2},\"scene\":{\"xaxis\":{\"backgroundcolor\":\"#E5ECF6\",\"gridcolor\":\"white\",\"linecolor\":\"white\",\"showbackground\":true,\"ticks\":\"\",\"zerolinecolor\":\"white\",\"gridwidth\":2},\"yaxis\":{\"backgroundcolor\":\"#E5ECF6\",\"gridcolor\":\"white\",\"linecolor\":\"white\",\"showbackground\":true,\"ticks\":\"\",\"zerolinecolor\":\"white\",\"gridwidth\":2},\"zaxis\":{\"backgroundcolor\":\"#E5ECF6\",\"gridcolor\":\"white\",\"linecolor\":\"white\",\"showbackground\":true,\"ticks\":\"\",\"zerolinecolor\":\"white\",\"gridwidth\":2}},\"shapedefaults\":{\"line\":{\"color\":\"#2a3f5f\"}},\"annotationdefaults\":{\"arrowcolor\":\"#2a3f5f\",\"arrowhead\":0,\"arrowwidth\":1},\"geo\":{\"bgcolor\":\"white\",\"landcolor\":\"#E5ECF6\",\"subunitcolor\":\"white\",\"showland\":true,\"showlakes\":true,\"lakecolor\":\"white\"},\"title\":{\"x\":0.05},\"mapbox\":{\"style\":\"light\"}}},\"xaxis\":{\"anchor\":\"y\",\"domain\":[0.0,1.0],\"matches\":\"x2\",\"showticklabels\":false,\"rangeslider\":{\"visible\":false}},\"yaxis\":{\"anchor\":\"x\",\"domain\":[0.405,1.0],\"title\":{\"text\":\"Price\"}},\"xaxis2\":{\"anchor\":\"y2\",\"domain\":[0.0,1.0]},\"yaxis2\":{\"anchor\":\"x2\",\"domain\":[0.0,0.255],\"title\":{\"text\":\"Volume\"}}},                        {\"responsive\": true}                    ).then(function(){\n                            \nvar gd = document.getElementById('31d2dc40-5b7b-4bb9-ac54-602285c43a1a');\nvar x = new MutationObserver(function (mutations, observer) {{\n        var display = window.getComputedStyle(gd).display;\n        if (!display || display === 'none') {{\n            console.log([gd, 'removed!']);\n            Plotly.purge(gd);\n            observer.disconnect();\n        }}\n}});\n\n// Listen for the removal of the full notebook cells\nvar notebookContainer = gd.closest('#notebook-container');\nif (notebookContainer) {{\n    x.observe(notebookContainer, {childList: true});\n}}\n\n// Listen for the clearing of the current output cell\nvar outputEl = gd.closest('.output');\nif (outputEl) {{\n    x.observe(outputEl, {childList: true});\n}}\n\n                        })                };                });            </script>        </div>"
     },
     "metadata": {},
     "output_type": "display_data"
    }
   ],
   "source": [
    "plotly_fig = make_subplots(rows=2, cols=1, shared_xaxes=True, row_heights=[0.7, 0.3])\n",
    "\n",
    "# Plot candles in the first plot\n",
    "plotly_fig.add_trace(go.Candlestick(x=data.index, open=data['Open'], high=data['High'], low=data['Low'], close=data['Close'],\n",
    "                                    name='price', increasing_line_color='#26a69a', decreasing_line_color='#ef5350', showlegend=False), row=1, col=1)\n",
    "# Extract the green volume and red volume separately\n",
    "green_volume_df = data[data['Close'] > data['Open']]\n",
    "red_volume_df = data[data['Open'] > data['Close']]\n",
    "\n",
    "# Add two separate traces for each one...\n",
    "plotly_fig.add_trace(go.Bar(x=red_volume_df.index, y=red_volume_df['Volume'], showlegend=False, marker_color='#ef5350'), row=2, col=1)\n",
    "plotly_fig.add_trace(go.Bar(x=green_volume_df.index, y=green_volume_df['Volume'], showlegend=False, marker_color='#26a69a'), row=2, col=1)\n",
    "\n",
    "# Hide the range slider\n",
    "plotly_fig.update_layout(xaxis_rangeslider_visible=False, yaxis_title='Price')\n",
    "plotly_fig.update_yaxes(title_text='Volume', row=2, col=1)\n",
    "\n",
    "plotly_fig.show()"
   ],
   "metadata": {
    "collapsed": false,
    "ExecuteTime": {
     "end_time": "2024-03-02T20:23:36.208449Z",
     "start_time": "2024-03-02T20:23:36.158569200Z"
    }
   },
   "id": "edd4f83405838ebc",
   "execution_count": 46
  },
  {
   "cell_type": "code",
   "outputs": [
    {
     "data": {
      "text/plain": "<PIL.PngImagePlugin.PngImageFile image mode=RGBA size=800x800>",
      "image/png": "[encoded data removed]"
     },
     "execution_count": 47,
     "metadata": {},
     "output_type": "execute_result"
    }
   ],
   "source": [
    "img_bytes = plotly_fig.to_image(format='png', width=800, height=800)\n",
    "buf = io.BytesIO(img_bytes)\n",
    "image = Image.open(buf)\n",
    "image\n"
   ],
   "metadata": {
    "collapsed": false,
    "ExecuteTime": {
     "end_time": "2024-03-02T20:23:36.563900500Z",
     "start_time": "2024-03-02T20:23:36.453304300Z"
    }
   },
   "id": "d2d525cba60791",
   "execution_count": 47
  },
  {
   "cell_type": "code",
   "outputs": [
    {
     "data": {
      "text/plain": "<PIL.PngImagePlugin.PngImageFile image mode=RGBA size=800x800>",
      "image/png": "[encoded data removed]"
     },
     "execution_count": 34,
     "metadata": {},
     "output_type": "execute_result"
    }
   ],
   "source": [
    "image"
   ],
   "metadata": {
    "collapsed": false,
    "ExecuteTime": {
     "end_time": "2024-03-02T15:48:56.771917200Z",
     "start_time": "2024-03-02T15:48:56.742020200Z"
    }
   },
   "id": "526edd4a2b61e012",
   "execution_count": 34
  },
  {
   "cell_type": "code",
   "outputs": [
    {
     "data": {
      "text/plain": "              Open    High     Low   Close     Volume\n2002-12-30    0.93    0.97    0.92    0.97  157277204\n2003-01-06    0.98    1.00    0.96    0.97  313492984\n2003-01-13    0.97    0.97    0.93    0.93  367800566\n2003-01-20    0.94    0.95    0.91    0.92  235185202\n2003-01-27    0.91    0.98    0.91    0.95  420238056\n...            ...     ...     ...     ...        ...\n2018-07-09  188.84  191.17  186.95  190.66   63146880\n2018-07-16  190.85  191.98  188.54  191.00   60232773\n2018-07-23  190.00  195.28  188.90  190.31   69987342\n2018-07-30  191.31  208.01  188.41  207.25  173943077\n2018-08-06  207.20  209.10  203.81  207.55   94679518\n\n[815 rows x 5 columns]",
      "text/html": "<div>\n<style scoped>\n    .dataframe tbody tr th:only-of-type {\n        vertical-align: middle;\n    }\n\n    .dataframe tbody tr th {\n        vertical-align: top;\n    }\n\n    .dataframe thead th {\n        text-align: right;\n    }\n</style>\n<table border=\"1\" class=\"dataframe\">\n  <thead>\n    <tr style=\"text-align: right;\">\n      <th></th>\n      <th>Open</th>\n      <th>High</th>\n      <th>Low</th>\n      <th>Close</th>\n      <th>Volume</th>\n    </tr>\n  </thead>\n  <tbody>\n    <tr>\n      <th>2002-12-30</th>\n      <td>0.93</td>\n      <td>0.97</td>\n      <td>0.92</td>\n      <td>0.97</td>\n      <td>157277204</td>\n    </tr>\n    <tr>\n      <th>2003-01-06</th>\n      <td>0.98</td>\n      <td>1.00</td>\n      <td>0.96</td>\n      <td>0.97</td>\n      <td>313492984</td>\n    </tr>\n    <tr>\n      <th>2003-01-13</th>\n      <td>0.97</td>\n      <td>0.97</td>\n      <td>0.93</td>\n      <td>0.93</td>\n      <td>367800566</td>\n    </tr>\n    <tr>\n      <th>2003-01-20</th>\n      <td>0.94</td>\n      <td>0.95</td>\n      <td>0.91</td>\n      <td>0.92</td>\n      <td>235185202</td>\n    </tr>\n    <tr>\n      <th>2003-01-27</th>\n      <td>0.91</td>\n      <td>0.98</td>\n      <td>0.91</td>\n      <td>0.95</td>\n      <td>420238056</td>\n    </tr>\n    <tr>\n      <th>...</th>\n      <td>...</td>\n      <td>...</td>\n      <td>...</td>\n      <td>...</td>\n      <td>...</td>\n    </tr>\n    <tr>\n      <th>2018-07-09</th>\n      <td>188.84</td>\n      <td>191.17</td>\n      <td>186.95</td>\n      <td>190.66</td>\n      <td>63146880</td>\n    </tr>\n    <tr>\n      <th>2018-07-16</th>\n      <td>190.85</td>\n      <td>191.98</td>\n      <td>188.54</td>\n      <td>191.00</td>\n      <td>60232773</td>\n    </tr>\n    <tr>\n      <th>2018-07-23</th>\n      <td>190.00</td>\n      <td>195.28</td>\n      <td>188.90</td>\n      <td>190.31</td>\n      <td>69987342</td>\n    </tr>\n    <tr>\n      <th>2018-07-30</th>\n      <td>191.31</td>\n      <td>208.01</td>\n      <td>188.41</td>\n      <td>207.25</td>\n      <td>173943077</td>\n    </tr>\n    <tr>\n      <th>2018-08-06</th>\n      <td>207.20</td>\n      <td>209.10</td>\n      <td>203.81</td>\n      <td>207.55</td>\n      <td>94679518</td>\n    </tr>\n  </tbody>\n</table>\n<p>815 rows × 5 columns</p>\n</div>"
     },
     "execution_count": 49,
     "metadata": {},
     "output_type": "execute_result"
    }
   ],
   "source": [
    "# Next, it's time to decide how to make the labels. We have to be\n",
    "# careful in this one, because the quality of the label will determine \n",
    "# how well the model can perform. \n",
    "processed"
   ],
   "metadata": {
    "collapsed": false,
    "ExecuteTime": {
     "end_time": "2024-03-03T02:02:49.234639600Z",
     "start_time": "2024-03-03T02:02:49.179815200Z"
    }
   },
   "id": "d520135e2de1d8fa",
   "execution_count": 49
  },
  {
   "cell_type": "code",
   "outputs": [
    {
     "data": {
      "text/plain": "DatetimeIndex(['2003-07-21', '2003-07-28', '2003-08-04', '2003-08-11',\n               '2003-08-18', '2003-08-25', '2003-09-01', '2003-09-08',\n               '2003-09-15', '2003-09-22',\n               ...\n               '2018-06-04', '2018-06-11', '2018-06-18', '2018-06-25',\n               '2018-07-02', '2018-07-09', '2018-07-16', '2018-07-23',\n               '2018-07-30', '2018-08-06'],\n              dtype='datetime64[ns]', length=786, freq=None)"
     },
     "execution_count": 53,
     "metadata": {},
     "output_type": "execute_result"
    }
   ],
   "source": [
    "processed.index[LOOKBACK_WEEKS - 1: ]"
   ],
   "metadata": {
    "collapsed": false,
    "ExecuteTime": {
     "end_time": "2024-03-03T02:04:24.512015100Z",
     "start_time": "2024-03-03T02:04:24.465499Z"
    }
   },
   "id": "b52c67004703af25",
   "execution_count": 53
  },
  {
   "cell_type": "code",
   "outputs": [
    {
     "data": {
      "text/plain": "            Open  High   Low  Close      Volume\n2002-12-30  0.93  0.97  0.92   0.97   157277204\n2003-01-06  0.98  1.00  0.96   0.97   313492984\n2003-01-13  0.97  0.97  0.93   0.93   367800566\n2003-01-20  0.94  0.95  0.91   0.92   235185202\n2003-01-27  0.91  0.98  0.91   0.95   420238056\n2003-02-03  0.95  0.97  0.93   0.94   287092848\n2003-02-10  0.94  0.97  0.93   0.97   222279848\n2003-02-17  0.97  1.00  0.97   0.97   201290670\n2003-02-24  0.97  0.98  0.96   0.97   210578396\n2003-03-03  0.98  0.99  0.95   0.96   163657802\n2003-03-10  0.96  0.98  0.93   0.97   233395792\n2003-03-17  0.97  0.99  0.97   0.97   280046270\n2003-03-24  0.97  0.97  0.95   0.96   177805026\n2003-03-31  0.95  0.97  0.93   0.96   197516158\n2003-04-07  0.97  0.97  0.87   0.90   459056710\n2003-04-14  0.91  0.92  0.86   0.88   562345112\n2003-04-21  0.89  0.91  0.88   0.90   284438910\n2003-04-28  0.91  0.97  0.91   0.96   515795378\n2003-05-05  0.97  1.16  0.97   1.15  1283900800\n2003-05-12  1.15  1.19  1.15   1.19   439090960\n2003-05-19  1.17  1.17  1.13   1.15   364209762\n2003-05-26  1.14  1.19  1.13   1.13   305662098\n2003-06-02  1.15  1.15  1.09   1.10   348892306\n2003-06-09  1.09  1.14  1.07   1.12   249103288\n2003-06-16  1.13  1.22  1.12   1.20   353897474\n2003-06-23  1.21  1.22  1.16   1.18   361223282\n2003-06-30  1.18  1.21  1.16   1.19   183174768\n2003-07-07  1.21  1.26  1.20   1.23   243453014\n2003-07-14  1.23  1.30  1.21   1.28   386897700\n2003-07-21  1.27  1.32  1.26   1.32   225543906",
      "text/html": "<div>\n<style scoped>\n    .dataframe tbody tr th:only-of-type {\n        vertical-align: middle;\n    }\n\n    .dataframe tbody tr th {\n        vertical-align: top;\n    }\n\n    .dataframe thead th {\n        text-align: right;\n    }\n</style>\n<table border=\"1\" class=\"dataframe\">\n  <thead>\n    <tr style=\"text-align: right;\">\n      <th></th>\n      <th>Open</th>\n      <th>High</th>\n      <th>Low</th>\n      <th>Close</th>\n      <th>Volume</th>\n    </tr>\n  </thead>\n  <tbody>\n    <tr>\n      <th>2002-12-30</th>\n      <td>0.93</td>\n      <td>0.97</td>\n      <td>0.92</td>\n      <td>0.97</td>\n      <td>157277204</td>\n    </tr>\n    <tr>\n      <th>2003-01-06</th>\n      <td>0.98</td>\n      <td>1.00</td>\n      <td>0.96</td>\n      <td>0.97</td>\n      <td>313492984</td>\n    </tr>\n    <tr>\n      <th>2003-01-13</th>\n      <td>0.97</td>\n      <td>0.97</td>\n      <td>0.93</td>\n      <td>0.93</td>\n      <td>367800566</td>\n    </tr>\n    <tr>\n      <th>2003-01-20</th>\n      <td>0.94</td>\n      <td>0.95</td>\n      <td>0.91</td>\n      <td>0.92</td>\n      <td>235185202</td>\n    </tr>\n    <tr>\n      <th>2003-01-27</th>\n      <td>0.91</td>\n      <td>0.98</td>\n      <td>0.91</td>\n      <td>0.95</td>\n      <td>420238056</td>\n    </tr>\n    <tr>\n      <th>2003-02-03</th>\n      <td>0.95</td>\n      <td>0.97</td>\n      <td>0.93</td>\n      <td>0.94</td>\n      <td>287092848</td>\n    </tr>\n    <tr>\n      <th>2003-02-10</th>\n      <td>0.94</td>\n      <td>0.97</td>\n      <td>0.93</td>\n      <td>0.97</td>\n      <td>222279848</td>\n    </tr>\n    <tr>\n      <th>2003-02-17</th>\n      <td>0.97</td>\n      <td>1.00</td>\n      <td>0.97</td>\n      <td>0.97</td>\n      <td>201290670</td>\n    </tr>\n    <tr>\n      <th>2003-02-24</th>\n      <td>0.97</td>\n      <td>0.98</td>\n      <td>0.96</td>\n      <td>0.97</td>\n      <td>210578396</td>\n    </tr>\n    <tr>\n      <th>2003-03-03</th>\n      <td>0.98</td>\n      <td>0.99</td>\n      <td>0.95</td>\n      <td>0.96</td>\n      <td>163657802</td>\n    </tr>\n    <tr>\n      <th>2003-03-10</th>\n      <td>0.96</td>\n      <td>0.98</td>\n      <td>0.93</td>\n      <td>0.97</td>\n      <td>233395792</td>\n    </tr>\n    <tr>\n      <th>2003-03-17</th>\n      <td>0.97</td>\n      <td>0.99</td>\n      <td>0.97</td>\n      <td>0.97</td>\n      <td>280046270</td>\n    </tr>\n    <tr>\n      <th>2003-03-24</th>\n      <td>0.97</td>\n      <td>0.97</td>\n      <td>0.95</td>\n      <td>0.96</td>\n      <td>177805026</td>\n    </tr>\n    <tr>\n      <th>2003-03-31</th>\n      <td>0.95</td>\n      <td>0.97</td>\n      <td>0.93</td>\n      <td>0.96</td>\n      <td>197516158</td>\n    </tr>\n    <tr>\n      <th>2003-04-07</th>\n      <td>0.97</td>\n      <td>0.97</td>\n      <td>0.87</td>\n      <td>0.90</td>\n      <td>459056710</td>\n    </tr>\n    <tr>\n      <th>2003-04-14</th>\n      <td>0.91</td>\n      <td>0.92</td>\n      <td>0.86</td>\n      <td>0.88</td>\n      <td>562345112</td>\n    </tr>\n    <tr>\n      <th>2003-04-21</th>\n      <td>0.89</td>\n      <td>0.91</td>\n      <td>0.88</td>\n      <td>0.90</td>\n      <td>284438910</td>\n    </tr>\n    <tr>\n      <th>2003-04-28</th>\n      <td>0.91</td>\n      <td>0.97</td>\n      <td>0.91</td>\n      <td>0.96</td>\n      <td>515795378</td>\n    </tr>\n    <tr>\n      <th>2003-05-05</th>\n      <td>0.97</td>\n      <td>1.16</td>\n      <td>0.97</td>\n      <td>1.15</td>\n      <td>1283900800</td>\n    </tr>\n    <tr>\n      <th>2003-05-12</th>\n      <td>1.15</td>\n      <td>1.19</td>\n      <td>1.15</td>\n      <td>1.19</td>\n      <td>439090960</td>\n    </tr>\n    <tr>\n      <th>2003-05-19</th>\n      <td>1.17</td>\n      <td>1.17</td>\n      <td>1.13</td>\n      <td>1.15</td>\n      <td>364209762</td>\n    </tr>\n    <tr>\n      <th>2003-05-26</th>\n      <td>1.14</td>\n      <td>1.19</td>\n      <td>1.13</td>\n      <td>1.13</td>\n      <td>305662098</td>\n    </tr>\n    <tr>\n      <th>2003-06-02</th>\n      <td>1.15</td>\n      <td>1.15</td>\n      <td>1.09</td>\n      <td>1.10</td>\n      <td>348892306</td>\n    </tr>\n    <tr>\n      <th>2003-06-09</th>\n      <td>1.09</td>\n      <td>1.14</td>\n      <td>1.07</td>\n      <td>1.12</td>\n      <td>249103288</td>\n    </tr>\n    <tr>\n      <th>2003-06-16</th>\n      <td>1.13</td>\n      <td>1.22</td>\n      <td>1.12</td>\n      <td>1.20</td>\n      <td>353897474</td>\n    </tr>\n    <tr>\n      <th>2003-06-23</th>\n      <td>1.21</td>\n      <td>1.22</td>\n      <td>1.16</td>\n      <td>1.18</td>\n      <td>361223282</td>\n    </tr>\n    <tr>\n      <th>2003-06-30</th>\n      <td>1.18</td>\n      <td>1.21</td>\n      <td>1.16</td>\n      <td>1.19</td>\n      <td>183174768</td>\n    </tr>\n    <tr>\n      <th>2003-07-07</th>\n      <td>1.21</td>\n      <td>1.26</td>\n      <td>1.20</td>\n      <td>1.23</td>\n      <td>243453014</td>\n    </tr>\n    <tr>\n      <th>2003-07-14</th>\n      <td>1.23</td>\n      <td>1.30</td>\n      <td>1.21</td>\n      <td>1.28</td>\n      <td>386897700</td>\n    </tr>\n    <tr>\n      <th>2003-07-21</th>\n      <td>1.27</td>\n      <td>1.32</td>\n      <td>1.26</td>\n      <td>1.32</td>\n      <td>225543906</td>\n    </tr>\n  </tbody>\n</table>\n</div>"
     },
     "execution_count": 54,
     "metadata": {},
     "output_type": "execute_result"
    }
   ],
   "source": [
    "processed.loc[dt.datetime(2003, 7, 21) - dt.timedelta(weeks=LOOKBACK_WEEKS): dt.datetime(2003, 7, 21)]"
   ],
   "metadata": {
    "collapsed": false,
    "ExecuteTime": {
     "end_time": "2024-03-03T02:04:29.734151400Z",
     "start_time": "2024-03-03T02:04:29.655336900Z"
    }
   },
   "id": "2cd2e8671e0e8495",
   "execution_count": 54
  },
  {
   "cell_type": "code",
   "outputs": [
    {
     "data": {
      "text/plain": "<Figure size 800x575 with 4 Axes>",
      "image/png": "[encoded data removed]"
     },
     "metadata": {},
     "output_type": "display_data"
    }
   ],
   "source": [
    "mpf.plot(processed.loc[dt.datetime(2003, 7, 21) - dt.timedelta(weeks=LOOKBACK_WEEKS): dt.datetime(2003, 7, 21)], style='yahoo', volume=True)"
   ],
   "metadata": {
    "collapsed": false,
    "ExecuteTime": {
     "end_time": "2024-03-03T02:09:29.203749500Z",
     "start_time": "2024-03-03T02:09:28.976520700Z"
    }
   },
   "id": "5a388e0b7d9b369",
   "execution_count": 58
  },
  {
   "cell_type": "code",
   "outputs": [
    {
     "data": {
      "text/plain": "            Open  High   Low  Close     Volume\n2003-07-21  1.27  1.32  1.26   1.32  225543906\n2003-07-28  1.32  1.32  1.25   1.27  220971044\n2003-08-04  1.27  1.32  1.21   1.22  227907050\n2003-08-11  1.22  1.26  1.21   1.23  204294230\n2003-08-18  1.23  1.35  1.23   1.28  259639366\n2003-08-25  1.28  1.40  1.26   1.38  261031134\n2003-09-01  1.39  1.43  1.37   1.38  222888722\n2003-09-08  1.38  1.42  1.36   1.42  226652062\n2003-09-15  1.40  1.41  1.34   1.37  287445018\n2003-09-22  1.37  1.38  1.24   1.27  367660286\n2003-09-29  1.31  1.34  1.25   1.33  318931536",
      "text/html": "<div>\n<style scoped>\n    .dataframe tbody tr th:only-of-type {\n        vertical-align: middle;\n    }\n\n    .dataframe tbody tr th {\n        vertical-align: top;\n    }\n\n    .dataframe thead th {\n        text-align: right;\n    }\n</style>\n<table border=\"1\" class=\"dataframe\">\n  <thead>\n    <tr style=\"text-align: right;\">\n      <th></th>\n      <th>Open</th>\n      <th>High</th>\n      <th>Low</th>\n      <th>Close</th>\n      <th>Volume</th>\n    </tr>\n  </thead>\n  <tbody>\n    <tr>\n      <th>2003-07-21</th>\n      <td>1.27</td>\n      <td>1.32</td>\n      <td>1.26</td>\n      <td>1.32</td>\n      <td>225543906</td>\n    </tr>\n    <tr>\n      <th>2003-07-28</th>\n      <td>1.32</td>\n      <td>1.32</td>\n      <td>1.25</td>\n      <td>1.27</td>\n      <td>220971044</td>\n    </tr>\n    <tr>\n      <th>2003-08-04</th>\n      <td>1.27</td>\n      <td>1.32</td>\n      <td>1.21</td>\n      <td>1.22</td>\n      <td>227907050</td>\n    </tr>\n    <tr>\n      <th>2003-08-11</th>\n      <td>1.22</td>\n      <td>1.26</td>\n      <td>1.21</td>\n      <td>1.23</td>\n      <td>204294230</td>\n    </tr>\n    <tr>\n      <th>2003-08-18</th>\n      <td>1.23</td>\n      <td>1.35</td>\n      <td>1.23</td>\n      <td>1.28</td>\n      <td>259639366</td>\n    </tr>\n    <tr>\n      <th>2003-08-25</th>\n      <td>1.28</td>\n      <td>1.40</td>\n      <td>1.26</td>\n      <td>1.38</td>\n      <td>261031134</td>\n    </tr>\n    <tr>\n      <th>2003-09-01</th>\n      <td>1.39</td>\n      <td>1.43</td>\n      <td>1.37</td>\n      <td>1.38</td>\n      <td>222888722</td>\n    </tr>\n    <tr>\n      <th>2003-09-08</th>\n      <td>1.38</td>\n      <td>1.42</td>\n      <td>1.36</td>\n      <td>1.42</td>\n      <td>226652062</td>\n    </tr>\n    <tr>\n      <th>2003-09-15</th>\n      <td>1.40</td>\n      <td>1.41</td>\n      <td>1.34</td>\n      <td>1.37</td>\n      <td>287445018</td>\n    </tr>\n    <tr>\n      <th>2003-09-22</th>\n      <td>1.37</td>\n      <td>1.38</td>\n      <td>1.24</td>\n      <td>1.27</td>\n      <td>367660286</td>\n    </tr>\n    <tr>\n      <th>2003-09-29</th>\n      <td>1.31</td>\n      <td>1.34</td>\n      <td>1.25</td>\n      <td>1.33</td>\n      <td>318931536</td>\n    </tr>\n  </tbody>\n</table>\n</div>"
     },
     "execution_count": 56,
     "metadata": {},
     "output_type": "execute_result"
    }
   ],
   "source": [
    "processed.loc[dt.datetime(2003, 7, 21) : dt.datetime(2003, 7, 21) + dt.timedelta(weeks=10)]"
   ],
   "metadata": {
    "collapsed": false,
    "ExecuteTime": {
     "end_time": "2024-03-03T02:05:19.001848100Z",
     "start_time": "2024-03-03T02:05:18.954658200Z"
    }
   },
   "id": "a7776314cef256bb",
   "execution_count": 56
  },
  {
   "cell_type": "code",
   "outputs": [
    {
     "data": {
      "text/plain": "<Figure size 800x575 with 4 Axes>",
      "image/png": "[encoded data removed]"
     },
     "metadata": {},
     "output_type": "display_data"
    }
   ],
   "source": [
    "mpf.plot(processed.loc[dt.datetime(2003, 7, 21) : dt.datetime(2003, 7, 21) + dt.timedelta(weeks=60)], style='yahoo', volume=True)"
   ],
   "metadata": {
    "collapsed": false,
    "ExecuteTime": {
     "end_time": "2024-03-03T02:12:38.388630400Z",
     "start_time": "2024-03-03T02:12:38.130981900Z"
    }
   },
   "id": "b844fc491d61a497",
   "execution_count": 61
  },
  {
   "cell_type": "code",
   "outputs": [
    {
     "data": {
      "text/plain": "<Figure size 800x575 with 4 Axes>",
      "image/png": "[encoded data removed]"
     },
     "metadata": {},
     "output_type": "display_data"
    }
   ],
   "source": [
    "mpf.plot(processed.loc['2010-08-30': '2013-07-30'], style='yahoo', volume=True)"
   ],
   "metadata": {
    "collapsed": false,
    "ExecuteTime": {
     "end_time": "2024-03-03T02:41:28.712380300Z",
     "start_time": "2024-03-03T02:41:27.197550400Z"
    }
   },
   "id": "9c428f41db94a2f2",
   "execution_count": 66
  },
  {
   "cell_type": "code",
   "outputs": [],
   "source": [
    "# Check 30% increase WITHIN 6 months of the buy point, WITHOUT having more than an 8% loss from the buy point.\n",
    "# If it is, then BUY, otherwise DON'T BUY. \n",
    "# We'll see how this goes."
   ],
   "metadata": {
    "collapsed": false
   },
   "id": "cce318ea847f06ef"
  }
 ],
 "metadata": {
  "kernelspec": {
   "display_name": "Python 3",
   "language": "python",
   "name": "python3"
  },
  "language_info": {
   "codemirror_mode": {
    "name": "ipython",
    "version": 2
   },
   "file_extension": ".py",
   "mimetype": "text/x-python",
   "name": "python",
   "nbconvert_exporter": "python",
   "pygments_lexer": "ipython2",
   "version": "2.7.6"
  }
 },
 "nbformat": 4,
 "nbformat_minor": 5
}
