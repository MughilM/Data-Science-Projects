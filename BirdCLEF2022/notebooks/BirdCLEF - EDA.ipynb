{
 "cells": [
  {
   "cell_type": "markdown",
   "metadata": {},
   "source": [
    "# BirdCLEF - Exploratory Data Analysis\n",
    "This notebook will go through some preliminary EDA of the BirdCLEF data, such as looking at the data, hearing the audio voices, plus some other analyses. At the end, we hope to have a better idea of what kinds of preprocessing will be helpful. The Kaggle competition stated that training data in here is hard to come by, so we will see what they mean.\n",
    "\n",
    "To recap, the goal of the project is to **predict whether a particular soundbite contains a specified bird call or not.** Therefore, the answer will be True/False. Another thing to keep in mind is in addition to the primary label, we also have data on background secondary labels i.e. whether another bird call was present in the background of the primary bird's recording. This forcus us to train the model as a multi-label classification approach, where we predict the chances of multiple birds for each recording.\n",
    "\n",
    "## Import Pacakges"
   ]
  },
  {
   "cell_type": "code",
   "execution_count": 16,
   "metadata": {},
   "outputs": [],
   "source": [
    "import numpy as np\n",
    "import pandas as pd\n",
    "import altair as alt\n",
    "\n",
    "DATA_PATH = '../Data'\n",
    "ALTAIR_JSONS = '../resources/altair_jsons/'\n",
    "alt.renderers.enable('altair_viewer', inline=True)  # So that graphs appear in the notebook.\n",
    "\n",
    "get_json_filepath = lambda x: os.path.join(ALTAIR_JSONS, x)"
   ]
  },
  {
   "cell_type": "markdown",
   "metadata": {},
   "source": [
    "## Reading Data\n",
    "We have many files that all amount to around 6 GB. Instead of reading them all, we will get their file paths and read them as we need. We will also get the spreadsheet which tells us which birds are in there."
   ]
  },
  {
   "cell_type": "code",
   "execution_count": 8,
   "metadata": {},
   "outputs": [
    {
     "data": {
      "text/html": [
       "<div>\n",
       "<style scoped>\n",
       "    .dataframe tbody tr th:only-of-type {\n",
       "        vertical-align: middle;\n",
       "    }\n",
       "\n",
       "    .dataframe tbody tr th {\n",
       "        vertical-align: top;\n",
       "    }\n",
       "\n",
       "    .dataframe thead th {\n",
       "        text-align: right;\n",
       "    }\n",
       "</style>\n",
       "<table border=\"1\" class=\"dataframe\">\n",
       "  <thead>\n",
       "    <tr style=\"text-align: right;\">\n",
       "      <th></th>\n",
       "      <th>primary_label</th>\n",
       "      <th>secondary_labels</th>\n",
       "      <th>type</th>\n",
       "      <th>latitude</th>\n",
       "      <th>longitude</th>\n",
       "      <th>scientific_name</th>\n",
       "      <th>common_name</th>\n",
       "      <th>author</th>\n",
       "      <th>license</th>\n",
       "      <th>rating</th>\n",
       "      <th>time</th>\n",
       "      <th>url</th>\n",
       "      <th>filename</th>\n",
       "    </tr>\n",
       "  </thead>\n",
       "  <tbody>\n",
       "    <tr>\n",
       "      <th>0</th>\n",
       "      <td>afrsil1</td>\n",
       "      <td>[]</td>\n",
       "      <td>['call', 'flight call']</td>\n",
       "      <td>12.3910</td>\n",
       "      <td>-1.4930</td>\n",
       "      <td>Euodice cantans</td>\n",
       "      <td>African Silverbill</td>\n",
       "      <td>Bram Piot</td>\n",
       "      <td>Creative Commons Attribution-NonCommercial-Sha...</td>\n",
       "      <td>2.5</td>\n",
       "      <td>08:00</td>\n",
       "      <td>https://www.xeno-canto.org/125458</td>\n",
       "      <td>afrsil1/XC125458.ogg</td>\n",
       "    </tr>\n",
       "    <tr>\n",
       "      <th>1</th>\n",
       "      <td>afrsil1</td>\n",
       "      <td>['houspa', 'redava', 'zebdov']</td>\n",
       "      <td>['call']</td>\n",
       "      <td>19.8801</td>\n",
       "      <td>-155.7254</td>\n",
       "      <td>Euodice cantans</td>\n",
       "      <td>African Silverbill</td>\n",
       "      <td>Dan Lane</td>\n",
       "      <td>Creative Commons Attribution-NonCommercial-Sha...</td>\n",
       "      <td>3.5</td>\n",
       "      <td>08:30</td>\n",
       "      <td>https://www.xeno-canto.org/175522</td>\n",
       "      <td>afrsil1/XC175522.ogg</td>\n",
       "    </tr>\n",
       "    <tr>\n",
       "      <th>2</th>\n",
       "      <td>afrsil1</td>\n",
       "      <td>[]</td>\n",
       "      <td>['call', 'song']</td>\n",
       "      <td>16.2901</td>\n",
       "      <td>-16.0321</td>\n",
       "      <td>Euodice cantans</td>\n",
       "      <td>African Silverbill</td>\n",
       "      <td>Bram Piot</td>\n",
       "      <td>Creative Commons Attribution-NonCommercial-Sha...</td>\n",
       "      <td>4.0</td>\n",
       "      <td>11:30</td>\n",
       "      <td>https://www.xeno-canto.org/177993</td>\n",
       "      <td>afrsil1/XC177993.ogg</td>\n",
       "    </tr>\n",
       "    <tr>\n",
       "      <th>3</th>\n",
       "      <td>afrsil1</td>\n",
       "      <td>[]</td>\n",
       "      <td>['alarm call', 'call']</td>\n",
       "      <td>17.0922</td>\n",
       "      <td>54.2958</td>\n",
       "      <td>Euodice cantans</td>\n",
       "      <td>African Silverbill</td>\n",
       "      <td>Oscar Campbell</td>\n",
       "      <td>Creative Commons Attribution-NonCommercial-Sha...</td>\n",
       "      <td>4.0</td>\n",
       "      <td>11:00</td>\n",
       "      <td>https://www.xeno-canto.org/205893</td>\n",
       "      <td>afrsil1/XC205893.ogg</td>\n",
       "    </tr>\n",
       "    <tr>\n",
       "      <th>4</th>\n",
       "      <td>afrsil1</td>\n",
       "      <td>[]</td>\n",
       "      <td>['flight call']</td>\n",
       "      <td>21.4581</td>\n",
       "      <td>-157.7252</td>\n",
       "      <td>Euodice cantans</td>\n",
       "      <td>African Silverbill</td>\n",
       "      <td>Ross Gallardy</td>\n",
       "      <td>Creative Commons Attribution-NonCommercial-Sha...</td>\n",
       "      <td>3.0</td>\n",
       "      <td>16:30</td>\n",
       "      <td>https://www.xeno-canto.org/207431</td>\n",
       "      <td>afrsil1/XC207431.ogg</td>\n",
       "    </tr>\n",
       "  </tbody>\n",
       "</table>\n",
       "</div>"
      ],
      "text/plain": [
       "  primary_label                secondary_labels                     type  \\\n",
       "0       afrsil1                              []  ['call', 'flight call']   \n",
       "1       afrsil1  ['houspa', 'redava', 'zebdov']                 ['call']   \n",
       "2       afrsil1                              []         ['call', 'song']   \n",
       "3       afrsil1                              []   ['alarm call', 'call']   \n",
       "4       afrsil1                              []          ['flight call']   \n",
       "\n",
       "   latitude  longitude  scientific_name         common_name          author  \\\n",
       "0   12.3910    -1.4930  Euodice cantans  African Silverbill       Bram Piot   \n",
       "1   19.8801  -155.7254  Euodice cantans  African Silverbill        Dan Lane   \n",
       "2   16.2901   -16.0321  Euodice cantans  African Silverbill       Bram Piot   \n",
       "3   17.0922    54.2958  Euodice cantans  African Silverbill  Oscar Campbell   \n",
       "4   21.4581  -157.7252  Euodice cantans  African Silverbill   Ross Gallardy   \n",
       "\n",
       "                                             license  rating   time  \\\n",
       "0  Creative Commons Attribution-NonCommercial-Sha...     2.5  08:00   \n",
       "1  Creative Commons Attribution-NonCommercial-Sha...     3.5  08:30   \n",
       "2  Creative Commons Attribution-NonCommercial-Sha...     4.0  11:30   \n",
       "3  Creative Commons Attribution-NonCommercial-Sha...     4.0  11:00   \n",
       "4  Creative Commons Attribution-NonCommercial-Sha...     3.0  16:30   \n",
       "\n",
       "                                 url              filename  \n",
       "0  https://www.xeno-canto.org/125458  afrsil1/XC125458.ogg  \n",
       "1  https://www.xeno-canto.org/175522  afrsil1/XC175522.ogg  \n",
       "2  https://www.xeno-canto.org/177993  afrsil1/XC177993.ogg  \n",
       "3  https://www.xeno-canto.org/205893  afrsil1/XC205893.ogg  \n",
       "4  https://www.xeno-canto.org/207431  afrsil1/XC207431.ogg  "
      ]
     },
     "execution_count": 8,
     "metadata": {},
     "output_type": "execute_result"
    }
   ],
   "source": [
    "train_metadata = pd.read_csv(os.path.join(DATA_PATH, 'train_metadata.csv'))\n",
    "train_metadata.head()"
   ]
  },
  {
   "cell_type": "markdown",
   "metadata": {},
   "source": [
    "## Bird Frequencies\n",
    "We will do a couple things here, such as seeing how many birds we have, and also how varied our secondary labels are. We will use Altair for plotting, due to that I will save the JSONs for the data in the resources/altair_jsons folder. This is so plotting is quick.\n",
    "### Primary Label Counts"
   ]
  },
  {
   "cell_type": "code",
   "execution_count": 18,
   "metadata": {},
   "outputs": [
    {
     "data": {
      "text/html": [
       "\n",
       "<div id=\"altair-chart-cbb9c9b632144d94a6ab19ef7598d4ca\"></div>\n",
       "<script type=\"text/javascript\">\n",
       "  (function(spec, embedOpt) {\n",
       "    const outputDiv = document.getElementById(\"altair-chart-cbb9c9b632144d94a6ab19ef7598d4ca\");\n",
       "    const urls = {\n",
       "      \"vega\": \"http://localhost:52388/scripts/vega.js\",\n",
       "      \"vega-lite\": \"http://localhost:52388/scripts/vega-lite.js\",\n",
       "      \"vega-embed\": \"http://localhost:52388/scripts/vega-embed.js\",\n",
       "    };\n",
       "    function loadScript(lib) {\n",
       "      return new Promise(function(resolve, reject) {\n",
       "        var s = document.createElement('script');\n",
       "        s.src = urls[lib];\n",
       "        s.async = true;\n",
       "        s.onload = () => resolve(urls[lib]);\n",
       "        s.onerror = () => reject(`Error loading script: ${urls[lib]}`);\n",
       "        document.getElementsByTagName(\"head\")[0].appendChild(s);\n",
       "      });\n",
       "    }\n",
       "    function showError(err) {\n",
       "      outputDiv.innerHTML = `<div class=\"error\" style=\"color:red;\">${err}</div>`;\n",
       "      throw err;\n",
       "    }\n",
       "    function displayChart(vegaEmbed) {\n",
       "      vegaEmbed(outputDiv, spec, embedOpt)\n",
       "        .catch(err => showError(`Javascript Error: ${err.message}<br>This usually means there's a typo in your chart specification. See the javascript console for the full traceback.`));\n",
       "    }\n",
       "\n",
       "    if(typeof define === \"function\" && define.amd) {\n",
       "        // requirejs paths need '.js' extension stripped.\n",
       "        const paths = Object.keys(urls).reduce(function(paths, package) {\n",
       "            paths[package] = urls[package].replace(/\\.js$/, \"\");\n",
       "            return paths\n",
       "        }, {})\n",
       "        requirejs.config({paths});\n",
       "        require([\"vega-embed\"], displayChart, err => showError(`Error loading script: ${err.message}`));\n",
       "    } else if (typeof vegaEmbed === \"function\") {\n",
       "        displayChart(vegaEmbed);\n",
       "    } else {\n",
       "        loadScript(\"vega\")\n",
       "            .then(() => loadScript(\"vega-lite\"))\n",
       "            .then(() => loadScript(\"vega-embed\"))\n",
       "            .catch(showError)\n",
       "            .then(() => displayChart(vegaEmbed));\n",
       "    }\n",
       "  })({\"config\": {\"view\": {\"continuousWidth\": 400, \"continuousHeight\": 300}}, \"data\": {\"url\": \"../resources/altair_jsons/bird_counts.json\"}, \"mark\": \"bar\", \"encoding\": {\"x\": {\"field\": \"Bird\", \"type\": \"nominal\"}, \"y\": {\"field\": \"Count\", \"type\": \"quantitative\"}}, \"$schema\": \"https://vega.github.io/schema/vega-lite/v4.17.0.json\"}, {});\n",
       "</script>\n"
      ],
      "text/plain": [
       "alt.Chart(...)"
      ]
     },
     "metadata": {},
     "output_type": "display_data"
    }
   ],
   "source": [
    "# Count up the primary labels\n",
    "unique_labels, counts = np.unique(train_metadata.primary_label, return_counts=True)\n",
    "# Create the dataframe and the \n",
    "df_filepath = get_json_filepath('bird_counts.json')\n",
    "df = pd.DataFrame(data=np.array([unique_labels, counts]).T, columns=['Bird', 'Count'])\n",
    "df.to_json(df_filepath, orient='records')\n",
    "\n",
    "# Plot it!\n",
    "chart = alt.Chart(df_filepath).mark_bar().encode(\n",
    "    x='Bird:N',\n",
    "    y='Count:Q'\n",
    ")\n",
    "chart.display()"
   ]
  },
  {
   "cell_type": "markdown",
   "metadata": {},
   "source": [
    "The scale goes from 0 to 500. We can see that the counts are heavily varied. Some birds have 500 recordings, while others are in the single digits. This would make it hard to train on those low frequency birds. What about the secondary labels? How do those vary? \n",
    "### Secondary Label Counts\n",
    "We need a little bit more preproecssing to get the secondary label counts."
   ]
  },
  {
   "cell_type": "code",
   "execution_count": 36,
   "metadata": {},
   "outputs": [
    {
     "name": "stdout",
     "output_type": "stream",
     "text": [
      "There are 1922 background bird calls.\n",
      "['houspa', 'redava', 'zebdov', 'apapan', 'warwhe1']\n"
     ]
    }
   ],
   "source": [
    "# The secondary label column is an array of which birds are in the background. \n",
    "# We can just join these arrays together and do the same counts.\n",
    "# Unfortunately, each entry column isn't a list, it's a string, so we need to parse it...\n",
    "secondary_label_lists = train_metadata.secondary_labels.str.strip('][')\n",
    "# Get rid of the empty strings\n",
    "secondary_label_lists = secondary_label_lists[secondary_label_lists != '']\n",
    "# Convert to list of lists\n",
    "secondary_label_lists = secondary_label_lists.str.split(', ').to_list()\n",
    "# Each bird is actually surrounded by both single and double quotes, so get rid of a set as well\n",
    "secondary_label_lists = [bird[1:-1] for sublist in secondary_label_lists for bird in sublist]\n",
    "\n",
    "print(f'There are {len(secondary_label_lists)} background bird calls.')\n",
    "print(secondary_label_lists[:5])"
   ]
  },
  {
   "cell_type": "code",
   "execution_count": 37,
   "metadata": {},
   "outputs": [
    {
     "data": {
      "text/html": [
       "\n",
       "<div id=\"altair-chart-82db676c0615465584d57a179c6437c7\"></div>\n",
       "<script type=\"text/javascript\">\n",
       "  (function(spec, embedOpt) {\n",
       "    const outputDiv = document.getElementById(\"altair-chart-82db676c0615465584d57a179c6437c7\");\n",
       "    const urls = {\n",
       "      \"vega\": \"http://localhost:52388/scripts/vega.js\",\n",
       "      \"vega-lite\": \"http://localhost:52388/scripts/vega-lite.js\",\n",
       "      \"vega-embed\": \"http://localhost:52388/scripts/vega-embed.js\",\n",
       "    };\n",
       "    function loadScript(lib) {\n",
       "      return new Promise(function(resolve, reject) {\n",
       "        var s = document.createElement('script');\n",
       "        s.src = urls[lib];\n",
       "        s.async = true;\n",
       "        s.onload = () => resolve(urls[lib]);\n",
       "        s.onerror = () => reject(`Error loading script: ${urls[lib]}`);\n",
       "        document.getElementsByTagName(\"head\")[0].appendChild(s);\n",
       "      });\n",
       "    }\n",
       "    function showError(err) {\n",
       "      outputDiv.innerHTML = `<div class=\"error\" style=\"color:red;\">${err}</div>`;\n",
       "      throw err;\n",
       "    }\n",
       "    function displayChart(vegaEmbed) {\n",
       "      vegaEmbed(outputDiv, spec, embedOpt)\n",
       "        .catch(err => showError(`Javascript Error: ${err.message}<br>This usually means there's a typo in your chart specification. See the javascript console for the full traceback.`));\n",
       "    }\n",
       "\n",
       "    if(typeof define === \"function\" && define.amd) {\n",
       "        // requirejs paths need '.js' extension stripped.\n",
       "        const paths = Object.keys(urls).reduce(function(paths, package) {\n",
       "            paths[package] = urls[package].replace(/\\.js$/, \"\");\n",
       "            return paths\n",
       "        }, {})\n",
       "        requirejs.config({paths});\n",
       "        require([\"vega-embed\"], displayChart, err => showError(`Error loading script: ${err.message}`));\n",
       "    } else if (typeof vegaEmbed === \"function\") {\n",
       "        displayChart(vegaEmbed);\n",
       "    } else {\n",
       "        loadScript(\"vega\")\n",
       "            .then(() => loadScript(\"vega-lite\"))\n",
       "            .then(() => loadScript(\"vega-embed\"))\n",
       "            .catch(showError)\n",
       "            .then(() => displayChart(vegaEmbed));\n",
       "    }\n",
       "  })({\"config\": {\"view\": {\"continuousWidth\": 400, \"continuousHeight\": 300}}, \"data\": {\"url\": \"../resources/altair_jsons/secondary_bird_counts.json\"}, \"mark\": \"bar\", \"encoding\": {\"x\": {\"field\": \"Background Bird\", \"type\": \"nominal\"}, \"y\": {\"field\": \"Count\", \"type\": \"quantitative\"}}, \"$schema\": \"https://vega.github.io/schema/vega-lite/v4.17.0.json\"}, {});\n",
       "</script>\n"
      ],
      "text/plain": [
       "alt.Chart(...)"
      ]
     },
     "metadata": {},
     "output_type": "display_data"
    }
   ],
   "source": [
    "# Next, get the unique birds and counts as before and plot them...\n",
    "unique_labels, counts = np.unique(secondary_label_lists, return_counts=True)\n",
    "# Create dataframe and the json file\n",
    "df_filepath = get_json_filepath('secondary_bird_counts.json')\n",
    "df = pd.DataFrame(data=np.array([unique_labels, counts]).T, columns=['Background Bird', 'Count'])\n",
    "df.to_json(df_filepath, orient='records')\n",
    "\n",
    "# Plot it!\n",
    "chart = alt.Chart(df_filepath).mark_bar().encode(\n",
    "    x='Background Bird:N',\n",
    "    y='Count:Q'\n",
    ")\n",
    "chart.display()"
   ]
  },
  {
   "cell_type": "markdown",
   "metadata": {},
   "source": [
    "Like with the primary birds, the counts are also varied here, although the maximum value is much less, due to not every recording having a background bird call. Seeing both of these graphs, we must do some sort of data augmentation to increase our training data eventually. Thankfully though, since both primary and secondary labels have similar shape, we shouldn't need to do change our approach depending on which type of call."
   ]
  },
  {
   "cell_type": "markdown",
   "metadata": {},
   "source": []
  }
 ],
 "metadata": {
  "kernelspec": {
   "display_name": "Python 3.9.12 ('pytorch_suite')",
   "language": "python",
   "name": "python3"
  },
  "language_info": {
   "codemirror_mode": {
    "name": "ipython",
    "version": 3
   },
   "file_extension": ".py",
   "mimetype": "text/x-python",
   "name": "python",
   "nbconvert_exporter": "python",
   "pygments_lexer": "ipython3",
   "version": "3.9.12"
  },
  "orig_nbformat": 4,
  "vscode": {
   "interpreter": {
    "hash": "e7d8a8c5a5d90006f5fdbe5a70e25b9a90791da3b893bef875bfdbe8d30a5873"
   }
  }
 },
 "nbformat": 4,
 "nbformat_minor": 2
}
