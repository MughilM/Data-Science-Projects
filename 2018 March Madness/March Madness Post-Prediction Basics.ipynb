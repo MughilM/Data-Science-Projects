{
 "cells": [
  {
   "cell_type": "markdown",
   "metadata": {},
   "source": [
    "# March Madness 2018 Post-Prediction\n",
    "I will be participating in the Kaggle competition of ultimately predicting the chances of every possible matchup in the first round of the Division I NCAA tournament. The competition description can be found here: https://www.kaggle.com/c/mens-machine-learning-competition-2018. The data's description can be found here: https://www.kaggle.com/c/mens-machine-learning-competition-2018/data. The description is indeed long but each individual file is relatively simple. However, there are some intricacies involving the tournament. It is all described here: https://en.wikipedia.org/wiki/NCAA_Division_I_Men%27s_Basketball_Tournament#Current_tournament_format"
   ]
  },
  {
   "cell_type": "markdown",
   "metadata": {},
   "source": [
    "## Data Collection\n",
    "As above, the data has been provided by Kaggle, at https://www.kaggle.com/c/mens-machine-learning-competition-2018/data. The first stage of the competition asks to predict every possible matchup in the first round of the past four NCAA tournaments."
   ]
  },
  {
   "cell_type": "code",
   "execution_count": 1,
   "metadata": {
    "collapsed": true
   },
   "outputs": [],
   "source": [
    "# First import everything we need\n",
    "import numpy as np\n",
    "import pandas as pd\n",
    "from pandas import Series, DataFrame\n",
    "import matplotlib.pyplot as plt\n"
   ]
  },
  {
   "cell_type": "markdown",
   "metadata": {},
   "source": [
    "## Data Preparation\n",
    "This notebook will most likely not showcase the final version and only involve the most basic of prediction techniques. First, the list of teams is given as a separate .csv file and is mapped to IDs."
   ]
  },
  {
   "cell_type": "code",
   "execution_count": 6,
   "metadata": {
    "collapsed": false
   },
   "outputs": [
    {
     "data": {
      "text/html": [
       "<div>\n",
       "<table border=\"1\" class=\"dataframe\">\n",
       "  <thead>\n",
       "    <tr style=\"text-align: right;\">\n",
       "      <th></th>\n",
       "      <th>TeamName</th>\n",
       "      <th>FirstD1Season</th>\n",
       "      <th>LastD1Season</th>\n",
       "    </tr>\n",
       "    <tr>\n",
       "      <th>TeamID</th>\n",
       "      <th></th>\n",
       "      <th></th>\n",
       "      <th></th>\n",
       "    </tr>\n",
       "  </thead>\n",
       "  <tbody>\n",
       "    <tr>\n",
       "      <th>1101</th>\n",
       "      <td>Abilene Chr</td>\n",
       "      <td>2014</td>\n",
       "      <td>2018</td>\n",
       "    </tr>\n",
       "    <tr>\n",
       "      <th>1102</th>\n",
       "      <td>Air Force</td>\n",
       "      <td>1985</td>\n",
       "      <td>2018</td>\n",
       "    </tr>\n",
       "    <tr>\n",
       "      <th>1103</th>\n",
       "      <td>Akron</td>\n",
       "      <td>1985</td>\n",
       "      <td>2018</td>\n",
       "    </tr>\n",
       "    <tr>\n",
       "      <th>1104</th>\n",
       "      <td>Alabama</td>\n",
       "      <td>1985</td>\n",
       "      <td>2018</td>\n",
       "    </tr>\n",
       "    <tr>\n",
       "      <th>1105</th>\n",
       "      <td>Alabama A&amp;M</td>\n",
       "      <td>2000</td>\n",
       "      <td>2018</td>\n",
       "    </tr>\n",
       "  </tbody>\n",
       "</table>\n",
       "</div>"
      ],
      "text/plain": [
       "           TeamName  FirstD1Season  LastD1Season\n",
       "TeamID                                          \n",
       "1101    Abilene Chr           2014          2018\n",
       "1102      Air Force           1985          2018\n",
       "1103          Akron           1985          2018\n",
       "1104        Alabama           1985          2018\n",
       "1105    Alabama A&M           2000          2018"
      ]
     },
     "execution_count": 6,
     "metadata": {},
     "output_type": "execute_result"
    }
   ],
   "source": [
    "teams = pd.read_csv('Teams.csv', index_col='TeamID')\n",
    "teams.head()"
   ]
  },
  {
   "cell_type": "markdown",
   "metadata": {},
   "source": [
    "I plan to use a **logistic regression**, as that outputs probabilities. Because this is a simple model, I will take average level details. These include average points, assists, steals, and rebounds per game. I will also include the number of regular season wins. Additionally, each year will involve a separate model, because players change every year (players drop, seniors graduate, talented freshmen join, etc.)."
   ]
  },
  {
   "cell_type": "code",
   "execution_count": null,
   "metadata": {
    "collapsed": true
   },
   "outputs": [],
   "source": []
  }
 ],
 "metadata": {
  "kernelspec": {
   "display_name": "Python 3",
   "language": "python",
   "name": "python3"
  },
  "language_info": {
   "codemirror_mode": {
    "name": "ipython",
    "version": 3
   },
   "file_extension": ".py",
   "mimetype": "text/x-python",
   "name": "python",
   "nbconvert_exporter": "python",
   "pygments_lexer": "ipython3",
   "version": "3.6.1rc1"
  }
 },
 "nbformat": 4,
 "nbformat_minor": 2
}
